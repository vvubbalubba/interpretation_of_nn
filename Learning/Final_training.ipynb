{
 "cells": [
  {
   "cell_type": "code",
   "execution_count": 6,
   "id": "b0f2b831",
   "metadata": {},
   "outputs": [],
   "source": [
    "import torch\n",
    "from torch.utils.data import Dataset\n",
    "from torchvision.transforms import ToTensor\n",
    "import matplotlib.pyplot as plt\n",
    "import os\n",
    "import pandas as pd\n",
    "from torchvision.io import read_image\n",
    "from torch.utils.data import DataLoader\n",
    "import csv\n",
    "import random\n",
    "import numpy as np\n",
    "import cv2\n",
    "import mimetypes\n",
    "import fnmatch\n",
    "import seaborn as sns\n",
    "from collections import Counter, defaultdict\n",
    "import torchvision\n",
    "from torchvision import transforms\n",
    "from torch import nn\n",
    "import torch.nn.functional as F\n",
    "import torch.optim as optim\n",
    "import time\n",
    "from progress.bar import IncrementalBar\n",
    "from tqdm.notebook import tqdm_notebook\n",
    "from sklearn.metrics import confusion_matrix\n",
    "from torch.utils.tensorboard import SummaryWriter\n",
    "from sklearn.metrics import accuracy_score\n",
    "from sklearn.metrics import recall_score\n",
    "from sklearn.metrics import precision_score\n",
    "from sklearn.metrics import roc_auc_score\n",
    "import io\n",
    "from pytorch_lightning.callbacks import Callback\n",
    "from datetime import datetime, date, time\n",
    "from PIL import Image\n",
    "import itertools \n",
    "from sklearn.model_selection import train_test_split\n",
    "import torchvision.models as models"
   ]
  },
  {
   "cell_type": "markdown",
   "id": "ca92e66d",
   "metadata": {},
   "source": [
    "### Device"
   ]
  },
  {
   "cell_type": "code",
   "execution_count": 7,
   "id": "5ca3718e",
   "metadata": {},
   "outputs": [
    {
     "name": "stdout",
     "output_type": "stream",
     "text": [
      "Using cuda device\n"
     ]
    }
   ],
   "source": [
    "device = 'cuda' if torch.cuda.is_available() else 'cpu'\n",
    "print('Using {} device'.format(device))"
   ]
  },
  {
   "cell_type": "markdown",
   "id": "d5a1a9e6",
   "metadata": {},
   "source": [
    "### Stratified train-val-test split"
   ]
  },
  {
   "cell_type": "code",
   "execution_count": 4,
   "id": "e904511a",
   "metadata": {},
   "outputs": [],
   "source": [
    "labels_map = {\n",
    "    \"Benign\": 0,\n",
    "    \"InSitu\": 1,\n",
    "    \"Invasive\": 2,\n",
    "}"
   ]
  },
  {
   "cell_type": "code",
   "execution_count": 5,
   "id": "06f84b6e",
   "metadata": {},
   "outputs": [
    {
     "ename": "FileNotFoundError",
     "evalue": "[Errno 2] No such file or directory: 'burnasyan_Br.csv'",
     "output_type": "error",
     "traceback": [
      "\u001b[0;31m---------------------------------------------------------------------------\u001b[0m",
      "\u001b[0;31mFileNotFoundError\u001b[0m                         Traceback (most recent call last)",
      "\u001b[0;32m/tmp/ipykernel_18035/4058811892.py\u001b[0m in \u001b[0;36m<module>\u001b[0;34m\u001b[0m\n\u001b[1;32m      4\u001b[0m \u001b[0mimg_paths\u001b[0m \u001b[0;34m=\u001b[0m \u001b[0mnp\u001b[0m\u001b[0;34m.\u001b[0m\u001b[0marray\u001b[0m\u001b[0;34m(\u001b[0m\u001b[0mimg_paths\u001b[0m\u001b[0;34m)\u001b[0m\u001b[0;34m\u001b[0m\u001b[0;34m\u001b[0m\u001b[0m\n\u001b[1;32m      5\u001b[0m \u001b[0my\u001b[0m \u001b[0;34m=\u001b[0m \u001b[0;34m[\u001b[0m\u001b[0;34m]\u001b[0m\u001b[0;34m\u001b[0m\u001b[0;34m\u001b[0m\u001b[0m\n\u001b[0;32m----> 6\u001b[0;31m \u001b[0mimg_labels\u001b[0m \u001b[0;34m=\u001b[0m \u001b[0mpd\u001b[0m\u001b[0;34m.\u001b[0m\u001b[0mread_csv\u001b[0m\u001b[0;34m(\u001b[0m\u001b[0;34m'burnasyan_Br.csv'\u001b[0m\u001b[0;34m)\u001b[0m\u001b[0;34m\u001b[0m\u001b[0;34m\u001b[0m\u001b[0m\n\u001b[0m\u001b[1;32m      7\u001b[0m \u001b[0;32mfor\u001b[0m \u001b[0mitem\u001b[0m \u001b[0;32min\u001b[0m \u001b[0mimg_paths\u001b[0m\u001b[0;34m:\u001b[0m\u001b[0;34m\u001b[0m\u001b[0;34m\u001b[0m\u001b[0m\n\u001b[1;32m      8\u001b[0m     \u001b[0mimg_folder\u001b[0m \u001b[0;34m=\u001b[0m \u001b[0mint\u001b[0m\u001b[0;34m(\u001b[0m\u001b[0mitem\u001b[0m\u001b[0;34m.\u001b[0m\u001b[0msplit\u001b[0m\u001b[0;34m(\u001b[0m\u001b[0;34m\"/\"\u001b[0m\u001b[0;34m)\u001b[0m\u001b[0;34m[\u001b[0m\u001b[0;36m1\u001b[0m\u001b[0;34m]\u001b[0m\u001b[0;34m)\u001b[0m\u001b[0;34m\u001b[0m\u001b[0;34m\u001b[0m\u001b[0m\n",
      "\u001b[0;32m~/Desktop/workenv/lib/python3.8/site-packages/pandas/util/_decorators.py\u001b[0m in \u001b[0;36mwrapper\u001b[0;34m(*args, **kwargs)\u001b[0m\n\u001b[1;32m    309\u001b[0m                     \u001b[0mstacklevel\u001b[0m\u001b[0;34m=\u001b[0m\u001b[0mstacklevel\u001b[0m\u001b[0;34m,\u001b[0m\u001b[0;34m\u001b[0m\u001b[0;34m\u001b[0m\u001b[0m\n\u001b[1;32m    310\u001b[0m                 )\n\u001b[0;32m--> 311\u001b[0;31m             \u001b[0;32mreturn\u001b[0m \u001b[0mfunc\u001b[0m\u001b[0;34m(\u001b[0m\u001b[0;34m*\u001b[0m\u001b[0margs\u001b[0m\u001b[0;34m,\u001b[0m \u001b[0;34m**\u001b[0m\u001b[0mkwargs\u001b[0m\u001b[0;34m)\u001b[0m\u001b[0;34m\u001b[0m\u001b[0;34m\u001b[0m\u001b[0m\n\u001b[0m\u001b[1;32m    312\u001b[0m \u001b[0;34m\u001b[0m\u001b[0m\n\u001b[1;32m    313\u001b[0m         \u001b[0;32mreturn\u001b[0m \u001b[0mwrapper\u001b[0m\u001b[0;34m\u001b[0m\u001b[0;34m\u001b[0m\u001b[0m\n",
      "\u001b[0;32m~/Desktop/workenv/lib/python3.8/site-packages/pandas/io/parsers/readers.py\u001b[0m in \u001b[0;36mread_csv\u001b[0;34m(filepath_or_buffer, sep, delimiter, header, names, index_col, usecols, squeeze, prefix, mangle_dupe_cols, dtype, engine, converters, true_values, false_values, skipinitialspace, skiprows, skipfooter, nrows, na_values, keep_default_na, na_filter, verbose, skip_blank_lines, parse_dates, infer_datetime_format, keep_date_col, date_parser, dayfirst, cache_dates, iterator, chunksize, compression, thousands, decimal, lineterminator, quotechar, quoting, doublequote, escapechar, comment, encoding, encoding_errors, dialect, error_bad_lines, warn_bad_lines, on_bad_lines, delim_whitespace, low_memory, memory_map, float_precision, storage_options)\u001b[0m\n\u001b[1;32m    584\u001b[0m     \u001b[0mkwds\u001b[0m\u001b[0;34m.\u001b[0m\u001b[0mupdate\u001b[0m\u001b[0;34m(\u001b[0m\u001b[0mkwds_defaults\u001b[0m\u001b[0;34m)\u001b[0m\u001b[0;34m\u001b[0m\u001b[0;34m\u001b[0m\u001b[0m\n\u001b[1;32m    585\u001b[0m \u001b[0;34m\u001b[0m\u001b[0m\n\u001b[0;32m--> 586\u001b[0;31m     \u001b[0;32mreturn\u001b[0m \u001b[0m_read\u001b[0m\u001b[0;34m(\u001b[0m\u001b[0mfilepath_or_buffer\u001b[0m\u001b[0;34m,\u001b[0m \u001b[0mkwds\u001b[0m\u001b[0;34m)\u001b[0m\u001b[0;34m\u001b[0m\u001b[0;34m\u001b[0m\u001b[0m\n\u001b[0m\u001b[1;32m    587\u001b[0m \u001b[0;34m\u001b[0m\u001b[0m\n\u001b[1;32m    588\u001b[0m \u001b[0;34m\u001b[0m\u001b[0m\n",
      "\u001b[0;32m~/Desktop/workenv/lib/python3.8/site-packages/pandas/io/parsers/readers.py\u001b[0m in \u001b[0;36m_read\u001b[0;34m(filepath_or_buffer, kwds)\u001b[0m\n\u001b[1;32m    480\u001b[0m \u001b[0;34m\u001b[0m\u001b[0m\n\u001b[1;32m    481\u001b[0m     \u001b[0;31m# Create the parser.\u001b[0m\u001b[0;34m\u001b[0m\u001b[0;34m\u001b[0m\u001b[0;34m\u001b[0m\u001b[0m\n\u001b[0;32m--> 482\u001b[0;31m     \u001b[0mparser\u001b[0m \u001b[0;34m=\u001b[0m \u001b[0mTextFileReader\u001b[0m\u001b[0;34m(\u001b[0m\u001b[0mfilepath_or_buffer\u001b[0m\u001b[0;34m,\u001b[0m \u001b[0;34m**\u001b[0m\u001b[0mkwds\u001b[0m\u001b[0;34m)\u001b[0m\u001b[0;34m\u001b[0m\u001b[0;34m\u001b[0m\u001b[0m\n\u001b[0m\u001b[1;32m    483\u001b[0m \u001b[0;34m\u001b[0m\u001b[0m\n\u001b[1;32m    484\u001b[0m     \u001b[0;32mif\u001b[0m \u001b[0mchunksize\u001b[0m \u001b[0;32mor\u001b[0m \u001b[0miterator\u001b[0m\u001b[0;34m:\u001b[0m\u001b[0;34m\u001b[0m\u001b[0;34m\u001b[0m\u001b[0m\n",
      "\u001b[0;32m~/Desktop/workenv/lib/python3.8/site-packages/pandas/io/parsers/readers.py\u001b[0m in \u001b[0;36m__init__\u001b[0;34m(self, f, engine, **kwds)\u001b[0m\n\u001b[1;32m    809\u001b[0m             \u001b[0mself\u001b[0m\u001b[0;34m.\u001b[0m\u001b[0moptions\u001b[0m\u001b[0;34m[\u001b[0m\u001b[0;34m\"has_index_names\"\u001b[0m\u001b[0;34m]\u001b[0m \u001b[0;34m=\u001b[0m \u001b[0mkwds\u001b[0m\u001b[0;34m[\u001b[0m\u001b[0;34m\"has_index_names\"\u001b[0m\u001b[0;34m]\u001b[0m\u001b[0;34m\u001b[0m\u001b[0;34m\u001b[0m\u001b[0m\n\u001b[1;32m    810\u001b[0m \u001b[0;34m\u001b[0m\u001b[0m\n\u001b[0;32m--> 811\u001b[0;31m         \u001b[0mself\u001b[0m\u001b[0;34m.\u001b[0m\u001b[0m_engine\u001b[0m \u001b[0;34m=\u001b[0m \u001b[0mself\u001b[0m\u001b[0;34m.\u001b[0m\u001b[0m_make_engine\u001b[0m\u001b[0;34m(\u001b[0m\u001b[0mself\u001b[0m\u001b[0;34m.\u001b[0m\u001b[0mengine\u001b[0m\u001b[0;34m)\u001b[0m\u001b[0;34m\u001b[0m\u001b[0;34m\u001b[0m\u001b[0m\n\u001b[0m\u001b[1;32m    812\u001b[0m \u001b[0;34m\u001b[0m\u001b[0m\n\u001b[1;32m    813\u001b[0m     \u001b[0;32mdef\u001b[0m \u001b[0mclose\u001b[0m\u001b[0;34m(\u001b[0m\u001b[0mself\u001b[0m\u001b[0;34m)\u001b[0m\u001b[0;34m:\u001b[0m\u001b[0;34m\u001b[0m\u001b[0;34m\u001b[0m\u001b[0m\n",
      "\u001b[0;32m~/Desktop/workenv/lib/python3.8/site-packages/pandas/io/parsers/readers.py\u001b[0m in \u001b[0;36m_make_engine\u001b[0;34m(self, engine)\u001b[0m\n\u001b[1;32m   1038\u001b[0m             )\n\u001b[1;32m   1039\u001b[0m         \u001b[0;31m# error: Too many arguments for \"ParserBase\"\u001b[0m\u001b[0;34m\u001b[0m\u001b[0;34m\u001b[0m\u001b[0;34m\u001b[0m\u001b[0m\n\u001b[0;32m-> 1040\u001b[0;31m         \u001b[0;32mreturn\u001b[0m \u001b[0mmapping\u001b[0m\u001b[0;34m[\u001b[0m\u001b[0mengine\u001b[0m\u001b[0;34m]\u001b[0m\u001b[0;34m(\u001b[0m\u001b[0mself\u001b[0m\u001b[0;34m.\u001b[0m\u001b[0mf\u001b[0m\u001b[0;34m,\u001b[0m \u001b[0;34m**\u001b[0m\u001b[0mself\u001b[0m\u001b[0;34m.\u001b[0m\u001b[0moptions\u001b[0m\u001b[0;34m)\u001b[0m  \u001b[0;31m# type: ignore[call-arg]\u001b[0m\u001b[0;34m\u001b[0m\u001b[0;34m\u001b[0m\u001b[0m\n\u001b[0m\u001b[1;32m   1041\u001b[0m \u001b[0;34m\u001b[0m\u001b[0m\n\u001b[1;32m   1042\u001b[0m     \u001b[0;32mdef\u001b[0m \u001b[0m_failover_to_python\u001b[0m\u001b[0;34m(\u001b[0m\u001b[0mself\u001b[0m\u001b[0;34m)\u001b[0m\u001b[0;34m:\u001b[0m\u001b[0;34m\u001b[0m\u001b[0;34m\u001b[0m\u001b[0m\n",
      "\u001b[0;32m~/Desktop/workenv/lib/python3.8/site-packages/pandas/io/parsers/c_parser_wrapper.py\u001b[0m in \u001b[0;36m__init__\u001b[0;34m(self, src, **kwds)\u001b[0m\n\u001b[1;32m     49\u001b[0m \u001b[0;34m\u001b[0m\u001b[0m\n\u001b[1;32m     50\u001b[0m         \u001b[0;31m# open handles\u001b[0m\u001b[0;34m\u001b[0m\u001b[0;34m\u001b[0m\u001b[0;34m\u001b[0m\u001b[0m\n\u001b[0;32m---> 51\u001b[0;31m         \u001b[0mself\u001b[0m\u001b[0;34m.\u001b[0m\u001b[0m_open_handles\u001b[0m\u001b[0;34m(\u001b[0m\u001b[0msrc\u001b[0m\u001b[0;34m,\u001b[0m \u001b[0mkwds\u001b[0m\u001b[0;34m)\u001b[0m\u001b[0;34m\u001b[0m\u001b[0;34m\u001b[0m\u001b[0m\n\u001b[0m\u001b[1;32m     52\u001b[0m         \u001b[0;32massert\u001b[0m \u001b[0mself\u001b[0m\u001b[0;34m.\u001b[0m\u001b[0mhandles\u001b[0m \u001b[0;32mis\u001b[0m \u001b[0;32mnot\u001b[0m \u001b[0;32mNone\u001b[0m\u001b[0;34m\u001b[0m\u001b[0;34m\u001b[0m\u001b[0m\n\u001b[1;32m     53\u001b[0m \u001b[0;34m\u001b[0m\u001b[0m\n",
      "\u001b[0;32m~/Desktop/workenv/lib/python3.8/site-packages/pandas/io/parsers/base_parser.py\u001b[0m in \u001b[0;36m_open_handles\u001b[0;34m(self, src, kwds)\u001b[0m\n\u001b[1;32m    220\u001b[0m         \u001b[0mLet\u001b[0m \u001b[0mthe\u001b[0m \u001b[0mreaders\u001b[0m \u001b[0mopen\u001b[0m \u001b[0mIOHandles\u001b[0m \u001b[0mafter\u001b[0m \u001b[0mthey\u001b[0m \u001b[0mare\u001b[0m \u001b[0mdone\u001b[0m \u001b[0;32mwith\u001b[0m \u001b[0mtheir\u001b[0m \u001b[0mpotential\u001b[0m \u001b[0mraises\u001b[0m\u001b[0;34m.\u001b[0m\u001b[0;34m\u001b[0m\u001b[0;34m\u001b[0m\u001b[0m\n\u001b[1;32m    221\u001b[0m         \"\"\"\n\u001b[0;32m--> 222\u001b[0;31m         self.handles = get_handle(\n\u001b[0m\u001b[1;32m    223\u001b[0m             \u001b[0msrc\u001b[0m\u001b[0;34m,\u001b[0m\u001b[0;34m\u001b[0m\u001b[0;34m\u001b[0m\u001b[0m\n\u001b[1;32m    224\u001b[0m             \u001b[0;34m\"r\"\u001b[0m\u001b[0;34m,\u001b[0m\u001b[0;34m\u001b[0m\u001b[0;34m\u001b[0m\u001b[0m\n",
      "\u001b[0;32m~/Desktop/workenv/lib/python3.8/site-packages/pandas/io/common.py\u001b[0m in \u001b[0;36mget_handle\u001b[0;34m(path_or_buf, mode, encoding, compression, memory_map, is_text, errors, storage_options)\u001b[0m\n\u001b[1;32m    700\u001b[0m         \u001b[0;32mif\u001b[0m \u001b[0mioargs\u001b[0m\u001b[0;34m.\u001b[0m\u001b[0mencoding\u001b[0m \u001b[0;32mand\u001b[0m \u001b[0;34m\"b\"\u001b[0m \u001b[0;32mnot\u001b[0m \u001b[0;32min\u001b[0m \u001b[0mioargs\u001b[0m\u001b[0;34m.\u001b[0m\u001b[0mmode\u001b[0m\u001b[0;34m:\u001b[0m\u001b[0;34m\u001b[0m\u001b[0;34m\u001b[0m\u001b[0m\n\u001b[1;32m    701\u001b[0m             \u001b[0;31m# Encoding\u001b[0m\u001b[0;34m\u001b[0m\u001b[0;34m\u001b[0m\u001b[0;34m\u001b[0m\u001b[0m\n\u001b[0;32m--> 702\u001b[0;31m             handle = open(\n\u001b[0m\u001b[1;32m    703\u001b[0m                 \u001b[0mhandle\u001b[0m\u001b[0;34m,\u001b[0m\u001b[0;34m\u001b[0m\u001b[0;34m\u001b[0m\u001b[0m\n\u001b[1;32m    704\u001b[0m                 \u001b[0mioargs\u001b[0m\u001b[0;34m.\u001b[0m\u001b[0mmode\u001b[0m\u001b[0;34m,\u001b[0m\u001b[0;34m\u001b[0m\u001b[0;34m\u001b[0m\u001b[0m\n",
      "\u001b[0;31mFileNotFoundError\u001b[0m: [Errno 2] No such file or directory: 'burnasyan_Br.csv'"
     ]
    }
   ],
   "source": [
    "with open('paths.txt', 'r') as file:\n",
    "    img_paths = file.read().split('\\n')\n",
    "    \n",
    "img_paths = np.array(img_paths)\n",
    "y = []\n",
    "img_labels = pd.read_csv('burnasyan_Br.csv')\n",
    "for item in img_paths:\n",
    "    img_folder = int(item.split(\"/\")[1])\n",
    "    label_name = img_labels.iloc[img_folder - 1][4]\n",
    "    label = labels_map[label_name]\n",
    "    y.append(label)\n",
    "train_val_paths, test_paths, y_train_val, y_test = train_test_split(img_paths, y, test_size=0.33,\n",
    "                                                     random_state=42, stratify=y)\n",
    "\n",
    "train_paths, val_paths, y_train, y_val = train_test_split(train_val_paths, y_train_val,\n",
    "                                                          test_size=0.2,random_state=42,\n",
    "                                                          stratify=y_train_val)\n",
    "print(\"Train size: \", train_paths.shape[0])\n",
    "print(\"Val size: \", val_paths.shape[0])\n",
    "print(\"Test size: \", test_paths.shape[0])\n",
    "\n",
    "with open('train_paths.txt', 'w') as file:\n",
    "    for i in range(train_paths.shape[0] - 1):\n",
    "        file.write(train_paths[i] + '\\n')  \n",
    "    file.write(train_paths[train_paths.shape[0] - 1])\n",
    "    \n",
    "with open('val_paths.txt', 'w') as file:\n",
    "    for i in range(val_paths.shape[0] - 1):\n",
    "        file.write(val_paths[i] + '\\n')  \n",
    "    file.write(val_paths[val_paths.shape[0] - 1])\n",
    "    \n",
    "with open('test_paths.txt', 'w') as file:\n",
    "    for i in range(test_paths.shape[0] - 1):\n",
    "        file.write(test_paths[i] + '\\n')  \n",
    "    file.write(test_paths[test_paths.shape[0] - 1])"
   ]
  },
  {
   "cell_type": "markdown",
   "id": "fb58b710",
   "metadata": {},
   "source": [
    "### Checking the destrinutions of splitted data"
   ]
  },
  {
   "cell_type": "code",
   "execution_count": 8,
   "id": "4766d618",
   "metadata": {},
   "outputs": [
    {
     "ename": "NameError",
     "evalue": "name 'y_train' is not defined",
     "output_type": "error",
     "traceback": [
      "\u001b[0;31m---------------------------------------------------------------------------\u001b[0m",
      "\u001b[0;31mNameError\u001b[0m                                 Traceback (most recent call last)",
      "\u001b[0;32m/tmp/ipykernel_18035/2547428726.py\u001b[0m in \u001b[0;36m<module>\u001b[0;34m\u001b[0m\n\u001b[1;32m      1\u001b[0m \u001b[0mcounts\u001b[0m \u001b[0;34m=\u001b[0m \u001b[0mdefaultdict\u001b[0m\u001b[0;34m(\u001b[0m\u001b[0mint\u001b[0m\u001b[0;34m)\u001b[0m\u001b[0;34m\u001b[0m\u001b[0;34m\u001b[0m\u001b[0m\n\u001b[0;32m----> 2\u001b[0;31m \u001b[0;32mfor\u001b[0m \u001b[0ml\u001b[0m \u001b[0;32min\u001b[0m \u001b[0my_train\u001b[0m\u001b[0;34m:\u001b[0m\u001b[0;34m\u001b[0m\u001b[0;34m\u001b[0m\u001b[0m\n\u001b[0m\u001b[1;32m      3\u001b[0m     \u001b[0mcounts\u001b[0m\u001b[0;34m[\u001b[0m\u001b[0ml\u001b[0m\u001b[0;34m]\u001b[0m \u001b[0;34m+=\u001b[0m \u001b[0;36m1\u001b[0m \u001b[0;34m/\u001b[0m \u001b[0mtrain_paths\u001b[0m\u001b[0;34m.\u001b[0m\u001b[0mshape\u001b[0m\u001b[0;34m[\u001b[0m\u001b[0;36m0\u001b[0m\u001b[0;34m]\u001b[0m\u001b[0;34m\u001b[0m\u001b[0;34m\u001b[0m\u001b[0m\n\u001b[1;32m      4\u001b[0m \u001b[0;34m\u001b[0m\u001b[0m\n\u001b[1;32m      5\u001b[0m \u001b[0mcounts_df\u001b[0m \u001b[0;34m=\u001b[0m \u001b[0mpd\u001b[0m\u001b[0;34m.\u001b[0m\u001b[0mDataFrame\u001b[0m\u001b[0;34m.\u001b[0m\u001b[0mfrom_dict\u001b[0m\u001b[0;34m(\u001b[0m\u001b[0mcounts\u001b[0m\u001b[0;34m,\u001b[0m \u001b[0morient\u001b[0m\u001b[0;34m=\u001b[0m\u001b[0;34m'index'\u001b[0m\u001b[0;34m)\u001b[0m\u001b[0;34m\u001b[0m\u001b[0;34m\u001b[0m\u001b[0m\n",
      "\u001b[0;31mNameError\u001b[0m: name 'y_train' is not defined"
     ]
    }
   ],
   "source": [
    "counts = defaultdict(int)\n",
    "for l in y_train:\n",
    "    counts[l] += 1 / train_paths.shape[0]\n",
    "\n",
    "counts_df = pd.DataFrame.from_dict(counts, orient='index')\n",
    "counts_df.columns = ['count']\n",
    "counts_df.sort_values('count', ascending=False, inplace=True)\n",
    "\n",
    "fig, ax = plt.subplots()\n",
    "plt.suptitle(\"Train\")\n",
    "ax = sns.barplot(x=counts_df.index, y=counts_df['count'], ax=ax)\n",
    "fig.set_size_inches(12,4)\n",
    "ax.set_xticklabels(ax.xaxis.get_majorticklabels())\n",
    "None"
   ]
  },
  {
   "cell_type": "code",
   "execution_count": null,
   "id": "4639c4dc",
   "metadata": {},
   "outputs": [],
   "source": [
    "counts = defaultdict(int)\n",
    "for l in y_val:\n",
    "    counts[l] += 1 / val_paths.shape[0]\n",
    "\n",
    "counts_df = pd.DataFrame.from_dict(counts, orient='index')\n",
    "counts_df.columns = ['count']\n",
    "counts_df.sort_values('count', ascending=False, inplace=True)\n",
    "\n",
    "fig, ax = plt.subplots()\n",
    "plt.suptitle(\"Val\")\n",
    "ax = sns.barplot(x=counts_df.index, y=counts_df['count'], ax=ax)\n",
    "fig.set_size_inches(12,4)\n",
    "ax.set_xticklabels(ax.xaxis.get_majorticklabels())\n",
    "None"
   ]
  },
  {
   "cell_type": "code",
   "execution_count": null,
   "id": "1948f77b",
   "metadata": {},
   "outputs": [],
   "source": [
    "counts = defaultdict(int)\n",
    "for l in y_test:\n",
    "    counts[l] += 1 / test_paths.shape[0]\n",
    "\n",
    "counts_df = pd.DataFrame.from_dict(counts, orient='index')\n",
    "counts_df.columns = ['count']\n",
    "counts_df.sort_values('count', ascending=False, inplace=True)\n",
    "\n",
    "fig, ax = plt.subplots()\n",
    "plt.suptitle(\"Test\")\n",
    "ax = sns.barplot(x=counts_df.index, y=counts_df['count'], ax=ax)\n",
    "fig.set_size_inches(12,4)\n",
    "ax.set_xticklabels(ax.xaxis.get_majorticklabels())\n",
    "None"
   ]
  },
  {
   "cell_type": "markdown",
   "id": "be58a476",
   "metadata": {},
   "source": [
    "### Create of a dataset class"
   ]
  },
  {
   "cell_type": "code",
   "execution_count": null,
   "id": "c3c7e1fb",
   "metadata": {},
   "outputs": [],
   "source": [
    "class ImageDataset(Dataset):\n",
    "    def __init__(self, annotations_file, paths_file, transform=None, target_transform=None):\n",
    "        self.img_labels = pd.read_csv(annotations_file)\n",
    "        f = open(paths_file, 'r')\n",
    "        self.img_paths = f.read().split('\\n')\n",
    "        f.close()\n",
    "        self.transform = transform\n",
    "        self.target_transform = target_transform\n",
    "\n",
    "    def __len__(self):\n",
    "        return len(self.img_paths)\n",
    "\n",
    "    def __getitem__(self, idx):\n",
    "        img_path = self.img_paths[idx]\n",
    "        image = read_image(img_path)\n",
    "        img_folder = int(img_path.split(\"/\")[1])\n",
    "        label_name = self.img_labels.iloc[img_folder - 1][4]\n",
    "        label = torch.tensor(labels_map[label_name])\n",
    "        if self.transform:\n",
    "            image = image.float()\n",
    "            image = self.transform(image)\n",
    "        if self.target_transform:\n",
    "            label = self.target_transform(label)\n",
    "        image = image.float()\n",
    "        return image, label"
   ]
  },
  {
   "cell_type": "markdown",
   "id": "fc6cceaa",
   "metadata": {},
   "source": [
    "## Data transformation & Train Dataset"
   ]
  },
  {
   "cell_type": "code",
   "execution_count": 6,
   "id": "14564384",
   "metadata": {},
   "outputs": [],
   "source": [
    "transform = transforms.Compose([\n",
    "    transforms.Resize(256),\n",
    "    transforms.CenterCrop(224),\n",
    "    transforms.Normalize(mean=[0.485, 0.456, 0.406], std=[0.229, 0.224, 0.225]),\n",
    "])\n",
    "train_dataset = ImageDataset('burnasyan_Br.csv', 'train_paths.txt', transform = transform)"
   ]
  },
  {
   "cell_type": "code",
   "execution_count": 1,
   "id": "56ef6a2f",
   "metadata": {},
   "outputs": [
    {
     "ename": "NameError",
     "evalue": "name 'DataLoader' is not defined",
     "output_type": "error",
     "traceback": [
      "\u001b[0;31m---------------------------------------------------------------------------\u001b[0m",
      "\u001b[0;31mNameError\u001b[0m                                 Traceback (most recent call last)",
      "\u001b[0;32m/tmp/ipykernel_18035/4116939331.py\u001b[0m in \u001b[0;36m<module>\u001b[0;34m\u001b[0m\n\u001b[0;32m----> 1\u001b[0;31m \u001b[0mtrain_dataloader\u001b[0m \u001b[0;34m=\u001b[0m \u001b[0mDataLoader\u001b[0m\u001b[0;34m(\u001b[0m\u001b[0mtrain_dataset\u001b[0m\u001b[0;34m,\u001b[0m \u001b[0mbatch_size\u001b[0m\u001b[0;34m=\u001b[0m\u001b[0;36m32\u001b[0m\u001b[0;34m,\u001b[0m \u001b[0mshuffle\u001b[0m\u001b[0;34m=\u001b[0m\u001b[0;32mTrue\u001b[0m\u001b[0;34m)\u001b[0m\u001b[0;34m\u001b[0m\u001b[0;34m\u001b[0m\u001b[0m\n\u001b[0m\u001b[1;32m      2\u001b[0m \u001b[0mtrain_features\u001b[0m\u001b[0;34m,\u001b[0m \u001b[0mtrain_labels\u001b[0m \u001b[0;34m=\u001b[0m \u001b[0mnext\u001b[0m\u001b[0;34m(\u001b[0m\u001b[0miter\u001b[0m\u001b[0;34m(\u001b[0m\u001b[0mtrain_dataloader\u001b[0m\u001b[0;34m)\u001b[0m\u001b[0;34m)\u001b[0m\u001b[0;34m\u001b[0m\u001b[0;34m\u001b[0m\u001b[0m\n\u001b[1;32m      3\u001b[0m \u001b[0mtrain_features\u001b[0m \u001b[0;34m=\u001b[0m \u001b[0mtrain_features\u001b[0m\u001b[0;34m.\u001b[0m\u001b[0mto\u001b[0m\u001b[0;34m(\u001b[0m\u001b[0mdevice\u001b[0m\u001b[0;34m)\u001b[0m\u001b[0;34m\u001b[0m\u001b[0;34m\u001b[0m\u001b[0m\n\u001b[1;32m      4\u001b[0m \u001b[0mtrain_labels\u001b[0m \u001b[0;34m=\u001b[0m \u001b[0mtrain_labels\u001b[0m\u001b[0;34m.\u001b[0m\u001b[0mto\u001b[0m\u001b[0;34m(\u001b[0m\u001b[0mdevice\u001b[0m\u001b[0;34m)\u001b[0m\u001b[0;34m\u001b[0m\u001b[0;34m\u001b[0m\u001b[0m\n",
      "\u001b[0;31mNameError\u001b[0m: name 'DataLoader' is not defined"
     ]
    }
   ],
   "source": [
    "train_dataloader = DataLoader(train_dataset, batch_size=32, shuffle=True)\n",
    "train_features, train_labels = next(iter(train_dataloader))\n",
    "train_features = train_features.to(device)\n",
    "train_labels = train_labels.to(device)"
   ]
  },
  {
   "cell_type": "markdown",
   "id": "d21027c2",
   "metadata": {},
   "source": [
    "## Training ResNet"
   ]
  },
  {
   "cell_type": "code",
   "execution_count": 10,
   "id": "11f68f80",
   "metadata": {},
   "outputs": [
    {
     "data": {
      "text/plain": [
       "ResNet(\n",
       "  (conv1): Conv2d(3, 64, kernel_size=(7, 7), stride=(2, 2), padding=(3, 3), bias=False)\n",
       "  (bn1): BatchNorm2d(64, eps=1e-05, momentum=0.1, affine=True, track_running_stats=True)\n",
       "  (relu): ReLU(inplace=True)\n",
       "  (maxpool): MaxPool2d(kernel_size=3, stride=2, padding=1, dilation=1, ceil_mode=False)\n",
       "  (layer1): Sequential(\n",
       "    (0): BasicBlock(\n",
       "      (conv1): Conv2d(64, 64, kernel_size=(3, 3), stride=(1, 1), padding=(1, 1), bias=False)\n",
       "      (bn1): BatchNorm2d(64, eps=1e-05, momentum=0.1, affine=True, track_running_stats=True)\n",
       "      (relu): ReLU(inplace=True)\n",
       "      (conv2): Conv2d(64, 64, kernel_size=(3, 3), stride=(1, 1), padding=(1, 1), bias=False)\n",
       "      (bn2): BatchNorm2d(64, eps=1e-05, momentum=0.1, affine=True, track_running_stats=True)\n",
       "    )\n",
       "    (1): BasicBlock(\n",
       "      (conv1): Conv2d(64, 64, kernel_size=(3, 3), stride=(1, 1), padding=(1, 1), bias=False)\n",
       "      (bn1): BatchNorm2d(64, eps=1e-05, momentum=0.1, affine=True, track_running_stats=True)\n",
       "      (relu): ReLU(inplace=True)\n",
       "      (conv2): Conv2d(64, 64, kernel_size=(3, 3), stride=(1, 1), padding=(1, 1), bias=False)\n",
       "      (bn2): BatchNorm2d(64, eps=1e-05, momentum=0.1, affine=True, track_running_stats=True)\n",
       "    )\n",
       "  )\n",
       "  (layer2): Sequential(\n",
       "    (0): BasicBlock(\n",
       "      (conv1): Conv2d(64, 128, kernel_size=(3, 3), stride=(2, 2), padding=(1, 1), bias=False)\n",
       "      (bn1): BatchNorm2d(128, eps=1e-05, momentum=0.1, affine=True, track_running_stats=True)\n",
       "      (relu): ReLU(inplace=True)\n",
       "      (conv2): Conv2d(128, 128, kernel_size=(3, 3), stride=(1, 1), padding=(1, 1), bias=False)\n",
       "      (bn2): BatchNorm2d(128, eps=1e-05, momentum=0.1, affine=True, track_running_stats=True)\n",
       "      (downsample): Sequential(\n",
       "        (0): Conv2d(64, 128, kernel_size=(1, 1), stride=(2, 2), bias=False)\n",
       "        (1): BatchNorm2d(128, eps=1e-05, momentum=0.1, affine=True, track_running_stats=True)\n",
       "      )\n",
       "    )\n",
       "    (1): BasicBlock(\n",
       "      (conv1): Conv2d(128, 128, kernel_size=(3, 3), stride=(1, 1), padding=(1, 1), bias=False)\n",
       "      (bn1): BatchNorm2d(128, eps=1e-05, momentum=0.1, affine=True, track_running_stats=True)\n",
       "      (relu): ReLU(inplace=True)\n",
       "      (conv2): Conv2d(128, 128, kernel_size=(3, 3), stride=(1, 1), padding=(1, 1), bias=False)\n",
       "      (bn2): BatchNorm2d(128, eps=1e-05, momentum=0.1, affine=True, track_running_stats=True)\n",
       "    )\n",
       "  )\n",
       "  (layer3): Sequential(\n",
       "    (0): BasicBlock(\n",
       "      (conv1): Conv2d(128, 256, kernel_size=(3, 3), stride=(2, 2), padding=(1, 1), bias=False)\n",
       "      (bn1): BatchNorm2d(256, eps=1e-05, momentum=0.1, affine=True, track_running_stats=True)\n",
       "      (relu): ReLU(inplace=True)\n",
       "      (conv2): Conv2d(256, 256, kernel_size=(3, 3), stride=(1, 1), padding=(1, 1), bias=False)\n",
       "      (bn2): BatchNorm2d(256, eps=1e-05, momentum=0.1, affine=True, track_running_stats=True)\n",
       "      (downsample): Sequential(\n",
       "        (0): Conv2d(128, 256, kernel_size=(1, 1), stride=(2, 2), bias=False)\n",
       "        (1): BatchNorm2d(256, eps=1e-05, momentum=0.1, affine=True, track_running_stats=True)\n",
       "      )\n",
       "    )\n",
       "    (1): BasicBlock(\n",
       "      (conv1): Conv2d(256, 256, kernel_size=(3, 3), stride=(1, 1), padding=(1, 1), bias=False)\n",
       "      (bn1): BatchNorm2d(256, eps=1e-05, momentum=0.1, affine=True, track_running_stats=True)\n",
       "      (relu): ReLU(inplace=True)\n",
       "      (conv2): Conv2d(256, 256, kernel_size=(3, 3), stride=(1, 1), padding=(1, 1), bias=False)\n",
       "      (bn2): BatchNorm2d(256, eps=1e-05, momentum=0.1, affine=True, track_running_stats=True)\n",
       "    )\n",
       "  )\n",
       "  (layer4): Sequential(\n",
       "    (0): BasicBlock(\n",
       "      (conv1): Conv2d(256, 512, kernel_size=(3, 3), stride=(2, 2), padding=(1, 1), bias=False)\n",
       "      (bn1): BatchNorm2d(512, eps=1e-05, momentum=0.1, affine=True, track_running_stats=True)\n",
       "      (relu): ReLU(inplace=True)\n",
       "      (conv2): Conv2d(512, 512, kernel_size=(3, 3), stride=(1, 1), padding=(1, 1), bias=False)\n",
       "      (bn2): BatchNorm2d(512, eps=1e-05, momentum=0.1, affine=True, track_running_stats=True)\n",
       "      (downsample): Sequential(\n",
       "        (0): Conv2d(256, 512, kernel_size=(1, 1), stride=(2, 2), bias=False)\n",
       "        (1): BatchNorm2d(512, eps=1e-05, momentum=0.1, affine=True, track_running_stats=True)\n",
       "      )\n",
       "    )\n",
       "    (1): BasicBlock(\n",
       "      (conv1): Conv2d(512, 512, kernel_size=(3, 3), stride=(1, 1), padding=(1, 1), bias=False)\n",
       "      (bn1): BatchNorm2d(512, eps=1e-05, momentum=0.1, affine=True, track_running_stats=True)\n",
       "      (relu): ReLU(inplace=True)\n",
       "      (conv2): Conv2d(512, 512, kernel_size=(3, 3), stride=(1, 1), padding=(1, 1), bias=False)\n",
       "      (bn2): BatchNorm2d(512, eps=1e-05, momentum=0.1, affine=True, track_running_stats=True)\n",
       "    )\n",
       "  )\n",
       "  (avgpool): AdaptiveAvgPool2d(output_size=(1, 1))\n",
       "  (fc): Linear(in_features=512, out_features=3, bias=True)\n",
       ")"
      ]
     },
     "execution_count": 10,
     "metadata": {},
     "output_type": "execute_result"
    }
   ],
   "source": [
    "net = models.resnet18(pretrained=True)\n",
    "net.fc = nn.Linear(512, 3)\n",
    "net = net.to(device)\n",
    "net"
   ]
  },
  {
   "cell_type": "code",
   "execution_count": 7,
   "id": "09e16112",
   "metadata": {},
   "outputs": [],
   "source": [
    "def plot_confusion_matrix(cm, class_names):\n",
    "    \"\"\"\n",
    "    Returns a matplotlib figure containing the plotted confusion matrix.\n",
    "    \n",
    "    Args:\n",
    "       cm (array, shape = [n, n]): a confusion matrix of integer classes\n",
    "       class_names (array, shape = [n]): String names of the integer classes\n",
    "    \"\"\"\n",
    "    \n",
    "    figure = plt.figure(figsize=(8, 8))\n",
    "    plt.imshow(cm, interpolation='nearest', cmap=plt.cm.Blues)\n",
    "    plt.title(\"Confusion matrix\")\n",
    "    plt.colorbar()\n",
    "    tick_marks = np.arange(len(class_names))\n",
    "    plt.xticks(tick_marks, class_names, rotation=45)\n",
    "    plt.yticks(tick_marks, class_names)\n",
    "    \n",
    "    # Normalize the confusion matrix.\n",
    "    cm = np.around(cm.astype('float') / cm.sum(axis=1)[:, np.newaxis], decimals=2)\n",
    "    \n",
    "    # Use white text if squares are dark; otherwise black.\n",
    "    threshold = cm.max() / 3 * 2.\n",
    "    \n",
    "    for i, j in itertools.product(range(cm.shape[0]), range(cm.shape[1])):\n",
    "        color = \"white\" if cm[i, j] > threshold else \"black\"\n",
    "        plt.text(j, i, cm[i, j], horizontalalignment=\"center\", color=color)\n",
    "        \n",
    "    plt.tight_layout()\n",
    "    plt.ylabel('True label')\n",
    "    plt.xlabel('Predicted label')\n",
    "    return figure\n",
    "\n",
    "def plot_to_image(figure):\n",
    "    \"\"\"\n",
    "    Converts the matplotlib plot specified by 'figure' to a PNG image and\n",
    "    returns it. The supplied figure is closed and inaccessible after this call.\n",
    "    \"\"\"\n",
    "    \n",
    "    buf = io.BytesIO()\n",
    "    \n",
    "    # Use plt.savefig to save the plot to a PNG in memory.\n",
    "    plt.savefig(buf, format='png')\n",
    "    \n",
    "    # Closing the figure prevents it from being displayed directly inside\n",
    "    # the notebook.\n",
    "    plt.close(figure)\n",
    "    buf.seek(0)\n",
    "    \n",
    "    image = Image.open(buf)\n",
    "    image = image.convert(\"RGB\")\n",
    "    transform = transforms.ToTensor()\n",
    "    image = transform(image)\n",
    "    \n",
    "    return image\n",
    "\n",
    "def get_true_classes(input_classes):\n",
    "    true_classes = []\n",
    "    for i in range(len(input_classes)):\n",
    "        input_classes[i] = input_classes[i].to('cpu')\n",
    "        for item in input_classes[i]:\n",
    "            true_classes.append(item.item()) \n",
    "    out = np.array(true_classes, dtype=np.int64)\n",
    "    return out\n",
    "\n",
    "def get_predicted_classes(input_classes):\n",
    "    pred_classes = []\n",
    "    for i in range(len(input_classes)):\n",
    "        input_classes[i] = input_classes[i].to('cpu')\n",
    "        for item in input_classes[i]:\n",
    "            pred_classes.append(item.detach().numpy()) \n",
    "    pred_classes = np.array(pred_classes, dtype=object).astype(float)\n",
    "    out = np.argmax(pred_classes, axis = 1)\n",
    "    return out\n",
    "\n",
    "def get_classes_probs(input_classes):\n",
    "    pred_classes = []\n",
    "    for i in range(len(input_classes)):\n",
    "        input_classes[i] = input_classes[i].to('cpu')\n",
    "        for item in input_classes[i]:\n",
    "            pred_classes.append(item.detach().numpy()) \n",
    "    pred_classes = np.array(pred_classes, dtype=object).astype(float)\n",
    "    return pred_classes\n",
    "\n",
    "def log_confusion_matrix(epoch, true, pred, class_names):\n",
    "    \n",
    "    # Calculate the confusion matrix using sklearn.metrics\n",
    "    cm = confusion_matrix(true, pred)\n",
    "    \n",
    "    figure = plot_confusion_matrix(cm, class_names=class_names)\n",
    "    cm_image = plot_to_image(figure)\n",
    "    \n",
    "    # Log the confusion matrix as an image summary.\n",
    "    writer.add_image('Confusion matrix', cm_image, epoch)\n",
    "    \n",
    "def log_running_loss(running_loss, epoch):\n",
    "    writer.add_scalar('Training loss', running_loss / 250, epoch)\n",
    "    \n",
    "def log_accuracy(true, pred, epoch):\n",
    "    writer.add_scalar('Accuracy', accuracy_score(true, pred), epoch)\n",
    "    \n",
    "def log_rocauc(true, pred, epoch):\n",
    "    writer.add_scalar('ROC_AUC', roc_auc_score(true, pred,\n",
    "                      multi_class='ovr', average='weighted'), epoch)\n",
    "    \n",
    "def log_precision(true, pred, epoch):\n",
    "    writer.add_scalar('Precision', precision_score(true, pred, average='weighted'),\n",
    "                      epoch)\n",
    "    \n",
    "def log_recall(true, pred, epoch):\n",
    "    writer.add_scalar('Recall', recall_score(true, pred, average='weighted'),\n",
    "                      epoch)\n",
    "    \n",
    "class callback(Callback):\n",
    "    \n",
    "    def __init__(self): \n",
    "        pass\n",
    "    \n",
    "    def on_epoch_begin(self, epoch):\n",
    "        self.epoch = epoch\n",
    "        \n",
    "    def on_epoch_end(self, t, p, class_names, running_loss):\n",
    "        true = get_true_classes(t)\n",
    "        pred = get_predicted_classes(p)\n",
    "        probs = get_classes_probs(p)\n",
    "        log_confusion_matrix(self.epoch, true, pred, class_names)\n",
    "        log_running_loss(running_loss, self.epoch)\n",
    "        log_accuracy(true, pred, self.epoch)\n",
    "        log_rocauc(true, probs, self.epoch)\n",
    "        log_precision(true, pred, self.epoch)\n",
    "        log_recall(true, pred, self.epoch)\n",
    "        "
   ]
  },
  {
   "cell_type": "code",
   "execution_count": 25,
   "id": "96e61576",
   "metadata": {},
   "outputs": [],
   "source": [
    "logdir = \"FinalTraining_logs/ResNet/\" + datetime.now().strftime(\"%Y%m%d-%H%M%S\")"
   ]
  },
  {
   "cell_type": "code",
   "execution_count": 26,
   "id": "99d4c3c9",
   "metadata": {
    "scrolled": false
   },
   "outputs": [],
   "source": [
    "writer = SummaryWriter(logdir)\n",
    "writer.add_graph(net, train_features)"
   ]
  },
  {
   "cell_type": "code",
   "execution_count": 27,
   "id": "51918fba",
   "metadata": {},
   "outputs": [],
   "source": [
    "my_callback = callback()"
   ]
  },
  {
   "cell_type": "code",
   "execution_count": 69,
   "id": "8c2cf429",
   "metadata": {},
   "outputs": [
    {
     "ename": "NameError",
     "evalue": "name 'net' is not defined",
     "output_type": "error",
     "traceback": [
      "\u001b[0;31m---------------------------------------------------------------------------\u001b[0m",
      "\u001b[0;31mNameError\u001b[0m                                 Traceback (most recent call last)",
      "\u001b[0;32m/tmp/ipykernel_2431/2314598945.py\u001b[0m in \u001b[0;36m<module>\u001b[0;34m\u001b[0m\n\u001b[1;32m      5\u001b[0m \u001b[0mcriterion\u001b[0m \u001b[0;34m=\u001b[0m \u001b[0mnn\u001b[0m\u001b[0;34m.\u001b[0m\u001b[0mCrossEntropyLoss\u001b[0m\u001b[0;34m(\u001b[0m\u001b[0mweight\u001b[0m\u001b[0;34m=\u001b[0m\u001b[0mweight\u001b[0m\u001b[0;34m,\u001b[0m \u001b[0mreduction\u001b[0m\u001b[0;34m=\u001b[0m\u001b[0;34m'mean'\u001b[0m\u001b[0;34m)\u001b[0m\u001b[0;34m\u001b[0m\u001b[0;34m\u001b[0m\u001b[0m\n\u001b[1;32m      6\u001b[0m \u001b[0;31m# criterion = nn.CrossEntropyLoss()\u001b[0m\u001b[0;34m\u001b[0m\u001b[0;34m\u001b[0m\u001b[0;34m\u001b[0m\u001b[0m\n\u001b[0;32m----> 7\u001b[0;31m \u001b[0moptimizer\u001b[0m \u001b[0;34m=\u001b[0m \u001b[0moptim\u001b[0m\u001b[0;34m.\u001b[0m\u001b[0mSGD\u001b[0m\u001b[0;34m(\u001b[0m\u001b[0mnet\u001b[0m\u001b[0;34m.\u001b[0m\u001b[0mparameters\u001b[0m\u001b[0;34m(\u001b[0m\u001b[0;34m)\u001b[0m\u001b[0;34m,\u001b[0m \u001b[0mlr\u001b[0m\u001b[0;34m=\u001b[0m\u001b[0;36m1e-5\u001b[0m\u001b[0;34m,\u001b[0m \u001b[0mmomentum\u001b[0m\u001b[0;34m=\u001b[0m\u001b[0;36m0.9\u001b[0m\u001b[0;34m)\u001b[0m\u001b[0;34m\u001b[0m\u001b[0;34m\u001b[0m\u001b[0m\n\u001b[0m",
      "\u001b[0;31mNameError\u001b[0m: name 'net' is not defined"
     ]
    }
   ],
   "source": [
    "summed = 14032 + 1358 + 26649 \n",
    "weight = torch.tensor([14032, 1358, 26649]) / summed\n",
    "weight = weight.pow(-1)\n",
    "weight = weight.to(device)\n",
    "criterion = nn.CrossEntropyLoss(weight=weight, reduction='mean')\n",
    "# criterion = nn.CrossEntropyLoss()\n",
    "optimizer = optim.SGD(net.parameters(), lr=1e-5, momentum=0.9)"
   ]
  },
  {
   "cell_type": "code",
   "execution_count": 20,
   "id": "6add2407",
   "metadata": {},
   "outputs": [
    {
     "data": {
      "application/vnd.jupyter.widget-view+json": {
       "model_id": "a78e6129c05d4cc5824231cc0e41fa9c",
       "version_major": 2,
       "version_minor": 0
      },
      "text/plain": [
       "epochs:   0%|          | 0/500 [00:00<?, ?it/s]"
      ]
     },
     "metadata": {},
     "output_type": "display_data"
    },
    {
     "data": {
      "application/vnd.jupyter.widget-view+json": {
       "model_id": "c759ccbbc1614a6b8a7e4987b8df28d5",
       "version_major": 2,
       "version_minor": 0
      },
      "text/plain": [
       "one epoch training:   0%|          | 0/705 [00:00<?, ?it/s]"
      ]
     },
     "metadata": {},
     "output_type": "display_data"
    },
    {
     "data": {
      "application/vnd.jupyter.widget-view+json": {
       "model_id": "9e94797453c04ae7bbe98845db1851f3",
       "version_major": 2,
       "version_minor": 0
      },
      "text/plain": [
       "one epoch training:   0%|          | 0/705 [00:00<?, ?it/s]"
      ]
     },
     "metadata": {},
     "output_type": "display_data"
    },
    {
     "data": {
      "application/vnd.jupyter.widget-view+json": {
       "model_id": "657b0cc0a5964eaab8d49ad29f3aa2fe",
       "version_major": 2,
       "version_minor": 0
      },
      "text/plain": [
       "one epoch training:   0%|          | 0/705 [00:00<?, ?it/s]"
      ]
     },
     "metadata": {},
     "output_type": "display_data"
    },
    {
     "data": {
      "application/vnd.jupyter.widget-view+json": {
       "model_id": "a96fbadd01e649bfbcc7a32981e186cf",
       "version_major": 2,
       "version_minor": 0
      },
      "text/plain": [
       "one epoch training:   0%|          | 0/705 [00:00<?, ?it/s]"
      ]
     },
     "metadata": {},
     "output_type": "display_data"
    },
    {
     "data": {
      "application/vnd.jupyter.widget-view+json": {
       "model_id": "0f84e38e26434d4abf060c61626afe56",
       "version_major": 2,
       "version_minor": 0
      },
      "text/plain": [
       "one epoch training:   0%|          | 0/705 [00:00<?, ?it/s]"
      ]
     },
     "metadata": {},
     "output_type": "display_data"
    },
    {
     "data": {
      "application/vnd.jupyter.widget-view+json": {
       "model_id": "b130217734ef4e6fa54d349777af3682",
       "version_major": 2,
       "version_minor": 0
      },
      "text/plain": [
       "one epoch training:   0%|          | 0/705 [00:00<?, ?it/s]"
      ]
     },
     "metadata": {},
     "output_type": "display_data"
    },
    {
     "data": {
      "application/vnd.jupyter.widget-view+json": {
       "model_id": "7860794e4a9447fc951e59383e723be2",
       "version_major": 2,
       "version_minor": 0
      },
      "text/plain": [
       "one epoch training:   0%|          | 0/705 [00:00<?, ?it/s]"
      ]
     },
     "metadata": {},
     "output_type": "display_data"
    },
    {
     "data": {
      "application/vnd.jupyter.widget-view+json": {
       "model_id": "7e1fcdc8be72436fa803abf82a426062",
       "version_major": 2,
       "version_minor": 0
      },
      "text/plain": [
       "one epoch training:   0%|          | 0/705 [00:00<?, ?it/s]"
      ]
     },
     "metadata": {},
     "output_type": "display_data"
    },
    {
     "data": {
      "application/vnd.jupyter.widget-view+json": {
       "model_id": "1043574c073445e4ac2e130956d469b1",
       "version_major": 2,
       "version_minor": 0
      },
      "text/plain": [
       "one epoch training:   0%|          | 0/705 [00:00<?, ?it/s]"
      ]
     },
     "metadata": {},
     "output_type": "display_data"
    },
    {
     "data": {
      "application/vnd.jupyter.widget-view+json": {
       "model_id": "7e6613b0812e444886ae3290d285b732",
       "version_major": 2,
       "version_minor": 0
      },
      "text/plain": [
       "one epoch training:   0%|          | 0/705 [00:00<?, ?it/s]"
      ]
     },
     "metadata": {},
     "output_type": "display_data"
    },
    {
     "data": {
      "application/vnd.jupyter.widget-view+json": {
       "model_id": "e4ce800d7282495ab4128ec59b1867ba",
       "version_major": 2,
       "version_minor": 0
      },
      "text/plain": [
       "one epoch training:   0%|          | 0/705 [00:00<?, ?it/s]"
      ]
     },
     "metadata": {},
     "output_type": "display_data"
    },
    {
     "data": {
      "application/vnd.jupyter.widget-view+json": {
       "model_id": "26a59e58944247f9898dc20920dca42d",
       "version_major": 2,
       "version_minor": 0
      },
      "text/plain": [
       "one epoch training:   0%|          | 0/705 [00:00<?, ?it/s]"
      ]
     },
     "metadata": {},
     "output_type": "display_data"
    },
    {
     "data": {
      "application/vnd.jupyter.widget-view+json": {
       "model_id": "c7b55dac30444a1ca7e17e28aa0ca022",
       "version_major": 2,
       "version_minor": 0
      },
      "text/plain": [
       "one epoch training:   0%|          | 0/705 [00:00<?, ?it/s]"
      ]
     },
     "metadata": {},
     "output_type": "display_data"
    },
    {
     "data": {
      "application/vnd.jupyter.widget-view+json": {
       "model_id": "c491fbdf172c4ff799db189c99a07232",
       "version_major": 2,
       "version_minor": 0
      },
      "text/plain": [
       "one epoch training:   0%|          | 0/705 [00:00<?, ?it/s]"
      ]
     },
     "metadata": {},
     "output_type": "display_data"
    },
    {
     "data": {
      "application/vnd.jupyter.widget-view+json": {
       "model_id": "b799a72cdffd41e2b07c8d0fc74a4c11",
       "version_major": 2,
       "version_minor": 0
      },
      "text/plain": [
       "one epoch training:   0%|          | 0/705 [00:00<?, ?it/s]"
      ]
     },
     "metadata": {},
     "output_type": "display_data"
    },
    {
     "data": {
      "application/vnd.jupyter.widget-view+json": {
       "model_id": "4e38986e2add4dfd87cb9c030a955bba",
       "version_major": 2,
       "version_minor": 0
      },
      "text/plain": [
       "one epoch training:   0%|          | 0/705 [00:00<?, ?it/s]"
      ]
     },
     "metadata": {},
     "output_type": "display_data"
    },
    {
     "data": {
      "application/vnd.jupyter.widget-view+json": {
       "model_id": "b3fa96ecb7c54e499c12895c672af86d",
       "version_major": 2,
       "version_minor": 0
      },
      "text/plain": [
       "one epoch training:   0%|          | 0/705 [00:00<?, ?it/s]"
      ]
     },
     "metadata": {},
     "output_type": "display_data"
    },
    {
     "data": {
      "application/vnd.jupyter.widget-view+json": {
       "model_id": "419d5c44dd974834b89d4925ebec245b",
       "version_major": 2,
       "version_minor": 0
      },
      "text/plain": [
       "one epoch training:   0%|          | 0/705 [00:00<?, ?it/s]"
      ]
     },
     "metadata": {},
     "output_type": "display_data"
    },
    {
     "data": {
      "application/vnd.jupyter.widget-view+json": {
       "model_id": "375f8188eed443508f57c771df148a8a",
       "version_major": 2,
       "version_minor": 0
      },
      "text/plain": [
       "one epoch training:   0%|          | 0/705 [00:00<?, ?it/s]"
      ]
     },
     "metadata": {},
     "output_type": "display_data"
    },
    {
     "data": {
      "application/vnd.jupyter.widget-view+json": {
       "model_id": "eb7180788c0744699b1816a48742d417",
       "version_major": 2,
       "version_minor": 0
      },
      "text/plain": [
       "one epoch training:   0%|          | 0/705 [00:00<?, ?it/s]"
      ]
     },
     "metadata": {},
     "output_type": "display_data"
    },
    {
     "data": {
      "application/vnd.jupyter.widget-view+json": {
       "model_id": "f7c241c2126b434b9f22eaf0cd0629d9",
       "version_major": 2,
       "version_minor": 0
      },
      "text/plain": [
       "one epoch training:   0%|          | 0/705 [00:00<?, ?it/s]"
      ]
     },
     "metadata": {},
     "output_type": "display_data"
    },
    {
     "data": {
      "application/vnd.jupyter.widget-view+json": {
       "model_id": "b20db6c424704c6683f4d17d14a390bb",
       "version_major": 2,
       "version_minor": 0
      },
      "text/plain": [
       "one epoch training:   0%|          | 0/705 [00:00<?, ?it/s]"
      ]
     },
     "metadata": {},
     "output_type": "display_data"
    },
    {
     "data": {
      "application/vnd.jupyter.widget-view+json": {
       "model_id": "81804831b696448b99e99f9c72fba1bb",
       "version_major": 2,
       "version_minor": 0
      },
      "text/plain": [
       "one epoch training:   0%|          | 0/705 [00:00<?, ?it/s]"
      ]
     },
     "metadata": {},
     "output_type": "display_data"
    },
    {
     "data": {
      "application/vnd.jupyter.widget-view+json": {
       "model_id": "b071acbd64e243f6bd004c8df11f5627",
       "version_major": 2,
       "version_minor": 0
      },
      "text/plain": [
       "one epoch training:   0%|          | 0/705 [00:00<?, ?it/s]"
      ]
     },
     "metadata": {},
     "output_type": "display_data"
    },
    {
     "data": {
      "application/vnd.jupyter.widget-view+json": {
       "model_id": "a0b4328dc4684634b9a9ed4e1bb23bf3",
       "version_major": 2,
       "version_minor": 0
      },
      "text/plain": [
       "one epoch training:   0%|          | 0/705 [00:00<?, ?it/s]"
      ]
     },
     "metadata": {},
     "output_type": "display_data"
    },
    {
     "data": {
      "application/vnd.jupyter.widget-view+json": {
       "model_id": "3c40a75db3b846cc89e5696dbd9d1121",
       "version_major": 2,
       "version_minor": 0
      },
      "text/plain": [
       "one epoch training:   0%|          | 0/705 [00:00<?, ?it/s]"
      ]
     },
     "metadata": {},
     "output_type": "display_data"
    },
    {
     "data": {
      "application/vnd.jupyter.widget-view+json": {
       "model_id": "c81f052f4c1d44daa84af4233db950d7",
       "version_major": 2,
       "version_minor": 0
      },
      "text/plain": [
       "one epoch training:   0%|          | 0/705 [00:00<?, ?it/s]"
      ]
     },
     "metadata": {},
     "output_type": "display_data"
    },
    {
     "data": {
      "application/vnd.jupyter.widget-view+json": {
       "model_id": "b512301ced6748cb9bd2ce76baf09d8d",
       "version_major": 2,
       "version_minor": 0
      },
      "text/plain": [
       "one epoch training:   0%|          | 0/705 [00:00<?, ?it/s]"
      ]
     },
     "metadata": {},
     "output_type": "display_data"
    },
    {
     "data": {
      "application/vnd.jupyter.widget-view+json": {
       "model_id": "ea75f40ee2b445e6b26d77bebb6fa8ed",
       "version_major": 2,
       "version_minor": 0
      },
      "text/plain": [
       "one epoch training:   0%|          | 0/705 [00:00<?, ?it/s]"
      ]
     },
     "metadata": {},
     "output_type": "display_data"
    },
    {
     "data": {
      "application/vnd.jupyter.widget-view+json": {
       "model_id": "dc2bc42628184bee93fce1858caff996",
       "version_major": 2,
       "version_minor": 0
      },
      "text/plain": [
       "one epoch training:   0%|          | 0/705 [00:00<?, ?it/s]"
      ]
     },
     "metadata": {},
     "output_type": "display_data"
    },
    {
     "data": {
      "application/vnd.jupyter.widget-view+json": {
       "model_id": "034011eb38eb47a08260476e8f1c51c3",
       "version_major": 2,
       "version_minor": 0
      },
      "text/plain": [
       "one epoch training:   0%|          | 0/705 [00:00<?, ?it/s]"
      ]
     },
     "metadata": {},
     "output_type": "display_data"
    },
    {
     "data": {
      "application/vnd.jupyter.widget-view+json": {
       "model_id": "fcd1bd74f158420a989f8f15e1c2ea38",
       "version_major": 2,
       "version_minor": 0
      },
      "text/plain": [
       "one epoch training:   0%|          | 0/705 [00:00<?, ?it/s]"
      ]
     },
     "metadata": {},
     "output_type": "display_data"
    },
    {
     "data": {
      "application/vnd.jupyter.widget-view+json": {
       "model_id": "c5508f7498224bfcbd04f1c6e9ae9f50",
       "version_major": 2,
       "version_minor": 0
      },
      "text/plain": [
       "one epoch training:   0%|          | 0/705 [00:00<?, ?it/s]"
      ]
     },
     "metadata": {},
     "output_type": "display_data"
    },
    {
     "data": {
      "application/vnd.jupyter.widget-view+json": {
       "model_id": "0ee90956985041f29e8fcae50dc977e3",
       "version_major": 2,
       "version_minor": 0
      },
      "text/plain": [
       "one epoch training:   0%|          | 0/705 [00:00<?, ?it/s]"
      ]
     },
     "metadata": {},
     "output_type": "display_data"
    },
    {
     "data": {
      "application/vnd.jupyter.widget-view+json": {
       "model_id": "6b449894d9aa47548fed34344abd5999",
       "version_major": 2,
       "version_minor": 0
      },
      "text/plain": [
       "one epoch training:   0%|          | 0/705 [00:00<?, ?it/s]"
      ]
     },
     "metadata": {},
     "output_type": "display_data"
    },
    {
     "data": {
      "application/vnd.jupyter.widget-view+json": {
       "model_id": "9708ea4d326845459c13398e61b7ec6f",
       "version_major": 2,
       "version_minor": 0
      },
      "text/plain": [
       "one epoch training:   0%|          | 0/705 [00:00<?, ?it/s]"
      ]
     },
     "metadata": {},
     "output_type": "display_data"
    },
    {
     "data": {
      "application/vnd.jupyter.widget-view+json": {
       "model_id": "c3c4ac187e7c40a0bdded913edccc610",
       "version_major": 2,
       "version_minor": 0
      },
      "text/plain": [
       "one epoch training:   0%|          | 0/705 [00:00<?, ?it/s]"
      ]
     },
     "metadata": {},
     "output_type": "display_data"
    },
    {
     "data": {
      "application/vnd.jupyter.widget-view+json": {
       "model_id": "e507e207a1844d9e8be130e58e6029d7",
       "version_major": 2,
       "version_minor": 0
      },
      "text/plain": [
       "one epoch training:   0%|          | 0/705 [00:00<?, ?it/s]"
      ]
     },
     "metadata": {},
     "output_type": "display_data"
    },
    {
     "data": {
      "application/vnd.jupyter.widget-view+json": {
       "model_id": "d3ffd459320b41b49890d196bf127937",
       "version_major": 2,
       "version_minor": 0
      },
      "text/plain": [
       "one epoch training:   0%|          | 0/705 [00:00<?, ?it/s]"
      ]
     },
     "metadata": {},
     "output_type": "display_data"
    },
    {
     "data": {
      "application/vnd.jupyter.widget-view+json": {
       "model_id": "1e03ff3da4f14a03bf5aac70334b26f0",
       "version_major": 2,
       "version_minor": 0
      },
      "text/plain": [
       "one epoch training:   0%|          | 0/705 [00:00<?, ?it/s]"
      ]
     },
     "metadata": {},
     "output_type": "display_data"
    },
    {
     "data": {
      "application/vnd.jupyter.widget-view+json": {
       "model_id": "ac5019229f784b92a807e64890689d08",
       "version_major": 2,
       "version_minor": 0
      },
      "text/plain": [
       "one epoch training:   0%|          | 0/705 [00:00<?, ?it/s]"
      ]
     },
     "metadata": {},
     "output_type": "display_data"
    },
    {
     "data": {
      "application/vnd.jupyter.widget-view+json": {
       "model_id": "7799508d211741b1b97115698638e5b0",
       "version_major": 2,
       "version_minor": 0
      },
      "text/plain": [
       "one epoch training:   0%|          | 0/705 [00:00<?, ?it/s]"
      ]
     },
     "metadata": {},
     "output_type": "display_data"
    },
    {
     "data": {
      "application/vnd.jupyter.widget-view+json": {
       "model_id": "abe6a2ba854d4899835ecf8bd7a25787",
       "version_major": 2,
       "version_minor": 0
      },
      "text/plain": [
       "one epoch training:   0%|          | 0/705 [00:00<?, ?it/s]"
      ]
     },
     "metadata": {},
     "output_type": "display_data"
    },
    {
     "data": {
      "application/vnd.jupyter.widget-view+json": {
       "model_id": "2ddf5b3f75434e83998da56bdb5a7d73",
       "version_major": 2,
       "version_minor": 0
      },
      "text/plain": [
       "one epoch training:   0%|          | 0/705 [00:00<?, ?it/s]"
      ]
     },
     "metadata": {},
     "output_type": "display_data"
    },
    {
     "data": {
      "application/vnd.jupyter.widget-view+json": {
       "model_id": "96d1120db0434e9eb8d2d9339561498c",
       "version_major": 2,
       "version_minor": 0
      },
      "text/plain": [
       "one epoch training:   0%|          | 0/705 [00:00<?, ?it/s]"
      ]
     },
     "metadata": {},
     "output_type": "display_data"
    },
    {
     "data": {
      "application/vnd.jupyter.widget-view+json": {
       "model_id": "af0e0ed5d63e4505b96583f851c070a4",
       "version_major": 2,
       "version_minor": 0
      },
      "text/plain": [
       "one epoch training:   0%|          | 0/705 [00:00<?, ?it/s]"
      ]
     },
     "metadata": {},
     "output_type": "display_data"
    },
    {
     "data": {
      "application/vnd.jupyter.widget-view+json": {
       "model_id": "e8e090eed1d744d68ccd6d2972380fe3",
       "version_major": 2,
       "version_minor": 0
      },
      "text/plain": [
       "one epoch training:   0%|          | 0/705 [00:00<?, ?it/s]"
      ]
     },
     "metadata": {},
     "output_type": "display_data"
    },
    {
     "data": {
      "application/vnd.jupyter.widget-view+json": {
       "model_id": "412a20ea642e437fb67f7b0358901415",
       "version_major": 2,
       "version_minor": 0
      },
      "text/plain": [
       "one epoch training:   0%|          | 0/705 [00:00<?, ?it/s]"
      ]
     },
     "metadata": {},
     "output_type": "display_data"
    },
    {
     "data": {
      "application/vnd.jupyter.widget-view+json": {
       "model_id": "7028107a31cb4e71a891f1839f12fc24",
       "version_major": 2,
       "version_minor": 0
      },
      "text/plain": [
       "one epoch training:   0%|          | 0/705 [00:00<?, ?it/s]"
      ]
     },
     "metadata": {},
     "output_type": "display_data"
    },
    {
     "data": {
      "application/vnd.jupyter.widget-view+json": {
       "model_id": "ea253411b82947eda95a6ff755865c4c",
       "version_major": 2,
       "version_minor": 0
      },
      "text/plain": [
       "one epoch training:   0%|          | 0/705 [00:00<?, ?it/s]"
      ]
     },
     "metadata": {},
     "output_type": "display_data"
    },
    {
     "data": {
      "application/vnd.jupyter.widget-view+json": {
       "model_id": "3373c4d8ce644704afa427fc8c22d6b9",
       "version_major": 2,
       "version_minor": 0
      },
      "text/plain": [
       "one epoch training:   0%|          | 0/705 [00:00<?, ?it/s]"
      ]
     },
     "metadata": {},
     "output_type": "display_data"
    },
    {
     "data": {
      "application/vnd.jupyter.widget-view+json": {
       "model_id": "40971200f709478682ee56f22d5fddba",
       "version_major": 2,
       "version_minor": 0
      },
      "text/plain": [
       "one epoch training:   0%|          | 0/705 [00:00<?, ?it/s]"
      ]
     },
     "metadata": {},
     "output_type": "display_data"
    },
    {
     "data": {
      "application/vnd.jupyter.widget-view+json": {
       "model_id": "66982144e7784a669d0a197b8c97cb9d",
       "version_major": 2,
       "version_minor": 0
      },
      "text/plain": [
       "one epoch training:   0%|          | 0/705 [00:00<?, ?it/s]"
      ]
     },
     "metadata": {},
     "output_type": "display_data"
    },
    {
     "data": {
      "application/vnd.jupyter.widget-view+json": {
       "model_id": "0c5b53eb3caf47ba9dd6e6e5dc8fd7be",
       "version_major": 2,
       "version_minor": 0
      },
      "text/plain": [
       "one epoch training:   0%|          | 0/705 [00:00<?, ?it/s]"
      ]
     },
     "metadata": {},
     "output_type": "display_data"
    },
    {
     "data": {
      "application/vnd.jupyter.widget-view+json": {
       "model_id": "44f1ecfcfcb9465c911a8e8dd8f6fdd2",
       "version_major": 2,
       "version_minor": 0
      },
      "text/plain": [
       "one epoch training:   0%|          | 0/705 [00:00<?, ?it/s]"
      ]
     },
     "metadata": {},
     "output_type": "display_data"
    },
    {
     "data": {
      "application/vnd.jupyter.widget-view+json": {
       "model_id": "469224a08f794a1bb4492bcfa715eb46",
       "version_major": 2,
       "version_minor": 0
      },
      "text/plain": [
       "one epoch training:   0%|          | 0/705 [00:00<?, ?it/s]"
      ]
     },
     "metadata": {},
     "output_type": "display_data"
    },
    {
     "data": {
      "application/vnd.jupyter.widget-view+json": {
       "model_id": "9630b60e22fa49c480efaca211dd60b6",
       "version_major": 2,
       "version_minor": 0
      },
      "text/plain": [
       "one epoch training:   0%|          | 0/705 [00:00<?, ?it/s]"
      ]
     },
     "metadata": {},
     "output_type": "display_data"
    },
    {
     "data": {
      "application/vnd.jupyter.widget-view+json": {
       "model_id": "fd42d51adb1446c69dbbd75db3a13cf1",
       "version_major": 2,
       "version_minor": 0
      },
      "text/plain": [
       "one epoch training:   0%|          | 0/705 [00:00<?, ?it/s]"
      ]
     },
     "metadata": {},
     "output_type": "display_data"
    },
    {
     "data": {
      "application/vnd.jupyter.widget-view+json": {
       "model_id": "79786aa3f6e749e48070c1fd31f5b387",
       "version_major": 2,
       "version_minor": 0
      },
      "text/plain": [
       "one epoch training:   0%|          | 0/705 [00:00<?, ?it/s]"
      ]
     },
     "metadata": {},
     "output_type": "display_data"
    },
    {
     "data": {
      "application/vnd.jupyter.widget-view+json": {
       "model_id": "be91a646ab85497f8af0767e87145641",
       "version_major": 2,
       "version_minor": 0
      },
      "text/plain": [
       "one epoch training:   0%|          | 0/705 [00:00<?, ?it/s]"
      ]
     },
     "metadata": {},
     "output_type": "display_data"
    },
    {
     "data": {
      "application/vnd.jupyter.widget-view+json": {
       "model_id": "7dcccda8ea47482fa0c793e796f93610",
       "version_major": 2,
       "version_minor": 0
      },
      "text/plain": [
       "one epoch training:   0%|          | 0/705 [00:00<?, ?it/s]"
      ]
     },
     "metadata": {},
     "output_type": "display_data"
    },
    {
     "data": {
      "application/vnd.jupyter.widget-view+json": {
       "model_id": "fafc0684c9f84f4c89fd79d2c9e0675d",
       "version_major": 2,
       "version_minor": 0
      },
      "text/plain": [
       "one epoch training:   0%|          | 0/705 [00:00<?, ?it/s]"
      ]
     },
     "metadata": {},
     "output_type": "display_data"
    },
    {
     "data": {
      "application/vnd.jupyter.widget-view+json": {
       "model_id": "07971406d791428b9ebf3d6de43e2103",
       "version_major": 2,
       "version_minor": 0
      },
      "text/plain": [
       "one epoch training:   0%|          | 0/705 [00:00<?, ?it/s]"
      ]
     },
     "metadata": {},
     "output_type": "display_data"
    },
    {
     "data": {
      "application/vnd.jupyter.widget-view+json": {
       "model_id": "0032c2c3bc624b1aac2b296313a4677f",
       "version_major": 2,
       "version_minor": 0
      },
      "text/plain": [
       "one epoch training:   0%|          | 0/705 [00:00<?, ?it/s]"
      ]
     },
     "metadata": {},
     "output_type": "display_data"
    },
    {
     "data": {
      "application/vnd.jupyter.widget-view+json": {
       "model_id": "5495f13d37fa4cca9b1b51d69e7f6861",
       "version_major": 2,
       "version_minor": 0
      },
      "text/plain": [
       "one epoch training:   0%|          | 0/705 [00:00<?, ?it/s]"
      ]
     },
     "metadata": {},
     "output_type": "display_data"
    },
    {
     "data": {
      "application/vnd.jupyter.widget-view+json": {
       "model_id": "7fa202325eb745f5815afbbd7ee740ec",
       "version_major": 2,
       "version_minor": 0
      },
      "text/plain": [
       "one epoch training:   0%|          | 0/705 [00:00<?, ?it/s]"
      ]
     },
     "metadata": {},
     "output_type": "display_data"
    },
    {
     "data": {
      "application/vnd.jupyter.widget-view+json": {
       "model_id": "c75d27e8e53a41b4adbad064cc72a23a",
       "version_major": 2,
       "version_minor": 0
      },
      "text/plain": [
       "one epoch training:   0%|          | 0/705 [00:00<?, ?it/s]"
      ]
     },
     "metadata": {},
     "output_type": "display_data"
    },
    {
     "data": {
      "application/vnd.jupyter.widget-view+json": {
       "model_id": "a01a3361a137481b94d59ff15d04029f",
       "version_major": 2,
       "version_minor": 0
      },
      "text/plain": [
       "one epoch training:   0%|          | 0/705 [00:00<?, ?it/s]"
      ]
     },
     "metadata": {},
     "output_type": "display_data"
    },
    {
     "data": {
      "application/vnd.jupyter.widget-view+json": {
       "model_id": "39a7d278ce574934a00f7c8331fea3a6",
       "version_major": 2,
       "version_minor": 0
      },
      "text/plain": [
       "one epoch training:   0%|          | 0/705 [00:00<?, ?it/s]"
      ]
     },
     "metadata": {},
     "output_type": "display_data"
    },
    {
     "data": {
      "application/vnd.jupyter.widget-view+json": {
       "model_id": "3a1cb2fb79be40efbb580f42f044955a",
       "version_major": 2,
       "version_minor": 0
      },
      "text/plain": [
       "one epoch training:   0%|          | 0/705 [00:00<?, ?it/s]"
      ]
     },
     "metadata": {},
     "output_type": "display_data"
    },
    {
     "data": {
      "application/vnd.jupyter.widget-view+json": {
       "model_id": "107288379dd14fe1ae6305c73bc10d01",
       "version_major": 2,
       "version_minor": 0
      },
      "text/plain": [
       "one epoch training:   0%|          | 0/705 [00:00<?, ?it/s]"
      ]
     },
     "metadata": {},
     "output_type": "display_data"
    },
    {
     "data": {
      "application/vnd.jupyter.widget-view+json": {
       "model_id": "1bf7e976f0a7429f868a088e89cf3bbb",
       "version_major": 2,
       "version_minor": 0
      },
      "text/plain": [
       "one epoch training:   0%|          | 0/705 [00:00<?, ?it/s]"
      ]
     },
     "metadata": {},
     "output_type": "display_data"
    },
    {
     "data": {
      "application/vnd.jupyter.widget-view+json": {
       "model_id": "60819aad29a04b9f8a784fa98ac2a2b1",
       "version_major": 2,
       "version_minor": 0
      },
      "text/plain": [
       "one epoch training:   0%|          | 0/705 [00:00<?, ?it/s]"
      ]
     },
     "metadata": {},
     "output_type": "display_data"
    },
    {
     "data": {
      "application/vnd.jupyter.widget-view+json": {
       "model_id": "63265b4fef2d4fedbfac01486d5e2d3a",
       "version_major": 2,
       "version_minor": 0
      },
      "text/plain": [
       "one epoch training:   0%|          | 0/705 [00:00<?, ?it/s]"
      ]
     },
     "metadata": {},
     "output_type": "display_data"
    },
    {
     "data": {
      "application/vnd.jupyter.widget-view+json": {
       "model_id": "acf734fc196a48219ae311024955a1c7",
       "version_major": 2,
       "version_minor": 0
      },
      "text/plain": [
       "one epoch training:   0%|          | 0/705 [00:00<?, ?it/s]"
      ]
     },
     "metadata": {},
     "output_type": "display_data"
    },
    {
     "data": {
      "application/vnd.jupyter.widget-view+json": {
       "model_id": "7a6b57f28a844cc9abfe258e37e15270",
       "version_major": 2,
       "version_minor": 0
      },
      "text/plain": [
       "one epoch training:   0%|          | 0/705 [00:00<?, ?it/s]"
      ]
     },
     "metadata": {},
     "output_type": "display_data"
    },
    {
     "data": {
      "application/vnd.jupyter.widget-view+json": {
       "model_id": "44e37e257c174106aaf4a3b9d3a4b88c",
       "version_major": 2,
       "version_minor": 0
      },
      "text/plain": [
       "one epoch training:   0%|          | 0/705 [00:00<?, ?it/s]"
      ]
     },
     "metadata": {},
     "output_type": "display_data"
    },
    {
     "data": {
      "application/vnd.jupyter.widget-view+json": {
       "model_id": "738aa48bdff44dc08f65da7a65c7d8dd",
       "version_major": 2,
       "version_minor": 0
      },
      "text/plain": [
       "one epoch training:   0%|          | 0/705 [00:00<?, ?it/s]"
      ]
     },
     "metadata": {},
     "output_type": "display_data"
    },
    {
     "data": {
      "application/vnd.jupyter.widget-view+json": {
       "model_id": "76c6f9e57a444bc9934e338bf92482ee",
       "version_major": 2,
       "version_minor": 0
      },
      "text/plain": [
       "one epoch training:   0%|          | 0/705 [00:00<?, ?it/s]"
      ]
     },
     "metadata": {},
     "output_type": "display_data"
    },
    {
     "data": {
      "application/vnd.jupyter.widget-view+json": {
       "model_id": "164da0faf04c4c968b5064675b317d83",
       "version_major": 2,
       "version_minor": 0
      },
      "text/plain": [
       "one epoch training:   0%|          | 0/705 [00:00<?, ?it/s]"
      ]
     },
     "metadata": {},
     "output_type": "display_data"
    },
    {
     "data": {
      "application/vnd.jupyter.widget-view+json": {
       "model_id": "76048823503d49989ce139feaf9920ad",
       "version_major": 2,
       "version_minor": 0
      },
      "text/plain": [
       "one epoch training:   0%|          | 0/705 [00:00<?, ?it/s]"
      ]
     },
     "metadata": {},
     "output_type": "display_data"
    },
    {
     "data": {
      "application/vnd.jupyter.widget-view+json": {
       "model_id": "2e75f29d52a84b989c5c4121a7490031",
       "version_major": 2,
       "version_minor": 0
      },
      "text/plain": [
       "one epoch training:   0%|          | 0/705 [00:00<?, ?it/s]"
      ]
     },
     "metadata": {},
     "output_type": "display_data"
    },
    {
     "data": {
      "application/vnd.jupyter.widget-view+json": {
       "model_id": "4f8cd60bbb7142a5aec2dcbb6f602559",
       "version_major": 2,
       "version_minor": 0
      },
      "text/plain": [
       "one epoch training:   0%|          | 0/705 [00:00<?, ?it/s]"
      ]
     },
     "metadata": {},
     "output_type": "display_data"
    },
    {
     "data": {
      "application/vnd.jupyter.widget-view+json": {
       "model_id": "f535596ea0e0405cbeece027cc22a427",
       "version_major": 2,
       "version_minor": 0
      },
      "text/plain": [
       "one epoch training:   0%|          | 0/705 [00:00<?, ?it/s]"
      ]
     },
     "metadata": {},
     "output_type": "display_data"
    },
    {
     "data": {
      "application/vnd.jupyter.widget-view+json": {
       "model_id": "bd8a27cc2506485eb4a545dbf0c530de",
       "version_major": 2,
       "version_minor": 0
      },
      "text/plain": [
       "one epoch training:   0%|          | 0/705 [00:00<?, ?it/s]"
      ]
     },
     "metadata": {},
     "output_type": "display_data"
    },
    {
     "data": {
      "application/vnd.jupyter.widget-view+json": {
       "model_id": "96ac2703ee1a4135a40c3fb4f97277fe",
       "version_major": 2,
       "version_minor": 0
      },
      "text/plain": [
       "one epoch training:   0%|          | 0/705 [00:00<?, ?it/s]"
      ]
     },
     "metadata": {},
     "output_type": "display_data"
    },
    {
     "data": {
      "application/vnd.jupyter.widget-view+json": {
       "model_id": "cbcf407eee3d4599bf49c35e7b2555bc",
       "version_major": 2,
       "version_minor": 0
      },
      "text/plain": [
       "one epoch training:   0%|          | 0/705 [00:00<?, ?it/s]"
      ]
     },
     "metadata": {},
     "output_type": "display_data"
    },
    {
     "data": {
      "application/vnd.jupyter.widget-view+json": {
       "model_id": "9f525fbd3a22420a80afa9188ad9f7fc",
       "version_major": 2,
       "version_minor": 0
      },
      "text/plain": [
       "one epoch training:   0%|          | 0/705 [00:00<?, ?it/s]"
      ]
     },
     "metadata": {},
     "output_type": "display_data"
    },
    {
     "data": {
      "application/vnd.jupyter.widget-view+json": {
       "model_id": "9290512a7bbf40dcb872e90f20262255",
       "version_major": 2,
       "version_minor": 0
      },
      "text/plain": [
       "one epoch training:   0%|          | 0/705 [00:00<?, ?it/s]"
      ]
     },
     "metadata": {},
     "output_type": "display_data"
    },
    {
     "data": {
      "application/vnd.jupyter.widget-view+json": {
       "model_id": "b62e74d04d884e0d80396cf49dea5f7f",
       "version_major": 2,
       "version_minor": 0
      },
      "text/plain": [
       "one epoch training:   0%|          | 0/705 [00:00<?, ?it/s]"
      ]
     },
     "metadata": {},
     "output_type": "display_data"
    },
    {
     "data": {
      "application/vnd.jupyter.widget-view+json": {
       "model_id": "9dd562cfbf5e45c68022a9a05b2db74d",
       "version_major": 2,
       "version_minor": 0
      },
      "text/plain": [
       "one epoch training:   0%|          | 0/705 [00:00<?, ?it/s]"
      ]
     },
     "metadata": {},
     "output_type": "display_data"
    },
    {
     "data": {
      "application/vnd.jupyter.widget-view+json": {
       "model_id": "cdccc2d074e94afeaabac56e8f87eafc",
       "version_major": 2,
       "version_minor": 0
      },
      "text/plain": [
       "one epoch training:   0%|          | 0/705 [00:00<?, ?it/s]"
      ]
     },
     "metadata": {},
     "output_type": "display_data"
    },
    {
     "data": {
      "application/vnd.jupyter.widget-view+json": {
       "model_id": "6e3aab4e4f554010ba1960699ddc0b1a",
       "version_major": 2,
       "version_minor": 0
      },
      "text/plain": [
       "one epoch training:   0%|          | 0/705 [00:00<?, ?it/s]"
      ]
     },
     "metadata": {},
     "output_type": "display_data"
    },
    {
     "data": {
      "application/vnd.jupyter.widget-view+json": {
       "model_id": "9d1a90122f9f4b3487ad40ec8e508c76",
       "version_major": 2,
       "version_minor": 0
      },
      "text/plain": [
       "one epoch training:   0%|          | 0/705 [00:00<?, ?it/s]"
      ]
     },
     "metadata": {},
     "output_type": "display_data"
    },
    {
     "data": {
      "application/vnd.jupyter.widget-view+json": {
       "model_id": "55176fd93a7340fcae7e228e600aaa24",
       "version_major": 2,
       "version_minor": 0
      },
      "text/plain": [
       "one epoch training:   0%|          | 0/705 [00:00<?, ?it/s]"
      ]
     },
     "metadata": {},
     "output_type": "display_data"
    },
    {
     "data": {
      "application/vnd.jupyter.widget-view+json": {
       "model_id": "36fcf3d7531246628b2947f9ed5ffda8",
       "version_major": 2,
       "version_minor": 0
      },
      "text/plain": [
       "one epoch training:   0%|          | 0/705 [00:00<?, ?it/s]"
      ]
     },
     "metadata": {},
     "output_type": "display_data"
    },
    {
     "data": {
      "application/vnd.jupyter.widget-view+json": {
       "model_id": "1f92917345204d01bb5f0cb707e33729",
       "version_major": 2,
       "version_minor": 0
      },
      "text/plain": [
       "one epoch training:   0%|          | 0/705 [00:00<?, ?it/s]"
      ]
     },
     "metadata": {},
     "output_type": "display_data"
    },
    {
     "data": {
      "application/vnd.jupyter.widget-view+json": {
       "model_id": "fe0c367e49f4442d86a33ee42826d8ca",
       "version_major": 2,
       "version_minor": 0
      },
      "text/plain": [
       "one epoch training:   0%|          | 0/705 [00:00<?, ?it/s]"
      ]
     },
     "metadata": {},
     "output_type": "display_data"
    },
    {
     "data": {
      "application/vnd.jupyter.widget-view+json": {
       "model_id": "44ba20ab00bc4522b3ff6f58e6b773cb",
       "version_major": 2,
       "version_minor": 0
      },
      "text/plain": [
       "one epoch training:   0%|          | 0/705 [00:00<?, ?it/s]"
      ]
     },
     "metadata": {},
     "output_type": "display_data"
    },
    {
     "data": {
      "application/vnd.jupyter.widget-view+json": {
       "model_id": "6e85938986f341e49f2cd90124b622ba",
       "version_major": 2,
       "version_minor": 0
      },
      "text/plain": [
       "one epoch training:   0%|          | 0/705 [00:00<?, ?it/s]"
      ]
     },
     "metadata": {},
     "output_type": "display_data"
    },
    {
     "data": {
      "application/vnd.jupyter.widget-view+json": {
       "model_id": "f2d5bfdcb5914416a5268b87106b9940",
       "version_major": 2,
       "version_minor": 0
      },
      "text/plain": [
       "one epoch training:   0%|          | 0/705 [00:00<?, ?it/s]"
      ]
     },
     "metadata": {},
     "output_type": "display_data"
    },
    {
     "data": {
      "application/vnd.jupyter.widget-view+json": {
       "model_id": "1968dea83761470eb0ddebd09bce3df3",
       "version_major": 2,
       "version_minor": 0
      },
      "text/plain": [
       "one epoch training:   0%|          | 0/705 [00:00<?, ?it/s]"
      ]
     },
     "metadata": {},
     "output_type": "display_data"
    },
    {
     "data": {
      "application/vnd.jupyter.widget-view+json": {
       "model_id": "beed92aab99e446d9afc95ce30c827d1",
       "version_major": 2,
       "version_minor": 0
      },
      "text/plain": [
       "one epoch training:   0%|          | 0/705 [00:00<?, ?it/s]"
      ]
     },
     "metadata": {},
     "output_type": "display_data"
    },
    {
     "data": {
      "application/vnd.jupyter.widget-view+json": {
       "model_id": "816271efe079430aa85cdefb8468f0a2",
       "version_major": 2,
       "version_minor": 0
      },
      "text/plain": [
       "one epoch training:   0%|          | 0/705 [00:00<?, ?it/s]"
      ]
     },
     "metadata": {},
     "output_type": "display_data"
    },
    {
     "data": {
      "application/vnd.jupyter.widget-view+json": {
       "model_id": "95acdca53d1d4b1997405a699a0f3436",
       "version_major": 2,
       "version_minor": 0
      },
      "text/plain": [
       "one epoch training:   0%|          | 0/705 [00:00<?, ?it/s]"
      ]
     },
     "metadata": {},
     "output_type": "display_data"
    },
    {
     "data": {
      "application/vnd.jupyter.widget-view+json": {
       "model_id": "a6a990e5e8c84c04bf9c7a6a24032606",
       "version_major": 2,
       "version_minor": 0
      },
      "text/plain": [
       "one epoch training:   0%|          | 0/705 [00:00<?, ?it/s]"
      ]
     },
     "metadata": {},
     "output_type": "display_data"
    },
    {
     "data": {
      "application/vnd.jupyter.widget-view+json": {
       "model_id": "602060b29aa140c99ceac0f3603175f6",
       "version_major": 2,
       "version_minor": 0
      },
      "text/plain": [
       "one epoch training:   0%|          | 0/705 [00:00<?, ?it/s]"
      ]
     },
     "metadata": {},
     "output_type": "display_data"
    },
    {
     "data": {
      "application/vnd.jupyter.widget-view+json": {
       "model_id": "2639e438826845cfae910dcc85ac5f5c",
       "version_major": 2,
       "version_minor": 0
      },
      "text/plain": [
       "one epoch training:   0%|          | 0/705 [00:00<?, ?it/s]"
      ]
     },
     "metadata": {},
     "output_type": "display_data"
    },
    {
     "data": {
      "application/vnd.jupyter.widget-view+json": {
       "model_id": "d379da1332dd498c91b3b3391e194681",
       "version_major": 2,
       "version_minor": 0
      },
      "text/plain": [
       "one epoch training:   0%|          | 0/705 [00:00<?, ?it/s]"
      ]
     },
     "metadata": {},
     "output_type": "display_data"
    },
    {
     "data": {
      "application/vnd.jupyter.widget-view+json": {
       "model_id": "47464050531545a9b89ab09b1bf024de",
       "version_major": 2,
       "version_minor": 0
      },
      "text/plain": [
       "one epoch training:   0%|          | 0/705 [00:00<?, ?it/s]"
      ]
     },
     "metadata": {},
     "output_type": "display_data"
    },
    {
     "data": {
      "application/vnd.jupyter.widget-view+json": {
       "model_id": "153da6eaea95491082b00dac25872ac0",
       "version_major": 2,
       "version_minor": 0
      },
      "text/plain": [
       "one epoch training:   0%|          | 0/705 [00:00<?, ?it/s]"
      ]
     },
     "metadata": {},
     "output_type": "display_data"
    },
    {
     "data": {
      "application/vnd.jupyter.widget-view+json": {
       "model_id": "1e14c218377941a49bf2d305cd92bbea",
       "version_major": 2,
       "version_minor": 0
      },
      "text/plain": [
       "one epoch training:   0%|          | 0/705 [00:00<?, ?it/s]"
      ]
     },
     "metadata": {},
     "output_type": "display_data"
    },
    {
     "data": {
      "application/vnd.jupyter.widget-view+json": {
       "model_id": "3057ecfe3ac9496787daccda3b2640ba",
       "version_major": 2,
       "version_minor": 0
      },
      "text/plain": [
       "one epoch training:   0%|          | 0/705 [00:00<?, ?it/s]"
      ]
     },
     "metadata": {},
     "output_type": "display_data"
    },
    {
     "data": {
      "application/vnd.jupyter.widget-view+json": {
       "model_id": "ec18876d431449919f600665322b02f5",
       "version_major": 2,
       "version_minor": 0
      },
      "text/plain": [
       "one epoch training:   0%|          | 0/705 [00:00<?, ?it/s]"
      ]
     },
     "metadata": {},
     "output_type": "display_data"
    },
    {
     "data": {
      "application/vnd.jupyter.widget-view+json": {
       "model_id": "9d9ecc1e4ddf4a849a8ff3d428eab425",
       "version_major": 2,
       "version_minor": 0
      },
      "text/plain": [
       "one epoch training:   0%|          | 0/705 [00:00<?, ?it/s]"
      ]
     },
     "metadata": {},
     "output_type": "display_data"
    },
    {
     "data": {
      "application/vnd.jupyter.widget-view+json": {
       "model_id": "8e63012a6b824742b715da4946b41019",
       "version_major": 2,
       "version_minor": 0
      },
      "text/plain": [
       "one epoch training:   0%|          | 0/705 [00:00<?, ?it/s]"
      ]
     },
     "metadata": {},
     "output_type": "display_data"
    },
    {
     "data": {
      "application/vnd.jupyter.widget-view+json": {
       "model_id": "528966a5bed14d83809904caa4249286",
       "version_major": 2,
       "version_minor": 0
      },
      "text/plain": [
       "one epoch training:   0%|          | 0/705 [00:00<?, ?it/s]"
      ]
     },
     "metadata": {},
     "output_type": "display_data"
    },
    {
     "data": {
      "application/vnd.jupyter.widget-view+json": {
       "model_id": "0328348e884c45afa4418fc0a4bc6e4e",
       "version_major": 2,
       "version_minor": 0
      },
      "text/plain": [
       "one epoch training:   0%|          | 0/705 [00:00<?, ?it/s]"
      ]
     },
     "metadata": {},
     "output_type": "display_data"
    },
    {
     "data": {
      "application/vnd.jupyter.widget-view+json": {
       "model_id": "4b28e58a6bdc4ec0964924839d844924",
       "version_major": 2,
       "version_minor": 0
      },
      "text/plain": [
       "one epoch training:   0%|          | 0/705 [00:00<?, ?it/s]"
      ]
     },
     "metadata": {},
     "output_type": "display_data"
    },
    {
     "data": {
      "application/vnd.jupyter.widget-view+json": {
       "model_id": "9c5847b9525f466497ff55f82da6f0c8",
       "version_major": 2,
       "version_minor": 0
      },
      "text/plain": [
       "one epoch training:   0%|          | 0/705 [00:00<?, ?it/s]"
      ]
     },
     "metadata": {},
     "output_type": "display_data"
    },
    {
     "data": {
      "application/vnd.jupyter.widget-view+json": {
       "model_id": "95b281a6f9f54a95b656dd57a5bb3a8d",
       "version_major": 2,
       "version_minor": 0
      },
      "text/plain": [
       "one epoch training:   0%|          | 0/705 [00:00<?, ?it/s]"
      ]
     },
     "metadata": {},
     "output_type": "display_data"
    },
    {
     "data": {
      "application/vnd.jupyter.widget-view+json": {
       "model_id": "25a060ca862a4b008654e8491f222095",
       "version_major": 2,
       "version_minor": 0
      },
      "text/plain": [
       "one epoch training:   0%|          | 0/705 [00:00<?, ?it/s]"
      ]
     },
     "metadata": {},
     "output_type": "display_data"
    },
    {
     "data": {
      "application/vnd.jupyter.widget-view+json": {
       "model_id": "a742ca607bd24918a052cd159e9e7f62",
       "version_major": 2,
       "version_minor": 0
      },
      "text/plain": [
       "one epoch training:   0%|          | 0/705 [00:00<?, ?it/s]"
      ]
     },
     "metadata": {},
     "output_type": "display_data"
    },
    {
     "data": {
      "application/vnd.jupyter.widget-view+json": {
       "model_id": "6dd4d1e8bbf14656a3954f7e623ddab0",
       "version_major": 2,
       "version_minor": 0
      },
      "text/plain": [
       "one epoch training:   0%|          | 0/705 [00:00<?, ?it/s]"
      ]
     },
     "metadata": {},
     "output_type": "display_data"
    },
    {
     "data": {
      "application/vnd.jupyter.widget-view+json": {
       "model_id": "318582a9c04a400cbeb7312d8d1ea061",
       "version_major": 2,
       "version_minor": 0
      },
      "text/plain": [
       "one epoch training:   0%|          | 0/705 [00:00<?, ?it/s]"
      ]
     },
     "metadata": {},
     "output_type": "display_data"
    },
    {
     "data": {
      "application/vnd.jupyter.widget-view+json": {
       "model_id": "8628d46df1b04906a0fc0c207866606e",
       "version_major": 2,
       "version_minor": 0
      },
      "text/plain": [
       "one epoch training:   0%|          | 0/705 [00:00<?, ?it/s]"
      ]
     },
     "metadata": {},
     "output_type": "display_data"
    },
    {
     "data": {
      "application/vnd.jupyter.widget-view+json": {
       "model_id": "2f1d125af07b45d3ba7b6fb5a9a9364a",
       "version_major": 2,
       "version_minor": 0
      },
      "text/plain": [
       "one epoch training:   0%|          | 0/705 [00:00<?, ?it/s]"
      ]
     },
     "metadata": {},
     "output_type": "display_data"
    },
    {
     "data": {
      "application/vnd.jupyter.widget-view+json": {
       "model_id": "b4a21186fd35436389c964ec03cd9abe",
       "version_major": 2,
       "version_minor": 0
      },
      "text/plain": [
       "one epoch training:   0%|          | 0/705 [00:00<?, ?it/s]"
      ]
     },
     "metadata": {},
     "output_type": "display_data"
    },
    {
     "data": {
      "application/vnd.jupyter.widget-view+json": {
       "model_id": "43ef7ce1141841faba92f833fb492686",
       "version_major": 2,
       "version_minor": 0
      },
      "text/plain": [
       "one epoch training:   0%|          | 0/705 [00:00<?, ?it/s]"
      ]
     },
     "metadata": {},
     "output_type": "display_data"
    },
    {
     "data": {
      "application/vnd.jupyter.widget-view+json": {
       "model_id": "bccc36c8c3ef4e6f95a684cd15440151",
       "version_major": 2,
       "version_minor": 0
      },
      "text/plain": [
       "one epoch training:   0%|          | 0/705 [00:00<?, ?it/s]"
      ]
     },
     "metadata": {},
     "output_type": "display_data"
    },
    {
     "data": {
      "application/vnd.jupyter.widget-view+json": {
       "model_id": "ceb409564e0e4eadb6f05d7df60fb028",
       "version_major": 2,
       "version_minor": 0
      },
      "text/plain": [
       "one epoch training:   0%|          | 0/705 [00:00<?, ?it/s]"
      ]
     },
     "metadata": {},
     "output_type": "display_data"
    },
    {
     "data": {
      "application/vnd.jupyter.widget-view+json": {
       "model_id": "e754bac66bab40f4add64ce42e60686a",
       "version_major": 2,
       "version_minor": 0
      },
      "text/plain": [
       "one epoch training:   0%|          | 0/705 [00:00<?, ?it/s]"
      ]
     },
     "metadata": {},
     "output_type": "display_data"
    },
    {
     "data": {
      "application/vnd.jupyter.widget-view+json": {
       "model_id": "36911874548e4026b909f841cc6608cb",
       "version_major": 2,
       "version_minor": 0
      },
      "text/plain": [
       "one epoch training:   0%|          | 0/705 [00:00<?, ?it/s]"
      ]
     },
     "metadata": {},
     "output_type": "display_data"
    },
    {
     "data": {
      "application/vnd.jupyter.widget-view+json": {
       "model_id": "ac8050137cd54ecfa153bd36214f36eb",
       "version_major": 2,
       "version_minor": 0
      },
      "text/plain": [
       "one epoch training:   0%|          | 0/705 [00:00<?, ?it/s]"
      ]
     },
     "metadata": {},
     "output_type": "display_data"
    },
    {
     "data": {
      "application/vnd.jupyter.widget-view+json": {
       "model_id": "b6d6a0da1da74de0a0890a1a36e66749",
       "version_major": 2,
       "version_minor": 0
      },
      "text/plain": [
       "one epoch training:   0%|          | 0/705 [00:00<?, ?it/s]"
      ]
     },
     "metadata": {},
     "output_type": "display_data"
    },
    {
     "data": {
      "application/vnd.jupyter.widget-view+json": {
       "model_id": "f01b34d24e354a46a63bc41024b68199",
       "version_major": 2,
       "version_minor": 0
      },
      "text/plain": [
       "one epoch training:   0%|          | 0/705 [00:00<?, ?it/s]"
      ]
     },
     "metadata": {},
     "output_type": "display_data"
    },
    {
     "data": {
      "application/vnd.jupyter.widget-view+json": {
       "model_id": "348e93131c1f48acb93958e305aaefa4",
       "version_major": 2,
       "version_minor": 0
      },
      "text/plain": [
       "one epoch training:   0%|          | 0/705 [00:00<?, ?it/s]"
      ]
     },
     "metadata": {},
     "output_type": "display_data"
    },
    {
     "data": {
      "application/vnd.jupyter.widget-view+json": {
       "model_id": "bbf7bb98fb4b41d89a4399161907e189",
       "version_major": 2,
       "version_minor": 0
      },
      "text/plain": [
       "one epoch training:   0%|          | 0/705 [00:00<?, ?it/s]"
      ]
     },
     "metadata": {},
     "output_type": "display_data"
    },
    {
     "data": {
      "application/vnd.jupyter.widget-view+json": {
       "model_id": "52759fc81aad45dc82da0007e2b0dc93",
       "version_major": 2,
       "version_minor": 0
      },
      "text/plain": [
       "one epoch training:   0%|          | 0/705 [00:00<?, ?it/s]"
      ]
     },
     "metadata": {},
     "output_type": "display_data"
    },
    {
     "data": {
      "application/vnd.jupyter.widget-view+json": {
       "model_id": "af682790b3734792a3170b5cfc6470f5",
       "version_major": 2,
       "version_minor": 0
      },
      "text/plain": [
       "one epoch training:   0%|          | 0/705 [00:00<?, ?it/s]"
      ]
     },
     "metadata": {},
     "output_type": "display_data"
    },
    {
     "data": {
      "application/vnd.jupyter.widget-view+json": {
       "model_id": "17beb67c4faf45a8829c4c503c28a2f6",
       "version_major": 2,
       "version_minor": 0
      },
      "text/plain": [
       "one epoch training:   0%|          | 0/705 [00:00<?, ?it/s]"
      ]
     },
     "metadata": {},
     "output_type": "display_data"
    },
    {
     "data": {
      "application/vnd.jupyter.widget-view+json": {
       "model_id": "2557be5881c247bdaea7e8c347334608",
       "version_major": 2,
       "version_minor": 0
      },
      "text/plain": [
       "one epoch training:   0%|          | 0/705 [00:00<?, ?it/s]"
      ]
     },
     "metadata": {},
     "output_type": "display_data"
    },
    {
     "data": {
      "application/vnd.jupyter.widget-view+json": {
       "model_id": "fcd8e2168ac543808cefdf188c43cc4d",
       "version_major": 2,
       "version_minor": 0
      },
      "text/plain": [
       "one epoch training:   0%|          | 0/705 [00:00<?, ?it/s]"
      ]
     },
     "metadata": {},
     "output_type": "display_data"
    },
    {
     "data": {
      "application/vnd.jupyter.widget-view+json": {
       "model_id": "2522af384f0643efb58b3ae05d6e7f66",
       "version_major": 2,
       "version_minor": 0
      },
      "text/plain": [
       "one epoch training:   0%|          | 0/705 [00:00<?, ?it/s]"
      ]
     },
     "metadata": {},
     "output_type": "display_data"
    },
    {
     "data": {
      "application/vnd.jupyter.widget-view+json": {
       "model_id": "09556ce9314346a3a28ded67aa90eb40",
       "version_major": 2,
       "version_minor": 0
      },
      "text/plain": [
       "one epoch training:   0%|          | 0/705 [00:00<?, ?it/s]"
      ]
     },
     "metadata": {},
     "output_type": "display_data"
    },
    {
     "data": {
      "application/vnd.jupyter.widget-view+json": {
       "model_id": "90c8d56ad10e43d8b3869de13fe95071",
       "version_major": 2,
       "version_minor": 0
      },
      "text/plain": [
       "one epoch training:   0%|          | 0/705 [00:00<?, ?it/s]"
      ]
     },
     "metadata": {},
     "output_type": "display_data"
    },
    {
     "data": {
      "application/vnd.jupyter.widget-view+json": {
       "model_id": "15d90701282846e2826fca28974b78a8",
       "version_major": 2,
       "version_minor": 0
      },
      "text/plain": [
       "one epoch training:   0%|          | 0/705 [00:00<?, ?it/s]"
      ]
     },
     "metadata": {},
     "output_type": "display_data"
    },
    {
     "data": {
      "application/vnd.jupyter.widget-view+json": {
       "model_id": "98ecbdb596104ec2a3ede630eae9953e",
       "version_major": 2,
       "version_minor": 0
      },
      "text/plain": [
       "one epoch training:   0%|          | 0/705 [00:00<?, ?it/s]"
      ]
     },
     "metadata": {},
     "output_type": "display_data"
    },
    {
     "data": {
      "application/vnd.jupyter.widget-view+json": {
       "model_id": "4c063fae74b84b62bf8563e78071f887",
       "version_major": 2,
       "version_minor": 0
      },
      "text/plain": [
       "one epoch training:   0%|          | 0/705 [00:00<?, ?it/s]"
      ]
     },
     "metadata": {},
     "output_type": "display_data"
    },
    {
     "data": {
      "application/vnd.jupyter.widget-view+json": {
       "model_id": "3b86891844b74789854b6f346a55d6c6",
       "version_major": 2,
       "version_minor": 0
      },
      "text/plain": [
       "one epoch training:   0%|          | 0/705 [00:00<?, ?it/s]"
      ]
     },
     "metadata": {},
     "output_type": "display_data"
    },
    {
     "data": {
      "application/vnd.jupyter.widget-view+json": {
       "model_id": "0cea724d308041639e27b18f0cd341fd",
       "version_major": 2,
       "version_minor": 0
      },
      "text/plain": [
       "one epoch training:   0%|          | 0/705 [00:00<?, ?it/s]"
      ]
     },
     "metadata": {},
     "output_type": "display_data"
    },
    {
     "data": {
      "application/vnd.jupyter.widget-view+json": {
       "model_id": "baa6539ccb8c40d49de2f9aee0a84970",
       "version_major": 2,
       "version_minor": 0
      },
      "text/plain": [
       "one epoch training:   0%|          | 0/705 [00:00<?, ?it/s]"
      ]
     },
     "metadata": {},
     "output_type": "display_data"
    },
    {
     "data": {
      "application/vnd.jupyter.widget-view+json": {
       "model_id": "f774a5d251d54db995b512238d153c40",
       "version_major": 2,
       "version_minor": 0
      },
      "text/plain": [
       "one epoch training:   0%|          | 0/705 [00:00<?, ?it/s]"
      ]
     },
     "metadata": {},
     "output_type": "display_data"
    },
    {
     "data": {
      "application/vnd.jupyter.widget-view+json": {
       "model_id": "a7bf2c4453814f03b47b5e9401c038cb",
       "version_major": 2,
       "version_minor": 0
      },
      "text/plain": [
       "one epoch training:   0%|          | 0/705 [00:00<?, ?it/s]"
      ]
     },
     "metadata": {},
     "output_type": "display_data"
    },
    {
     "data": {
      "application/vnd.jupyter.widget-view+json": {
       "model_id": "6f8a070aeab74f3ab0235602f19f85cf",
       "version_major": 2,
       "version_minor": 0
      },
      "text/plain": [
       "one epoch training:   0%|          | 0/705 [00:00<?, ?it/s]"
      ]
     },
     "metadata": {},
     "output_type": "display_data"
    },
    {
     "data": {
      "application/vnd.jupyter.widget-view+json": {
       "model_id": "e854e59e10b441f5a57aefe8bbdb5880",
       "version_major": 2,
       "version_minor": 0
      },
      "text/plain": [
       "one epoch training:   0%|          | 0/705 [00:00<?, ?it/s]"
      ]
     },
     "metadata": {},
     "output_type": "display_data"
    },
    {
     "data": {
      "application/vnd.jupyter.widget-view+json": {
       "model_id": "269eaee1a43e49baac25cff37f9f7053",
       "version_major": 2,
       "version_minor": 0
      },
      "text/plain": [
       "one epoch training:   0%|          | 0/705 [00:00<?, ?it/s]"
      ]
     },
     "metadata": {},
     "output_type": "display_data"
    },
    {
     "data": {
      "application/vnd.jupyter.widget-view+json": {
       "model_id": "5cee54c20ded4748bf378f4f0b924ade",
       "version_major": 2,
       "version_minor": 0
      },
      "text/plain": [
       "one epoch training:   0%|          | 0/705 [00:00<?, ?it/s]"
      ]
     },
     "metadata": {},
     "output_type": "display_data"
    },
    {
     "data": {
      "application/vnd.jupyter.widget-view+json": {
       "model_id": "56f1d0cd05ae431ca3c269f63f33999c",
       "version_major": 2,
       "version_minor": 0
      },
      "text/plain": [
       "one epoch training:   0%|          | 0/705 [00:00<?, ?it/s]"
      ]
     },
     "metadata": {},
     "output_type": "display_data"
    },
    {
     "data": {
      "application/vnd.jupyter.widget-view+json": {
       "model_id": "df55758ea1a74def909d979e09e57fd9",
       "version_major": 2,
       "version_minor": 0
      },
      "text/plain": [
       "one epoch training:   0%|          | 0/705 [00:00<?, ?it/s]"
      ]
     },
     "metadata": {},
     "output_type": "display_data"
    },
    {
     "data": {
      "application/vnd.jupyter.widget-view+json": {
       "model_id": "b363a3f49a7d4f0d935b99bfe390f4a0",
       "version_major": 2,
       "version_minor": 0
      },
      "text/plain": [
       "one epoch training:   0%|          | 0/705 [00:00<?, ?it/s]"
      ]
     },
     "metadata": {},
     "output_type": "display_data"
    },
    {
     "data": {
      "application/vnd.jupyter.widget-view+json": {
       "model_id": "df28abb24d524091977718cd04fa6b21",
       "version_major": 2,
       "version_minor": 0
      },
      "text/plain": [
       "one epoch training:   0%|          | 0/705 [00:00<?, ?it/s]"
      ]
     },
     "metadata": {},
     "output_type": "display_data"
    },
    {
     "data": {
      "application/vnd.jupyter.widget-view+json": {
       "model_id": "ffc11ddaccb1479489038820aa4d8116",
       "version_major": 2,
       "version_minor": 0
      },
      "text/plain": [
       "one epoch training:   0%|          | 0/705 [00:00<?, ?it/s]"
      ]
     },
     "metadata": {},
     "output_type": "display_data"
    },
    {
     "data": {
      "application/vnd.jupyter.widget-view+json": {
       "model_id": "66f4d0679ad04a6c9dffca289529b523",
       "version_major": 2,
       "version_minor": 0
      },
      "text/plain": [
       "one epoch training:   0%|          | 0/705 [00:00<?, ?it/s]"
      ]
     },
     "metadata": {},
     "output_type": "display_data"
    },
    {
     "data": {
      "application/vnd.jupyter.widget-view+json": {
       "model_id": "757ac744b378437bbdabdce90af81c31",
       "version_major": 2,
       "version_minor": 0
      },
      "text/plain": [
       "one epoch training:   0%|          | 0/705 [00:00<?, ?it/s]"
      ]
     },
     "metadata": {},
     "output_type": "display_data"
    },
    {
     "data": {
      "application/vnd.jupyter.widget-view+json": {
       "model_id": "de9505ec6d974d259d0b896ab191d22c",
       "version_major": 2,
       "version_minor": 0
      },
      "text/plain": [
       "one epoch training:   0%|          | 0/705 [00:00<?, ?it/s]"
      ]
     },
     "metadata": {},
     "output_type": "display_data"
    },
    {
     "data": {
      "application/vnd.jupyter.widget-view+json": {
       "model_id": "560fa728943f4cf5a8f2c56ed2f6466b",
       "version_major": 2,
       "version_minor": 0
      },
      "text/plain": [
       "one epoch training:   0%|          | 0/705 [00:00<?, ?it/s]"
      ]
     },
     "metadata": {},
     "output_type": "display_data"
    },
    {
     "data": {
      "application/vnd.jupyter.widget-view+json": {
       "model_id": "d7ed0b5739f44ce6bfa96ffc04e8c5d7",
       "version_major": 2,
       "version_minor": 0
      },
      "text/plain": [
       "one epoch training:   0%|          | 0/705 [00:00<?, ?it/s]"
      ]
     },
     "metadata": {},
     "output_type": "display_data"
    },
    {
     "data": {
      "application/vnd.jupyter.widget-view+json": {
       "model_id": "afb8b0fe940e4d19a9663a81c6589fbd",
       "version_major": 2,
       "version_minor": 0
      },
      "text/plain": [
       "one epoch training:   0%|          | 0/705 [00:00<?, ?it/s]"
      ]
     },
     "metadata": {},
     "output_type": "display_data"
    },
    {
     "data": {
      "application/vnd.jupyter.widget-view+json": {
       "model_id": "d2bbd93e96ce43c0ac392de65a2434cf",
       "version_major": 2,
       "version_minor": 0
      },
      "text/plain": [
       "one epoch training:   0%|          | 0/705 [00:00<?, ?it/s]"
      ]
     },
     "metadata": {},
     "output_type": "display_data"
    },
    {
     "data": {
      "application/vnd.jupyter.widget-view+json": {
       "model_id": "75d45065177646949fdcc03b74acc28b",
       "version_major": 2,
       "version_minor": 0
      },
      "text/plain": [
       "one epoch training:   0%|          | 0/705 [00:00<?, ?it/s]"
      ]
     },
     "metadata": {},
     "output_type": "display_data"
    },
    {
     "data": {
      "application/vnd.jupyter.widget-view+json": {
       "model_id": "80efe69f51724d32be2720d15828f531",
       "version_major": 2,
       "version_minor": 0
      },
      "text/plain": [
       "one epoch training:   0%|          | 0/705 [00:00<?, ?it/s]"
      ]
     },
     "metadata": {},
     "output_type": "display_data"
    },
    {
     "data": {
      "application/vnd.jupyter.widget-view+json": {
       "model_id": "ec9e8df3d7b543aebc642c032858c70e",
       "version_major": 2,
       "version_minor": 0
      },
      "text/plain": [
       "one epoch training:   0%|          | 0/705 [00:00<?, ?it/s]"
      ]
     },
     "metadata": {},
     "output_type": "display_data"
    },
    {
     "data": {
      "application/vnd.jupyter.widget-view+json": {
       "model_id": "d048ff197dee466989213f44202f8eba",
       "version_major": 2,
       "version_minor": 0
      },
      "text/plain": [
       "one epoch training:   0%|          | 0/705 [00:00<?, ?it/s]"
      ]
     },
     "metadata": {},
     "output_type": "display_data"
    },
    {
     "data": {
      "application/vnd.jupyter.widget-view+json": {
       "model_id": "163f4f51670c41e9b92fb5a566d9ff45",
       "version_major": 2,
       "version_minor": 0
      },
      "text/plain": [
       "one epoch training:   0%|          | 0/705 [00:00<?, ?it/s]"
      ]
     },
     "metadata": {},
     "output_type": "display_data"
    },
    {
     "data": {
      "application/vnd.jupyter.widget-view+json": {
       "model_id": "7cdb262eaa8c4650874efe05d5e5b7fe",
       "version_major": 2,
       "version_minor": 0
      },
      "text/plain": [
       "one epoch training:   0%|          | 0/705 [00:00<?, ?it/s]"
      ]
     },
     "metadata": {},
     "output_type": "display_data"
    },
    {
     "data": {
      "application/vnd.jupyter.widget-view+json": {
       "model_id": "efca6cae9df64ddea2a6722aa198bff6",
       "version_major": 2,
       "version_minor": 0
      },
      "text/plain": [
       "one epoch training:   0%|          | 0/705 [00:00<?, ?it/s]"
      ]
     },
     "metadata": {},
     "output_type": "display_data"
    },
    {
     "data": {
      "application/vnd.jupyter.widget-view+json": {
       "model_id": "462211a809d04ebd84a0b83b840a4aae",
       "version_major": 2,
       "version_minor": 0
      },
      "text/plain": [
       "one epoch training:   0%|          | 0/705 [00:00<?, ?it/s]"
      ]
     },
     "metadata": {},
     "output_type": "display_data"
    },
    {
     "data": {
      "application/vnd.jupyter.widget-view+json": {
       "model_id": "f7b8eaca0b1e42faa59962a7531d04a2",
       "version_major": 2,
       "version_minor": 0
      },
      "text/plain": [
       "one epoch training:   0%|          | 0/705 [00:00<?, ?it/s]"
      ]
     },
     "metadata": {},
     "output_type": "display_data"
    },
    {
     "data": {
      "application/vnd.jupyter.widget-view+json": {
       "model_id": "ef5d1d6eafb448c19d4b0143f40f7e7a",
       "version_major": 2,
       "version_minor": 0
      },
      "text/plain": [
       "one epoch training:   0%|          | 0/705 [00:00<?, ?it/s]"
      ]
     },
     "metadata": {},
     "output_type": "display_data"
    },
    {
     "data": {
      "application/vnd.jupyter.widget-view+json": {
       "model_id": "e9ac14313042492dbe1d34de28d642e8",
       "version_major": 2,
       "version_minor": 0
      },
      "text/plain": [
       "one epoch training:   0%|          | 0/705 [00:00<?, ?it/s]"
      ]
     },
     "metadata": {},
     "output_type": "display_data"
    },
    {
     "data": {
      "application/vnd.jupyter.widget-view+json": {
       "model_id": "cbcda0a35bec4375a90950948c27622e",
       "version_major": 2,
       "version_minor": 0
      },
      "text/plain": [
       "one epoch training:   0%|          | 0/705 [00:00<?, ?it/s]"
      ]
     },
     "metadata": {},
     "output_type": "display_data"
    },
    {
     "data": {
      "application/vnd.jupyter.widget-view+json": {
       "model_id": "6298b98094fc4a178ddbcfdc93d4ecfb",
       "version_major": 2,
       "version_minor": 0
      },
      "text/plain": [
       "one epoch training:   0%|          | 0/705 [00:00<?, ?it/s]"
      ]
     },
     "metadata": {},
     "output_type": "display_data"
    },
    {
     "data": {
      "application/vnd.jupyter.widget-view+json": {
       "model_id": "bc0a033fe026423d87a8a04055d1f898",
       "version_major": 2,
       "version_minor": 0
      },
      "text/plain": [
       "one epoch training:   0%|          | 0/705 [00:00<?, ?it/s]"
      ]
     },
     "metadata": {},
     "output_type": "display_data"
    },
    {
     "data": {
      "application/vnd.jupyter.widget-view+json": {
       "model_id": "6bf5058329f948da9d9a9833c5e2cfa4",
       "version_major": 2,
       "version_minor": 0
      },
      "text/plain": [
       "one epoch training:   0%|          | 0/705 [00:00<?, ?it/s]"
      ]
     },
     "metadata": {},
     "output_type": "display_data"
    },
    {
     "data": {
      "application/vnd.jupyter.widget-view+json": {
       "model_id": "d177d6b3c2994d43996b2aad7d172c04",
       "version_major": 2,
       "version_minor": 0
      },
      "text/plain": [
       "one epoch training:   0%|          | 0/705 [00:00<?, ?it/s]"
      ]
     },
     "metadata": {},
     "output_type": "display_data"
    },
    {
     "data": {
      "application/vnd.jupyter.widget-view+json": {
       "model_id": "0370aee0f84f44938b9e9bacc06c96bb",
       "version_major": 2,
       "version_minor": 0
      },
      "text/plain": [
       "one epoch training:   0%|          | 0/705 [00:00<?, ?it/s]"
      ]
     },
     "metadata": {},
     "output_type": "display_data"
    },
    {
     "data": {
      "application/vnd.jupyter.widget-view+json": {
       "model_id": "ed3c583ad3944fc4915cd2816fd853c8",
       "version_major": 2,
       "version_minor": 0
      },
      "text/plain": [
       "one epoch training:   0%|          | 0/705 [00:00<?, ?it/s]"
      ]
     },
     "metadata": {},
     "output_type": "display_data"
    },
    {
     "data": {
      "application/vnd.jupyter.widget-view+json": {
       "model_id": "908943a0923843d4ae9ffe0db828d5d2",
       "version_major": 2,
       "version_minor": 0
      },
      "text/plain": [
       "one epoch training:   0%|          | 0/705 [00:00<?, ?it/s]"
      ]
     },
     "metadata": {},
     "output_type": "display_data"
    },
    {
     "data": {
      "application/vnd.jupyter.widget-view+json": {
       "model_id": "c7983ed713114f5e9124714f9a77c998",
       "version_major": 2,
       "version_minor": 0
      },
      "text/plain": [
       "one epoch training:   0%|          | 0/705 [00:00<?, ?it/s]"
      ]
     },
     "metadata": {},
     "output_type": "display_data"
    },
    {
     "data": {
      "application/vnd.jupyter.widget-view+json": {
       "model_id": "4a3f7af50327408daaf4b48e2242aa0d",
       "version_major": 2,
       "version_minor": 0
      },
      "text/plain": [
       "one epoch training:   0%|          | 0/705 [00:00<?, ?it/s]"
      ]
     },
     "metadata": {},
     "output_type": "display_data"
    },
    {
     "data": {
      "application/vnd.jupyter.widget-view+json": {
       "model_id": "9c79ed02352c414ab95e0f220b74b93c",
       "version_major": 2,
       "version_minor": 0
      },
      "text/plain": [
       "one epoch training:   0%|          | 0/705 [00:00<?, ?it/s]"
      ]
     },
     "metadata": {},
     "output_type": "display_data"
    },
    {
     "data": {
      "application/vnd.jupyter.widget-view+json": {
       "model_id": "65844d62f53e46039ba4c6e8b5fec710",
       "version_major": 2,
       "version_minor": 0
      },
      "text/plain": [
       "one epoch training:   0%|          | 0/705 [00:00<?, ?it/s]"
      ]
     },
     "metadata": {},
     "output_type": "display_data"
    },
    {
     "data": {
      "application/vnd.jupyter.widget-view+json": {
       "model_id": "c9eb27646c7d451f917afd96685622da",
       "version_major": 2,
       "version_minor": 0
      },
      "text/plain": [
       "one epoch training:   0%|          | 0/705 [00:00<?, ?it/s]"
      ]
     },
     "metadata": {},
     "output_type": "display_data"
    },
    {
     "data": {
      "application/vnd.jupyter.widget-view+json": {
       "model_id": "044fe1a9a3b24674902a7c7565514efc",
       "version_major": 2,
       "version_minor": 0
      },
      "text/plain": [
       "one epoch training:   0%|          | 0/705 [00:00<?, ?it/s]"
      ]
     },
     "metadata": {},
     "output_type": "display_data"
    },
    {
     "data": {
      "application/vnd.jupyter.widget-view+json": {
       "model_id": "78e1bb8c768a4898a6c5dc5855a3036d",
       "version_major": 2,
       "version_minor": 0
      },
      "text/plain": [
       "one epoch training:   0%|          | 0/705 [00:00<?, ?it/s]"
      ]
     },
     "metadata": {},
     "output_type": "display_data"
    },
    {
     "data": {
      "application/vnd.jupyter.widget-view+json": {
       "model_id": "dbee8084cbb64b2f9d82551879edfe18",
       "version_major": 2,
       "version_minor": 0
      },
      "text/plain": [
       "one epoch training:   0%|          | 0/705 [00:00<?, ?it/s]"
      ]
     },
     "metadata": {},
     "output_type": "display_data"
    },
    {
     "data": {
      "application/vnd.jupyter.widget-view+json": {
       "model_id": "a2dadff0a8d04af3a9b105611dfd0553",
       "version_major": 2,
       "version_minor": 0
      },
      "text/plain": [
       "one epoch training:   0%|          | 0/705 [00:00<?, ?it/s]"
      ]
     },
     "metadata": {},
     "output_type": "display_data"
    },
    {
     "data": {
      "application/vnd.jupyter.widget-view+json": {
       "model_id": "a2353f1fe6dc4f95a0d38572069aa6e0",
       "version_major": 2,
       "version_minor": 0
      },
      "text/plain": [
       "one epoch training:   0%|          | 0/705 [00:00<?, ?it/s]"
      ]
     },
     "metadata": {},
     "output_type": "display_data"
    },
    {
     "data": {
      "application/vnd.jupyter.widget-view+json": {
       "model_id": "496376db25854965a2f6f15cb109fc18",
       "version_major": 2,
       "version_minor": 0
      },
      "text/plain": [
       "one epoch training:   0%|          | 0/705 [00:00<?, ?it/s]"
      ]
     },
     "metadata": {},
     "output_type": "display_data"
    },
    {
     "data": {
      "application/vnd.jupyter.widget-view+json": {
       "model_id": "39530dd32827434880cdf200e23c1f35",
       "version_major": 2,
       "version_minor": 0
      },
      "text/plain": [
       "one epoch training:   0%|          | 0/705 [00:00<?, ?it/s]"
      ]
     },
     "metadata": {},
     "output_type": "display_data"
    },
    {
     "data": {
      "application/vnd.jupyter.widget-view+json": {
       "model_id": "c8ddbf6db2f743609b4a0ac03824d5eb",
       "version_major": 2,
       "version_minor": 0
      },
      "text/plain": [
       "one epoch training:   0%|          | 0/705 [00:00<?, ?it/s]"
      ]
     },
     "metadata": {},
     "output_type": "display_data"
    },
    {
     "data": {
      "application/vnd.jupyter.widget-view+json": {
       "model_id": "1b97522fbd7a4c6f9ae5e12651ea3c6f",
       "version_major": 2,
       "version_minor": 0
      },
      "text/plain": [
       "one epoch training:   0%|          | 0/705 [00:00<?, ?it/s]"
      ]
     },
     "metadata": {},
     "output_type": "display_data"
    },
    {
     "data": {
      "application/vnd.jupyter.widget-view+json": {
       "model_id": "842b512680854e019abf8c422401aeb5",
       "version_major": 2,
       "version_minor": 0
      },
      "text/plain": [
       "one epoch training:   0%|          | 0/705 [00:00<?, ?it/s]"
      ]
     },
     "metadata": {},
     "output_type": "display_data"
    },
    {
     "data": {
      "application/vnd.jupyter.widget-view+json": {
       "model_id": "8b826838dea64301b50bd67108c78de2",
       "version_major": 2,
       "version_minor": 0
      },
      "text/plain": [
       "one epoch training:   0%|          | 0/705 [00:00<?, ?it/s]"
      ]
     },
     "metadata": {},
     "output_type": "display_data"
    },
    {
     "data": {
      "application/vnd.jupyter.widget-view+json": {
       "model_id": "329bc6172d7f473884c04484b7c77321",
       "version_major": 2,
       "version_minor": 0
      },
      "text/plain": [
       "one epoch training:   0%|          | 0/705 [00:00<?, ?it/s]"
      ]
     },
     "metadata": {},
     "output_type": "display_data"
    },
    {
     "data": {
      "application/vnd.jupyter.widget-view+json": {
       "model_id": "69ad6e16d74e46b0a06c05e2c6bc1f25",
       "version_major": 2,
       "version_minor": 0
      },
      "text/plain": [
       "one epoch training:   0%|          | 0/705 [00:00<?, ?it/s]"
      ]
     },
     "metadata": {},
     "output_type": "display_data"
    },
    {
     "data": {
      "application/vnd.jupyter.widget-view+json": {
       "model_id": "da141f2d5a734c8f8e3744cee67d98cc",
       "version_major": 2,
       "version_minor": 0
      },
      "text/plain": [
       "one epoch training:   0%|          | 0/705 [00:00<?, ?it/s]"
      ]
     },
     "metadata": {},
     "output_type": "display_data"
    },
    {
     "data": {
      "application/vnd.jupyter.widget-view+json": {
       "model_id": "887ad2bd5f0d42a99b15a21ad3a32476",
       "version_major": 2,
       "version_minor": 0
      },
      "text/plain": [
       "one epoch training:   0%|          | 0/705 [00:00<?, ?it/s]"
      ]
     },
     "metadata": {},
     "output_type": "display_data"
    },
    {
     "data": {
      "application/vnd.jupyter.widget-view+json": {
       "model_id": "2c7f80d2715946a9b37df8e2013ab978",
       "version_major": 2,
       "version_minor": 0
      },
      "text/plain": [
       "one epoch training:   0%|          | 0/705 [00:00<?, ?it/s]"
      ]
     },
     "metadata": {},
     "output_type": "display_data"
    },
    {
     "data": {
      "application/vnd.jupyter.widget-view+json": {
       "model_id": "86da1dcfbf264d31820e8479464bd856",
       "version_major": 2,
       "version_minor": 0
      },
      "text/plain": [
       "one epoch training:   0%|          | 0/705 [00:00<?, ?it/s]"
      ]
     },
     "metadata": {},
     "output_type": "display_data"
    },
    {
     "data": {
      "application/vnd.jupyter.widget-view+json": {
       "model_id": "65d71d8b74d3429d867217fe96b146e2",
       "version_major": 2,
       "version_minor": 0
      },
      "text/plain": [
       "one epoch training:   0%|          | 0/705 [00:00<?, ?it/s]"
      ]
     },
     "metadata": {},
     "output_type": "display_data"
    },
    {
     "data": {
      "application/vnd.jupyter.widget-view+json": {
       "model_id": "34e3b667f626449e81ae70fc4b5a1222",
       "version_major": 2,
       "version_minor": 0
      },
      "text/plain": [
       "one epoch training:   0%|          | 0/705 [00:00<?, ?it/s]"
      ]
     },
     "metadata": {},
     "output_type": "display_data"
    },
    {
     "data": {
      "application/vnd.jupyter.widget-view+json": {
       "model_id": "be82256022664262a5a9df3fb8d16f56",
       "version_major": 2,
       "version_minor": 0
      },
      "text/plain": [
       "one epoch training:   0%|          | 0/705 [00:00<?, ?it/s]"
      ]
     },
     "metadata": {},
     "output_type": "display_data"
    },
    {
     "data": {
      "application/vnd.jupyter.widget-view+json": {
       "model_id": "f63fa4c44b6c4d82a77b5c46dfdf04e1",
       "version_major": 2,
       "version_minor": 0
      },
      "text/plain": [
       "one epoch training:   0%|          | 0/705 [00:00<?, ?it/s]"
      ]
     },
     "metadata": {},
     "output_type": "display_data"
    },
    {
     "data": {
      "application/vnd.jupyter.widget-view+json": {
       "model_id": "0238ba03f3fc487cbce22f0e29e217df",
       "version_major": 2,
       "version_minor": 0
      },
      "text/plain": [
       "one epoch training:   0%|          | 0/705 [00:00<?, ?it/s]"
      ]
     },
     "metadata": {},
     "output_type": "display_data"
    },
    {
     "data": {
      "application/vnd.jupyter.widget-view+json": {
       "model_id": "e813cd1467f349de8c31d3d91b918e78",
       "version_major": 2,
       "version_minor": 0
      },
      "text/plain": [
       "one epoch training:   0%|          | 0/705 [00:00<?, ?it/s]"
      ]
     },
     "metadata": {},
     "output_type": "display_data"
    },
    {
     "data": {
      "application/vnd.jupyter.widget-view+json": {
       "model_id": "36f698f0433b4666b8aec0952151c2bd",
       "version_major": 2,
       "version_minor": 0
      },
      "text/plain": [
       "one epoch training:   0%|          | 0/705 [00:00<?, ?it/s]"
      ]
     },
     "metadata": {},
     "output_type": "display_data"
    },
    {
     "data": {
      "application/vnd.jupyter.widget-view+json": {
       "model_id": "9096b0bdfa6b436fa7f5a6c4b1f2a5f3",
       "version_major": 2,
       "version_minor": 0
      },
      "text/plain": [
       "one epoch training:   0%|          | 0/705 [00:00<?, ?it/s]"
      ]
     },
     "metadata": {},
     "output_type": "display_data"
    },
    {
     "data": {
      "application/vnd.jupyter.widget-view+json": {
       "model_id": "708211c8fac9423b8ea133b8579f86dd",
       "version_major": 2,
       "version_minor": 0
      },
      "text/plain": [
       "one epoch training:   0%|          | 0/705 [00:00<?, ?it/s]"
      ]
     },
     "metadata": {},
     "output_type": "display_data"
    },
    {
     "data": {
      "application/vnd.jupyter.widget-view+json": {
       "model_id": "c1f436c3d05a423a9ddba61573416c6a",
       "version_major": 2,
       "version_minor": 0
      },
      "text/plain": [
       "one epoch training:   0%|          | 0/705 [00:00<?, ?it/s]"
      ]
     },
     "metadata": {},
     "output_type": "display_data"
    },
    {
     "data": {
      "application/vnd.jupyter.widget-view+json": {
       "model_id": "0b729b8759b649fd90ade52de801669b",
       "version_major": 2,
       "version_minor": 0
      },
      "text/plain": [
       "one epoch training:   0%|          | 0/705 [00:00<?, ?it/s]"
      ]
     },
     "metadata": {},
     "output_type": "display_data"
    },
    {
     "data": {
      "application/vnd.jupyter.widget-view+json": {
       "model_id": "5f6abe675c9d4af08873c64d436f52e5",
       "version_major": 2,
       "version_minor": 0
      },
      "text/plain": [
       "one epoch training:   0%|          | 0/705 [00:00<?, ?it/s]"
      ]
     },
     "metadata": {},
     "output_type": "display_data"
    },
    {
     "data": {
      "application/vnd.jupyter.widget-view+json": {
       "model_id": "988e60a2c8464c609e5d89eb22eba0bb",
       "version_major": 2,
       "version_minor": 0
      },
      "text/plain": [
       "one epoch training:   0%|          | 0/705 [00:00<?, ?it/s]"
      ]
     },
     "metadata": {},
     "output_type": "display_data"
    },
    {
     "data": {
      "application/vnd.jupyter.widget-view+json": {
       "model_id": "bdcecf1a626d411c881f5d5780ef4f3e",
       "version_major": 2,
       "version_minor": 0
      },
      "text/plain": [
       "one epoch training:   0%|          | 0/705 [00:00<?, ?it/s]"
      ]
     },
     "metadata": {},
     "output_type": "display_data"
    },
    {
     "data": {
      "application/vnd.jupyter.widget-view+json": {
       "model_id": "13662cdb591644ddb42948d57b5167b1",
       "version_major": 2,
       "version_minor": 0
      },
      "text/plain": [
       "one epoch training:   0%|          | 0/705 [00:00<?, ?it/s]"
      ]
     },
     "metadata": {},
     "output_type": "display_data"
    },
    {
     "data": {
      "application/vnd.jupyter.widget-view+json": {
       "model_id": "d4bec025425e4e299986c748b6af307e",
       "version_major": 2,
       "version_minor": 0
      },
      "text/plain": [
       "one epoch training:   0%|          | 0/705 [00:00<?, ?it/s]"
      ]
     },
     "metadata": {},
     "output_type": "display_data"
    },
    {
     "data": {
      "application/vnd.jupyter.widget-view+json": {
       "model_id": "63dc6ee523294fbda6db0d18d41a4a7b",
       "version_major": 2,
       "version_minor": 0
      },
      "text/plain": [
       "one epoch training:   0%|          | 0/705 [00:00<?, ?it/s]"
      ]
     },
     "metadata": {},
     "output_type": "display_data"
    },
    {
     "data": {
      "application/vnd.jupyter.widget-view+json": {
       "model_id": "6351c55035d64cb7a17b58d311aacc36",
       "version_major": 2,
       "version_minor": 0
      },
      "text/plain": [
       "one epoch training:   0%|          | 0/705 [00:00<?, ?it/s]"
      ]
     },
     "metadata": {},
     "output_type": "display_data"
    },
    {
     "data": {
      "application/vnd.jupyter.widget-view+json": {
       "model_id": "1698cc8eb9c54465ab2cda5d541ad775",
       "version_major": 2,
       "version_minor": 0
      },
      "text/plain": [
       "one epoch training:   0%|          | 0/705 [00:00<?, ?it/s]"
      ]
     },
     "metadata": {},
     "output_type": "display_data"
    },
    {
     "data": {
      "application/vnd.jupyter.widget-view+json": {
       "model_id": "4044191e0a0646458fe06018053e60d3",
       "version_major": 2,
       "version_minor": 0
      },
      "text/plain": [
       "one epoch training:   0%|          | 0/705 [00:00<?, ?it/s]"
      ]
     },
     "metadata": {},
     "output_type": "display_data"
    },
    {
     "data": {
      "application/vnd.jupyter.widget-view+json": {
       "model_id": "ff05c5cd33404118ba7fd25c24b8f88e",
       "version_major": 2,
       "version_minor": 0
      },
      "text/plain": [
       "one epoch training:   0%|          | 0/705 [00:00<?, ?it/s]"
      ]
     },
     "metadata": {},
     "output_type": "display_data"
    },
    {
     "data": {
      "application/vnd.jupyter.widget-view+json": {
       "model_id": "0a750acd1cd8416693a8072e7d0c5a5b",
       "version_major": 2,
       "version_minor": 0
      },
      "text/plain": [
       "one epoch training:   0%|          | 0/705 [00:00<?, ?it/s]"
      ]
     },
     "metadata": {},
     "output_type": "display_data"
    },
    {
     "data": {
      "application/vnd.jupyter.widget-view+json": {
       "model_id": "37e8df70530f4451990d82ab9ac6107b",
       "version_major": 2,
       "version_minor": 0
      },
      "text/plain": [
       "one epoch training:   0%|          | 0/705 [00:00<?, ?it/s]"
      ]
     },
     "metadata": {},
     "output_type": "display_data"
    },
    {
     "data": {
      "application/vnd.jupyter.widget-view+json": {
       "model_id": "23c5d9976c524ca2846411c0d706c9ca",
       "version_major": 2,
       "version_minor": 0
      },
      "text/plain": [
       "one epoch training:   0%|          | 0/705 [00:00<?, ?it/s]"
      ]
     },
     "metadata": {},
     "output_type": "display_data"
    },
    {
     "data": {
      "application/vnd.jupyter.widget-view+json": {
       "model_id": "163dad659c524a498762f99433aa3126",
       "version_major": 2,
       "version_minor": 0
      },
      "text/plain": [
       "one epoch training:   0%|          | 0/705 [00:00<?, ?it/s]"
      ]
     },
     "metadata": {},
     "output_type": "display_data"
    },
    {
     "data": {
      "application/vnd.jupyter.widget-view+json": {
       "model_id": "c695694db58345a6aee9ae55897d52fd",
       "version_major": 2,
       "version_minor": 0
      },
      "text/plain": [
       "one epoch training:   0%|          | 0/705 [00:00<?, ?it/s]"
      ]
     },
     "metadata": {},
     "output_type": "display_data"
    },
    {
     "data": {
      "application/vnd.jupyter.widget-view+json": {
       "model_id": "5605e4394f0546c18f16be78f2b0ef48",
       "version_major": 2,
       "version_minor": 0
      },
      "text/plain": [
       "one epoch training:   0%|          | 0/705 [00:00<?, ?it/s]"
      ]
     },
     "metadata": {},
     "output_type": "display_data"
    },
    {
     "data": {
      "application/vnd.jupyter.widget-view+json": {
       "model_id": "ec5074418aec4f73bed85e9beed6221f",
       "version_major": 2,
       "version_minor": 0
      },
      "text/plain": [
       "one epoch training:   0%|          | 0/705 [00:00<?, ?it/s]"
      ]
     },
     "metadata": {},
     "output_type": "display_data"
    },
    {
     "data": {
      "application/vnd.jupyter.widget-view+json": {
       "model_id": "5a51d2b1340442f38e00c91f9fcc47d8",
       "version_major": 2,
       "version_minor": 0
      },
      "text/plain": [
       "one epoch training:   0%|          | 0/705 [00:00<?, ?it/s]"
      ]
     },
     "metadata": {},
     "output_type": "display_data"
    },
    {
     "data": {
      "application/vnd.jupyter.widget-view+json": {
       "model_id": "e754c62e8afb49188e15fd8f85052c0e",
       "version_major": 2,
       "version_minor": 0
      },
      "text/plain": [
       "one epoch training:   0%|          | 0/705 [00:00<?, ?it/s]"
      ]
     },
     "metadata": {},
     "output_type": "display_data"
    },
    {
     "data": {
      "application/vnd.jupyter.widget-view+json": {
       "model_id": "1fafd85ecf6a4b78b7f89ac5538c1217",
       "version_major": 2,
       "version_minor": 0
      },
      "text/plain": [
       "one epoch training:   0%|          | 0/705 [00:00<?, ?it/s]"
      ]
     },
     "metadata": {},
     "output_type": "display_data"
    },
    {
     "data": {
      "application/vnd.jupyter.widget-view+json": {
       "model_id": "6bc33a2f4023486d97526cb41a9565d7",
       "version_major": 2,
       "version_minor": 0
      },
      "text/plain": [
       "one epoch training:   0%|          | 0/705 [00:00<?, ?it/s]"
      ]
     },
     "metadata": {},
     "output_type": "display_data"
    },
    {
     "data": {
      "application/vnd.jupyter.widget-view+json": {
       "model_id": "9c291e4ac35f40b28a79c581f4c727aa",
       "version_major": 2,
       "version_minor": 0
      },
      "text/plain": [
       "one epoch training:   0%|          | 0/705 [00:00<?, ?it/s]"
      ]
     },
     "metadata": {},
     "output_type": "display_data"
    },
    {
     "data": {
      "application/vnd.jupyter.widget-view+json": {
       "model_id": "9dc41b39b53344abac24e9609a480abb",
       "version_major": 2,
       "version_minor": 0
      },
      "text/plain": [
       "one epoch training:   0%|          | 0/705 [00:00<?, ?it/s]"
      ]
     },
     "metadata": {},
     "output_type": "display_data"
    },
    {
     "data": {
      "application/vnd.jupyter.widget-view+json": {
       "model_id": "d63622f385554471a3a4dc8f556b55e5",
       "version_major": 2,
       "version_minor": 0
      },
      "text/plain": [
       "one epoch training:   0%|          | 0/705 [00:00<?, ?it/s]"
      ]
     },
     "metadata": {},
     "output_type": "display_data"
    },
    {
     "data": {
      "application/vnd.jupyter.widget-view+json": {
       "model_id": "4bb5ab4125b14540af8d51f97c230ac7",
       "version_major": 2,
       "version_minor": 0
      },
      "text/plain": [
       "one epoch training:   0%|          | 0/705 [00:00<?, ?it/s]"
      ]
     },
     "metadata": {},
     "output_type": "display_data"
    },
    {
     "data": {
      "application/vnd.jupyter.widget-view+json": {
       "model_id": "6e45240be48f4a819cdc8563aca76ea7",
       "version_major": 2,
       "version_minor": 0
      },
      "text/plain": [
       "one epoch training:   0%|          | 0/705 [00:00<?, ?it/s]"
      ]
     },
     "metadata": {},
     "output_type": "display_data"
    },
    {
     "data": {
      "application/vnd.jupyter.widget-view+json": {
       "model_id": "ae0ae26736484b5d93065a988dc8b2be",
       "version_major": 2,
       "version_minor": 0
      },
      "text/plain": [
       "one epoch training:   0%|          | 0/705 [00:00<?, ?it/s]"
      ]
     },
     "metadata": {},
     "output_type": "display_data"
    },
    {
     "data": {
      "application/vnd.jupyter.widget-view+json": {
       "model_id": "fb916b49d1a043b39eea2b6fa33e4cdf",
       "version_major": 2,
       "version_minor": 0
      },
      "text/plain": [
       "one epoch training:   0%|          | 0/705 [00:00<?, ?it/s]"
      ]
     },
     "metadata": {},
     "output_type": "display_data"
    },
    {
     "data": {
      "application/vnd.jupyter.widget-view+json": {
       "model_id": "35fb80a1972f4534abbb9b7d420c3546",
       "version_major": 2,
       "version_minor": 0
      },
      "text/plain": [
       "one epoch training:   0%|          | 0/705 [00:00<?, ?it/s]"
      ]
     },
     "metadata": {},
     "output_type": "display_data"
    },
    {
     "data": {
      "application/vnd.jupyter.widget-view+json": {
       "model_id": "a1c0fb0853214162aadeb33c357cc51d",
       "version_major": 2,
       "version_minor": 0
      },
      "text/plain": [
       "one epoch training:   0%|          | 0/705 [00:00<?, ?it/s]"
      ]
     },
     "metadata": {},
     "output_type": "display_data"
    },
    {
     "data": {
      "application/vnd.jupyter.widget-view+json": {
       "model_id": "84ca7cdefdeb4ab98305436a08358a86",
       "version_major": 2,
       "version_minor": 0
      },
      "text/plain": [
       "one epoch training:   0%|          | 0/705 [00:00<?, ?it/s]"
      ]
     },
     "metadata": {},
     "output_type": "display_data"
    },
    {
     "data": {
      "application/vnd.jupyter.widget-view+json": {
       "model_id": "23fd186b368d48118de0d1992002a5b5",
       "version_major": 2,
       "version_minor": 0
      },
      "text/plain": [
       "one epoch training:   0%|          | 0/705 [00:00<?, ?it/s]"
      ]
     },
     "metadata": {},
     "output_type": "display_data"
    },
    {
     "data": {
      "application/vnd.jupyter.widget-view+json": {
       "model_id": "adb962c301484c799e4b6b774c025e99",
       "version_major": 2,
       "version_minor": 0
      },
      "text/plain": [
       "one epoch training:   0%|          | 0/705 [00:00<?, ?it/s]"
      ]
     },
     "metadata": {},
     "output_type": "display_data"
    },
    {
     "data": {
      "application/vnd.jupyter.widget-view+json": {
       "model_id": "56e06957615045ff8ec7b16e06405ad8",
       "version_major": 2,
       "version_minor": 0
      },
      "text/plain": [
       "one epoch training:   0%|          | 0/705 [00:00<?, ?it/s]"
      ]
     },
     "metadata": {},
     "output_type": "display_data"
    },
    {
     "data": {
      "application/vnd.jupyter.widget-view+json": {
       "model_id": "a51e4e8121554d7db33615095a198746",
       "version_major": 2,
       "version_minor": 0
      },
      "text/plain": [
       "one epoch training:   0%|          | 0/705 [00:00<?, ?it/s]"
      ]
     },
     "metadata": {},
     "output_type": "display_data"
    },
    {
     "data": {
      "application/vnd.jupyter.widget-view+json": {
       "model_id": "24f43fcecb7a4fd78ed1bd706b8572e4",
       "version_major": 2,
       "version_minor": 0
      },
      "text/plain": [
       "one epoch training:   0%|          | 0/705 [00:00<?, ?it/s]"
      ]
     },
     "metadata": {},
     "output_type": "display_data"
    },
    {
     "data": {
      "application/vnd.jupyter.widget-view+json": {
       "model_id": "46d37f72f70748e888efb669b0d5dfc5",
       "version_major": 2,
       "version_minor": 0
      },
      "text/plain": [
       "one epoch training:   0%|          | 0/705 [00:00<?, ?it/s]"
      ]
     },
     "metadata": {},
     "output_type": "display_data"
    },
    {
     "data": {
      "application/vnd.jupyter.widget-view+json": {
       "model_id": "3fe3e9b0d0294039aa59e5f277e1e2c5",
       "version_major": 2,
       "version_minor": 0
      },
      "text/plain": [
       "one epoch training:   0%|          | 0/705 [00:00<?, ?it/s]"
      ]
     },
     "metadata": {},
     "output_type": "display_data"
    },
    {
     "data": {
      "application/vnd.jupyter.widget-view+json": {
       "model_id": "7bc464c4098d4adc813c898cb40db3b0",
       "version_major": 2,
       "version_minor": 0
      },
      "text/plain": [
       "one epoch training:   0%|          | 0/705 [00:00<?, ?it/s]"
      ]
     },
     "metadata": {},
     "output_type": "display_data"
    },
    {
     "data": {
      "application/vnd.jupyter.widget-view+json": {
       "model_id": "f86d6889a9e840a7b72042b079b5d48c",
       "version_major": 2,
       "version_minor": 0
      },
      "text/plain": [
       "one epoch training:   0%|          | 0/705 [00:00<?, ?it/s]"
      ]
     },
     "metadata": {},
     "output_type": "display_data"
    },
    {
     "data": {
      "application/vnd.jupyter.widget-view+json": {
       "model_id": "97892538b45f4d29ac69ed0efd2e89e5",
       "version_major": 2,
       "version_minor": 0
      },
      "text/plain": [
       "one epoch training:   0%|          | 0/705 [00:00<?, ?it/s]"
      ]
     },
     "metadata": {},
     "output_type": "display_data"
    },
    {
     "data": {
      "application/vnd.jupyter.widget-view+json": {
       "model_id": "ba798cabee804418a8cd18fb20a00a56",
       "version_major": 2,
       "version_minor": 0
      },
      "text/plain": [
       "one epoch training:   0%|          | 0/705 [00:00<?, ?it/s]"
      ]
     },
     "metadata": {},
     "output_type": "display_data"
    },
    {
     "data": {
      "application/vnd.jupyter.widget-view+json": {
       "model_id": "4dab8565300345aa9736ea2ee103debc",
       "version_major": 2,
       "version_minor": 0
      },
      "text/plain": [
       "one epoch training:   0%|          | 0/705 [00:00<?, ?it/s]"
      ]
     },
     "metadata": {},
     "output_type": "display_data"
    },
    {
     "data": {
      "application/vnd.jupyter.widget-view+json": {
       "model_id": "ab283e663b794aac80f7b61b70639d82",
       "version_major": 2,
       "version_minor": 0
      },
      "text/plain": [
       "one epoch training:   0%|          | 0/705 [00:00<?, ?it/s]"
      ]
     },
     "metadata": {},
     "output_type": "display_data"
    },
    {
     "data": {
      "application/vnd.jupyter.widget-view+json": {
       "model_id": "7023f08128a54daea8b852c2d4456fd0",
       "version_major": 2,
       "version_minor": 0
      },
      "text/plain": [
       "one epoch training:   0%|          | 0/705 [00:00<?, ?it/s]"
      ]
     },
     "metadata": {},
     "output_type": "display_data"
    },
    {
     "data": {
      "application/vnd.jupyter.widget-view+json": {
       "model_id": "b016018e00074d66971ed942ad6c8f19",
       "version_major": 2,
       "version_minor": 0
      },
      "text/plain": [
       "one epoch training:   0%|          | 0/705 [00:00<?, ?it/s]"
      ]
     },
     "metadata": {},
     "output_type": "display_data"
    },
    {
     "data": {
      "application/vnd.jupyter.widget-view+json": {
       "model_id": "35cf6d0c7a6a43188fd038a5988eb18e",
       "version_major": 2,
       "version_minor": 0
      },
      "text/plain": [
       "one epoch training:   0%|          | 0/705 [00:00<?, ?it/s]"
      ]
     },
     "metadata": {},
     "output_type": "display_data"
    },
    {
     "data": {
      "application/vnd.jupyter.widget-view+json": {
       "model_id": "f9058b7de21c4df984d220e49024ad05",
       "version_major": 2,
       "version_minor": 0
      },
      "text/plain": [
       "one epoch training:   0%|          | 0/705 [00:00<?, ?it/s]"
      ]
     },
     "metadata": {},
     "output_type": "display_data"
    },
    {
     "data": {
      "application/vnd.jupyter.widget-view+json": {
       "model_id": "c8c6593fe8a241cfbb6857d3867ddda9",
       "version_major": 2,
       "version_minor": 0
      },
      "text/plain": [
       "one epoch training:   0%|          | 0/705 [00:00<?, ?it/s]"
      ]
     },
     "metadata": {},
     "output_type": "display_data"
    },
    {
     "data": {
      "application/vnd.jupyter.widget-view+json": {
       "model_id": "44c2e6efcfa74062ae4158b255aed78e",
       "version_major": 2,
       "version_minor": 0
      },
      "text/plain": [
       "one epoch training:   0%|          | 0/705 [00:00<?, ?it/s]"
      ]
     },
     "metadata": {},
     "output_type": "display_data"
    },
    {
     "data": {
      "application/vnd.jupyter.widget-view+json": {
       "model_id": "0c3d22dba240429b8eadaa04d67b69ac",
       "version_major": 2,
       "version_minor": 0
      },
      "text/plain": [
       "one epoch training:   0%|          | 0/705 [00:00<?, ?it/s]"
      ]
     },
     "metadata": {},
     "output_type": "display_data"
    },
    {
     "data": {
      "application/vnd.jupyter.widget-view+json": {
       "model_id": "c3caeb0bd17b4bcbaba9524292a911be",
       "version_major": 2,
       "version_minor": 0
      },
      "text/plain": [
       "one epoch training:   0%|          | 0/705 [00:00<?, ?it/s]"
      ]
     },
     "metadata": {},
     "output_type": "display_data"
    },
    {
     "data": {
      "application/vnd.jupyter.widget-view+json": {
       "model_id": "7169c30db1f242f49de3947b1ba4a848",
       "version_major": 2,
       "version_minor": 0
      },
      "text/plain": [
       "one epoch training:   0%|          | 0/705 [00:00<?, ?it/s]"
      ]
     },
     "metadata": {},
     "output_type": "display_data"
    },
    {
     "data": {
      "application/vnd.jupyter.widget-view+json": {
       "model_id": "25e917da73dd45fbbc2b7ce8d9cf7548",
       "version_major": 2,
       "version_minor": 0
      },
      "text/plain": [
       "one epoch training:   0%|          | 0/705 [00:00<?, ?it/s]"
      ]
     },
     "metadata": {},
     "output_type": "display_data"
    },
    {
     "data": {
      "application/vnd.jupyter.widget-view+json": {
       "model_id": "19590c1f86b54a2e92f9b0fe12f3c92b",
       "version_major": 2,
       "version_minor": 0
      },
      "text/plain": [
       "one epoch training:   0%|          | 0/705 [00:00<?, ?it/s]"
      ]
     },
     "metadata": {},
     "output_type": "display_data"
    },
    {
     "data": {
      "application/vnd.jupyter.widget-view+json": {
       "model_id": "2134dfcf9b3d4724ac41ba0cec2ea648",
       "version_major": 2,
       "version_minor": 0
      },
      "text/plain": [
       "one epoch training:   0%|          | 0/705 [00:00<?, ?it/s]"
      ]
     },
     "metadata": {},
     "output_type": "display_data"
    },
    {
     "data": {
      "application/vnd.jupyter.widget-view+json": {
       "model_id": "6d4b9854f4a14b299611f0a75f7edb18",
       "version_major": 2,
       "version_minor": 0
      },
      "text/plain": [
       "one epoch training:   0%|          | 0/705 [00:00<?, ?it/s]"
      ]
     },
     "metadata": {},
     "output_type": "display_data"
    },
    {
     "data": {
      "application/vnd.jupyter.widget-view+json": {
       "model_id": "a596e413468e467bac7db2ce7dad6c70",
       "version_major": 2,
       "version_minor": 0
      },
      "text/plain": [
       "one epoch training:   0%|          | 0/705 [00:00<?, ?it/s]"
      ]
     },
     "metadata": {},
     "output_type": "display_data"
    },
    {
     "data": {
      "application/vnd.jupyter.widget-view+json": {
       "model_id": "fb56bef34ed14d7c84f8aa8ac80c6ce1",
       "version_major": 2,
       "version_minor": 0
      },
      "text/plain": [
       "one epoch training:   0%|          | 0/705 [00:00<?, ?it/s]"
      ]
     },
     "metadata": {},
     "output_type": "display_data"
    },
    {
     "data": {
      "application/vnd.jupyter.widget-view+json": {
       "model_id": "1f98767da23b4237bb5270213184d628",
       "version_major": 2,
       "version_minor": 0
      },
      "text/plain": [
       "one epoch training:   0%|          | 0/705 [00:00<?, ?it/s]"
      ]
     },
     "metadata": {},
     "output_type": "display_data"
    },
    {
     "data": {
      "application/vnd.jupyter.widget-view+json": {
       "model_id": "b8161ccc2ed44d3ea70319936be67ed7",
       "version_major": 2,
       "version_minor": 0
      },
      "text/plain": [
       "one epoch training:   0%|          | 0/705 [00:00<?, ?it/s]"
      ]
     },
     "metadata": {},
     "output_type": "display_data"
    },
    {
     "data": {
      "application/vnd.jupyter.widget-view+json": {
       "model_id": "3902d7ee48c5473cafa13de7173824c5",
       "version_major": 2,
       "version_minor": 0
      },
      "text/plain": [
       "one epoch training:   0%|          | 0/705 [00:00<?, ?it/s]"
      ]
     },
     "metadata": {},
     "output_type": "display_data"
    },
    {
     "data": {
      "application/vnd.jupyter.widget-view+json": {
       "model_id": "9a9c39f31776414ca53d80f8d8672549",
       "version_major": 2,
       "version_minor": 0
      },
      "text/plain": [
       "one epoch training:   0%|          | 0/705 [00:00<?, ?it/s]"
      ]
     },
     "metadata": {},
     "output_type": "display_data"
    },
    {
     "data": {
      "application/vnd.jupyter.widget-view+json": {
       "model_id": "38eaa9af610e44b9a0c9fb2716d58250",
       "version_major": 2,
       "version_minor": 0
      },
      "text/plain": [
       "one epoch training:   0%|          | 0/705 [00:00<?, ?it/s]"
      ]
     },
     "metadata": {},
     "output_type": "display_data"
    },
    {
     "data": {
      "application/vnd.jupyter.widget-view+json": {
       "model_id": "056f4fc485a544bca7f23800c202dea0",
       "version_major": 2,
       "version_minor": 0
      },
      "text/plain": [
       "one epoch training:   0%|          | 0/705 [00:00<?, ?it/s]"
      ]
     },
     "metadata": {},
     "output_type": "display_data"
    },
    {
     "data": {
      "application/vnd.jupyter.widget-view+json": {
       "model_id": "3ffcc087d9d94b7cbb8b5fc0dfab2986",
       "version_major": 2,
       "version_minor": 0
      },
      "text/plain": [
       "one epoch training:   0%|          | 0/705 [00:00<?, ?it/s]"
      ]
     },
     "metadata": {},
     "output_type": "display_data"
    },
    {
     "data": {
      "application/vnd.jupyter.widget-view+json": {
       "model_id": "0d3ba4d77fc446d9a23c2fb95b71b98b",
       "version_major": 2,
       "version_minor": 0
      },
      "text/plain": [
       "one epoch training:   0%|          | 0/705 [00:00<?, ?it/s]"
      ]
     },
     "metadata": {},
     "output_type": "display_data"
    },
    {
     "data": {
      "application/vnd.jupyter.widget-view+json": {
       "model_id": "bb4781d75b494aa7929c70f641926385",
       "version_major": 2,
       "version_minor": 0
      },
      "text/plain": [
       "one epoch training:   0%|          | 0/705 [00:00<?, ?it/s]"
      ]
     },
     "metadata": {},
     "output_type": "display_data"
    },
    {
     "data": {
      "application/vnd.jupyter.widget-view+json": {
       "model_id": "ddd3231a25b040719a2fb263f5c3dc79",
       "version_major": 2,
       "version_minor": 0
      },
      "text/plain": [
       "one epoch training:   0%|          | 0/705 [00:00<?, ?it/s]"
      ]
     },
     "metadata": {},
     "output_type": "display_data"
    },
    {
     "data": {
      "application/vnd.jupyter.widget-view+json": {
       "model_id": "0b45e99f52b849229c5c24c46d26a0ff",
       "version_major": 2,
       "version_minor": 0
      },
      "text/plain": [
       "one epoch training:   0%|          | 0/705 [00:00<?, ?it/s]"
      ]
     },
     "metadata": {},
     "output_type": "display_data"
    },
    {
     "data": {
      "application/vnd.jupyter.widget-view+json": {
       "model_id": "fc37e9d1a3fa4c1781954ebf0ab499e4",
       "version_major": 2,
       "version_minor": 0
      },
      "text/plain": [
       "one epoch training:   0%|          | 0/705 [00:00<?, ?it/s]"
      ]
     },
     "metadata": {},
     "output_type": "display_data"
    },
    {
     "data": {
      "application/vnd.jupyter.widget-view+json": {
       "model_id": "2c7c715ea61f4d429cf8850e5ac3cdac",
       "version_major": 2,
       "version_minor": 0
      },
      "text/plain": [
       "one epoch training:   0%|          | 0/705 [00:00<?, ?it/s]"
      ]
     },
     "metadata": {},
     "output_type": "display_data"
    },
    {
     "data": {
      "application/vnd.jupyter.widget-view+json": {
       "model_id": "4153ae87f75c4252be772ae154f911b4",
       "version_major": 2,
       "version_minor": 0
      },
      "text/plain": [
       "one epoch training:   0%|          | 0/705 [00:00<?, ?it/s]"
      ]
     },
     "metadata": {},
     "output_type": "display_data"
    },
    {
     "data": {
      "application/vnd.jupyter.widget-view+json": {
       "model_id": "b7e1b90e5e424374b44559a04678a0a1",
       "version_major": 2,
       "version_minor": 0
      },
      "text/plain": [
       "one epoch training:   0%|          | 0/705 [00:00<?, ?it/s]"
      ]
     },
     "metadata": {},
     "output_type": "display_data"
    },
    {
     "data": {
      "application/vnd.jupyter.widget-view+json": {
       "model_id": "8a8cd34816cf4b679ddc249612c35983",
       "version_major": 2,
       "version_minor": 0
      },
      "text/plain": [
       "one epoch training:   0%|          | 0/705 [00:00<?, ?it/s]"
      ]
     },
     "metadata": {},
     "output_type": "display_data"
    },
    {
     "data": {
      "application/vnd.jupyter.widget-view+json": {
       "model_id": "9bb2f860843044bb873fa53753f32a37",
       "version_major": 2,
       "version_minor": 0
      },
      "text/plain": [
       "one epoch training:   0%|          | 0/705 [00:00<?, ?it/s]"
      ]
     },
     "metadata": {},
     "output_type": "display_data"
    },
    {
     "data": {
      "application/vnd.jupyter.widget-view+json": {
       "model_id": "49d77cb2d0a74df7b45df41b04efc993",
       "version_major": 2,
       "version_minor": 0
      },
      "text/plain": [
       "one epoch training:   0%|          | 0/705 [00:00<?, ?it/s]"
      ]
     },
     "metadata": {},
     "output_type": "display_data"
    },
    {
     "data": {
      "application/vnd.jupyter.widget-view+json": {
       "model_id": "a55ebda791d744aaa64bb8b4f3853753",
       "version_major": 2,
       "version_minor": 0
      },
      "text/plain": [
       "one epoch training:   0%|          | 0/705 [00:00<?, ?it/s]"
      ]
     },
     "metadata": {},
     "output_type": "display_data"
    },
    {
     "data": {
      "application/vnd.jupyter.widget-view+json": {
       "model_id": "f8e1d691fb1b4094be7db50764e247e9",
       "version_major": 2,
       "version_minor": 0
      },
      "text/plain": [
       "one epoch training:   0%|          | 0/705 [00:00<?, ?it/s]"
      ]
     },
     "metadata": {},
     "output_type": "display_data"
    },
    {
     "data": {
      "application/vnd.jupyter.widget-view+json": {
       "model_id": "03b1b8577365485ebf443bafdc1e9ad3",
       "version_major": 2,
       "version_minor": 0
      },
      "text/plain": [
       "one epoch training:   0%|          | 0/705 [00:00<?, ?it/s]"
      ]
     },
     "metadata": {},
     "output_type": "display_data"
    },
    {
     "data": {
      "application/vnd.jupyter.widget-view+json": {
       "model_id": "c218ebd9dfd2476da974c28a8b263410",
       "version_major": 2,
       "version_minor": 0
      },
      "text/plain": [
       "one epoch training:   0%|          | 0/705 [00:00<?, ?it/s]"
      ]
     },
     "metadata": {},
     "output_type": "display_data"
    },
    {
     "data": {
      "application/vnd.jupyter.widget-view+json": {
       "model_id": "4b54173e08204e50a1d14a80df1f0046",
       "version_major": 2,
       "version_minor": 0
      },
      "text/plain": [
       "one epoch training:   0%|          | 0/705 [00:00<?, ?it/s]"
      ]
     },
     "metadata": {},
     "output_type": "display_data"
    },
    {
     "data": {
      "application/vnd.jupyter.widget-view+json": {
       "model_id": "4e5514ac565d4d7fa4fcd94b75d1acd5",
       "version_major": 2,
       "version_minor": 0
      },
      "text/plain": [
       "one epoch training:   0%|          | 0/705 [00:00<?, ?it/s]"
      ]
     },
     "metadata": {},
     "output_type": "display_data"
    },
    {
     "data": {
      "application/vnd.jupyter.widget-view+json": {
       "model_id": "6473ee3efddc4991acf3e1c230c5b104",
       "version_major": 2,
       "version_minor": 0
      },
      "text/plain": [
       "one epoch training:   0%|          | 0/705 [00:00<?, ?it/s]"
      ]
     },
     "metadata": {},
     "output_type": "display_data"
    },
    {
     "data": {
      "application/vnd.jupyter.widget-view+json": {
       "model_id": "efd77000c10b4a00bf745580a3653746",
       "version_major": 2,
       "version_minor": 0
      },
      "text/plain": [
       "one epoch training:   0%|          | 0/705 [00:00<?, ?it/s]"
      ]
     },
     "metadata": {},
     "output_type": "display_data"
    },
    {
     "data": {
      "application/vnd.jupyter.widget-view+json": {
       "model_id": "6fc95df874fb4ae5a965a574c3645f74",
       "version_major": 2,
       "version_minor": 0
      },
      "text/plain": [
       "one epoch training:   0%|          | 0/705 [00:00<?, ?it/s]"
      ]
     },
     "metadata": {},
     "output_type": "display_data"
    },
    {
     "data": {
      "application/vnd.jupyter.widget-view+json": {
       "model_id": "b3bd8bec437d4a0c94a2494f9e54586b",
       "version_major": 2,
       "version_minor": 0
      },
      "text/plain": [
       "one epoch training:   0%|          | 0/705 [00:00<?, ?it/s]"
      ]
     },
     "metadata": {},
     "output_type": "display_data"
    },
    {
     "data": {
      "application/vnd.jupyter.widget-view+json": {
       "model_id": "1c553ef79b1a4ea7b8fdac5027c94d95",
       "version_major": 2,
       "version_minor": 0
      },
      "text/plain": [
       "one epoch training:   0%|          | 0/705 [00:00<?, ?it/s]"
      ]
     },
     "metadata": {},
     "output_type": "display_data"
    },
    {
     "data": {
      "application/vnd.jupyter.widget-view+json": {
       "model_id": "4fd30f27b5d546b48bb651fb235e1bf3",
       "version_major": 2,
       "version_minor": 0
      },
      "text/plain": [
       "one epoch training:   0%|          | 0/705 [00:00<?, ?it/s]"
      ]
     },
     "metadata": {},
     "output_type": "display_data"
    },
    {
     "data": {
      "application/vnd.jupyter.widget-view+json": {
       "model_id": "202acbe954a640328fd275f0838cf4b6",
       "version_major": 2,
       "version_minor": 0
      },
      "text/plain": [
       "one epoch training:   0%|          | 0/705 [00:00<?, ?it/s]"
      ]
     },
     "metadata": {},
     "output_type": "display_data"
    },
    {
     "data": {
      "application/vnd.jupyter.widget-view+json": {
       "model_id": "294d5595532b4756ba9bcdb386a13ef5",
       "version_major": 2,
       "version_minor": 0
      },
      "text/plain": [
       "one epoch training:   0%|          | 0/705 [00:00<?, ?it/s]"
      ]
     },
     "metadata": {},
     "output_type": "display_data"
    },
    {
     "data": {
      "application/vnd.jupyter.widget-view+json": {
       "model_id": "0b14b69d66484a808eeb53d4ae7b2225",
       "version_major": 2,
       "version_minor": 0
      },
      "text/plain": [
       "one epoch training:   0%|          | 0/705 [00:00<?, ?it/s]"
      ]
     },
     "metadata": {},
     "output_type": "display_data"
    },
    {
     "data": {
      "application/vnd.jupyter.widget-view+json": {
       "model_id": "422b2a9099ed423bbd5adfc6d9402049",
       "version_major": 2,
       "version_minor": 0
      },
      "text/plain": [
       "one epoch training:   0%|          | 0/705 [00:00<?, ?it/s]"
      ]
     },
     "metadata": {},
     "output_type": "display_data"
    },
    {
     "data": {
      "application/vnd.jupyter.widget-view+json": {
       "model_id": "16d915ad13364121a63e06b4a599efe9",
       "version_major": 2,
       "version_minor": 0
      },
      "text/plain": [
       "one epoch training:   0%|          | 0/705 [00:00<?, ?it/s]"
      ]
     },
     "metadata": {},
     "output_type": "display_data"
    },
    {
     "data": {
      "application/vnd.jupyter.widget-view+json": {
       "model_id": "04e076bf53af46708631e84d3d7b573a",
       "version_major": 2,
       "version_minor": 0
      },
      "text/plain": [
       "one epoch training:   0%|          | 0/705 [00:00<?, ?it/s]"
      ]
     },
     "metadata": {},
     "output_type": "display_data"
    },
    {
     "data": {
      "application/vnd.jupyter.widget-view+json": {
       "model_id": "1a0562a2833b43efb4f273b54b427537",
       "version_major": 2,
       "version_minor": 0
      },
      "text/plain": [
       "one epoch training:   0%|          | 0/705 [00:00<?, ?it/s]"
      ]
     },
     "metadata": {},
     "output_type": "display_data"
    },
    {
     "data": {
      "application/vnd.jupyter.widget-view+json": {
       "model_id": "2491b38f4f7746f9a8946e237c4a4d8a",
       "version_major": 2,
       "version_minor": 0
      },
      "text/plain": [
       "one epoch training:   0%|          | 0/705 [00:00<?, ?it/s]"
      ]
     },
     "metadata": {},
     "output_type": "display_data"
    },
    {
     "data": {
      "application/vnd.jupyter.widget-view+json": {
       "model_id": "7518661f35514bd4a5bcb983df8c2b32",
       "version_major": 2,
       "version_minor": 0
      },
      "text/plain": [
       "one epoch training:   0%|          | 0/705 [00:00<?, ?it/s]"
      ]
     },
     "metadata": {},
     "output_type": "display_data"
    },
    {
     "data": {
      "application/vnd.jupyter.widget-view+json": {
       "model_id": "184e8e12d096455198df54bdb24edf93",
       "version_major": 2,
       "version_minor": 0
      },
      "text/plain": [
       "one epoch training:   0%|          | 0/705 [00:00<?, ?it/s]"
      ]
     },
     "metadata": {},
     "output_type": "display_data"
    },
    {
     "data": {
      "application/vnd.jupyter.widget-view+json": {
       "model_id": "d7c42070898e4534aa196e07137345ea",
       "version_major": 2,
       "version_minor": 0
      },
      "text/plain": [
       "one epoch training:   0%|          | 0/705 [00:00<?, ?it/s]"
      ]
     },
     "metadata": {},
     "output_type": "display_data"
    },
    {
     "data": {
      "application/vnd.jupyter.widget-view+json": {
       "model_id": "d840e07716084551886acadb00a5e7eb",
       "version_major": 2,
       "version_minor": 0
      },
      "text/plain": [
       "one epoch training:   0%|          | 0/705 [00:00<?, ?it/s]"
      ]
     },
     "metadata": {},
     "output_type": "display_data"
    },
    {
     "data": {
      "application/vnd.jupyter.widget-view+json": {
       "model_id": "f3c5356828cf470ca3e44254437b4e22",
       "version_major": 2,
       "version_minor": 0
      },
      "text/plain": [
       "one epoch training:   0%|          | 0/705 [00:00<?, ?it/s]"
      ]
     },
     "metadata": {},
     "output_type": "display_data"
    },
    {
     "data": {
      "application/vnd.jupyter.widget-view+json": {
       "model_id": "23d50ad4bb0c4922b6e37df995a5cc5c",
       "version_major": 2,
       "version_minor": 0
      },
      "text/plain": [
       "one epoch training:   0%|          | 0/705 [00:00<?, ?it/s]"
      ]
     },
     "metadata": {},
     "output_type": "display_data"
    },
    {
     "data": {
      "application/vnd.jupyter.widget-view+json": {
       "model_id": "4eb3928d1634418e95439e323d3010a1",
       "version_major": 2,
       "version_minor": 0
      },
      "text/plain": [
       "one epoch training:   0%|          | 0/705 [00:00<?, ?it/s]"
      ]
     },
     "metadata": {},
     "output_type": "display_data"
    },
    {
     "data": {
      "application/vnd.jupyter.widget-view+json": {
       "model_id": "6da43679ca19421e83e5508999499b72",
       "version_major": 2,
       "version_minor": 0
      },
      "text/plain": [
       "one epoch training:   0%|          | 0/705 [00:00<?, ?it/s]"
      ]
     },
     "metadata": {},
     "output_type": "display_data"
    },
    {
     "data": {
      "application/vnd.jupyter.widget-view+json": {
       "model_id": "219cfe2d869f445b9ce48f2dfad05eaf",
       "version_major": 2,
       "version_minor": 0
      },
      "text/plain": [
       "one epoch training:   0%|          | 0/705 [00:00<?, ?it/s]"
      ]
     },
     "metadata": {},
     "output_type": "display_data"
    },
    {
     "data": {
      "application/vnd.jupyter.widget-view+json": {
       "model_id": "2916c504c02e40efbf28ef2532f1484a",
       "version_major": 2,
       "version_minor": 0
      },
      "text/plain": [
       "one epoch training:   0%|          | 0/705 [00:00<?, ?it/s]"
      ]
     },
     "metadata": {},
     "output_type": "display_data"
    },
    {
     "data": {
      "application/vnd.jupyter.widget-view+json": {
       "model_id": "50529d4dc739447ba4bd11e1e06bee5b",
       "version_major": 2,
       "version_minor": 0
      },
      "text/plain": [
       "one epoch training:   0%|          | 0/705 [00:00<?, ?it/s]"
      ]
     },
     "metadata": {},
     "output_type": "display_data"
    },
    {
     "data": {
      "application/vnd.jupyter.widget-view+json": {
       "model_id": "83e24eb82aa24687a3efa83aa35348e4",
       "version_major": 2,
       "version_minor": 0
      },
      "text/plain": [
       "one epoch training:   0%|          | 0/705 [00:00<?, ?it/s]"
      ]
     },
     "metadata": {},
     "output_type": "display_data"
    },
    {
     "data": {
      "application/vnd.jupyter.widget-view+json": {
       "model_id": "4288802f376b41119a9eff11ec8420e5",
       "version_major": 2,
       "version_minor": 0
      },
      "text/plain": [
       "one epoch training:   0%|          | 0/705 [00:00<?, ?it/s]"
      ]
     },
     "metadata": {},
     "output_type": "display_data"
    },
    {
     "data": {
      "application/vnd.jupyter.widget-view+json": {
       "model_id": "6d20f38d0fd0458ba2f121c8925f3517",
       "version_major": 2,
       "version_minor": 0
      },
      "text/plain": [
       "one epoch training:   0%|          | 0/705 [00:00<?, ?it/s]"
      ]
     },
     "metadata": {},
     "output_type": "display_data"
    },
    {
     "data": {
      "application/vnd.jupyter.widget-view+json": {
       "model_id": "e8760a096fd04ae68ce402b541f6d714",
       "version_major": 2,
       "version_minor": 0
      },
      "text/plain": [
       "one epoch training:   0%|          | 0/705 [00:00<?, ?it/s]"
      ]
     },
     "metadata": {},
     "output_type": "display_data"
    },
    {
     "data": {
      "application/vnd.jupyter.widget-view+json": {
       "model_id": "40e17089ccd64282a271f35ddd3610e0",
       "version_major": 2,
       "version_minor": 0
      },
      "text/plain": [
       "one epoch training:   0%|          | 0/705 [00:00<?, ?it/s]"
      ]
     },
     "metadata": {},
     "output_type": "display_data"
    },
    {
     "data": {
      "application/vnd.jupyter.widget-view+json": {
       "model_id": "efab4c13454448a191ae030ef028ea01",
       "version_major": 2,
       "version_minor": 0
      },
      "text/plain": [
       "one epoch training:   0%|          | 0/705 [00:00<?, ?it/s]"
      ]
     },
     "metadata": {},
     "output_type": "display_data"
    },
    {
     "data": {
      "application/vnd.jupyter.widget-view+json": {
       "model_id": "fd3bdc060b9b476399a4a1626523ac03",
       "version_major": 2,
       "version_minor": 0
      },
      "text/plain": [
       "one epoch training:   0%|          | 0/705 [00:00<?, ?it/s]"
      ]
     },
     "metadata": {},
     "output_type": "display_data"
    },
    {
     "data": {
      "application/vnd.jupyter.widget-view+json": {
       "model_id": "c3386db7df8749b8aab34ec0ba5940f6",
       "version_major": 2,
       "version_minor": 0
      },
      "text/plain": [
       "one epoch training:   0%|          | 0/705 [00:00<?, ?it/s]"
      ]
     },
     "metadata": {},
     "output_type": "display_data"
    },
    {
     "data": {
      "application/vnd.jupyter.widget-view+json": {
       "model_id": "7afeabbb045e47e880a15253af8dd50f",
       "version_major": 2,
       "version_minor": 0
      },
      "text/plain": [
       "one epoch training:   0%|          | 0/705 [00:00<?, ?it/s]"
      ]
     },
     "metadata": {},
     "output_type": "display_data"
    },
    {
     "data": {
      "application/vnd.jupyter.widget-view+json": {
       "model_id": "ce2b73ee574f46f6b72127699620a484",
       "version_major": 2,
       "version_minor": 0
      },
      "text/plain": [
       "one epoch training:   0%|          | 0/705 [00:00<?, ?it/s]"
      ]
     },
     "metadata": {},
     "output_type": "display_data"
    },
    {
     "data": {
      "application/vnd.jupyter.widget-view+json": {
       "model_id": "a74e5d33b83744c3bc208aa8d354c098",
       "version_major": 2,
       "version_minor": 0
      },
      "text/plain": [
       "one epoch training:   0%|          | 0/705 [00:00<?, ?it/s]"
      ]
     },
     "metadata": {},
     "output_type": "display_data"
    },
    {
     "data": {
      "application/vnd.jupyter.widget-view+json": {
       "model_id": "ceb3d6b40c544bb6ad0b775ce54b9bd1",
       "version_major": 2,
       "version_minor": 0
      },
      "text/plain": [
       "one epoch training:   0%|          | 0/705 [00:00<?, ?it/s]"
      ]
     },
     "metadata": {},
     "output_type": "display_data"
    },
    {
     "data": {
      "application/vnd.jupyter.widget-view+json": {
       "model_id": "a25b3660f18d4d3bab2838484aa38687",
       "version_major": 2,
       "version_minor": 0
      },
      "text/plain": [
       "one epoch training:   0%|          | 0/705 [00:00<?, ?it/s]"
      ]
     },
     "metadata": {},
     "output_type": "display_data"
    },
    {
     "data": {
      "application/vnd.jupyter.widget-view+json": {
       "model_id": "46209dee345e48a7975a0f5afa5c5c53",
       "version_major": 2,
       "version_minor": 0
      },
      "text/plain": [
       "one epoch training:   0%|          | 0/705 [00:00<?, ?it/s]"
      ]
     },
     "metadata": {},
     "output_type": "display_data"
    },
    {
     "data": {
      "application/vnd.jupyter.widget-view+json": {
       "model_id": "9244ecc1f4ff40acbad265c9774cc0cb",
       "version_major": 2,
       "version_minor": 0
      },
      "text/plain": [
       "one epoch training:   0%|          | 0/705 [00:00<?, ?it/s]"
      ]
     },
     "metadata": {},
     "output_type": "display_data"
    },
    {
     "data": {
      "application/vnd.jupyter.widget-view+json": {
       "model_id": "e22f2cdf97da4b7589870fadbf0401da",
       "version_major": 2,
       "version_minor": 0
      },
      "text/plain": [
       "one epoch training:   0%|          | 0/705 [00:00<?, ?it/s]"
      ]
     },
     "metadata": {},
     "output_type": "display_data"
    },
    {
     "data": {
      "application/vnd.jupyter.widget-view+json": {
       "model_id": "06392e5e40d9409caaad70539a7e722e",
       "version_major": 2,
       "version_minor": 0
      },
      "text/plain": [
       "one epoch training:   0%|          | 0/705 [00:00<?, ?it/s]"
      ]
     },
     "metadata": {},
     "output_type": "display_data"
    },
    {
     "data": {
      "application/vnd.jupyter.widget-view+json": {
       "model_id": "d867258d5e7b4a818629315d31e8b5ee",
       "version_major": 2,
       "version_minor": 0
      },
      "text/plain": [
       "one epoch training:   0%|          | 0/705 [00:00<?, ?it/s]"
      ]
     },
     "metadata": {},
     "output_type": "display_data"
    },
    {
     "data": {
      "application/vnd.jupyter.widget-view+json": {
       "model_id": "974b58d489c844e097e198de49331b42",
       "version_major": 2,
       "version_minor": 0
      },
      "text/plain": [
       "one epoch training:   0%|          | 0/705 [00:00<?, ?it/s]"
      ]
     },
     "metadata": {},
     "output_type": "display_data"
    },
    {
     "data": {
      "application/vnd.jupyter.widget-view+json": {
       "model_id": "a9cfd3cb085048adb0ae922d56e36899",
       "version_major": 2,
       "version_minor": 0
      },
      "text/plain": [
       "one epoch training:   0%|          | 0/705 [00:00<?, ?it/s]"
      ]
     },
     "metadata": {},
     "output_type": "display_data"
    },
    {
     "data": {
      "application/vnd.jupyter.widget-view+json": {
       "model_id": "4c283bcb26ae4b9086a199fc55ff044a",
       "version_major": 2,
       "version_minor": 0
      },
      "text/plain": [
       "one epoch training:   0%|          | 0/705 [00:00<?, ?it/s]"
      ]
     },
     "metadata": {},
     "output_type": "display_data"
    },
    {
     "data": {
      "application/vnd.jupyter.widget-view+json": {
       "model_id": "906c4becda6444a5835d1667ea9a15ef",
       "version_major": 2,
       "version_minor": 0
      },
      "text/plain": [
       "one epoch training:   0%|          | 0/705 [00:00<?, ?it/s]"
      ]
     },
     "metadata": {},
     "output_type": "display_data"
    },
    {
     "data": {
      "application/vnd.jupyter.widget-view+json": {
       "model_id": "31a9fb1c503d430e80839095f053b914",
       "version_major": 2,
       "version_minor": 0
      },
      "text/plain": [
       "one epoch training:   0%|          | 0/705 [00:00<?, ?it/s]"
      ]
     },
     "metadata": {},
     "output_type": "display_data"
    },
    {
     "data": {
      "application/vnd.jupyter.widget-view+json": {
       "model_id": "76a719ce75d445bd9d69bc9b36b60930",
       "version_major": 2,
       "version_minor": 0
      },
      "text/plain": [
       "one epoch training:   0%|          | 0/705 [00:00<?, ?it/s]"
      ]
     },
     "metadata": {},
     "output_type": "display_data"
    },
    {
     "data": {
      "application/vnd.jupyter.widget-view+json": {
       "model_id": "23ca559bcc9b465798c9d6db95eb7db0",
       "version_major": 2,
       "version_minor": 0
      },
      "text/plain": [
       "one epoch training:   0%|          | 0/705 [00:00<?, ?it/s]"
      ]
     },
     "metadata": {},
     "output_type": "display_data"
    },
    {
     "data": {
      "application/vnd.jupyter.widget-view+json": {
       "model_id": "8e5205b7691e46b182bc40f9bfcab3d7",
       "version_major": 2,
       "version_minor": 0
      },
      "text/plain": [
       "one epoch training:   0%|          | 0/705 [00:00<?, ?it/s]"
      ]
     },
     "metadata": {},
     "output_type": "display_data"
    },
    {
     "data": {
      "application/vnd.jupyter.widget-view+json": {
       "model_id": "3424e5d36e304bb38c03febeae786113",
       "version_major": 2,
       "version_minor": 0
      },
      "text/plain": [
       "one epoch training:   0%|          | 0/705 [00:00<?, ?it/s]"
      ]
     },
     "metadata": {},
     "output_type": "display_data"
    },
    {
     "data": {
      "application/vnd.jupyter.widget-view+json": {
       "model_id": "5be838757fa84408b9eaa65885b30f59",
       "version_major": 2,
       "version_minor": 0
      },
      "text/plain": [
       "one epoch training:   0%|          | 0/705 [00:00<?, ?it/s]"
      ]
     },
     "metadata": {},
     "output_type": "display_data"
    },
    {
     "data": {
      "application/vnd.jupyter.widget-view+json": {
       "model_id": "c958aca09b054470b16d1c72044754f4",
       "version_major": 2,
       "version_minor": 0
      },
      "text/plain": [
       "one epoch training:   0%|          | 0/705 [00:00<?, ?it/s]"
      ]
     },
     "metadata": {},
     "output_type": "display_data"
    },
    {
     "data": {
      "application/vnd.jupyter.widget-view+json": {
       "model_id": "83afa84fe3ac4757861d99faa35b4264",
       "version_major": 2,
       "version_minor": 0
      },
      "text/plain": [
       "one epoch training:   0%|          | 0/705 [00:00<?, ?it/s]"
      ]
     },
     "metadata": {},
     "output_type": "display_data"
    },
    {
     "data": {
      "application/vnd.jupyter.widget-view+json": {
       "model_id": "b233b7968e104d4c8f19d22910b45c15",
       "version_major": 2,
       "version_minor": 0
      },
      "text/plain": [
       "one epoch training:   0%|          | 0/705 [00:00<?, ?it/s]"
      ]
     },
     "metadata": {},
     "output_type": "display_data"
    },
    {
     "data": {
      "application/vnd.jupyter.widget-view+json": {
       "model_id": "d818696424aa4cbca09857e4c0a95055",
       "version_major": 2,
       "version_minor": 0
      },
      "text/plain": [
       "one epoch training:   0%|          | 0/705 [00:00<?, ?it/s]"
      ]
     },
     "metadata": {},
     "output_type": "display_data"
    },
    {
     "data": {
      "application/vnd.jupyter.widget-view+json": {
       "model_id": "cca3ad6cb0c7485792945d013f6ac5dd",
       "version_major": 2,
       "version_minor": 0
      },
      "text/plain": [
       "one epoch training:   0%|          | 0/705 [00:00<?, ?it/s]"
      ]
     },
     "metadata": {},
     "output_type": "display_data"
    },
    {
     "data": {
      "application/vnd.jupyter.widget-view+json": {
       "model_id": "3c60023d1e5b42aba97efa0198108e49",
       "version_major": 2,
       "version_minor": 0
      },
      "text/plain": [
       "one epoch training:   0%|          | 0/705 [00:00<?, ?it/s]"
      ]
     },
     "metadata": {},
     "output_type": "display_data"
    },
    {
     "data": {
      "application/vnd.jupyter.widget-view+json": {
       "model_id": "dde2f6b2a865446fa8eff0463c59dcba",
       "version_major": 2,
       "version_minor": 0
      },
      "text/plain": [
       "one epoch training:   0%|          | 0/705 [00:00<?, ?it/s]"
      ]
     },
     "metadata": {},
     "output_type": "display_data"
    },
    {
     "data": {
      "application/vnd.jupyter.widget-view+json": {
       "model_id": "a4337207451d40d4ba79f57bac155db1",
       "version_major": 2,
       "version_minor": 0
      },
      "text/plain": [
       "one epoch training:   0%|          | 0/705 [00:00<?, ?it/s]"
      ]
     },
     "metadata": {},
     "output_type": "display_data"
    },
    {
     "data": {
      "application/vnd.jupyter.widget-view+json": {
       "model_id": "46feb83a861a4d5a8b7fe71eead2a85c",
       "version_major": 2,
       "version_minor": 0
      },
      "text/plain": [
       "one epoch training:   0%|          | 0/705 [00:00<?, ?it/s]"
      ]
     },
     "metadata": {},
     "output_type": "display_data"
    },
    {
     "data": {
      "application/vnd.jupyter.widget-view+json": {
       "model_id": "6e7a9a57930d42f8b86312644d2d949d",
       "version_major": 2,
       "version_minor": 0
      },
      "text/plain": [
       "one epoch training:   0%|          | 0/705 [00:00<?, ?it/s]"
      ]
     },
     "metadata": {},
     "output_type": "display_data"
    },
    {
     "data": {
      "application/vnd.jupyter.widget-view+json": {
       "model_id": "eedf4d3b93824cffae12244721a58a3c",
       "version_major": 2,
       "version_minor": 0
      },
      "text/plain": [
       "one epoch training:   0%|          | 0/705 [00:00<?, ?it/s]"
      ]
     },
     "metadata": {},
     "output_type": "display_data"
    },
    {
     "data": {
      "application/vnd.jupyter.widget-view+json": {
       "model_id": "4dccc8f514144d0c88b6b42e6ccf6ccd",
       "version_major": 2,
       "version_minor": 0
      },
      "text/plain": [
       "one epoch training:   0%|          | 0/705 [00:00<?, ?it/s]"
      ]
     },
     "metadata": {},
     "output_type": "display_data"
    },
    {
     "data": {
      "application/vnd.jupyter.widget-view+json": {
       "model_id": "9bd238520e0c46b6ab9b86e2ac35ab96",
       "version_major": 2,
       "version_minor": 0
      },
      "text/plain": [
       "one epoch training:   0%|          | 0/705 [00:00<?, ?it/s]"
      ]
     },
     "metadata": {},
     "output_type": "display_data"
    },
    {
     "data": {
      "application/vnd.jupyter.widget-view+json": {
       "model_id": "f45db8682c304318aac8166b424201cf",
       "version_major": 2,
       "version_minor": 0
      },
      "text/plain": [
       "one epoch training:   0%|          | 0/705 [00:00<?, ?it/s]"
      ]
     },
     "metadata": {},
     "output_type": "display_data"
    },
    {
     "data": {
      "application/vnd.jupyter.widget-view+json": {
       "model_id": "247cc9aef2c84bb1b8af1649f3796f68",
       "version_major": 2,
       "version_minor": 0
      },
      "text/plain": [
       "one epoch training:   0%|          | 0/705 [00:00<?, ?it/s]"
      ]
     },
     "metadata": {},
     "output_type": "display_data"
    },
    {
     "data": {
      "application/vnd.jupyter.widget-view+json": {
       "model_id": "ac304535e75b4ff488cd160edad517ed",
       "version_major": 2,
       "version_minor": 0
      },
      "text/plain": [
       "one epoch training:   0%|          | 0/705 [00:00<?, ?it/s]"
      ]
     },
     "metadata": {},
     "output_type": "display_data"
    },
    {
     "data": {
      "application/vnd.jupyter.widget-view+json": {
       "model_id": "9ec7330053d54f61a0ce6fb395a54c88",
       "version_major": 2,
       "version_minor": 0
      },
      "text/plain": [
       "one epoch training:   0%|          | 0/705 [00:00<?, ?it/s]"
      ]
     },
     "metadata": {},
     "output_type": "display_data"
    },
    {
     "data": {
      "application/vnd.jupyter.widget-view+json": {
       "model_id": "69d58df5bf144c65a624a7fdf5f68fc9",
       "version_major": 2,
       "version_minor": 0
      },
      "text/plain": [
       "one epoch training:   0%|          | 0/705 [00:00<?, ?it/s]"
      ]
     },
     "metadata": {},
     "output_type": "display_data"
    },
    {
     "data": {
      "application/vnd.jupyter.widget-view+json": {
       "model_id": "993180327f3140d7ba3e01375505472c",
       "version_major": 2,
       "version_minor": 0
      },
      "text/plain": [
       "one epoch training:   0%|          | 0/705 [00:00<?, ?it/s]"
      ]
     },
     "metadata": {},
     "output_type": "display_data"
    },
    {
     "data": {
      "application/vnd.jupyter.widget-view+json": {
       "model_id": "df2e8d092968430a9128378f09ddfbc2",
       "version_major": 2,
       "version_minor": 0
      },
      "text/plain": [
       "one epoch training:   0%|          | 0/705 [00:00<?, ?it/s]"
      ]
     },
     "metadata": {},
     "output_type": "display_data"
    },
    {
     "data": {
      "application/vnd.jupyter.widget-view+json": {
       "model_id": "2741a9d4410e4fc79da3b0d1b62d8a03",
       "version_major": 2,
       "version_minor": 0
      },
      "text/plain": [
       "one epoch training:   0%|          | 0/705 [00:00<?, ?it/s]"
      ]
     },
     "metadata": {},
     "output_type": "display_data"
    },
    {
     "data": {
      "application/vnd.jupyter.widget-view+json": {
       "model_id": "81d02379f3d04966a3407800bf20fe8d",
       "version_major": 2,
       "version_minor": 0
      },
      "text/plain": [
       "one epoch training:   0%|          | 0/705 [00:00<?, ?it/s]"
      ]
     },
     "metadata": {},
     "output_type": "display_data"
    },
    {
     "data": {
      "application/vnd.jupyter.widget-view+json": {
       "model_id": "9c2ddaa12b3d4977b431734bd3adcdae",
       "version_major": 2,
       "version_minor": 0
      },
      "text/plain": [
       "one epoch training:   0%|          | 0/705 [00:00<?, ?it/s]"
      ]
     },
     "metadata": {},
     "output_type": "display_data"
    },
    {
     "data": {
      "application/vnd.jupyter.widget-view+json": {
       "model_id": "8810f213a58e47c581e26d80fbaaedc4",
       "version_major": 2,
       "version_minor": 0
      },
      "text/plain": [
       "one epoch training:   0%|          | 0/705 [00:00<?, ?it/s]"
      ]
     },
     "metadata": {},
     "output_type": "display_data"
    },
    {
     "data": {
      "application/vnd.jupyter.widget-view+json": {
       "model_id": "03e5cc0f5bbe4c459617ae3cfcc33968",
       "version_major": 2,
       "version_minor": 0
      },
      "text/plain": [
       "one epoch training:   0%|          | 0/705 [00:00<?, ?it/s]"
      ]
     },
     "metadata": {},
     "output_type": "display_data"
    },
    {
     "data": {
      "application/vnd.jupyter.widget-view+json": {
       "model_id": "153b9c0d7cdc4bd880fc5f5e85664939",
       "version_major": 2,
       "version_minor": 0
      },
      "text/plain": [
       "one epoch training:   0%|          | 0/705 [00:00<?, ?it/s]"
      ]
     },
     "metadata": {},
     "output_type": "display_data"
    },
    {
     "data": {
      "application/vnd.jupyter.widget-view+json": {
       "model_id": "8b85bccba1e745ebb43f6b2b64afd4d6",
       "version_major": 2,
       "version_minor": 0
      },
      "text/plain": [
       "one epoch training:   0%|          | 0/705 [00:00<?, ?it/s]"
      ]
     },
     "metadata": {},
     "output_type": "display_data"
    },
    {
     "data": {
      "application/vnd.jupyter.widget-view+json": {
       "model_id": "a4955a3e0458452f89db5c03e31345b0",
       "version_major": 2,
       "version_minor": 0
      },
      "text/plain": [
       "one epoch training:   0%|          | 0/705 [00:00<?, ?it/s]"
      ]
     },
     "metadata": {},
     "output_type": "display_data"
    },
    {
     "data": {
      "application/vnd.jupyter.widget-view+json": {
       "model_id": "8270091ddcc14adda143d546605a5db8",
       "version_major": 2,
       "version_minor": 0
      },
      "text/plain": [
       "one epoch training:   0%|          | 0/705 [00:00<?, ?it/s]"
      ]
     },
     "metadata": {},
     "output_type": "display_data"
    },
    {
     "data": {
      "application/vnd.jupyter.widget-view+json": {
       "model_id": "ebd3671e1b8f464ab8bd1352cb9caeb6",
       "version_major": 2,
       "version_minor": 0
      },
      "text/plain": [
       "one epoch training:   0%|          | 0/705 [00:00<?, ?it/s]"
      ]
     },
     "metadata": {},
     "output_type": "display_data"
    },
    {
     "data": {
      "application/vnd.jupyter.widget-view+json": {
       "model_id": "f1f0fabaa68a41e4a20c40cf37e7ec74",
       "version_major": 2,
       "version_minor": 0
      },
      "text/plain": [
       "one epoch training:   0%|          | 0/705 [00:00<?, ?it/s]"
      ]
     },
     "metadata": {},
     "output_type": "display_data"
    },
    {
     "data": {
      "application/vnd.jupyter.widget-view+json": {
       "model_id": "d8126d801d5d44e79df49c7af8ddecd7",
       "version_major": 2,
       "version_minor": 0
      },
      "text/plain": [
       "one epoch training:   0%|          | 0/705 [00:00<?, ?it/s]"
      ]
     },
     "metadata": {},
     "output_type": "display_data"
    },
    {
     "data": {
      "application/vnd.jupyter.widget-view+json": {
       "model_id": "2655d14304cd473098d5bd425d2e88c2",
       "version_major": 2,
       "version_minor": 0
      },
      "text/plain": [
       "one epoch training:   0%|          | 0/705 [00:00<?, ?it/s]"
      ]
     },
     "metadata": {},
     "output_type": "display_data"
    },
    {
     "data": {
      "application/vnd.jupyter.widget-view+json": {
       "model_id": "8445ed0da35e475e97b58a2297037608",
       "version_major": 2,
       "version_minor": 0
      },
      "text/plain": [
       "one epoch training:   0%|          | 0/705 [00:00<?, ?it/s]"
      ]
     },
     "metadata": {},
     "output_type": "display_data"
    },
    {
     "data": {
      "application/vnd.jupyter.widget-view+json": {
       "model_id": "40be9c5160334adb971f1551029669fb",
       "version_major": 2,
       "version_minor": 0
      },
      "text/plain": [
       "one epoch training:   0%|          | 0/705 [00:00<?, ?it/s]"
      ]
     },
     "metadata": {},
     "output_type": "display_data"
    },
    {
     "data": {
      "application/vnd.jupyter.widget-view+json": {
       "model_id": "2ef518fe07d44fb6862b1864b215f12f",
       "version_major": 2,
       "version_minor": 0
      },
      "text/plain": [
       "one epoch training:   0%|          | 0/705 [00:00<?, ?it/s]"
      ]
     },
     "metadata": {},
     "output_type": "display_data"
    },
    {
     "data": {
      "application/vnd.jupyter.widget-view+json": {
       "model_id": "3abcbea894cb454cbfdd93c32000aa1b",
       "version_major": 2,
       "version_minor": 0
      },
      "text/plain": [
       "one epoch training:   0%|          | 0/705 [00:00<?, ?it/s]"
      ]
     },
     "metadata": {},
     "output_type": "display_data"
    },
    {
     "data": {
      "application/vnd.jupyter.widget-view+json": {
       "model_id": "1d54e42902a6418288ea206651b6c03d",
       "version_major": 2,
       "version_minor": 0
      },
      "text/plain": [
       "one epoch training:   0%|          | 0/705 [00:00<?, ?it/s]"
      ]
     },
     "metadata": {},
     "output_type": "display_data"
    },
    {
     "data": {
      "application/vnd.jupyter.widget-view+json": {
       "model_id": "17bec26a6e2843658ffa6f81f5ee1e2a",
       "version_major": 2,
       "version_minor": 0
      },
      "text/plain": [
       "one epoch training:   0%|          | 0/705 [00:00<?, ?it/s]"
      ]
     },
     "metadata": {},
     "output_type": "display_data"
    },
    {
     "data": {
      "application/vnd.jupyter.widget-view+json": {
       "model_id": "584787a6f97c4d54b641e75883a3db57",
       "version_major": 2,
       "version_minor": 0
      },
      "text/plain": [
       "one epoch training:   0%|          | 0/705 [00:00<?, ?it/s]"
      ]
     },
     "metadata": {},
     "output_type": "display_data"
    },
    {
     "data": {
      "application/vnd.jupyter.widget-view+json": {
       "model_id": "ec3b198d44a041c4a808d44ddb4300bf",
       "version_major": 2,
       "version_minor": 0
      },
      "text/plain": [
       "one epoch training:   0%|          | 0/705 [00:00<?, ?it/s]"
      ]
     },
     "metadata": {},
     "output_type": "display_data"
    },
    {
     "data": {
      "application/vnd.jupyter.widget-view+json": {
       "model_id": "9b7d3ae6f7344e62970166bd9c1c4cb8",
       "version_major": 2,
       "version_minor": 0
      },
      "text/plain": [
       "one epoch training:   0%|          | 0/705 [00:00<?, ?it/s]"
      ]
     },
     "metadata": {},
     "output_type": "display_data"
    },
    {
     "data": {
      "application/vnd.jupyter.widget-view+json": {
       "model_id": "1de13a0857b447cb87106f67d65cb819",
       "version_major": 2,
       "version_minor": 0
      },
      "text/plain": [
       "one epoch training:   0%|          | 0/705 [00:00<?, ?it/s]"
      ]
     },
     "metadata": {},
     "output_type": "display_data"
    },
    {
     "data": {
      "application/vnd.jupyter.widget-view+json": {
       "model_id": "2f7555d3349544b18539d62e63a880a8",
       "version_major": 2,
       "version_minor": 0
      },
      "text/plain": [
       "one epoch training:   0%|          | 0/705 [00:00<?, ?it/s]"
      ]
     },
     "metadata": {},
     "output_type": "display_data"
    },
    {
     "data": {
      "application/vnd.jupyter.widget-view+json": {
       "model_id": "81129b981de543ae9de1e33c96efbe07",
       "version_major": 2,
       "version_minor": 0
      },
      "text/plain": [
       "one epoch training:   0%|          | 0/705 [00:00<?, ?it/s]"
      ]
     },
     "metadata": {},
     "output_type": "display_data"
    },
    {
     "data": {
      "application/vnd.jupyter.widget-view+json": {
       "model_id": "d43a1e632e484207a69b05238d16e76e",
       "version_major": 2,
       "version_minor": 0
      },
      "text/plain": [
       "one epoch training:   0%|          | 0/705 [00:00<?, ?it/s]"
      ]
     },
     "metadata": {},
     "output_type": "display_data"
    },
    {
     "data": {
      "application/vnd.jupyter.widget-view+json": {
       "model_id": "956db69f13684569bcd9606b68d50c20",
       "version_major": 2,
       "version_minor": 0
      },
      "text/plain": [
       "one epoch training:   0%|          | 0/705 [00:00<?, ?it/s]"
      ]
     },
     "metadata": {},
     "output_type": "display_data"
    },
    {
     "data": {
      "application/vnd.jupyter.widget-view+json": {
       "model_id": "73a3573693814d6b8356bcaed4f6a780",
       "version_major": 2,
       "version_minor": 0
      },
      "text/plain": [
       "one epoch training:   0%|          | 0/705 [00:00<?, ?it/s]"
      ]
     },
     "metadata": {},
     "output_type": "display_data"
    },
    {
     "data": {
      "application/vnd.jupyter.widget-view+json": {
       "model_id": "39cd462eee7848ba8d44fb1cec29459b",
       "version_major": 2,
       "version_minor": 0
      },
      "text/plain": [
       "one epoch training:   0%|          | 0/705 [00:00<?, ?it/s]"
      ]
     },
     "metadata": {},
     "output_type": "display_data"
    },
    {
     "data": {
      "application/vnd.jupyter.widget-view+json": {
       "model_id": "592c5dfb709543f581fa88862c1a724a",
       "version_major": 2,
       "version_minor": 0
      },
      "text/plain": [
       "one epoch training:   0%|          | 0/705 [00:00<?, ?it/s]"
      ]
     },
     "metadata": {},
     "output_type": "display_data"
    },
    {
     "data": {
      "application/vnd.jupyter.widget-view+json": {
       "model_id": "c30c162ac8f64918a5c60ed63f8ac4df",
       "version_major": 2,
       "version_minor": 0
      },
      "text/plain": [
       "one epoch training:   0%|          | 0/705 [00:00<?, ?it/s]"
      ]
     },
     "metadata": {},
     "output_type": "display_data"
    },
    {
     "data": {
      "application/vnd.jupyter.widget-view+json": {
       "model_id": "6e1c742514ca4d30989670dd28b1eb27",
       "version_major": 2,
       "version_minor": 0
      },
      "text/plain": [
       "one epoch training:   0%|          | 0/705 [00:00<?, ?it/s]"
      ]
     },
     "metadata": {},
     "output_type": "display_data"
    },
    {
     "data": {
      "application/vnd.jupyter.widget-view+json": {
       "model_id": "680889608cf946348cc7f64a3ec6261f",
       "version_major": 2,
       "version_minor": 0
      },
      "text/plain": [
       "one epoch training:   0%|          | 0/705 [00:00<?, ?it/s]"
      ]
     },
     "metadata": {},
     "output_type": "display_data"
    },
    {
     "data": {
      "application/vnd.jupyter.widget-view+json": {
       "model_id": "12d173f6269f4cdda3ce51cd9ded64fe",
       "version_major": 2,
       "version_minor": 0
      },
      "text/plain": [
       "one epoch training:   0%|          | 0/705 [00:00<?, ?it/s]"
      ]
     },
     "metadata": {},
     "output_type": "display_data"
    },
    {
     "data": {
      "application/vnd.jupyter.widget-view+json": {
       "model_id": "06bba340bb134fff86a4fd279c6e9550",
       "version_major": 2,
       "version_minor": 0
      },
      "text/plain": [
       "one epoch training:   0%|          | 0/705 [00:00<?, ?it/s]"
      ]
     },
     "metadata": {},
     "output_type": "display_data"
    },
    {
     "data": {
      "application/vnd.jupyter.widget-view+json": {
       "model_id": "e42d66fabf9c4f409ad4a1d1dbf12729",
       "version_major": 2,
       "version_minor": 0
      },
      "text/plain": [
       "one epoch training:   0%|          | 0/705 [00:00<?, ?it/s]"
      ]
     },
     "metadata": {},
     "output_type": "display_data"
    },
    {
     "data": {
      "application/vnd.jupyter.widget-view+json": {
       "model_id": "123c4ed3cf7b49a786cd70baf46d16a8",
       "version_major": 2,
       "version_minor": 0
      },
      "text/plain": [
       "one epoch training:   0%|          | 0/705 [00:00<?, ?it/s]"
      ]
     },
     "metadata": {},
     "output_type": "display_data"
    },
    {
     "data": {
      "application/vnd.jupyter.widget-view+json": {
       "model_id": "dfe930e5892b46e792a8b3ec557d6935",
       "version_major": 2,
       "version_minor": 0
      },
      "text/plain": [
       "one epoch training:   0%|          | 0/705 [00:00<?, ?it/s]"
      ]
     },
     "metadata": {},
     "output_type": "display_data"
    },
    {
     "data": {
      "application/vnd.jupyter.widget-view+json": {
       "model_id": "f52bb62f9c284b32b46c040d085ebdfe",
       "version_major": 2,
       "version_minor": 0
      },
      "text/plain": [
       "one epoch training:   0%|          | 0/705 [00:00<?, ?it/s]"
      ]
     },
     "metadata": {},
     "output_type": "display_data"
    },
    {
     "data": {
      "application/vnd.jupyter.widget-view+json": {
       "model_id": "7d8fe1c4bf2344a2a335c02c20b5fe37",
       "version_major": 2,
       "version_minor": 0
      },
      "text/plain": [
       "one epoch training:   0%|          | 0/705 [00:00<?, ?it/s]"
      ]
     },
     "metadata": {},
     "output_type": "display_data"
    },
    {
     "data": {
      "application/vnd.jupyter.widget-view+json": {
       "model_id": "9921d34237a641f0ac45b5a7d3ac649b",
       "version_major": 2,
       "version_minor": 0
      },
      "text/plain": [
       "one epoch training:   0%|          | 0/705 [00:00<?, ?it/s]"
      ]
     },
     "metadata": {},
     "output_type": "display_data"
    },
    {
     "data": {
      "application/vnd.jupyter.widget-view+json": {
       "model_id": "9f99bd0424ae47e19c84faf93fef0a5f",
       "version_major": 2,
       "version_minor": 0
      },
      "text/plain": [
       "one epoch training:   0%|          | 0/705 [00:00<?, ?it/s]"
      ]
     },
     "metadata": {},
     "output_type": "display_data"
    },
    {
     "data": {
      "application/vnd.jupyter.widget-view+json": {
       "model_id": "04075bb733464aea9cddbae589858589",
       "version_major": 2,
       "version_minor": 0
      },
      "text/plain": [
       "one epoch training:   0%|          | 0/705 [00:00<?, ?it/s]"
      ]
     },
     "metadata": {},
     "output_type": "display_data"
    },
    {
     "data": {
      "application/vnd.jupyter.widget-view+json": {
       "model_id": "73f7c16ce8f44989829a8e3d5b8dc566",
       "version_major": 2,
       "version_minor": 0
      },
      "text/plain": [
       "one epoch training:   0%|          | 0/705 [00:00<?, ?it/s]"
      ]
     },
     "metadata": {},
     "output_type": "display_data"
    },
    {
     "data": {
      "application/vnd.jupyter.widget-view+json": {
       "model_id": "9783ab644141405bb5bc2a818344619d",
       "version_major": 2,
       "version_minor": 0
      },
      "text/plain": [
       "one epoch training:   0%|          | 0/705 [00:00<?, ?it/s]"
      ]
     },
     "metadata": {},
     "output_type": "display_data"
    },
    {
     "data": {
      "application/vnd.jupyter.widget-view+json": {
       "model_id": "b18536b1a12b444bbc2a155c29da30ad",
       "version_major": 2,
       "version_minor": 0
      },
      "text/plain": [
       "one epoch training:   0%|          | 0/705 [00:00<?, ?it/s]"
      ]
     },
     "metadata": {},
     "output_type": "display_data"
    },
    {
     "data": {
      "application/vnd.jupyter.widget-view+json": {
       "model_id": "84ef220e680d46f1928fed00362abac9",
       "version_major": 2,
       "version_minor": 0
      },
      "text/plain": [
       "one epoch training:   0%|          | 0/705 [00:00<?, ?it/s]"
      ]
     },
     "metadata": {},
     "output_type": "display_data"
    },
    {
     "data": {
      "application/vnd.jupyter.widget-view+json": {
       "model_id": "5fca15ee8b61487fb8884654bc53ae08",
       "version_major": 2,
       "version_minor": 0
      },
      "text/plain": [
       "one epoch training:   0%|          | 0/705 [00:00<?, ?it/s]"
      ]
     },
     "metadata": {},
     "output_type": "display_data"
    },
    {
     "data": {
      "application/vnd.jupyter.widget-view+json": {
       "model_id": "c850515d849f413581ab985f7497c894",
       "version_major": 2,
       "version_minor": 0
      },
      "text/plain": [
       "one epoch training:   0%|          | 0/705 [00:00<?, ?it/s]"
      ]
     },
     "metadata": {},
     "output_type": "display_data"
    },
    {
     "data": {
      "application/vnd.jupyter.widget-view+json": {
       "model_id": "dc0abb004b254fdabc424f47d41a7f7e",
       "version_major": 2,
       "version_minor": 0
      },
      "text/plain": [
       "one epoch training:   0%|          | 0/705 [00:00<?, ?it/s]"
      ]
     },
     "metadata": {},
     "output_type": "display_data"
    },
    {
     "data": {
      "application/vnd.jupyter.widget-view+json": {
       "model_id": "078216fc9da14e07950c4f5b0b8cde6c",
       "version_major": 2,
       "version_minor": 0
      },
      "text/plain": [
       "one epoch training:   0%|          | 0/705 [00:00<?, ?it/s]"
      ]
     },
     "metadata": {},
     "output_type": "display_data"
    },
    {
     "data": {
      "application/vnd.jupyter.widget-view+json": {
       "model_id": "f409bc67955f4ebeaabee14196bde83c",
       "version_major": 2,
       "version_minor": 0
      },
      "text/plain": [
       "one epoch training:   0%|          | 0/705 [00:00<?, ?it/s]"
      ]
     },
     "metadata": {},
     "output_type": "display_data"
    },
    {
     "data": {
      "application/vnd.jupyter.widget-view+json": {
       "model_id": "78a8d55281a443d787e3e245658c05a7",
       "version_major": 2,
       "version_minor": 0
      },
      "text/plain": [
       "one epoch training:   0%|          | 0/705 [00:00<?, ?it/s]"
      ]
     },
     "metadata": {},
     "output_type": "display_data"
    },
    {
     "data": {
      "application/vnd.jupyter.widget-view+json": {
       "model_id": "af0dfc7ffa004979b3d70712f1ed2f75",
       "version_major": 2,
       "version_minor": 0
      },
      "text/plain": [
       "one epoch training:   0%|          | 0/705 [00:00<?, ?it/s]"
      ]
     },
     "metadata": {},
     "output_type": "display_data"
    },
    {
     "data": {
      "application/vnd.jupyter.widget-view+json": {
       "model_id": "11903ccdaff140eb8f4c174612226b91",
       "version_major": 2,
       "version_minor": 0
      },
      "text/plain": [
       "one epoch training:   0%|          | 0/705 [00:00<?, ?it/s]"
      ]
     },
     "metadata": {},
     "output_type": "display_data"
    },
    {
     "data": {
      "application/vnd.jupyter.widget-view+json": {
       "model_id": "e0c5f5a1cc14456daa457e28239c154e",
       "version_major": 2,
       "version_minor": 0
      },
      "text/plain": [
       "one epoch training:   0%|          | 0/705 [00:00<?, ?it/s]"
      ]
     },
     "metadata": {},
     "output_type": "display_data"
    },
    {
     "data": {
      "application/vnd.jupyter.widget-view+json": {
       "model_id": "96041a8a4f21476d985772da52b1ddc2",
       "version_major": 2,
       "version_minor": 0
      },
      "text/plain": [
       "one epoch training:   0%|          | 0/705 [00:00<?, ?it/s]"
      ]
     },
     "metadata": {},
     "output_type": "display_data"
    },
    {
     "data": {
      "application/vnd.jupyter.widget-view+json": {
       "model_id": "394c56a14fa3407caa0d2e720848fa40",
       "version_major": 2,
       "version_minor": 0
      },
      "text/plain": [
       "one epoch training:   0%|          | 0/705 [00:00<?, ?it/s]"
      ]
     },
     "metadata": {},
     "output_type": "display_data"
    },
    {
     "data": {
      "application/vnd.jupyter.widget-view+json": {
       "model_id": "90e675e1c11f49cab7dab66c6ad2db94",
       "version_major": 2,
       "version_minor": 0
      },
      "text/plain": [
       "one epoch training:   0%|          | 0/705 [00:00<?, ?it/s]"
      ]
     },
     "metadata": {},
     "output_type": "display_data"
    },
    {
     "data": {
      "application/vnd.jupyter.widget-view+json": {
       "model_id": "da291c0cdc2a466f94e8db32039a4986",
       "version_major": 2,
       "version_minor": 0
      },
      "text/plain": [
       "one epoch training:   0%|          | 0/705 [00:00<?, ?it/s]"
      ]
     },
     "metadata": {},
     "output_type": "display_data"
    },
    {
     "data": {
      "application/vnd.jupyter.widget-view+json": {
       "model_id": "92ce690b1d3d41b69ff7acf4f0b7c75d",
       "version_major": 2,
       "version_minor": 0
      },
      "text/plain": [
       "one epoch training:   0%|          | 0/705 [00:00<?, ?it/s]"
      ]
     },
     "metadata": {},
     "output_type": "display_data"
    },
    {
     "data": {
      "application/vnd.jupyter.widget-view+json": {
       "model_id": "79dd0c1b07d54caa99e5e9acd30d7a01",
       "version_major": 2,
       "version_minor": 0
      },
      "text/plain": [
       "one epoch training:   0%|          | 0/705 [00:00<?, ?it/s]"
      ]
     },
     "metadata": {},
     "output_type": "display_data"
    },
    {
     "data": {
      "application/vnd.jupyter.widget-view+json": {
       "model_id": "7becdbf1328f48bcaac559288d01920d",
       "version_major": 2,
       "version_minor": 0
      },
      "text/plain": [
       "one epoch training:   0%|          | 0/705 [00:00<?, ?it/s]"
      ]
     },
     "metadata": {},
     "output_type": "display_data"
    },
    {
     "data": {
      "application/vnd.jupyter.widget-view+json": {
       "model_id": "a7b5cac8dab04806819bc35870e80bfa",
       "version_major": 2,
       "version_minor": 0
      },
      "text/plain": [
       "one epoch training:   0%|          | 0/705 [00:00<?, ?it/s]"
      ]
     },
     "metadata": {},
     "output_type": "display_data"
    },
    {
     "data": {
      "application/vnd.jupyter.widget-view+json": {
       "model_id": "999b699215ea4e608d1ca22148dc81c9",
       "version_major": 2,
       "version_minor": 0
      },
      "text/plain": [
       "one epoch training:   0%|          | 0/705 [00:00<?, ?it/s]"
      ]
     },
     "metadata": {},
     "output_type": "display_data"
    },
    {
     "data": {
      "application/vnd.jupyter.widget-view+json": {
       "model_id": "7bb12bc6139a480dba40b91b1ff9cb62",
       "version_major": 2,
       "version_minor": 0
      },
      "text/plain": [
       "one epoch training:   0%|          | 0/705 [00:00<?, ?it/s]"
      ]
     },
     "metadata": {},
     "output_type": "display_data"
    },
    {
     "data": {
      "application/vnd.jupyter.widget-view+json": {
       "model_id": "1bf58da47edf4481abf913301c4d2551",
       "version_major": 2,
       "version_minor": 0
      },
      "text/plain": [
       "one epoch training:   0%|          | 0/705 [00:00<?, ?it/s]"
      ]
     },
     "metadata": {},
     "output_type": "display_data"
    },
    {
     "data": {
      "application/vnd.jupyter.widget-view+json": {
       "model_id": "7570a19e21364f07a7e092076b207464",
       "version_major": 2,
       "version_minor": 0
      },
      "text/plain": [
       "one epoch training:   0%|          | 0/705 [00:00<?, ?it/s]"
      ]
     },
     "metadata": {},
     "output_type": "display_data"
    },
    {
     "data": {
      "application/vnd.jupyter.widget-view+json": {
       "model_id": "44532729e44e420193b15be70060c05f",
       "version_major": 2,
       "version_minor": 0
      },
      "text/plain": [
       "one epoch training:   0%|          | 0/705 [00:00<?, ?it/s]"
      ]
     },
     "metadata": {},
     "output_type": "display_data"
    },
    {
     "data": {
      "application/vnd.jupyter.widget-view+json": {
       "model_id": "0e35d44f620b4a81a6a976a9c09f9aa6",
       "version_major": 2,
       "version_minor": 0
      },
      "text/plain": [
       "one epoch training:   0%|          | 0/705 [00:00<?, ?it/s]"
      ]
     },
     "metadata": {},
     "output_type": "display_data"
    },
    {
     "data": {
      "application/vnd.jupyter.widget-view+json": {
       "model_id": "e4b69e180ee745bda25af02509681143",
       "version_major": 2,
       "version_minor": 0
      },
      "text/plain": [
       "one epoch training:   0%|          | 0/705 [00:00<?, ?it/s]"
      ]
     },
     "metadata": {},
     "output_type": "display_data"
    },
    {
     "data": {
      "application/vnd.jupyter.widget-view+json": {
       "model_id": "24b0910fcc394951a5801fabaa82d193",
       "version_major": 2,
       "version_minor": 0
      },
      "text/plain": [
       "one epoch training:   0%|          | 0/705 [00:00<?, ?it/s]"
      ]
     },
     "metadata": {},
     "output_type": "display_data"
    },
    {
     "data": {
      "application/vnd.jupyter.widget-view+json": {
       "model_id": "9196619adf9541c7ad5a608639818581",
       "version_major": 2,
       "version_minor": 0
      },
      "text/plain": [
       "one epoch training:   0%|          | 0/705 [00:00<?, ?it/s]"
      ]
     },
     "metadata": {},
     "output_type": "display_data"
    },
    {
     "data": {
      "application/vnd.jupyter.widget-view+json": {
       "model_id": "d51d5e8e16ed4e779948821172cf3580",
       "version_major": 2,
       "version_minor": 0
      },
      "text/plain": [
       "one epoch training:   0%|          | 0/705 [00:00<?, ?it/s]"
      ]
     },
     "metadata": {},
     "output_type": "display_data"
    },
    {
     "data": {
      "application/vnd.jupyter.widget-view+json": {
       "model_id": "61132a092e5d48909dfe2c6c02e1aec4",
       "version_major": 2,
       "version_minor": 0
      },
      "text/plain": [
       "one epoch training:   0%|          | 0/705 [00:00<?, ?it/s]"
      ]
     },
     "metadata": {},
     "output_type": "display_data"
    },
    {
     "data": {
      "application/vnd.jupyter.widget-view+json": {
       "model_id": "94e7aa22d22c425bac9a6850f0e7c86a",
       "version_major": 2,
       "version_minor": 0
      },
      "text/plain": [
       "one epoch training:   0%|          | 0/705 [00:00<?, ?it/s]"
      ]
     },
     "metadata": {},
     "output_type": "display_data"
    },
    {
     "data": {
      "application/vnd.jupyter.widget-view+json": {
       "model_id": "734f8a850a7c48ad8cdfffdcfd7017c1",
       "version_major": 2,
       "version_minor": 0
      },
      "text/plain": [
       "one epoch training:   0%|          | 0/705 [00:00<?, ?it/s]"
      ]
     },
     "metadata": {},
     "output_type": "display_data"
    },
    {
     "data": {
      "application/vnd.jupyter.widget-view+json": {
       "model_id": "15609b6eb79c4e5299370a77c7a24128",
       "version_major": 2,
       "version_minor": 0
      },
      "text/plain": [
       "one epoch training:   0%|          | 0/705 [00:00<?, ?it/s]"
      ]
     },
     "metadata": {},
     "output_type": "display_data"
    },
    {
     "data": {
      "application/vnd.jupyter.widget-view+json": {
       "model_id": "59b29ae147b64bdd8492c98b92e452ba",
       "version_major": 2,
       "version_minor": 0
      },
      "text/plain": [
       "one epoch training:   0%|          | 0/705 [00:00<?, ?it/s]"
      ]
     },
     "metadata": {},
     "output_type": "display_data"
    },
    {
     "data": {
      "application/vnd.jupyter.widget-view+json": {
       "model_id": "905b4367b42845be8121a876805ad7d7",
       "version_major": 2,
       "version_minor": 0
      },
      "text/plain": [
       "one epoch training:   0%|          | 0/705 [00:00<?, ?it/s]"
      ]
     },
     "metadata": {},
     "output_type": "display_data"
    },
    {
     "data": {
      "application/vnd.jupyter.widget-view+json": {
       "model_id": "1405ac02a1ad40d8b0271a10f4f7fbc9",
       "version_major": 2,
       "version_minor": 0
      },
      "text/plain": [
       "one epoch training:   0%|          | 0/705 [00:00<?, ?it/s]"
      ]
     },
     "metadata": {},
     "output_type": "display_data"
    },
    {
     "data": {
      "application/vnd.jupyter.widget-view+json": {
       "model_id": "3392c814b4d04eb4b9ccfaaf18c3f844",
       "version_major": 2,
       "version_minor": 0
      },
      "text/plain": [
       "one epoch training:   0%|          | 0/705 [00:00<?, ?it/s]"
      ]
     },
     "metadata": {},
     "output_type": "display_data"
    },
    {
     "data": {
      "application/vnd.jupyter.widget-view+json": {
       "model_id": "1841de1ba1064038b76452f09f174b9a",
       "version_major": 2,
       "version_minor": 0
      },
      "text/plain": [
       "one epoch training:   0%|          | 0/705 [00:00<?, ?it/s]"
      ]
     },
     "metadata": {},
     "output_type": "display_data"
    },
    {
     "data": {
      "application/vnd.jupyter.widget-view+json": {
       "model_id": "ac56e8d3959c40daae7ec23b6b623ccc",
       "version_major": 2,
       "version_minor": 0
      },
      "text/plain": [
       "one epoch training:   0%|          | 0/705 [00:00<?, ?it/s]"
      ]
     },
     "metadata": {},
     "output_type": "display_data"
    },
    {
     "data": {
      "application/vnd.jupyter.widget-view+json": {
       "model_id": "0ac65e1e03cd4d14badae128c220bdae",
       "version_major": 2,
       "version_minor": 0
      },
      "text/plain": [
       "one epoch training:   0%|          | 0/705 [00:00<?, ?it/s]"
      ]
     },
     "metadata": {},
     "output_type": "display_data"
    },
    {
     "data": {
      "application/vnd.jupyter.widget-view+json": {
       "model_id": "f678ff6fd99a49078aa8c572e8aaceb4",
       "version_major": 2,
       "version_minor": 0
      },
      "text/plain": [
       "one epoch training:   0%|          | 0/705 [00:00<?, ?it/s]"
      ]
     },
     "metadata": {},
     "output_type": "display_data"
    },
    {
     "data": {
      "application/vnd.jupyter.widget-view+json": {
       "model_id": "7f132589402b4ad8b3d7fcc2b8520cdb",
       "version_major": 2,
       "version_minor": 0
      },
      "text/plain": [
       "one epoch training:   0%|          | 0/705 [00:00<?, ?it/s]"
      ]
     },
     "metadata": {},
     "output_type": "display_data"
    },
    {
     "data": {
      "application/vnd.jupyter.widget-view+json": {
       "model_id": "86a5e92066f74c0aae7531c1c4b896af",
       "version_major": 2,
       "version_minor": 0
      },
      "text/plain": [
       "one epoch training:   0%|          | 0/705 [00:00<?, ?it/s]"
      ]
     },
     "metadata": {},
     "output_type": "display_data"
    },
    {
     "data": {
      "application/vnd.jupyter.widget-view+json": {
       "model_id": "574d78e99e82429ab5b5096ca7605cd4",
       "version_major": 2,
       "version_minor": 0
      },
      "text/plain": [
       "one epoch training:   0%|          | 0/705 [00:00<?, ?it/s]"
      ]
     },
     "metadata": {},
     "output_type": "display_data"
    },
    {
     "data": {
      "application/vnd.jupyter.widget-view+json": {
       "model_id": "41901085f32f4f598ae6e14fae6de2ef",
       "version_major": 2,
       "version_minor": 0
      },
      "text/plain": [
       "one epoch training:   0%|          | 0/705 [00:00<?, ?it/s]"
      ]
     },
     "metadata": {},
     "output_type": "display_data"
    },
    {
     "data": {
      "application/vnd.jupyter.widget-view+json": {
       "model_id": "e851d58a27e9453396785d733b41f5d7",
       "version_major": 2,
       "version_minor": 0
      },
      "text/plain": [
       "one epoch training:   0%|          | 0/705 [00:00<?, ?it/s]"
      ]
     },
     "metadata": {},
     "output_type": "display_data"
    },
    {
     "data": {
      "application/vnd.jupyter.widget-view+json": {
       "model_id": "18ab16c7b761448dbb07e89e86f1202e",
       "version_major": 2,
       "version_minor": 0
      },
      "text/plain": [
       "one epoch training:   0%|          | 0/705 [00:00<?, ?it/s]"
      ]
     },
     "metadata": {},
     "output_type": "display_data"
    },
    {
     "data": {
      "application/vnd.jupyter.widget-view+json": {
       "model_id": "79671c82e5164cfab4aceaf175a8a202",
       "version_major": 2,
       "version_minor": 0
      },
      "text/plain": [
       "one epoch training:   0%|          | 0/705 [00:00<?, ?it/s]"
      ]
     },
     "metadata": {},
     "output_type": "display_data"
    },
    {
     "data": {
      "application/vnd.jupyter.widget-view+json": {
       "model_id": "785e6bb91b594d42a33648a0df630289",
       "version_major": 2,
       "version_minor": 0
      },
      "text/plain": [
       "one epoch training:   0%|          | 0/705 [00:00<?, ?it/s]"
      ]
     },
     "metadata": {},
     "output_type": "display_data"
    },
    {
     "data": {
      "application/vnd.jupyter.widget-view+json": {
       "model_id": "9b74c6eb30f8480a885f64c9cf1290c8",
       "version_major": 2,
       "version_minor": 0
      },
      "text/plain": [
       "one epoch training:   0%|          | 0/705 [00:00<?, ?it/s]"
      ]
     },
     "metadata": {},
     "output_type": "display_data"
    },
    {
     "data": {
      "application/vnd.jupyter.widget-view+json": {
       "model_id": "ecec00e8b1814d6886bfe8362b06b1dc",
       "version_major": 2,
       "version_minor": 0
      },
      "text/plain": [
       "one epoch training:   0%|          | 0/705 [00:00<?, ?it/s]"
      ]
     },
     "metadata": {},
     "output_type": "display_data"
    },
    {
     "data": {
      "application/vnd.jupyter.widget-view+json": {
       "model_id": "a1ec8d72bcb94238a025cf1213ee35ff",
       "version_major": 2,
       "version_minor": 0
      },
      "text/plain": [
       "one epoch training:   0%|          | 0/705 [00:00<?, ?it/s]"
      ]
     },
     "metadata": {},
     "output_type": "display_data"
    },
    {
     "data": {
      "application/vnd.jupyter.widget-view+json": {
       "model_id": "97d3ac47b3ad4a2e8e423ec70146be2b",
       "version_major": 2,
       "version_minor": 0
      },
      "text/plain": [
       "one epoch training:   0%|          | 0/705 [00:00<?, ?it/s]"
      ]
     },
     "metadata": {},
     "output_type": "display_data"
    },
    {
     "data": {
      "application/vnd.jupyter.widget-view+json": {
       "model_id": "23c8b93b623c48c68eaa9683a702c561",
       "version_major": 2,
       "version_minor": 0
      },
      "text/plain": [
       "one epoch training:   0%|          | 0/705 [00:00<?, ?it/s]"
      ]
     },
     "metadata": {},
     "output_type": "display_data"
    },
    {
     "data": {
      "application/vnd.jupyter.widget-view+json": {
       "model_id": "70e3d093c7cb4b29a0805e1ca7998c51",
       "version_major": 2,
       "version_minor": 0
      },
      "text/plain": [
       "one epoch training:   0%|          | 0/705 [00:00<?, ?it/s]"
      ]
     },
     "metadata": {},
     "output_type": "display_data"
    },
    {
     "data": {
      "application/vnd.jupyter.widget-view+json": {
       "model_id": "ded82398082349aea28c90279d6b9a78",
       "version_major": 2,
       "version_minor": 0
      },
      "text/plain": [
       "one epoch training:   0%|          | 0/705 [00:00<?, ?it/s]"
      ]
     },
     "metadata": {},
     "output_type": "display_data"
    },
    {
     "data": {
      "application/vnd.jupyter.widget-view+json": {
       "model_id": "19ed9bc0187b4261a1ae77ffc044441c",
       "version_major": 2,
       "version_minor": 0
      },
      "text/plain": [
       "one epoch training:   0%|          | 0/705 [00:00<?, ?it/s]"
      ]
     },
     "metadata": {},
     "output_type": "display_data"
    },
    {
     "data": {
      "application/vnd.jupyter.widget-view+json": {
       "model_id": "afe82bdae38e4c7c9079a6f7224e6451",
       "version_major": 2,
       "version_minor": 0
      },
      "text/plain": [
       "one epoch training:   0%|          | 0/705 [00:00<?, ?it/s]"
      ]
     },
     "metadata": {},
     "output_type": "display_data"
    },
    {
     "data": {
      "application/vnd.jupyter.widget-view+json": {
       "model_id": "5ee4a85266ea4b47817e9b11915691b3",
       "version_major": 2,
       "version_minor": 0
      },
      "text/plain": [
       "one epoch training:   0%|          | 0/705 [00:00<?, ?it/s]"
      ]
     },
     "metadata": {},
     "output_type": "display_data"
    },
    {
     "data": {
      "application/vnd.jupyter.widget-view+json": {
       "model_id": "c54c264b6f91481991e54f62700936e2",
       "version_major": 2,
       "version_minor": 0
      },
      "text/plain": [
       "one epoch training:   0%|          | 0/705 [00:00<?, ?it/s]"
      ]
     },
     "metadata": {},
     "output_type": "display_data"
    },
    {
     "data": {
      "application/vnd.jupyter.widget-view+json": {
       "model_id": "9212d1e415874bc4a87587bf45263589",
       "version_major": 2,
       "version_minor": 0
      },
      "text/plain": [
       "one epoch training:   0%|          | 0/705 [00:00<?, ?it/s]"
      ]
     },
     "metadata": {},
     "output_type": "display_data"
    },
    {
     "data": {
      "application/vnd.jupyter.widget-view+json": {
       "model_id": "a1e0328cc67747adad2160370b2b44f8",
       "version_major": 2,
       "version_minor": 0
      },
      "text/plain": [
       "one epoch training:   0%|          | 0/705 [00:00<?, ?it/s]"
      ]
     },
     "metadata": {},
     "output_type": "display_data"
    },
    {
     "data": {
      "application/vnd.jupyter.widget-view+json": {
       "model_id": "c517494d9bc243559f3c90427a83041f",
       "version_major": 2,
       "version_minor": 0
      },
      "text/plain": [
       "one epoch training:   0%|          | 0/705 [00:00<?, ?it/s]"
      ]
     },
     "metadata": {},
     "output_type": "display_data"
    },
    {
     "data": {
      "application/vnd.jupyter.widget-view+json": {
       "model_id": "a7d51655c29a4c72b3dad297483765ae",
       "version_major": 2,
       "version_minor": 0
      },
      "text/plain": [
       "one epoch training:   0%|          | 0/705 [00:00<?, ?it/s]"
      ]
     },
     "metadata": {},
     "output_type": "display_data"
    },
    {
     "data": {
      "application/vnd.jupyter.widget-view+json": {
       "model_id": "6eba4aeab5324059ab3c26af4b706293",
       "version_major": 2,
       "version_minor": 0
      },
      "text/plain": [
       "one epoch training:   0%|          | 0/705 [00:00<?, ?it/s]"
      ]
     },
     "metadata": {},
     "output_type": "display_data"
    },
    {
     "data": {
      "application/vnd.jupyter.widget-view+json": {
       "model_id": "11c6ac8f705f4682bf8f1bf1a05af0eb",
       "version_major": 2,
       "version_minor": 0
      },
      "text/plain": [
       "one epoch training:   0%|          | 0/705 [00:00<?, ?it/s]"
      ]
     },
     "metadata": {},
     "output_type": "display_data"
    },
    {
     "data": {
      "application/vnd.jupyter.widget-view+json": {
       "model_id": "19c2b681702b4b18952cc23eeeccbdc1",
       "version_major": 2,
       "version_minor": 0
      },
      "text/plain": [
       "one epoch training:   0%|          | 0/705 [00:00<?, ?it/s]"
      ]
     },
     "metadata": {},
     "output_type": "display_data"
    },
    {
     "data": {
      "application/vnd.jupyter.widget-view+json": {
       "model_id": "421a4d6593404a4788893fe6b7a57008",
       "version_major": 2,
       "version_minor": 0
      },
      "text/plain": [
       "one epoch training:   0%|          | 0/705 [00:00<?, ?it/s]"
      ]
     },
     "metadata": {},
     "output_type": "display_data"
    },
    {
     "data": {
      "application/vnd.jupyter.widget-view+json": {
       "model_id": "c49fd69146444263809fb249dd41a87f",
       "version_major": 2,
       "version_minor": 0
      },
      "text/plain": [
       "one epoch training:   0%|          | 0/705 [00:00<?, ?it/s]"
      ]
     },
     "metadata": {},
     "output_type": "display_data"
    },
    {
     "data": {
      "application/vnd.jupyter.widget-view+json": {
       "model_id": "34dd5f3d34bf461f8f6984e8f6accdfc",
       "version_major": 2,
       "version_minor": 0
      },
      "text/plain": [
       "one epoch training:   0%|          | 0/705 [00:00<?, ?it/s]"
      ]
     },
     "metadata": {},
     "output_type": "display_data"
    },
    {
     "data": {
      "application/vnd.jupyter.widget-view+json": {
       "model_id": "2856c0ea7bb141618bbacc196b1e4038",
       "version_major": 2,
       "version_minor": 0
      },
      "text/plain": [
       "one epoch training:   0%|          | 0/705 [00:00<?, ?it/s]"
      ]
     },
     "metadata": {},
     "output_type": "display_data"
    },
    {
     "data": {
      "application/vnd.jupyter.widget-view+json": {
       "model_id": "ab5bf62e368f49bfb8d6d21b93e0213b",
       "version_major": 2,
       "version_minor": 0
      },
      "text/plain": [
       "one epoch training:   0%|          | 0/705 [00:00<?, ?it/s]"
      ]
     },
     "metadata": {},
     "output_type": "display_data"
    },
    {
     "data": {
      "application/vnd.jupyter.widget-view+json": {
       "model_id": "739d1581e27e42f8990dbf1e149405d0",
       "version_major": 2,
       "version_minor": 0
      },
      "text/plain": [
       "one epoch training:   0%|          | 0/705 [00:00<?, ?it/s]"
      ]
     },
     "metadata": {},
     "output_type": "display_data"
    },
    {
     "data": {
      "application/vnd.jupyter.widget-view+json": {
       "model_id": "398d583b83554fb4a8b97370f145d6ea",
       "version_major": 2,
       "version_minor": 0
      },
      "text/plain": [
       "one epoch training:   0%|          | 0/705 [00:00<?, ?it/s]"
      ]
     },
     "metadata": {},
     "output_type": "display_data"
    },
    {
     "data": {
      "application/vnd.jupyter.widget-view+json": {
       "model_id": "46b6bab2314a4ebdb36e23c5b41bfccf",
       "version_major": 2,
       "version_minor": 0
      },
      "text/plain": [
       "one epoch training:   0%|          | 0/705 [00:00<?, ?it/s]"
      ]
     },
     "metadata": {},
     "output_type": "display_data"
    },
    {
     "data": {
      "application/vnd.jupyter.widget-view+json": {
       "model_id": "ae3cb57a5a3448f598cb5748fbe6fa0b",
       "version_major": 2,
       "version_minor": 0
      },
      "text/plain": [
       "one epoch training:   0%|          | 0/705 [00:00<?, ?it/s]"
      ]
     },
     "metadata": {},
     "output_type": "display_data"
    },
    {
     "data": {
      "application/vnd.jupyter.widget-view+json": {
       "model_id": "3916747c6d0d4d07a2ddf113367c3a66",
       "version_major": 2,
       "version_minor": 0
      },
      "text/plain": [
       "one epoch training:   0%|          | 0/705 [00:00<?, ?it/s]"
      ]
     },
     "metadata": {},
     "output_type": "display_data"
    },
    {
     "name": "stdout",
     "output_type": "stream",
     "text": [
      "Finished Training\n"
     ]
    }
   ],
   "source": [
    "classes = []\n",
    "true_classes= []\n",
    "epochs_num = 500\n",
    "\n",
    "for epoch in tqdm_notebook(range(epochs_num), desc='epochs'):  # loop over the dataset multiple times\n",
    "    \n",
    "    my_callback.on_epoch_begin(epoch) \n",
    "    \n",
    "    running_loss = 0.0\n",
    "    i = 0\n",
    "    for data in tqdm_notebook(train_dataloader, desc='one epoch training'):\n",
    "        # get the inputs; data is a list of [inputs, labels]\n",
    "        inputs, labels = data\n",
    "        true_classes.append(labels)\n",
    "        inputs = inputs.to(device)\n",
    "        labels = labels.to(device)\n",
    "        \n",
    "        # zero the parameter gradients\n",
    "        optimizer.zero_grad()\n",
    "\n",
    "        # forward + backward + optimize\n",
    "        outputs = net(inputs)\n",
    "        classes.append(nn.Softmax(dim=1)(outputs))\n",
    "        outputs = outputs.to(device)\n",
    "        loss = criterion(outputs, labels)\n",
    "        loss.backward()\n",
    "        optimizer.step()\n",
    "\n",
    "        running_loss += loss.item()\n",
    "        i += 1\n",
    "    \n",
    "    my_callback.on_epoch_end(true_classes, classes,\n",
    "                          [\"Benign\", \"InSitu\", \"Invasive\"],\n",
    "                          running_loss)\n",
    "    \n",
    "    if epoch % 50 == 0:\n",
    "        torch.save(net.state_dict(), \"Saved_ResNet/\")\n",
    "    \n",
    "    running_loss = 0.0\n",
    "    classes = []\n",
    "    true_classes= []\n",
    "\n",
    "print('Finished Training')"
   ]
  },
  {
   "cell_type": "markdown",
   "id": "e97070de",
   "metadata": {},
   "source": [
    "## Validation"
   ]
  },
  {
   "cell_type": "code",
   "execution_count": 10,
   "id": "245e4489",
   "metadata": {},
   "outputs": [],
   "source": [
    "model = models.resnet18(pretrained=True)\n",
    "model.fc = nn.Linear(512, 3)\n",
    "model = model.to(device)\n",
    "model.load_state_dict(torch.load(\"Saved_ResNet/\" + str(450)))\n",
    "model.eval()\n",
    "None"
   ]
  },
  {
   "cell_type": "code",
   "execution_count": 11,
   "id": "50b060b4",
   "metadata": {},
   "outputs": [],
   "source": [
    "val_dataset = ImageDataset('burnasyan_Br.csv', 'val_paths.txt', transform = transform)\n",
    "val_dataloader = DataLoader(val_dataset, batch_size=32, shuffle=True)\n",
    "val_features, val_labels = next(iter(val_dataloader))\n",
    "val_features = val_features.to(device)\n",
    "val_labels = val_labels.to(device)"
   ]
  },
  {
   "cell_type": "code",
   "execution_count": 20,
   "id": "7ef4a6a2",
   "metadata": {},
   "outputs": [
    {
     "data": {
      "application/vnd.jupyter.widget-view+json": {
       "model_id": "853c5edf11af4a5c9a1e7a33fbc5cf3e",
       "version_major": 2,
       "version_minor": 0
      },
      "text/plain": [
       "validation:   0%|          | 0/177 [00:00<?, ?it/s]"
      ]
     },
     "metadata": {},
     "output_type": "display_data"
    }
   ],
   "source": [
    "classes = []\n",
    "true_classes= []\n",
    "\n",
    "for data in tqdm_notebook(val_dataloader, desc='validation'):\n",
    "    # get the inputs; data is a list of [inputs, labels]\n",
    "    inputs, labels = data\n",
    "    true_classes.append(labels)\n",
    "    inputs = inputs.to(device)\n",
    "    labels = labels.to(device)\n",
    "\n",
    "    # forward \n",
    "    with torch.no_grad():\n",
    "        outputs = model(inputs)\n",
    "    classes.append(nn.Softmax(dim=1)(outputs))\n",
    "    "
   ]
  },
  {
   "cell_type": "code",
   "execution_count": 21,
   "id": "073db418",
   "metadata": {},
   "outputs": [],
   "source": [
    "true = get_true_classes(true_classes)\n",
    "pred = get_predicted_classes(classes)\n",
    "probs = get_classes_probs(classes)"
   ]
  },
  {
   "cell_type": "code",
   "execution_count": 22,
   "id": "cfb4fc25",
   "metadata": {},
   "outputs": [
    {
     "name": "stdout",
     "output_type": "stream",
     "text": [
      "Accuracy:  0.9597089101881434\n",
      "Recall:  [0.95319149 0.75824176 0.97340426]\n",
      "Precision:  [0.94514768 0.90789474 0.96960402]\n",
      "ROC_AUC:  0.9933452600718803\n"
     ]
    }
   ],
   "source": [
    "# Accuracy\n",
    "print(\"Accuracy: \", accuracy_score(true, pred))\n",
    "\n",
    "# Recall\n",
    "print(\"Recall: \", recall_score(true, pred, average=None))\n",
    "\n",
    "# Precision\n",
    "print(\"Precision: \", precision_score(true, pred, average=None))\n",
    "\n",
    "# ROC_AUC\n",
    "print(\"ROC_AUC: \", roc_auc_score(true, probs, multi_class='ovr', average='weighted'))"
   ]
  },
  {
   "cell_type": "code",
   "execution_count": 26,
   "id": "2addb6f9",
   "metadata": {},
   "outputs": [
    {
     "data": {
      "text/plain": [
       "(5634,)"
      ]
     },
     "execution_count": 26,
     "metadata": {},
     "output_type": "execute_result"
    }
   ],
   "source": [
    "true.shape"
   ]
  },
  {
   "cell_type": "code",
   "execution_count": 33,
   "id": "aeed079e",
   "metadata": {},
   "outputs": [
    {
     "data": {
      "text/plain": [
       "array([0.95970891])"
      ]
     },
     "execution_count": 33,
     "metadata": {},
     "output_type": "execute_result"
    }
   ],
   "source": [
    "np.sum(probs.argmax(1) == true) / true.shape"
   ]
  },
  {
   "cell_type": "code",
   "execution_count": 40,
   "id": "60cc4776",
   "metadata": {},
   "outputs": [
    {
     "data": {
      "text/plain": [
       "array([9.81902957e-01, 1.48731032e-02, 6.03301560e-05, ...,\n",
       "       9.99979973e-01, 9.99946356e-01, 9.99328732e-01])"
      ]
     },
     "execution_count": 40,
     "metadata": {},
     "output_type": "execute_result"
    }
   ],
   "source": [
    "\n",
    "\n"
   ]
  },
  {
   "cell_type": "code",
   "execution_count": 45,
   "id": "3b63e4d0",
   "metadata": {},
   "outputs": [
    {
     "data": {
      "text/plain": [
       "0.9952673885175719"
      ]
     },
     "execution_count": 45,
     "metadata": {},
     "output_type": "execute_result"
    }
   ],
   "source": [
    "class_id = 1\n",
    "\n",
    "roc_auc_score(true == class_id, probs[:,class_id], multi_class='ovr', average=None)"
   ]
  },
  {
   "cell_type": "code",
   "execution_count": 48,
   "id": "1392212a",
   "metadata": {},
   "outputs": [
    {
     "data": {
      "text/plain": [
       "array([False, False, False, ..., False, False, False])"
      ]
     },
     "execution_count": 48,
     "metadata": {},
     "output_type": "execute_result"
    }
   ],
   "source": [
    "true == class_id"
   ]
  },
  {
   "cell_type": "code",
   "execution_count": null,
   "id": "f02dbaca",
   "metadata": {},
   "outputs": [],
   "source": [
    "probs.max()"
   ]
  },
  {
   "cell_type": "code",
   "execution_count": 50,
   "id": "1b96deff",
   "metadata": {},
   "outputs": [
    {
     "data": {
      "image/png": "[encoded data removed]",
      "text/plain": [
       "<Figure size 576x576 with 2 Axes>"
      ]
     },
     "metadata": {
      "needs_background": "light"
     },
     "output_type": "display_data"
    }
   ],
   "source": [
    "cm = confusion_matrix(true, pred)\n",
    "figure = plot_confusion_matrix(cm, class_names=[\"Benign\", \"InSitu\", \"Invasive\"])"
   ]
  },
  {
   "cell_type": "code",
   "execution_count": 55,
   "id": "a245811f",
   "metadata": {},
   "outputs": [],
   "source": [
    "torch.cuda.empty_cache()"
   ]
  },
  {
   "cell_type": "markdown",
   "id": "31b825e5",
   "metadata": {},
   "source": [
    "# EfficientNet"
   ]
  },
  {
   "cell_type": "code",
   "execution_count": 57,
   "id": "0393b5f9",
   "metadata": {},
   "outputs": [
    {
     "name": "stderr",
     "output_type": "stream",
     "text": [
      "Downloading: \"https://github.com/lukemelas/EfficientNet-PyTorch/releases/download/1.0/efficientnet-b2-8bb594d6.pth\" to /home/anna/.cache/torch/hub/checkpoints/efficientnet-b2-8bb594d6.pth\n"
     ]
    },
    {
     "data": {
      "application/vnd.jupyter.widget-view+json": {
       "model_id": "030f3bd572f54481a3699b9a33718fe2",
       "version_major": 2,
       "version_minor": 0
      },
      "text/plain": [
       "  0%|          | 0.00/35.1M [00:00<?, ?B/s]"
      ]
     },
     "metadata": {},
     "output_type": "display_data"
    },
    {
     "name": "stdout",
     "output_type": "stream",
     "text": [
      "Loaded pretrained weights for efficientnet-b2\n"
     ]
    }
   ],
   "source": [
    "from efficientnet_pytorch import EfficientNet\n",
    "efn_model = EfficientNet.from_pretrained('efficientnet-b2', num_classes = 3).to(device)"
   ]
  },
  {
   "cell_type": "markdown",
   "id": "64134288",
   "metadata": {},
   "source": [
    "## Training"
   ]
  },
  {
   "cell_type": "code",
   "execution_count": 60,
   "id": "ebd5c072",
   "metadata": {},
   "outputs": [],
   "source": [
    "logdir = \"FinalTraining_logs/EfficientNet/\" + datetime.now().strftime(\"%Y%m%d-%H%M%S\")\n",
    "writer = SummaryWriter(logdir)\n",
    "writer.add_graph(efn_model, train_features)\n",
    "efn_callback = callback()"
   ]
  },
  {
   "cell_type": "code",
   "execution_count": 70,
   "id": "e0f5b1e9",
   "metadata": {},
   "outputs": [],
   "source": [
    "summed = 14032 + 1358 + 26649 \n",
    "weight = torch.tensor([14032, 1358, 26649]) / summed\n",
    "weight = weight.pow(-1)\n",
    "weight = weight.to(device)\n",
    "criterion = nn.CrossEntropyLoss(weight=weight, reduction='mean')\n",
    "# criterion = nn.CrossEntropyLoss()\n",
    "optimizer = optim.SGD(efn_model.parameters(), lr=1e-5, momentum=0.9)"
   ]
  },
  {
   "cell_type": "code",
   "execution_count": 75,
   "id": "2a9f12b6",
   "metadata": {},
   "outputs": [
    {
     "data": {
      "application/vnd.jupyter.widget-view+json": {
       "model_id": "e856238d2aef40dba22537f3b92aebca",
       "version_major": 2,
       "version_minor": 0
      },
      "text/plain": [
       "epochs:   0%|          | 0/300 [00:00<?, ?it/s]"
      ]
     },
     "metadata": {},
     "output_type": "display_data"
    },
    {
     "data": {
      "application/vnd.jupyter.widget-view+json": {
       "model_id": "d3396f92b8f14e8c9489432e507bb6b0",
       "version_major": 2,
       "version_minor": 0
      },
      "text/plain": [
       "one epoch training:   0%|          | 0/705 [00:00<?, ?it/s]"
      ]
     },
     "metadata": {},
     "output_type": "display_data"
    },
    {
     "data": {
      "application/vnd.jupyter.widget-view+json": {
       "model_id": "80c30fe93db64fceb869218c5f037c85",
       "version_major": 2,
       "version_minor": 0
      },
      "text/plain": [
       "one epoch training:   0%|          | 0/705 [00:00<?, ?it/s]"
      ]
     },
     "metadata": {},
     "output_type": "display_data"
    },
    {
     "data": {
      "application/vnd.jupyter.widget-view+json": {
       "model_id": "049fab6e00c14c0e8504c04953d2c5e0",
       "version_major": 2,
       "version_minor": 0
      },
      "text/plain": [
       "one epoch training:   0%|          | 0/705 [00:00<?, ?it/s]"
      ]
     },
     "metadata": {},
     "output_type": "display_data"
    },
    {
     "data": {
      "application/vnd.jupyter.widget-view+json": {
       "model_id": "5736b35ef5a04ce19a1f8e430f3a3695",
       "version_major": 2,
       "version_minor": 0
      },
      "text/plain": [
       "one epoch training:   0%|          | 0/705 [00:00<?, ?it/s]"
      ]
     },
     "metadata": {},
     "output_type": "display_data"
    },
    {
     "data": {
      "application/vnd.jupyter.widget-view+json": {
       "model_id": "9f067a6f9c5141d0b6b216d71ae4145c",
       "version_major": 2,
       "version_minor": 0
      },
      "text/plain": [
       "one epoch training:   0%|          | 0/705 [00:00<?, ?it/s]"
      ]
     },
     "metadata": {},
     "output_type": "display_data"
    },
    {
     "data": {
      "application/vnd.jupyter.widget-view+json": {
       "model_id": "8979c55c4a6d42a099d0e28f38e5554f",
       "version_major": 2,
       "version_minor": 0
      },
      "text/plain": [
       "one epoch training:   0%|          | 0/705 [00:00<?, ?it/s]"
      ]
     },
     "metadata": {},
     "output_type": "display_data"
    },
    {
     "data": {
      "application/vnd.jupyter.widget-view+json": {
       "model_id": "9690ed6056174b34832768406f1af07c",
       "version_major": 2,
       "version_minor": 0
      },
      "text/plain": [
       "one epoch training:   0%|          | 0/705 [00:00<?, ?it/s]"
      ]
     },
     "metadata": {},
     "output_type": "display_data"
    },
    {
     "data": {
      "application/vnd.jupyter.widget-view+json": {
       "model_id": "45183f2009914037b21f621e144d2313",
       "version_major": 2,
       "version_minor": 0
      },
      "text/plain": [
       "one epoch training:   0%|          | 0/705 [00:00<?, ?it/s]"
      ]
     },
     "metadata": {},
     "output_type": "display_data"
    },
    {
     "data": {
      "application/vnd.jupyter.widget-view+json": {
       "model_id": "7195ec0c83bd48a4ad472eff7e2ccbd4",
       "version_major": 2,
       "version_minor": 0
      },
      "text/plain": [
       "one epoch training:   0%|          | 0/705 [00:00<?, ?it/s]"
      ]
     },
     "metadata": {},
     "output_type": "display_data"
    },
    {
     "data": {
      "application/vnd.jupyter.widget-view+json": {
       "model_id": "f0b73ac2678a47a6aed5ed827dbacaec",
       "version_major": 2,
       "version_minor": 0
      },
      "text/plain": [
       "one epoch training:   0%|          | 0/705 [00:00<?, ?it/s]"
      ]
     },
     "metadata": {},
     "output_type": "display_data"
    },
    {
     "data": {
      "application/vnd.jupyter.widget-view+json": {
       "model_id": "28145c7d65384f8bbc82beb969c811fa",
       "version_major": 2,
       "version_minor": 0
      },
      "text/plain": [
       "one epoch training:   0%|          | 0/705 [00:00<?, ?it/s]"
      ]
     },
     "metadata": {},
     "output_type": "display_data"
    },
    {
     "data": {
      "application/vnd.jupyter.widget-view+json": {
       "model_id": "7c6eb4fa58674fab8d70099f071dfdd6",
       "version_major": 2,
       "version_minor": 0
      },
      "text/plain": [
       "one epoch training:   0%|          | 0/705 [00:00<?, ?it/s]"
      ]
     },
     "metadata": {},
     "output_type": "display_data"
    },
    {
     "data": {
      "application/vnd.jupyter.widget-view+json": {
       "model_id": "92ce8e6db4c0482b91ba6cb467bab7d2",
       "version_major": 2,
       "version_minor": 0
      },
      "text/plain": [
       "one epoch training:   0%|          | 0/705 [00:00<?, ?it/s]"
      ]
     },
     "metadata": {},
     "output_type": "display_data"
    },
    {
     "data": {
      "application/vnd.jupyter.widget-view+json": {
       "model_id": "8be5988018a0492bb363dcf2bfe987aa",
       "version_major": 2,
       "version_minor": 0
      },
      "text/plain": [
       "one epoch training:   0%|          | 0/705 [00:00<?, ?it/s]"
      ]
     },
     "metadata": {},
     "output_type": "display_data"
    },
    {
     "data": {
      "application/vnd.jupyter.widget-view+json": {
       "model_id": "b55989c0f2f44ecbbb8469c48bd1cc45",
       "version_major": 2,
       "version_minor": 0
      },
      "text/plain": [
       "one epoch training:   0%|          | 0/705 [00:00<?, ?it/s]"
      ]
     },
     "metadata": {},
     "output_type": "display_data"
    },
    {
     "data": {
      "application/vnd.jupyter.widget-view+json": {
       "model_id": "ddf9434d760247ac9733f6116f2c1955",
       "version_major": 2,
       "version_minor": 0
      },
      "text/plain": [
       "one epoch training:   0%|          | 0/705 [00:00<?, ?it/s]"
      ]
     },
     "metadata": {},
     "output_type": "display_data"
    },
    {
     "data": {
      "application/vnd.jupyter.widget-view+json": {
       "model_id": "f69727766a0640ee86e40779d0b5f613",
       "version_major": 2,
       "version_minor": 0
      },
      "text/plain": [
       "one epoch training:   0%|          | 0/705 [00:00<?, ?it/s]"
      ]
     },
     "metadata": {},
     "output_type": "display_data"
    },
    {
     "data": {
      "application/vnd.jupyter.widget-view+json": {
       "model_id": "9386abee4d054549a62df30ede5c73e9",
       "version_major": 2,
       "version_minor": 0
      },
      "text/plain": [
       "one epoch training:   0%|          | 0/705 [00:00<?, ?it/s]"
      ]
     },
     "metadata": {},
     "output_type": "display_data"
    },
    {
     "data": {
      "application/vnd.jupyter.widget-view+json": {
       "model_id": "3a2b2653ae43406a8516587c548e3347",
       "version_major": 2,
       "version_minor": 0
      },
      "text/plain": [
       "one epoch training:   0%|          | 0/705 [00:00<?, ?it/s]"
      ]
     },
     "metadata": {},
     "output_type": "display_data"
    },
    {
     "data": {
      "application/vnd.jupyter.widget-view+json": {
       "model_id": "5a56106f2caa46d6b55c6112c59cc2ef",
       "version_major": 2,
       "version_minor": 0
      },
      "text/plain": [
       "one epoch training:   0%|          | 0/705 [00:00<?, ?it/s]"
      ]
     },
     "metadata": {},
     "output_type": "display_data"
    },
    {
     "data": {
      "application/vnd.jupyter.widget-view+json": {
       "model_id": "0d96320b85c1437e9892792b34067c09",
       "version_major": 2,
       "version_minor": 0
      },
      "text/plain": [
       "one epoch training:   0%|          | 0/705 [00:00<?, ?it/s]"
      ]
     },
     "metadata": {},
     "output_type": "display_data"
    },
    {
     "data": {
      "application/vnd.jupyter.widget-view+json": {
       "model_id": "761a9b43ea224c4d8fb8e99cfed9fcb4",
       "version_major": 2,
       "version_minor": 0
      },
      "text/plain": [
       "one epoch training:   0%|          | 0/705 [00:00<?, ?it/s]"
      ]
     },
     "metadata": {},
     "output_type": "display_data"
    },
    {
     "data": {
      "application/vnd.jupyter.widget-view+json": {
       "model_id": "cb7b0e66bd744429bdc8e7e293f052ef",
       "version_major": 2,
       "version_minor": 0
      },
      "text/plain": [
       "one epoch training:   0%|          | 0/705 [00:00<?, ?it/s]"
      ]
     },
     "metadata": {},
     "output_type": "display_data"
    },
    {
     "data": {
      "application/vnd.jupyter.widget-view+json": {
       "model_id": "4e8552a16c304dfbb5e10c2862d5396b",
       "version_major": 2,
       "version_minor": 0
      },
      "text/plain": [
       "one epoch training:   0%|          | 0/705 [00:00<?, ?it/s]"
      ]
     },
     "metadata": {},
     "output_type": "display_data"
    },
    {
     "data": {
      "application/vnd.jupyter.widget-view+json": {
       "model_id": "ec4deafbdb1a4906850ac4e04aa6646f",
       "version_major": 2,
       "version_minor": 0
      },
      "text/plain": [
       "one epoch training:   0%|          | 0/705 [00:00<?, ?it/s]"
      ]
     },
     "metadata": {},
     "output_type": "display_data"
    },
    {
     "data": {
      "application/vnd.jupyter.widget-view+json": {
       "model_id": "27c4044bad2d4439ac8dc7bc50ed02f2",
       "version_major": 2,
       "version_minor": 0
      },
      "text/plain": [
       "one epoch training:   0%|          | 0/705 [00:00<?, ?it/s]"
      ]
     },
     "metadata": {},
     "output_type": "display_data"
    },
    {
     "data": {
      "application/vnd.jupyter.widget-view+json": {
       "model_id": "6723107fe3c045caa638409cc210ee29",
       "version_major": 2,
       "version_minor": 0
      },
      "text/plain": [
       "one epoch training:   0%|          | 0/705 [00:00<?, ?it/s]"
      ]
     },
     "metadata": {},
     "output_type": "display_data"
    },
    {
     "data": {
      "application/vnd.jupyter.widget-view+json": {
       "model_id": "48906751beb34b68b620a4afbee3d385",
       "version_major": 2,
       "version_minor": 0
      },
      "text/plain": [
       "one epoch training:   0%|          | 0/705 [00:00<?, ?it/s]"
      ]
     },
     "metadata": {},
     "output_type": "display_data"
    },
    {
     "data": {
      "application/vnd.jupyter.widget-view+json": {
       "model_id": "0ce144adb12241a680c11aad0651ff0a",
       "version_major": 2,
       "version_minor": 0
      },
      "text/plain": [
       "one epoch training:   0%|          | 0/705 [00:00<?, ?it/s]"
      ]
     },
     "metadata": {},
     "output_type": "display_data"
    },
    {
     "data": {
      "application/vnd.jupyter.widget-view+json": {
       "model_id": "e637dc71ca5949908ffbaae2bdc6effb",
       "version_major": 2,
       "version_minor": 0
      },
      "text/plain": [
       "one epoch training:   0%|          | 0/705 [00:00<?, ?it/s]"
      ]
     },
     "metadata": {},
     "output_type": "display_data"
    },
    {
     "data": {
      "application/vnd.jupyter.widget-view+json": {
       "model_id": "d31ee5faef74497e81253f356f6155f6",
       "version_major": 2,
       "version_minor": 0
      },
      "text/plain": [
       "one epoch training:   0%|          | 0/705 [00:00<?, ?it/s]"
      ]
     },
     "metadata": {},
     "output_type": "display_data"
    },
    {
     "data": {
      "application/vnd.jupyter.widget-view+json": {
       "model_id": "41424fc2bb1a4e7e8b6fcef5548d8ce4",
       "version_major": 2,
       "version_minor": 0
      },
      "text/plain": [
       "one epoch training:   0%|          | 0/705 [00:00<?, ?it/s]"
      ]
     },
     "metadata": {},
     "output_type": "display_data"
    },
    {
     "data": {
      "application/vnd.jupyter.widget-view+json": {
       "model_id": "6375eaa6cf0b40ae92af8c53ae6ff5d3",
       "version_major": 2,
       "version_minor": 0
      },
      "text/plain": [
       "one epoch training:   0%|          | 0/705 [00:00<?, ?it/s]"
      ]
     },
     "metadata": {},
     "output_type": "display_data"
    },
    {
     "data": {
      "application/vnd.jupyter.widget-view+json": {
       "model_id": "4ef54df9ea7c43faaaaaa067cd787446",
       "version_major": 2,
       "version_minor": 0
      },
      "text/plain": [
       "one epoch training:   0%|          | 0/705 [00:00<?, ?it/s]"
      ]
     },
     "metadata": {},
     "output_type": "display_data"
    },
    {
     "data": {
      "application/vnd.jupyter.widget-view+json": {
       "model_id": "eb69840d71f84d8a92e94ede666925e0",
       "version_major": 2,
       "version_minor": 0
      },
      "text/plain": [
       "one epoch training:   0%|          | 0/705 [00:00<?, ?it/s]"
      ]
     },
     "metadata": {},
     "output_type": "display_data"
    },
    {
     "data": {
      "application/vnd.jupyter.widget-view+json": {
       "model_id": "596fa7fae31d496692bdc8d8d80c4625",
       "version_major": 2,
       "version_minor": 0
      },
      "text/plain": [
       "one epoch training:   0%|          | 0/705 [00:00<?, ?it/s]"
      ]
     },
     "metadata": {},
     "output_type": "display_data"
    },
    {
     "data": {
      "application/vnd.jupyter.widget-view+json": {
       "model_id": "5415fee3cc2343dd8b4e58698e9ccebd",
       "version_major": 2,
       "version_minor": 0
      },
      "text/plain": [
       "one epoch training:   0%|          | 0/705 [00:00<?, ?it/s]"
      ]
     },
     "metadata": {},
     "output_type": "display_data"
    },
    {
     "data": {
      "application/vnd.jupyter.widget-view+json": {
       "model_id": "00730f3bcce24dc09286a2d740c19ac7",
       "version_major": 2,
       "version_minor": 0
      },
      "text/plain": [
       "one epoch training:   0%|          | 0/705 [00:00<?, ?it/s]"
      ]
     },
     "metadata": {},
     "output_type": "display_data"
    },
    {
     "data": {
      "application/vnd.jupyter.widget-view+json": {
       "model_id": "c15d995c8a804ea9bb438455e22c4213",
       "version_major": 2,
       "version_minor": 0
      },
      "text/plain": [
       "one epoch training:   0%|          | 0/705 [00:00<?, ?it/s]"
      ]
     },
     "metadata": {},
     "output_type": "display_data"
    },
    {
     "data": {
      "application/vnd.jupyter.widget-view+json": {
       "model_id": "061b0d6ea92b4adc82e7891c74e11cb5",
       "version_major": 2,
       "version_minor": 0
      },
      "text/plain": [
       "one epoch training:   0%|          | 0/705 [00:00<?, ?it/s]"
      ]
     },
     "metadata": {},
     "output_type": "display_data"
    },
    {
     "data": {
      "application/vnd.jupyter.widget-view+json": {
       "model_id": "d286bf8dda084e68a9148e79579313e7",
       "version_major": 2,
       "version_minor": 0
      },
      "text/plain": [
       "one epoch training:   0%|          | 0/705 [00:00<?, ?it/s]"
      ]
     },
     "metadata": {},
     "output_type": "display_data"
    },
    {
     "data": {
      "application/vnd.jupyter.widget-view+json": {
       "model_id": "89200f146b874cdeb362418ee0160611",
       "version_major": 2,
       "version_minor": 0
      },
      "text/plain": [
       "one epoch training:   0%|          | 0/705 [00:00<?, ?it/s]"
      ]
     },
     "metadata": {},
     "output_type": "display_data"
    },
    {
     "data": {
      "application/vnd.jupyter.widget-view+json": {
       "model_id": "ff42ec3bc84349c9bc008e3fd80ba527",
       "version_major": 2,
       "version_minor": 0
      },
      "text/plain": [
       "one epoch training:   0%|          | 0/705 [00:00<?, ?it/s]"
      ]
     },
     "metadata": {},
     "output_type": "display_data"
    },
    {
     "data": {
      "application/vnd.jupyter.widget-view+json": {
       "model_id": "06d1aec131c648d6a071617dc6e6575e",
       "version_major": 2,
       "version_minor": 0
      },
      "text/plain": [
       "one epoch training:   0%|          | 0/705 [00:00<?, ?it/s]"
      ]
     },
     "metadata": {},
     "output_type": "display_data"
    },
    {
     "data": {
      "application/vnd.jupyter.widget-view+json": {
       "model_id": "58221b6dffa74931825a6faae47d432b",
       "version_major": 2,
       "version_minor": 0
      },
      "text/plain": [
       "one epoch training:   0%|          | 0/705 [00:00<?, ?it/s]"
      ]
     },
     "metadata": {},
     "output_type": "display_data"
    },
    {
     "data": {
      "application/vnd.jupyter.widget-view+json": {
       "model_id": "4018c60eae904ff8b4cb482cff5f1941",
       "version_major": 2,
       "version_minor": 0
      },
      "text/plain": [
       "one epoch training:   0%|          | 0/705 [00:00<?, ?it/s]"
      ]
     },
     "metadata": {},
     "output_type": "display_data"
    },
    {
     "data": {
      "application/vnd.jupyter.widget-view+json": {
       "model_id": "7ddbb2c9a7eb4e819c08bc7a60252b68",
       "version_major": 2,
       "version_minor": 0
      },
      "text/plain": [
       "one epoch training:   0%|          | 0/705 [00:00<?, ?it/s]"
      ]
     },
     "metadata": {},
     "output_type": "display_data"
    },
    {
     "data": {
      "application/vnd.jupyter.widget-view+json": {
       "model_id": "fd0f2a7177104a62a641e4d755e581b3",
       "version_major": 2,
       "version_minor": 0
      },
      "text/plain": [
       "one epoch training:   0%|          | 0/705 [00:00<?, ?it/s]"
      ]
     },
     "metadata": {},
     "output_type": "display_data"
    },
    {
     "data": {
      "application/vnd.jupyter.widget-view+json": {
       "model_id": "9f1986046b554852bd5496ca6cc88fb4",
       "version_major": 2,
       "version_minor": 0
      },
      "text/plain": [
       "one epoch training:   0%|          | 0/705 [00:00<?, ?it/s]"
      ]
     },
     "metadata": {},
     "output_type": "display_data"
    },
    {
     "data": {
      "application/vnd.jupyter.widget-view+json": {
       "model_id": "010b683a7175413380c22e23a1ff2460",
       "version_major": 2,
       "version_minor": 0
      },
      "text/plain": [
       "one epoch training:   0%|          | 0/705 [00:00<?, ?it/s]"
      ]
     },
     "metadata": {},
     "output_type": "display_data"
    },
    {
     "data": {
      "application/vnd.jupyter.widget-view+json": {
       "model_id": "a356cb43f5194589b0aef3b434db6f92",
       "version_major": 2,
       "version_minor": 0
      },
      "text/plain": [
       "one epoch training:   0%|          | 0/705 [00:00<?, ?it/s]"
      ]
     },
     "metadata": {},
     "output_type": "display_data"
    },
    {
     "data": {
      "application/vnd.jupyter.widget-view+json": {
       "model_id": "9b54f0a2c36f4d378c063eb6f1bdf0ec",
       "version_major": 2,
       "version_minor": 0
      },
      "text/plain": [
       "one epoch training:   0%|          | 0/705 [00:00<?, ?it/s]"
      ]
     },
     "metadata": {},
     "output_type": "display_data"
    },
    {
     "data": {
      "application/vnd.jupyter.widget-view+json": {
       "model_id": "df6f35a3e11e4e84bc151809f6cac382",
       "version_major": 2,
       "version_minor": 0
      },
      "text/plain": [
       "one epoch training:   0%|          | 0/705 [00:00<?, ?it/s]"
      ]
     },
     "metadata": {},
     "output_type": "display_data"
    },
    {
     "data": {
      "application/vnd.jupyter.widget-view+json": {
       "model_id": "97adc91320ff4f18a16872eec26d2a0d",
       "version_major": 2,
       "version_minor": 0
      },
      "text/plain": [
       "one epoch training:   0%|          | 0/705 [00:00<?, ?it/s]"
      ]
     },
     "metadata": {},
     "output_type": "display_data"
    },
    {
     "data": {
      "application/vnd.jupyter.widget-view+json": {
       "model_id": "e2651f898862492983e4ba8f13701ec5",
       "version_major": 2,
       "version_minor": 0
      },
      "text/plain": [
       "one epoch training:   0%|          | 0/705 [00:00<?, ?it/s]"
      ]
     },
     "metadata": {},
     "output_type": "display_data"
    },
    {
     "data": {
      "application/vnd.jupyter.widget-view+json": {
       "model_id": "b8737a6771fe4882844d1b5f9c5ec94d",
       "version_major": 2,
       "version_minor": 0
      },
      "text/plain": [
       "one epoch training:   0%|          | 0/705 [00:00<?, ?it/s]"
      ]
     },
     "metadata": {},
     "output_type": "display_data"
    },
    {
     "data": {
      "application/vnd.jupyter.widget-view+json": {
       "model_id": "ee5a817a00e64219a83acd590966a71c",
       "version_major": 2,
       "version_minor": 0
      },
      "text/plain": [
       "one epoch training:   0%|          | 0/705 [00:00<?, ?it/s]"
      ]
     },
     "metadata": {},
     "output_type": "display_data"
    },
    {
     "data": {
      "application/vnd.jupyter.widget-view+json": {
       "model_id": "48653e6b74924c2f92d7b6bc62d74f78",
       "version_major": 2,
       "version_minor": 0
      },
      "text/plain": [
       "one epoch training:   0%|          | 0/705 [00:00<?, ?it/s]"
      ]
     },
     "metadata": {},
     "output_type": "display_data"
    },
    {
     "data": {
      "application/vnd.jupyter.widget-view+json": {
       "model_id": "aa192002733943fa924265386c176ab5",
       "version_major": 2,
       "version_minor": 0
      },
      "text/plain": [
       "one epoch training:   0%|          | 0/705 [00:00<?, ?it/s]"
      ]
     },
     "metadata": {},
     "output_type": "display_data"
    },
    {
     "data": {
      "application/vnd.jupyter.widget-view+json": {
       "model_id": "f8dae0eeae5740c388ba55ace31af6ff",
       "version_major": 2,
       "version_minor": 0
      },
      "text/plain": [
       "one epoch training:   0%|          | 0/705 [00:00<?, ?it/s]"
      ]
     },
     "metadata": {},
     "output_type": "display_data"
    },
    {
     "data": {
      "application/vnd.jupyter.widget-view+json": {
       "model_id": "03eb1b078b2e40cca240b46239940365",
       "version_major": 2,
       "version_minor": 0
      },
      "text/plain": [
       "one epoch training:   0%|          | 0/705 [00:00<?, ?it/s]"
      ]
     },
     "metadata": {},
     "output_type": "display_data"
    },
    {
     "data": {
      "application/vnd.jupyter.widget-view+json": {
       "model_id": "8826fe45f23147df94705f28cb480d4d",
       "version_major": 2,
       "version_minor": 0
      },
      "text/plain": [
       "one epoch training:   0%|          | 0/705 [00:00<?, ?it/s]"
      ]
     },
     "metadata": {},
     "output_type": "display_data"
    },
    {
     "data": {
      "application/vnd.jupyter.widget-view+json": {
       "model_id": "3e0749c20d6c4a44b3aafec3a516ecd3",
       "version_major": 2,
       "version_minor": 0
      },
      "text/plain": [
       "one epoch training:   0%|          | 0/705 [00:00<?, ?it/s]"
      ]
     },
     "metadata": {},
     "output_type": "display_data"
    },
    {
     "data": {
      "application/vnd.jupyter.widget-view+json": {
       "model_id": "44b79ced51fa404d86c690cf3db81766",
       "version_major": 2,
       "version_minor": 0
      },
      "text/plain": [
       "one epoch training:   0%|          | 0/705 [00:00<?, ?it/s]"
      ]
     },
     "metadata": {},
     "output_type": "display_data"
    },
    {
     "data": {
      "application/vnd.jupyter.widget-view+json": {
       "model_id": "9770b550b9284ce2b576ee1fbc5807be",
       "version_major": 2,
       "version_minor": 0
      },
      "text/plain": [
       "one epoch training:   0%|          | 0/705 [00:00<?, ?it/s]"
      ]
     },
     "metadata": {},
     "output_type": "display_data"
    },
    {
     "data": {
      "application/vnd.jupyter.widget-view+json": {
       "model_id": "c2331f7440324d6ba1dcda4a3f00caa7",
       "version_major": 2,
       "version_minor": 0
      },
      "text/plain": [
       "one epoch training:   0%|          | 0/705 [00:00<?, ?it/s]"
      ]
     },
     "metadata": {},
     "output_type": "display_data"
    },
    {
     "data": {
      "application/vnd.jupyter.widget-view+json": {
       "model_id": "aa1b527140454cb29cc3386426188d58",
       "version_major": 2,
       "version_minor": 0
      },
      "text/plain": [
       "one epoch training:   0%|          | 0/705 [00:00<?, ?it/s]"
      ]
     },
     "metadata": {},
     "output_type": "display_data"
    },
    {
     "data": {
      "application/vnd.jupyter.widget-view+json": {
       "model_id": "602f5182b8124cb98a0b55cba809b1d2",
       "version_major": 2,
       "version_minor": 0
      },
      "text/plain": [
       "one epoch training:   0%|          | 0/705 [00:00<?, ?it/s]"
      ]
     },
     "metadata": {},
     "output_type": "display_data"
    },
    {
     "data": {
      "application/vnd.jupyter.widget-view+json": {
       "model_id": "ac246fd77d9c44c39609d2cd79844ac6",
       "version_major": 2,
       "version_minor": 0
      },
      "text/plain": [
       "one epoch training:   0%|          | 0/705 [00:00<?, ?it/s]"
      ]
     },
     "metadata": {},
     "output_type": "display_data"
    },
    {
     "data": {
      "application/vnd.jupyter.widget-view+json": {
       "model_id": "f46ebcb17e4340c7807b28e43df5b562",
       "version_major": 2,
       "version_minor": 0
      },
      "text/plain": [
       "one epoch training:   0%|          | 0/705 [00:00<?, ?it/s]"
      ]
     },
     "metadata": {},
     "output_type": "display_data"
    },
    {
     "data": {
      "application/vnd.jupyter.widget-view+json": {
       "model_id": "ed02c23a2220447bbe497f177643473f",
       "version_major": 2,
       "version_minor": 0
      },
      "text/plain": [
       "one epoch training:   0%|          | 0/705 [00:00<?, ?it/s]"
      ]
     },
     "metadata": {},
     "output_type": "display_data"
    },
    {
     "data": {
      "application/vnd.jupyter.widget-view+json": {
       "model_id": "63a9284451b6465ea9ee2c4509dbe779",
       "version_major": 2,
       "version_minor": 0
      },
      "text/plain": [
       "one epoch training:   0%|          | 0/705 [00:00<?, ?it/s]"
      ]
     },
     "metadata": {},
     "output_type": "display_data"
    },
    {
     "data": {
      "application/vnd.jupyter.widget-view+json": {
       "model_id": "d84cb267e7a941969241c8ff3a88e745",
       "version_major": 2,
       "version_minor": 0
      },
      "text/plain": [
       "one epoch training:   0%|          | 0/705 [00:00<?, ?it/s]"
      ]
     },
     "metadata": {},
     "output_type": "display_data"
    },
    {
     "data": {
      "application/vnd.jupyter.widget-view+json": {
       "model_id": "f6ff1abf26594250a678ad3c66f268a4",
       "version_major": 2,
       "version_minor": 0
      },
      "text/plain": [
       "one epoch training:   0%|          | 0/705 [00:00<?, ?it/s]"
      ]
     },
     "metadata": {},
     "output_type": "display_data"
    },
    {
     "data": {
      "application/vnd.jupyter.widget-view+json": {
       "model_id": "63b0bee0bf2d45aba11501bd1d12d585",
       "version_major": 2,
       "version_minor": 0
      },
      "text/plain": [
       "one epoch training:   0%|          | 0/705 [00:00<?, ?it/s]"
      ]
     },
     "metadata": {},
     "output_type": "display_data"
    },
    {
     "data": {
      "application/vnd.jupyter.widget-view+json": {
       "model_id": "fe82df3afec249589e1808e0da79e23d",
       "version_major": 2,
       "version_minor": 0
      },
      "text/plain": [
       "one epoch training:   0%|          | 0/705 [00:00<?, ?it/s]"
      ]
     },
     "metadata": {},
     "output_type": "display_data"
    },
    {
     "data": {
      "application/vnd.jupyter.widget-view+json": {
       "model_id": "6a99fb0591f4487db507b5c05c1cfe59",
       "version_major": 2,
       "version_minor": 0
      },
      "text/plain": [
       "one epoch training:   0%|          | 0/705 [00:00<?, ?it/s]"
      ]
     },
     "metadata": {},
     "output_type": "display_data"
    },
    {
     "data": {
      "application/vnd.jupyter.widget-view+json": {
       "model_id": "3ef472f4aa9041758f9efc871562c3d4",
       "version_major": 2,
       "version_minor": 0
      },
      "text/plain": [
       "one epoch training:   0%|          | 0/705 [00:00<?, ?it/s]"
      ]
     },
     "metadata": {},
     "output_type": "display_data"
    },
    {
     "data": {
      "application/vnd.jupyter.widget-view+json": {
       "model_id": "7bc08b9854d84d9089ab2c4812195828",
       "version_major": 2,
       "version_minor": 0
      },
      "text/plain": [
       "one epoch training:   0%|          | 0/705 [00:00<?, ?it/s]"
      ]
     },
     "metadata": {},
     "output_type": "display_data"
    },
    {
     "data": {
      "application/vnd.jupyter.widget-view+json": {
       "model_id": "2c8b95926dd94f94a358ec73cfd7d268",
       "version_major": 2,
       "version_minor": 0
      },
      "text/plain": [
       "one epoch training:   0%|          | 0/705 [00:00<?, ?it/s]"
      ]
     },
     "metadata": {},
     "output_type": "display_data"
    },
    {
     "data": {
      "application/vnd.jupyter.widget-view+json": {
       "model_id": "f1b58fd26c5f41d9860761573e09e060",
       "version_major": 2,
       "version_minor": 0
      },
      "text/plain": [
       "one epoch training:   0%|          | 0/705 [00:00<?, ?it/s]"
      ]
     },
     "metadata": {},
     "output_type": "display_data"
    },
    {
     "data": {
      "application/vnd.jupyter.widget-view+json": {
       "model_id": "4e59c798b8ef49b6aebab599b4be7e74",
       "version_major": 2,
       "version_minor": 0
      },
      "text/plain": [
       "one epoch training:   0%|          | 0/705 [00:00<?, ?it/s]"
      ]
     },
     "metadata": {},
     "output_type": "display_data"
    },
    {
     "data": {
      "application/vnd.jupyter.widget-view+json": {
       "model_id": "c78d0b4e00334513a101cfe5325d8c48",
       "version_major": 2,
       "version_minor": 0
      },
      "text/plain": [
       "one epoch training:   0%|          | 0/705 [00:00<?, ?it/s]"
      ]
     },
     "metadata": {},
     "output_type": "display_data"
    },
    {
     "data": {
      "application/vnd.jupyter.widget-view+json": {
       "model_id": "ecfd0ba938c446568e177b33f981f15d",
       "version_major": 2,
       "version_minor": 0
      },
      "text/plain": [
       "one epoch training:   0%|          | 0/705 [00:00<?, ?it/s]"
      ]
     },
     "metadata": {},
     "output_type": "display_data"
    },
    {
     "data": {
      "application/vnd.jupyter.widget-view+json": {
       "model_id": "05627b991fa04ae6816b8ed81b982163",
       "version_major": 2,
       "version_minor": 0
      },
      "text/plain": [
       "one epoch training:   0%|          | 0/705 [00:00<?, ?it/s]"
      ]
     },
     "metadata": {},
     "output_type": "display_data"
    },
    {
     "data": {
      "application/vnd.jupyter.widget-view+json": {
       "model_id": "1d8a9c1e46474ed9b7b572e1fd8bef05",
       "version_major": 2,
       "version_minor": 0
      },
      "text/plain": [
       "one epoch training:   0%|          | 0/705 [00:00<?, ?it/s]"
      ]
     },
     "metadata": {},
     "output_type": "display_data"
    },
    {
     "data": {
      "application/vnd.jupyter.widget-view+json": {
       "model_id": "21cbb5fe9b13488ea9a3541baf9ecc39",
       "version_major": 2,
       "version_minor": 0
      },
      "text/plain": [
       "one epoch training:   0%|          | 0/705 [00:00<?, ?it/s]"
      ]
     },
     "metadata": {},
     "output_type": "display_data"
    },
    {
     "data": {
      "application/vnd.jupyter.widget-view+json": {
       "model_id": "1e6e091d98774f959116bff6a456c9a9",
       "version_major": 2,
       "version_minor": 0
      },
      "text/plain": [
       "one epoch training:   0%|          | 0/705 [00:00<?, ?it/s]"
      ]
     },
     "metadata": {},
     "output_type": "display_data"
    },
    {
     "data": {
      "application/vnd.jupyter.widget-view+json": {
       "model_id": "ec36809c50e24843b99d9f17cc4c79a7",
       "version_major": 2,
       "version_minor": 0
      },
      "text/plain": [
       "one epoch training:   0%|          | 0/705 [00:00<?, ?it/s]"
      ]
     },
     "metadata": {},
     "output_type": "display_data"
    },
    {
     "data": {
      "application/vnd.jupyter.widget-view+json": {
       "model_id": "0e6e89ce591c417a86fe2c24aa6447bb",
       "version_major": 2,
       "version_minor": 0
      },
      "text/plain": [
       "one epoch training:   0%|          | 0/705 [00:00<?, ?it/s]"
      ]
     },
     "metadata": {},
     "output_type": "display_data"
    },
    {
     "data": {
      "application/vnd.jupyter.widget-view+json": {
       "model_id": "e9ca509e0aa844349dded0afa9d7ea78",
       "version_major": 2,
       "version_minor": 0
      },
      "text/plain": [
       "one epoch training:   0%|          | 0/705 [00:00<?, ?it/s]"
      ]
     },
     "metadata": {},
     "output_type": "display_data"
    },
    {
     "data": {
      "application/vnd.jupyter.widget-view+json": {
       "model_id": "cb2d392735f9467fb3f45358e09b4e91",
       "version_major": 2,
       "version_minor": 0
      },
      "text/plain": [
       "one epoch training:   0%|          | 0/705 [00:00<?, ?it/s]"
      ]
     },
     "metadata": {},
     "output_type": "display_data"
    },
    {
     "data": {
      "application/vnd.jupyter.widget-view+json": {
       "model_id": "595b7744a5094435bc9bf06285b9caaf",
       "version_major": 2,
       "version_minor": 0
      },
      "text/plain": [
       "one epoch training:   0%|          | 0/705 [00:00<?, ?it/s]"
      ]
     },
     "metadata": {},
     "output_type": "display_data"
    },
    {
     "data": {
      "application/vnd.jupyter.widget-view+json": {
       "model_id": "28c0a75f113d4bc188c1895628f97a33",
       "version_major": 2,
       "version_minor": 0
      },
      "text/plain": [
       "one epoch training:   0%|          | 0/705 [00:00<?, ?it/s]"
      ]
     },
     "metadata": {},
     "output_type": "display_data"
    },
    {
     "data": {
      "application/vnd.jupyter.widget-view+json": {
       "model_id": "9e915528d9b24ec99dcb48c3441b2726",
       "version_major": 2,
       "version_minor": 0
      },
      "text/plain": [
       "one epoch training:   0%|          | 0/705 [00:00<?, ?it/s]"
      ]
     },
     "metadata": {},
     "output_type": "display_data"
    },
    {
     "data": {
      "application/vnd.jupyter.widget-view+json": {
       "model_id": "7853aa01d9c7491b97d0be46e018563c",
       "version_major": 2,
       "version_minor": 0
      },
      "text/plain": [
       "one epoch training:   0%|          | 0/705 [00:00<?, ?it/s]"
      ]
     },
     "metadata": {},
     "output_type": "display_data"
    },
    {
     "data": {
      "application/vnd.jupyter.widget-view+json": {
       "model_id": "51076f0479984eaca3f7626b241cf1b0",
       "version_major": 2,
       "version_minor": 0
      },
      "text/plain": [
       "one epoch training:   0%|          | 0/705 [00:00<?, ?it/s]"
      ]
     },
     "metadata": {},
     "output_type": "display_data"
    },
    {
     "data": {
      "application/vnd.jupyter.widget-view+json": {
       "model_id": "936ad81accfc47b3bb5f212fba264406",
       "version_major": 2,
       "version_minor": 0
      },
      "text/plain": [
       "one epoch training:   0%|          | 0/705 [00:00<?, ?it/s]"
      ]
     },
     "metadata": {},
     "output_type": "display_data"
    },
    {
     "data": {
      "application/vnd.jupyter.widget-view+json": {
       "model_id": "3be598680eb74a3dbba1ef621e4aa94e",
       "version_major": 2,
       "version_minor": 0
      },
      "text/plain": [
       "one epoch training:   0%|          | 0/705 [00:00<?, ?it/s]"
      ]
     },
     "metadata": {},
     "output_type": "display_data"
    },
    {
     "data": {
      "application/vnd.jupyter.widget-view+json": {
       "model_id": "0197a5643a124a78a77a79eb3e74a22a",
       "version_major": 2,
       "version_minor": 0
      },
      "text/plain": [
       "one epoch training:   0%|          | 0/705 [00:00<?, ?it/s]"
      ]
     },
     "metadata": {},
     "output_type": "display_data"
    },
    {
     "data": {
      "application/vnd.jupyter.widget-view+json": {
       "model_id": "f2d3dd2338984f05b539e0ec8fbc0aa6",
       "version_major": 2,
       "version_minor": 0
      },
      "text/plain": [
       "one epoch training:   0%|          | 0/705 [00:00<?, ?it/s]"
      ]
     },
     "metadata": {},
     "output_type": "display_data"
    },
    {
     "data": {
      "application/vnd.jupyter.widget-view+json": {
       "model_id": "22a1afecc20d4059a7d65d3261febc6e",
       "version_major": 2,
       "version_minor": 0
      },
      "text/plain": [
       "one epoch training:   0%|          | 0/705 [00:00<?, ?it/s]"
      ]
     },
     "metadata": {},
     "output_type": "display_data"
    },
    {
     "data": {
      "application/vnd.jupyter.widget-view+json": {
       "model_id": "ca4099e4b2594241b6f1dbc96e3b397f",
       "version_major": 2,
       "version_minor": 0
      },
      "text/plain": [
       "one epoch training:   0%|          | 0/705 [00:00<?, ?it/s]"
      ]
     },
     "metadata": {},
     "output_type": "display_data"
    },
    {
     "data": {
      "application/vnd.jupyter.widget-view+json": {
       "model_id": "ba152d61998f46a5995babf43e5129fd",
       "version_major": 2,
       "version_minor": 0
      },
      "text/plain": [
       "one epoch training:   0%|          | 0/705 [00:00<?, ?it/s]"
      ]
     },
     "metadata": {},
     "output_type": "display_data"
    },
    {
     "data": {
      "application/vnd.jupyter.widget-view+json": {
       "model_id": "a6ffd92c50494d058ec33399fac397d4",
       "version_major": 2,
       "version_minor": 0
      },
      "text/plain": [
       "one epoch training:   0%|          | 0/705 [00:00<?, ?it/s]"
      ]
     },
     "metadata": {},
     "output_type": "display_data"
    },
    {
     "data": {
      "application/vnd.jupyter.widget-view+json": {
       "model_id": "a44da92fd0ac4d5c9c9a6f1a13b80e4a",
       "version_major": 2,
       "version_minor": 0
      },
      "text/plain": [
       "one epoch training:   0%|          | 0/705 [00:00<?, ?it/s]"
      ]
     },
     "metadata": {},
     "output_type": "display_data"
    },
    {
     "data": {
      "application/vnd.jupyter.widget-view+json": {
       "model_id": "fc116f7ae7d14a3e87c1ba9c5df0fd82",
       "version_major": 2,
       "version_minor": 0
      },
      "text/plain": [
       "one epoch training:   0%|          | 0/705 [00:00<?, ?it/s]"
      ]
     },
     "metadata": {},
     "output_type": "display_data"
    },
    {
     "data": {
      "application/vnd.jupyter.widget-view+json": {
       "model_id": "15bc6a7faef14d8db7e8370379c664e3",
       "version_major": 2,
       "version_minor": 0
      },
      "text/plain": [
       "one epoch training:   0%|          | 0/705 [00:00<?, ?it/s]"
      ]
     },
     "metadata": {},
     "output_type": "display_data"
    },
    {
     "data": {
      "application/vnd.jupyter.widget-view+json": {
       "model_id": "b33d2c6b12f74d49bcf18edb8c2ebc5d",
       "version_major": 2,
       "version_minor": 0
      },
      "text/plain": [
       "one epoch training:   0%|          | 0/705 [00:00<?, ?it/s]"
      ]
     },
     "metadata": {},
     "output_type": "display_data"
    },
    {
     "data": {
      "application/vnd.jupyter.widget-view+json": {
       "model_id": "e7cbdeaa46d04a6da11213b790dec3c2",
       "version_major": 2,
       "version_minor": 0
      },
      "text/plain": [
       "one epoch training:   0%|          | 0/705 [00:00<?, ?it/s]"
      ]
     },
     "metadata": {},
     "output_type": "display_data"
    },
    {
     "data": {
      "application/vnd.jupyter.widget-view+json": {
       "model_id": "2fb45e64dd3b402085e76010a8901ad1",
       "version_major": 2,
       "version_minor": 0
      },
      "text/plain": [
       "one epoch training:   0%|          | 0/705 [00:00<?, ?it/s]"
      ]
     },
     "metadata": {},
     "output_type": "display_data"
    },
    {
     "data": {
      "application/vnd.jupyter.widget-view+json": {
       "model_id": "1eef99362ba84e85a74c218570f7ffe6",
       "version_major": 2,
       "version_minor": 0
      },
      "text/plain": [
       "one epoch training:   0%|          | 0/705 [00:00<?, ?it/s]"
      ]
     },
     "metadata": {},
     "output_type": "display_data"
    },
    {
     "data": {
      "application/vnd.jupyter.widget-view+json": {
       "model_id": "778f77af1ea745d598b69b2be61f0bec",
       "version_major": 2,
       "version_minor": 0
      },
      "text/plain": [
       "one epoch training:   0%|          | 0/705 [00:00<?, ?it/s]"
      ]
     },
     "metadata": {},
     "output_type": "display_data"
    },
    {
     "data": {
      "application/vnd.jupyter.widget-view+json": {
       "model_id": "d7e45afdf97444aeaaf4c8986a389ad6",
       "version_major": 2,
       "version_minor": 0
      },
      "text/plain": [
       "one epoch training:   0%|          | 0/705 [00:00<?, ?it/s]"
      ]
     },
     "metadata": {},
     "output_type": "display_data"
    },
    {
     "data": {
      "application/vnd.jupyter.widget-view+json": {
       "model_id": "0ab5a32c035940cc887877d76e39d77e",
       "version_major": 2,
       "version_minor": 0
      },
      "text/plain": [
       "one epoch training:   0%|          | 0/705 [00:00<?, ?it/s]"
      ]
     },
     "metadata": {},
     "output_type": "display_data"
    },
    {
     "data": {
      "application/vnd.jupyter.widget-view+json": {
       "model_id": "700e8d1ede984710910fe3fe69197307",
       "version_major": 2,
       "version_minor": 0
      },
      "text/plain": [
       "one epoch training:   0%|          | 0/705 [00:00<?, ?it/s]"
      ]
     },
     "metadata": {},
     "output_type": "display_data"
    },
    {
     "data": {
      "application/vnd.jupyter.widget-view+json": {
       "model_id": "c477d64c33c64595b51246d8eb279885",
       "version_major": 2,
       "version_minor": 0
      },
      "text/plain": [
       "one epoch training:   0%|          | 0/705 [00:00<?, ?it/s]"
      ]
     },
     "metadata": {},
     "output_type": "display_data"
    },
    {
     "data": {
      "application/vnd.jupyter.widget-view+json": {
       "model_id": "6081e918205040578508abbf96fda4c6",
       "version_major": 2,
       "version_minor": 0
      },
      "text/plain": [
       "one epoch training:   0%|          | 0/705 [00:00<?, ?it/s]"
      ]
     },
     "metadata": {},
     "output_type": "display_data"
    },
    {
     "data": {
      "application/vnd.jupyter.widget-view+json": {
       "model_id": "aa27b3f0be594c92830373308d901a22",
       "version_major": 2,
       "version_minor": 0
      },
      "text/plain": [
       "one epoch training:   0%|          | 0/705 [00:00<?, ?it/s]"
      ]
     },
     "metadata": {},
     "output_type": "display_data"
    },
    {
     "data": {
      "application/vnd.jupyter.widget-view+json": {
       "model_id": "8d8f2a9411e6450a863f74ad86cf9103",
       "version_major": 2,
       "version_minor": 0
      },
      "text/plain": [
       "one epoch training:   0%|          | 0/705 [00:00<?, ?it/s]"
      ]
     },
     "metadata": {},
     "output_type": "display_data"
    },
    {
     "data": {
      "application/vnd.jupyter.widget-view+json": {
       "model_id": "00fa87fb05df4a0b81bd9bac509e4dc9",
       "version_major": 2,
       "version_minor": 0
      },
      "text/plain": [
       "one epoch training:   0%|          | 0/705 [00:00<?, ?it/s]"
      ]
     },
     "metadata": {},
     "output_type": "display_data"
    },
    {
     "data": {
      "application/vnd.jupyter.widget-view+json": {
       "model_id": "8c0dcced47764079908d9fa2f2be1108",
       "version_major": 2,
       "version_minor": 0
      },
      "text/plain": [
       "one epoch training:   0%|          | 0/705 [00:00<?, ?it/s]"
      ]
     },
     "metadata": {},
     "output_type": "display_data"
    },
    {
     "data": {
      "application/vnd.jupyter.widget-view+json": {
       "model_id": "ed9cb2120c8b487f8074ec09ee51479b",
       "version_major": 2,
       "version_minor": 0
      },
      "text/plain": [
       "one epoch training:   0%|          | 0/705 [00:00<?, ?it/s]"
      ]
     },
     "metadata": {},
     "output_type": "display_data"
    },
    {
     "data": {
      "application/vnd.jupyter.widget-view+json": {
       "model_id": "7ee4e99ade6746acbcdaa19fc9454e63",
       "version_major": 2,
       "version_minor": 0
      },
      "text/plain": [
       "one epoch training:   0%|          | 0/705 [00:00<?, ?it/s]"
      ]
     },
     "metadata": {},
     "output_type": "display_data"
    },
    {
     "data": {
      "application/vnd.jupyter.widget-view+json": {
       "model_id": "0e26ed3ac86a46d1b40a632af97babd8",
       "version_major": 2,
       "version_minor": 0
      },
      "text/plain": [
       "one epoch training:   0%|          | 0/705 [00:00<?, ?it/s]"
      ]
     },
     "metadata": {},
     "output_type": "display_data"
    },
    {
     "data": {
      "application/vnd.jupyter.widget-view+json": {
       "model_id": "cd8910c16ae14a50bda271a3b98668d0",
       "version_major": 2,
       "version_minor": 0
      },
      "text/plain": [
       "one epoch training:   0%|          | 0/705 [00:00<?, ?it/s]"
      ]
     },
     "metadata": {},
     "output_type": "display_data"
    },
    {
     "data": {
      "application/vnd.jupyter.widget-view+json": {
       "model_id": "c6bcc129ab484211bf6780ee018dd300",
       "version_major": 2,
       "version_minor": 0
      },
      "text/plain": [
       "one epoch training:   0%|          | 0/705 [00:00<?, ?it/s]"
      ]
     },
     "metadata": {},
     "output_type": "display_data"
    },
    {
     "data": {
      "application/vnd.jupyter.widget-view+json": {
       "model_id": "59fb714befd949c19ba1cbdd9fb587f0",
       "version_major": 2,
       "version_minor": 0
      },
      "text/plain": [
       "one epoch training:   0%|          | 0/705 [00:00<?, ?it/s]"
      ]
     },
     "metadata": {},
     "output_type": "display_data"
    },
    {
     "data": {
      "application/vnd.jupyter.widget-view+json": {
       "model_id": "ad2e5b919d0c42508ad306b9ad6b7a32",
       "version_major": 2,
       "version_minor": 0
      },
      "text/plain": [
       "one epoch training:   0%|          | 0/705 [00:00<?, ?it/s]"
      ]
     },
     "metadata": {},
     "output_type": "display_data"
    },
    {
     "data": {
      "application/vnd.jupyter.widget-view+json": {
       "model_id": "1bccb31232344093986c95e7ea135531",
       "version_major": 2,
       "version_minor": 0
      },
      "text/plain": [
       "one epoch training:   0%|          | 0/705 [00:00<?, ?it/s]"
      ]
     },
     "metadata": {},
     "output_type": "display_data"
    },
    {
     "data": {
      "application/vnd.jupyter.widget-view+json": {
       "model_id": "ae7906cd5d0248169d5e28af6b307ed8",
       "version_major": 2,
       "version_minor": 0
      },
      "text/plain": [
       "one epoch training:   0%|          | 0/705 [00:00<?, ?it/s]"
      ]
     },
     "metadata": {},
     "output_type": "display_data"
    },
    {
     "data": {
      "application/vnd.jupyter.widget-view+json": {
       "model_id": "c61c882b108e4a37b32ef6d17ad39856",
       "version_major": 2,
       "version_minor": 0
      },
      "text/plain": [
       "one epoch training:   0%|          | 0/705 [00:00<?, ?it/s]"
      ]
     },
     "metadata": {},
     "output_type": "display_data"
    },
    {
     "data": {
      "application/vnd.jupyter.widget-view+json": {
       "model_id": "9aa931bba7864e5da509694b4ef92f65",
       "version_major": 2,
       "version_minor": 0
      },
      "text/plain": [
       "one epoch training:   0%|          | 0/705 [00:00<?, ?it/s]"
      ]
     },
     "metadata": {},
     "output_type": "display_data"
    },
    {
     "data": {
      "application/vnd.jupyter.widget-view+json": {
       "model_id": "b78b4733c06546ef92f4b6376c3fd0ea",
       "version_major": 2,
       "version_minor": 0
      },
      "text/plain": [
       "one epoch training:   0%|          | 0/705 [00:00<?, ?it/s]"
      ]
     },
     "metadata": {},
     "output_type": "display_data"
    },
    {
     "data": {
      "application/vnd.jupyter.widget-view+json": {
       "model_id": "1482d1ce002b446ebe01af5787f0c3fa",
       "version_major": 2,
       "version_minor": 0
      },
      "text/plain": [
       "one epoch training:   0%|          | 0/705 [00:00<?, ?it/s]"
      ]
     },
     "metadata": {},
     "output_type": "display_data"
    },
    {
     "data": {
      "application/vnd.jupyter.widget-view+json": {
       "model_id": "d805a6f9228840a3a3cfc5b78e3c374f",
       "version_major": 2,
       "version_minor": 0
      },
      "text/plain": [
       "one epoch training:   0%|          | 0/705 [00:00<?, ?it/s]"
      ]
     },
     "metadata": {},
     "output_type": "display_data"
    },
    {
     "data": {
      "application/vnd.jupyter.widget-view+json": {
       "model_id": "cdf7e1f8b7bd433b8616ba448c1ecac3",
       "version_major": 2,
       "version_minor": 0
      },
      "text/plain": [
       "one epoch training:   0%|          | 0/705 [00:00<?, ?it/s]"
      ]
     },
     "metadata": {},
     "output_type": "display_data"
    },
    {
     "data": {
      "application/vnd.jupyter.widget-view+json": {
       "model_id": "db15bba27aec4beea5d8403e00012b22",
       "version_major": 2,
       "version_minor": 0
      },
      "text/plain": [
       "one epoch training:   0%|          | 0/705 [00:00<?, ?it/s]"
      ]
     },
     "metadata": {},
     "output_type": "display_data"
    },
    {
     "data": {
      "application/vnd.jupyter.widget-view+json": {
       "model_id": "8f355eee25434d7c90c088b0338c7e39",
       "version_major": 2,
       "version_minor": 0
      },
      "text/plain": [
       "one epoch training:   0%|          | 0/705 [00:00<?, ?it/s]"
      ]
     },
     "metadata": {},
     "output_type": "display_data"
    },
    {
     "data": {
      "application/vnd.jupyter.widget-view+json": {
       "model_id": "04ba464fb47349cc99f54231b0982197",
       "version_major": 2,
       "version_minor": 0
      },
      "text/plain": [
       "one epoch training:   0%|          | 0/705 [00:00<?, ?it/s]"
      ]
     },
     "metadata": {},
     "output_type": "display_data"
    },
    {
     "data": {
      "application/vnd.jupyter.widget-view+json": {
       "model_id": "b6b71f08a0974b8b96bb274ee56dc05e",
       "version_major": 2,
       "version_minor": 0
      },
      "text/plain": [
       "one epoch training:   0%|          | 0/705 [00:00<?, ?it/s]"
      ]
     },
     "metadata": {},
     "output_type": "display_data"
    },
    {
     "data": {
      "application/vnd.jupyter.widget-view+json": {
       "model_id": "996c2f4a09ed4ea88bc6d0ff59d9972c",
       "version_major": 2,
       "version_minor": 0
      },
      "text/plain": [
       "one epoch training:   0%|          | 0/705 [00:00<?, ?it/s]"
      ]
     },
     "metadata": {},
     "output_type": "display_data"
    },
    {
     "data": {
      "application/vnd.jupyter.widget-view+json": {
       "model_id": "404350f7268e455b9eea1efafa920827",
       "version_major": 2,
       "version_minor": 0
      },
      "text/plain": [
       "one epoch training:   0%|          | 0/705 [00:00<?, ?it/s]"
      ]
     },
     "metadata": {},
     "output_type": "display_data"
    },
    {
     "data": {
      "application/vnd.jupyter.widget-view+json": {
       "model_id": "31fd3aeabd6c4f4f9364981b4578b150",
       "version_major": 2,
       "version_minor": 0
      },
      "text/plain": [
       "one epoch training:   0%|          | 0/705 [00:00<?, ?it/s]"
      ]
     },
     "metadata": {},
     "output_type": "display_data"
    },
    {
     "data": {
      "application/vnd.jupyter.widget-view+json": {
       "model_id": "0a7fb4938eb0475bb7215dc8e005a43b",
       "version_major": 2,
       "version_minor": 0
      },
      "text/plain": [
       "one epoch training:   0%|          | 0/705 [00:00<?, ?it/s]"
      ]
     },
     "metadata": {},
     "output_type": "display_data"
    },
    {
     "data": {
      "application/vnd.jupyter.widget-view+json": {
       "model_id": "982b015bbf11487eb1bf60f2e65392a0",
       "version_major": 2,
       "version_minor": 0
      },
      "text/plain": [
       "one epoch training:   0%|          | 0/705 [00:00<?, ?it/s]"
      ]
     },
     "metadata": {},
     "output_type": "display_data"
    },
    {
     "data": {
      "application/vnd.jupyter.widget-view+json": {
       "model_id": "4628bd30bac745ac93726cd9b1427e30",
       "version_major": 2,
       "version_minor": 0
      },
      "text/plain": [
       "one epoch training:   0%|          | 0/705 [00:00<?, ?it/s]"
      ]
     },
     "metadata": {},
     "output_type": "display_data"
    },
    {
     "data": {
      "application/vnd.jupyter.widget-view+json": {
       "model_id": "9f8d2b9f32594c83886d0f3ff0131ae7",
       "version_major": 2,
       "version_minor": 0
      },
      "text/plain": [
       "one epoch training:   0%|          | 0/705 [00:00<?, ?it/s]"
      ]
     },
     "metadata": {},
     "output_type": "display_data"
    },
    {
     "data": {
      "application/vnd.jupyter.widget-view+json": {
       "model_id": "72b61947666c4cb795ffe71f23fd6470",
       "version_major": 2,
       "version_minor": 0
      },
      "text/plain": [
       "one epoch training:   0%|          | 0/705 [00:00<?, ?it/s]"
      ]
     },
     "metadata": {},
     "output_type": "display_data"
    },
    {
     "data": {
      "application/vnd.jupyter.widget-view+json": {
       "model_id": "c4aa3da06ce841069000e000cc9c091e",
       "version_major": 2,
       "version_minor": 0
      },
      "text/plain": [
       "one epoch training:   0%|          | 0/705 [00:00<?, ?it/s]"
      ]
     },
     "metadata": {},
     "output_type": "display_data"
    },
    {
     "data": {
      "application/vnd.jupyter.widget-view+json": {
       "model_id": "f22d0e8ddd1a49c48732652c5bcb9b89",
       "version_major": 2,
       "version_minor": 0
      },
      "text/plain": [
       "one epoch training:   0%|          | 0/705 [00:00<?, ?it/s]"
      ]
     },
     "metadata": {},
     "output_type": "display_data"
    },
    {
     "data": {
      "application/vnd.jupyter.widget-view+json": {
       "model_id": "20448ad2454f47daaf04705b5ba2356e",
       "version_major": 2,
       "version_minor": 0
      },
      "text/plain": [
       "one epoch training:   0%|          | 0/705 [00:00<?, ?it/s]"
      ]
     },
     "metadata": {},
     "output_type": "display_data"
    },
    {
     "data": {
      "application/vnd.jupyter.widget-view+json": {
       "model_id": "d281461a016147d99e7086f58cc3f3b3",
       "version_major": 2,
       "version_minor": 0
      },
      "text/plain": [
       "one epoch training:   0%|          | 0/705 [00:00<?, ?it/s]"
      ]
     },
     "metadata": {},
     "output_type": "display_data"
    },
    {
     "data": {
      "application/vnd.jupyter.widget-view+json": {
       "model_id": "2bcd296da2254b3eaaa23d91e3834395",
       "version_major": 2,
       "version_minor": 0
      },
      "text/plain": [
       "one epoch training:   0%|          | 0/705 [00:00<?, ?it/s]"
      ]
     },
     "metadata": {},
     "output_type": "display_data"
    },
    {
     "data": {
      "application/vnd.jupyter.widget-view+json": {
       "model_id": "62e4e4d114dd47afad1dec9483b75958",
       "version_major": 2,
       "version_minor": 0
      },
      "text/plain": [
       "one epoch training:   0%|          | 0/705 [00:00<?, ?it/s]"
      ]
     },
     "metadata": {},
     "output_type": "display_data"
    },
    {
     "data": {
      "application/vnd.jupyter.widget-view+json": {
       "model_id": "a207b954dc454f4b88a9e9173ad9f5fd",
       "version_major": 2,
       "version_minor": 0
      },
      "text/plain": [
       "one epoch training:   0%|          | 0/705 [00:00<?, ?it/s]"
      ]
     },
     "metadata": {},
     "output_type": "display_data"
    },
    {
     "data": {
      "application/vnd.jupyter.widget-view+json": {
       "model_id": "acd87666577646feb219f8ca6321d389",
       "version_major": 2,
       "version_minor": 0
      },
      "text/plain": [
       "one epoch training:   0%|          | 0/705 [00:00<?, ?it/s]"
      ]
     },
     "metadata": {},
     "output_type": "display_data"
    },
    {
     "data": {
      "application/vnd.jupyter.widget-view+json": {
       "model_id": "cfa168156e28433eba48d54c346f6b58",
       "version_major": 2,
       "version_minor": 0
      },
      "text/plain": [
       "one epoch training:   0%|          | 0/705 [00:00<?, ?it/s]"
      ]
     },
     "metadata": {},
     "output_type": "display_data"
    },
    {
     "data": {
      "application/vnd.jupyter.widget-view+json": {
       "model_id": "e5719f06fa6e468cbe062aab9dfd1396",
       "version_major": 2,
       "version_minor": 0
      },
      "text/plain": [
       "one epoch training:   0%|          | 0/705 [00:00<?, ?it/s]"
      ]
     },
     "metadata": {},
     "output_type": "display_data"
    },
    {
     "data": {
      "application/vnd.jupyter.widget-view+json": {
       "model_id": "52753f2c43c641e8af1b1712c30943e8",
       "version_major": 2,
       "version_minor": 0
      },
      "text/plain": [
       "one epoch training:   0%|          | 0/705 [00:00<?, ?it/s]"
      ]
     },
     "metadata": {},
     "output_type": "display_data"
    },
    {
     "data": {
      "application/vnd.jupyter.widget-view+json": {
       "model_id": "0f94c39f01a1435e92496d9e48042597",
       "version_major": 2,
       "version_minor": 0
      },
      "text/plain": [
       "one epoch training:   0%|          | 0/705 [00:00<?, ?it/s]"
      ]
     },
     "metadata": {},
     "output_type": "display_data"
    },
    {
     "data": {
      "application/vnd.jupyter.widget-view+json": {
       "model_id": "5c9aaf22088e4c1b99a2f88ffbd39799",
       "version_major": 2,
       "version_minor": 0
      },
      "text/plain": [
       "one epoch training:   0%|          | 0/705 [00:00<?, ?it/s]"
      ]
     },
     "metadata": {},
     "output_type": "display_data"
    },
    {
     "data": {
      "application/vnd.jupyter.widget-view+json": {
       "model_id": "44d4450722ab4fa7aa212e41aeb64d57",
       "version_major": 2,
       "version_minor": 0
      },
      "text/plain": [
       "one epoch training:   0%|          | 0/705 [00:00<?, ?it/s]"
      ]
     },
     "metadata": {},
     "output_type": "display_data"
    },
    {
     "data": {
      "application/vnd.jupyter.widget-view+json": {
       "model_id": "dddefc1954f04766b64084e4bfb0022a",
       "version_major": 2,
       "version_minor": 0
      },
      "text/plain": [
       "one epoch training:   0%|          | 0/705 [00:00<?, ?it/s]"
      ]
     },
     "metadata": {},
     "output_type": "display_data"
    },
    {
     "data": {
      "application/vnd.jupyter.widget-view+json": {
       "model_id": "bd62612b33d543f78e96f86e20de097c",
       "version_major": 2,
       "version_minor": 0
      },
      "text/plain": [
       "one epoch training:   0%|          | 0/705 [00:00<?, ?it/s]"
      ]
     },
     "metadata": {},
     "output_type": "display_data"
    },
    {
     "data": {
      "application/vnd.jupyter.widget-view+json": {
       "model_id": "8ef9ff09def6481382d104a85afb9393",
       "version_major": 2,
       "version_minor": 0
      },
      "text/plain": [
       "one epoch training:   0%|          | 0/705 [00:00<?, ?it/s]"
      ]
     },
     "metadata": {},
     "output_type": "display_data"
    },
    {
     "data": {
      "application/vnd.jupyter.widget-view+json": {
       "model_id": "a5121a62953d49dc9ea0f65de981f30d",
       "version_major": 2,
       "version_minor": 0
      },
      "text/plain": [
       "one epoch training:   0%|          | 0/705 [00:00<?, ?it/s]"
      ]
     },
     "metadata": {},
     "output_type": "display_data"
    },
    {
     "data": {
      "application/vnd.jupyter.widget-view+json": {
       "model_id": "cfc0031644d44dfe96968689128f0dad",
       "version_major": 2,
       "version_minor": 0
      },
      "text/plain": [
       "one epoch training:   0%|          | 0/705 [00:00<?, ?it/s]"
      ]
     },
     "metadata": {},
     "output_type": "display_data"
    },
    {
     "data": {
      "application/vnd.jupyter.widget-view+json": {
       "model_id": "523ac5d599c747359be1a4432836c8b7",
       "version_major": 2,
       "version_minor": 0
      },
      "text/plain": [
       "one epoch training:   0%|          | 0/705 [00:00<?, ?it/s]"
      ]
     },
     "metadata": {},
     "output_type": "display_data"
    },
    {
     "data": {
      "application/vnd.jupyter.widget-view+json": {
       "model_id": "b5b4a13bbe8c4f4995c0ca3ea91d05b6",
       "version_major": 2,
       "version_minor": 0
      },
      "text/plain": [
       "one epoch training:   0%|          | 0/705 [00:00<?, ?it/s]"
      ]
     },
     "metadata": {},
     "output_type": "display_data"
    },
    {
     "data": {
      "application/vnd.jupyter.widget-view+json": {
       "model_id": "e2bd5b1f084d49c685483f9e822ccda4",
       "version_major": 2,
       "version_minor": 0
      },
      "text/plain": [
       "one epoch training:   0%|          | 0/705 [00:00<?, ?it/s]"
      ]
     },
     "metadata": {},
     "output_type": "display_data"
    },
    {
     "data": {
      "application/vnd.jupyter.widget-view+json": {
       "model_id": "00eb86a3bdf8450290f54621b3bc90f6",
       "version_major": 2,
       "version_minor": 0
      },
      "text/plain": [
       "one epoch training:   0%|          | 0/705 [00:00<?, ?it/s]"
      ]
     },
     "metadata": {},
     "output_type": "display_data"
    },
    {
     "data": {
      "application/vnd.jupyter.widget-view+json": {
       "model_id": "83f6b797e1364b578e2b7c24ce7b0934",
       "version_major": 2,
       "version_minor": 0
      },
      "text/plain": [
       "one epoch training:   0%|          | 0/705 [00:00<?, ?it/s]"
      ]
     },
     "metadata": {},
     "output_type": "display_data"
    },
    {
     "data": {
      "application/vnd.jupyter.widget-view+json": {
       "model_id": "9bfa5d2ce94e49d282f75eedd51d604e",
       "version_major": 2,
       "version_minor": 0
      },
      "text/plain": [
       "one epoch training:   0%|          | 0/705 [00:00<?, ?it/s]"
      ]
     },
     "metadata": {},
     "output_type": "display_data"
    },
    {
     "data": {
      "application/vnd.jupyter.widget-view+json": {
       "model_id": "727a27c8e01e4a97b14a942bfc861716",
       "version_major": 2,
       "version_minor": 0
      },
      "text/plain": [
       "one epoch training:   0%|          | 0/705 [00:00<?, ?it/s]"
      ]
     },
     "metadata": {},
     "output_type": "display_data"
    },
    {
     "data": {
      "application/vnd.jupyter.widget-view+json": {
       "model_id": "2472851284f54cc2a506b2adff416753",
       "version_major": 2,
       "version_minor": 0
      },
      "text/plain": [
       "one epoch training:   0%|          | 0/705 [00:00<?, ?it/s]"
      ]
     },
     "metadata": {},
     "output_type": "display_data"
    },
    {
     "data": {
      "application/vnd.jupyter.widget-view+json": {
       "model_id": "6cd081f961314c95b0f9306ba487d936",
       "version_major": 2,
       "version_minor": 0
      },
      "text/plain": [
       "one epoch training:   0%|          | 0/705 [00:00<?, ?it/s]"
      ]
     },
     "metadata": {},
     "output_type": "display_data"
    },
    {
     "data": {
      "application/vnd.jupyter.widget-view+json": {
       "model_id": "4c8ef573f6704df48e67e9bc805e3e74",
       "version_major": 2,
       "version_minor": 0
      },
      "text/plain": [
       "one epoch training:   0%|          | 0/705 [00:00<?, ?it/s]"
      ]
     },
     "metadata": {},
     "output_type": "display_data"
    },
    {
     "data": {
      "application/vnd.jupyter.widget-view+json": {
       "model_id": "82f7aa79e9554eff988e05702990a6c7",
       "version_major": 2,
       "version_minor": 0
      },
      "text/plain": [
       "one epoch training:   0%|          | 0/705 [00:00<?, ?it/s]"
      ]
     },
     "metadata": {},
     "output_type": "display_data"
    },
    {
     "data": {
      "application/vnd.jupyter.widget-view+json": {
       "model_id": "8b1838ea6f4a4d65821b86cd4f00e0eb",
       "version_major": 2,
       "version_minor": 0
      },
      "text/plain": [
       "one epoch training:   0%|          | 0/705 [00:00<?, ?it/s]"
      ]
     },
     "metadata": {},
     "output_type": "display_data"
    },
    {
     "data": {
      "application/vnd.jupyter.widget-view+json": {
       "model_id": "806ec9c234134e3d89547ab43d9f5ef3",
       "version_major": 2,
       "version_minor": 0
      },
      "text/plain": [
       "one epoch training:   0%|          | 0/705 [00:00<?, ?it/s]"
      ]
     },
     "metadata": {},
     "output_type": "display_data"
    },
    {
     "data": {
      "application/vnd.jupyter.widget-view+json": {
       "model_id": "068eb841c465435a81faa5ea36840929",
       "version_major": 2,
       "version_minor": 0
      },
      "text/plain": [
       "one epoch training:   0%|          | 0/705 [00:00<?, ?it/s]"
      ]
     },
     "metadata": {},
     "output_type": "display_data"
    },
    {
     "data": {
      "application/vnd.jupyter.widget-view+json": {
       "model_id": "b71a50c8416d42a6b3d51600ac47e620",
       "version_major": 2,
       "version_minor": 0
      },
      "text/plain": [
       "one epoch training:   0%|          | 0/705 [00:00<?, ?it/s]"
      ]
     },
     "metadata": {},
     "output_type": "display_data"
    },
    {
     "data": {
      "application/vnd.jupyter.widget-view+json": {
       "model_id": "c858f18634414f4fbea67564518b568d",
       "version_major": 2,
       "version_minor": 0
      },
      "text/plain": [
       "one epoch training:   0%|          | 0/705 [00:00<?, ?it/s]"
      ]
     },
     "metadata": {},
     "output_type": "display_data"
    },
    {
     "data": {
      "application/vnd.jupyter.widget-view+json": {
       "model_id": "cb96153ef9d24e75a36651ef719194f1",
       "version_major": 2,
       "version_minor": 0
      },
      "text/plain": [
       "one epoch training:   0%|          | 0/705 [00:00<?, ?it/s]"
      ]
     },
     "metadata": {},
     "output_type": "display_data"
    },
    {
     "data": {
      "application/vnd.jupyter.widget-view+json": {
       "model_id": "c0149ffed90b4a64b5076487f3f1c2bb",
       "version_major": 2,
       "version_minor": 0
      },
      "text/plain": [
       "one epoch training:   0%|          | 0/705 [00:00<?, ?it/s]"
      ]
     },
     "metadata": {},
     "output_type": "display_data"
    },
    {
     "data": {
      "application/vnd.jupyter.widget-view+json": {
       "model_id": "a804334954804704b6fca8852243f140",
       "version_major": 2,
       "version_minor": 0
      },
      "text/plain": [
       "one epoch training:   0%|          | 0/705 [00:00<?, ?it/s]"
      ]
     },
     "metadata": {},
     "output_type": "display_data"
    },
    {
     "data": {
      "application/vnd.jupyter.widget-view+json": {
       "model_id": "53f22885f914474681299bc868d177c2",
       "version_major": 2,
       "version_minor": 0
      },
      "text/plain": [
       "one epoch training:   0%|          | 0/705 [00:00<?, ?it/s]"
      ]
     },
     "metadata": {},
     "output_type": "display_data"
    },
    {
     "data": {
      "application/vnd.jupyter.widget-view+json": {
       "model_id": "57ef2b29b15f46b5ae2411d6db32c012",
       "version_major": 2,
       "version_minor": 0
      },
      "text/plain": [
       "one epoch training:   0%|          | 0/705 [00:00<?, ?it/s]"
      ]
     },
     "metadata": {},
     "output_type": "display_data"
    },
    {
     "data": {
      "application/vnd.jupyter.widget-view+json": {
       "model_id": "95f33dd64ccb47448a5f9d8da6d15f27",
       "version_major": 2,
       "version_minor": 0
      },
      "text/plain": [
       "one epoch training:   0%|          | 0/705 [00:00<?, ?it/s]"
      ]
     },
     "metadata": {},
     "output_type": "display_data"
    },
    {
     "data": {
      "application/vnd.jupyter.widget-view+json": {
       "model_id": "f4201aadfca44e10aa2eb25aac59bf13",
       "version_major": 2,
       "version_minor": 0
      },
      "text/plain": [
       "one epoch training:   0%|          | 0/705 [00:00<?, ?it/s]"
      ]
     },
     "metadata": {},
     "output_type": "display_data"
    },
    {
     "data": {
      "application/vnd.jupyter.widget-view+json": {
       "model_id": "7a391a03b43f4eb7a4395691fa3cd562",
       "version_major": 2,
       "version_minor": 0
      },
      "text/plain": [
       "one epoch training:   0%|          | 0/705 [00:00<?, ?it/s]"
      ]
     },
     "metadata": {},
     "output_type": "display_data"
    },
    {
     "data": {
      "application/vnd.jupyter.widget-view+json": {
       "model_id": "408e7698d65a4b4f902d7db7517d866e",
       "version_major": 2,
       "version_minor": 0
      },
      "text/plain": [
       "one epoch training:   0%|          | 0/705 [00:00<?, ?it/s]"
      ]
     },
     "metadata": {},
     "output_type": "display_data"
    },
    {
     "data": {
      "application/vnd.jupyter.widget-view+json": {
       "model_id": "e53a706cf1724d6da8ca0f1e27ef6fb5",
       "version_major": 2,
       "version_minor": 0
      },
      "text/plain": [
       "one epoch training:   0%|          | 0/705 [00:00<?, ?it/s]"
      ]
     },
     "metadata": {},
     "output_type": "display_data"
    },
    {
     "data": {
      "application/vnd.jupyter.widget-view+json": {
       "model_id": "de5587be3ac240b38111b957ac0d06ef",
       "version_major": 2,
       "version_minor": 0
      },
      "text/plain": [
       "one epoch training:   0%|          | 0/705 [00:00<?, ?it/s]"
      ]
     },
     "metadata": {},
     "output_type": "display_data"
    },
    {
     "data": {
      "application/vnd.jupyter.widget-view+json": {
       "model_id": "6b588628840f465aa3a31a7206836846",
       "version_major": 2,
       "version_minor": 0
      },
      "text/plain": [
       "one epoch training:   0%|          | 0/705 [00:00<?, ?it/s]"
      ]
     },
     "metadata": {},
     "output_type": "display_data"
    },
    {
     "data": {
      "application/vnd.jupyter.widget-view+json": {
       "model_id": "888cdc200500477c95ca186dbdab1b8a",
       "version_major": 2,
       "version_minor": 0
      },
      "text/plain": [
       "one epoch training:   0%|          | 0/705 [00:00<?, ?it/s]"
      ]
     },
     "metadata": {},
     "output_type": "display_data"
    },
    {
     "data": {
      "application/vnd.jupyter.widget-view+json": {
       "model_id": "c342a5ad8f8842c38fa22bc88b4c9a23",
       "version_major": 2,
       "version_minor": 0
      },
      "text/plain": [
       "one epoch training:   0%|          | 0/705 [00:00<?, ?it/s]"
      ]
     },
     "metadata": {},
     "output_type": "display_data"
    },
    {
     "data": {
      "application/vnd.jupyter.widget-view+json": {
       "model_id": "8da59e612e0c4285b3a75477160c3f55",
       "version_major": 2,
       "version_minor": 0
      },
      "text/plain": [
       "one epoch training:   0%|          | 0/705 [00:00<?, ?it/s]"
      ]
     },
     "metadata": {},
     "output_type": "display_data"
    },
    {
     "data": {
      "application/vnd.jupyter.widget-view+json": {
       "model_id": "a212d79f2f7248f9afad4dc4dc8ccbf8",
       "version_major": 2,
       "version_minor": 0
      },
      "text/plain": [
       "one epoch training:   0%|          | 0/705 [00:00<?, ?it/s]"
      ]
     },
     "metadata": {},
     "output_type": "display_data"
    },
    {
     "data": {
      "application/vnd.jupyter.widget-view+json": {
       "model_id": "9e6d21e978f240e5b2e5b1b234039a1c",
       "version_major": 2,
       "version_minor": 0
      },
      "text/plain": [
       "one epoch training:   0%|          | 0/705 [00:00<?, ?it/s]"
      ]
     },
     "metadata": {},
     "output_type": "display_data"
    },
    {
     "data": {
      "application/vnd.jupyter.widget-view+json": {
       "model_id": "aba796c2bcaf4b24b412d126c58f75da",
       "version_major": 2,
       "version_minor": 0
      },
      "text/plain": [
       "one epoch training:   0%|          | 0/705 [00:00<?, ?it/s]"
      ]
     },
     "metadata": {},
     "output_type": "display_data"
    },
    {
     "data": {
      "application/vnd.jupyter.widget-view+json": {
       "model_id": "bd1b006841104fa3aa39a494b36d9d34",
       "version_major": 2,
       "version_minor": 0
      },
      "text/plain": [
       "one epoch training:   0%|          | 0/705 [00:00<?, ?it/s]"
      ]
     },
     "metadata": {},
     "output_type": "display_data"
    },
    {
     "data": {
      "application/vnd.jupyter.widget-view+json": {
       "model_id": "ec375264ed8d4a6ebbcd832171266d07",
       "version_major": 2,
       "version_minor": 0
      },
      "text/plain": [
       "one epoch training:   0%|          | 0/705 [00:00<?, ?it/s]"
      ]
     },
     "metadata": {},
     "output_type": "display_data"
    },
    {
     "data": {
      "application/vnd.jupyter.widget-view+json": {
       "model_id": "4e8a5b1b9f5448ac9f4d53468281c866",
       "version_major": 2,
       "version_minor": 0
      },
      "text/plain": [
       "one epoch training:   0%|          | 0/705 [00:00<?, ?it/s]"
      ]
     },
     "metadata": {},
     "output_type": "display_data"
    },
    {
     "data": {
      "application/vnd.jupyter.widget-view+json": {
       "model_id": "b9635270ab54450a84537bd4c92b2438",
       "version_major": 2,
       "version_minor": 0
      },
      "text/plain": [
       "one epoch training:   0%|          | 0/705 [00:00<?, ?it/s]"
      ]
     },
     "metadata": {},
     "output_type": "display_data"
    },
    {
     "data": {
      "application/vnd.jupyter.widget-view+json": {
       "model_id": "070e490d70154eea9192838a68544732",
       "version_major": 2,
       "version_minor": 0
      },
      "text/plain": [
       "one epoch training:   0%|          | 0/705 [00:00<?, ?it/s]"
      ]
     },
     "metadata": {},
     "output_type": "display_data"
    },
    {
     "data": {
      "application/vnd.jupyter.widget-view+json": {
       "model_id": "d37984f00250453b9fc56f9c8f4f5081",
       "version_major": 2,
       "version_minor": 0
      },
      "text/plain": [
       "one epoch training:   0%|          | 0/705 [00:00<?, ?it/s]"
      ]
     },
     "metadata": {},
     "output_type": "display_data"
    },
    {
     "data": {
      "application/vnd.jupyter.widget-view+json": {
       "model_id": "f11ab3efc1744166b21a5acfa7bfc8e2",
       "version_major": 2,
       "version_minor": 0
      },
      "text/plain": [
       "one epoch training:   0%|          | 0/705 [00:00<?, ?it/s]"
      ]
     },
     "metadata": {},
     "output_type": "display_data"
    },
    {
     "data": {
      "application/vnd.jupyter.widget-view+json": {
       "model_id": "ee14575b4d3848b5978e4c3594cd18fd",
       "version_major": 2,
       "version_minor": 0
      },
      "text/plain": [
       "one epoch training:   0%|          | 0/705 [00:00<?, ?it/s]"
      ]
     },
     "metadata": {},
     "output_type": "display_data"
    },
    {
     "data": {
      "application/vnd.jupyter.widget-view+json": {
       "model_id": "cb5b4ebe85fd4293ae1bde39dd90d61a",
       "version_major": 2,
       "version_minor": 0
      },
      "text/plain": [
       "one epoch training:   0%|          | 0/705 [00:00<?, ?it/s]"
      ]
     },
     "metadata": {},
     "output_type": "display_data"
    },
    {
     "data": {
      "application/vnd.jupyter.widget-view+json": {
       "model_id": "b496531c14f24071a44505699cbaf716",
       "version_major": 2,
       "version_minor": 0
      },
      "text/plain": [
       "one epoch training:   0%|          | 0/705 [00:00<?, ?it/s]"
      ]
     },
     "metadata": {},
     "output_type": "display_data"
    },
    {
     "data": {
      "application/vnd.jupyter.widget-view+json": {
       "model_id": "a5dacb1eeacc4b928431fd9061bd0e37",
       "version_major": 2,
       "version_minor": 0
      },
      "text/plain": [
       "one epoch training:   0%|          | 0/705 [00:00<?, ?it/s]"
      ]
     },
     "metadata": {},
     "output_type": "display_data"
    },
    {
     "data": {
      "application/vnd.jupyter.widget-view+json": {
       "model_id": "1798b05d300f4daba553161dc7436ec8",
       "version_major": 2,
       "version_minor": 0
      },
      "text/plain": [
       "one epoch training:   0%|          | 0/705 [00:00<?, ?it/s]"
      ]
     },
     "metadata": {},
     "output_type": "display_data"
    },
    {
     "data": {
      "application/vnd.jupyter.widget-view+json": {
       "model_id": "bcb86ce2b08b4e72a073dff63d632dd6",
       "version_major": 2,
       "version_minor": 0
      },
      "text/plain": [
       "one epoch training:   0%|          | 0/705 [00:00<?, ?it/s]"
      ]
     },
     "metadata": {},
     "output_type": "display_data"
    },
    {
     "data": {
      "application/vnd.jupyter.widget-view+json": {
       "model_id": "5661f3a4ff474bf5aaa3edbd0f76afbb",
       "version_major": 2,
       "version_minor": 0
      },
      "text/plain": [
       "one epoch training:   0%|          | 0/705 [00:00<?, ?it/s]"
      ]
     },
     "metadata": {},
     "output_type": "display_data"
    },
    {
     "data": {
      "application/vnd.jupyter.widget-view+json": {
       "model_id": "2d5806965656493f9596e40d0603266c",
       "version_major": 2,
       "version_minor": 0
      },
      "text/plain": [
       "one epoch training:   0%|          | 0/705 [00:00<?, ?it/s]"
      ]
     },
     "metadata": {},
     "output_type": "display_data"
    },
    {
     "data": {
      "application/vnd.jupyter.widget-view+json": {
       "model_id": "e3dbd0f12508462b8155ed236847d208",
       "version_major": 2,
       "version_minor": 0
      },
      "text/plain": [
       "one epoch training:   0%|          | 0/705 [00:00<?, ?it/s]"
      ]
     },
     "metadata": {},
     "output_type": "display_data"
    },
    {
     "data": {
      "application/vnd.jupyter.widget-view+json": {
       "model_id": "1b2747ae7b244490b6314b96d3c66150",
       "version_major": 2,
       "version_minor": 0
      },
      "text/plain": [
       "one epoch training:   0%|          | 0/705 [00:00<?, ?it/s]"
      ]
     },
     "metadata": {},
     "output_type": "display_data"
    },
    {
     "data": {
      "application/vnd.jupyter.widget-view+json": {
       "model_id": "72e407071fa94e8f88559ceffa2054ff",
       "version_major": 2,
       "version_minor": 0
      },
      "text/plain": [
       "one epoch training:   0%|          | 0/705 [00:00<?, ?it/s]"
      ]
     },
     "metadata": {},
     "output_type": "display_data"
    },
    {
     "data": {
      "application/vnd.jupyter.widget-view+json": {
       "model_id": "43527dc6f20146f093b29abc11ea2e46",
       "version_major": 2,
       "version_minor": 0
      },
      "text/plain": [
       "one epoch training:   0%|          | 0/705 [00:00<?, ?it/s]"
      ]
     },
     "metadata": {},
     "output_type": "display_data"
    },
    {
     "data": {
      "application/vnd.jupyter.widget-view+json": {
       "model_id": "1b54ccb432ad47509f57dddbe25ebc2b",
       "version_major": 2,
       "version_minor": 0
      },
      "text/plain": [
       "one epoch training:   0%|          | 0/705 [00:00<?, ?it/s]"
      ]
     },
     "metadata": {},
     "output_type": "display_data"
    },
    {
     "data": {
      "application/vnd.jupyter.widget-view+json": {
       "model_id": "b6348b138c6a4da39af1a46ba9b31deb",
       "version_major": 2,
       "version_minor": 0
      },
      "text/plain": [
       "one epoch training:   0%|          | 0/705 [00:00<?, ?it/s]"
      ]
     },
     "metadata": {},
     "output_type": "display_data"
    },
    {
     "data": {
      "application/vnd.jupyter.widget-view+json": {
       "model_id": "b5c252c935544dc2877f5bbe97340683",
       "version_major": 2,
       "version_minor": 0
      },
      "text/plain": [
       "one epoch training:   0%|          | 0/705 [00:00<?, ?it/s]"
      ]
     },
     "metadata": {},
     "output_type": "display_data"
    },
    {
     "data": {
      "application/vnd.jupyter.widget-view+json": {
       "model_id": "b26a437ef03a470eaa07fbb11e9ccc35",
       "version_major": 2,
       "version_minor": 0
      },
      "text/plain": [
       "one epoch training:   0%|          | 0/705 [00:00<?, ?it/s]"
      ]
     },
     "metadata": {},
     "output_type": "display_data"
    },
    {
     "data": {
      "application/vnd.jupyter.widget-view+json": {
       "model_id": "0ab1c1444f8449e3ac39b5eb741b1c58",
       "version_major": 2,
       "version_minor": 0
      },
      "text/plain": [
       "one epoch training:   0%|          | 0/705 [00:00<?, ?it/s]"
      ]
     },
     "metadata": {},
     "output_type": "display_data"
    },
    {
     "data": {
      "application/vnd.jupyter.widget-view+json": {
       "model_id": "eb361f665d90440e88f1e447494b2168",
       "version_major": 2,
       "version_minor": 0
      },
      "text/plain": [
       "one epoch training:   0%|          | 0/705 [00:00<?, ?it/s]"
      ]
     },
     "metadata": {},
     "output_type": "display_data"
    },
    {
     "data": {
      "application/vnd.jupyter.widget-view+json": {
       "model_id": "2482c977553a47ec90e5d874c49f3bc5",
       "version_major": 2,
       "version_minor": 0
      },
      "text/plain": [
       "one epoch training:   0%|          | 0/705 [00:00<?, ?it/s]"
      ]
     },
     "metadata": {},
     "output_type": "display_data"
    },
    {
     "data": {
      "application/vnd.jupyter.widget-view+json": {
       "model_id": "ebb0e2d065004320a9cedc8df5d47e43",
       "version_major": 2,
       "version_minor": 0
      },
      "text/plain": [
       "one epoch training:   0%|          | 0/705 [00:00<?, ?it/s]"
      ]
     },
     "metadata": {},
     "output_type": "display_data"
    },
    {
     "data": {
      "application/vnd.jupyter.widget-view+json": {
       "model_id": "13f6d760b43c45628d3f7f530faedf0b",
       "version_major": 2,
       "version_minor": 0
      },
      "text/plain": [
       "one epoch training:   0%|          | 0/705 [00:00<?, ?it/s]"
      ]
     },
     "metadata": {},
     "output_type": "display_data"
    },
    {
     "data": {
      "application/vnd.jupyter.widget-view+json": {
       "model_id": "8cdc7a9246bc4e99ad934ec249926d5e",
       "version_major": 2,
       "version_minor": 0
      },
      "text/plain": [
       "one epoch training:   0%|          | 0/705 [00:00<?, ?it/s]"
      ]
     },
     "metadata": {},
     "output_type": "display_data"
    },
    {
     "data": {
      "application/vnd.jupyter.widget-view+json": {
       "model_id": "d3289c1adacb4529a3a92fdf07b0147f",
       "version_major": 2,
       "version_minor": 0
      },
      "text/plain": [
       "one epoch training:   0%|          | 0/705 [00:00<?, ?it/s]"
      ]
     },
     "metadata": {},
     "output_type": "display_data"
    },
    {
     "data": {
      "application/vnd.jupyter.widget-view+json": {
       "model_id": "9f699885e98d460ebaa3b107da9d3bf5",
       "version_major": 2,
       "version_minor": 0
      },
      "text/plain": [
       "one epoch training:   0%|          | 0/705 [00:00<?, ?it/s]"
      ]
     },
     "metadata": {},
     "output_type": "display_data"
    },
    {
     "data": {
      "application/vnd.jupyter.widget-view+json": {
       "model_id": "99ea218f55154a42bf32e0b7117f9a5f",
       "version_major": 2,
       "version_minor": 0
      },
      "text/plain": [
       "one epoch training:   0%|          | 0/705 [00:00<?, ?it/s]"
      ]
     },
     "metadata": {},
     "output_type": "display_data"
    },
    {
     "data": {
      "application/vnd.jupyter.widget-view+json": {
       "model_id": "98a535ef20274f989b91a474df3d41df",
       "version_major": 2,
       "version_minor": 0
      },
      "text/plain": [
       "one epoch training:   0%|          | 0/705 [00:00<?, ?it/s]"
      ]
     },
     "metadata": {},
     "output_type": "display_data"
    },
    {
     "data": {
      "application/vnd.jupyter.widget-view+json": {
       "model_id": "fc462bd83fea4b4cb40177edfde4b143",
       "version_major": 2,
       "version_minor": 0
      },
      "text/plain": [
       "one epoch training:   0%|          | 0/705 [00:00<?, ?it/s]"
      ]
     },
     "metadata": {},
     "output_type": "display_data"
    },
    {
     "data": {
      "application/vnd.jupyter.widget-view+json": {
       "model_id": "b0b89fbfb303472099a6a5ba3b3a6cfe",
       "version_major": 2,
       "version_minor": 0
      },
      "text/plain": [
       "one epoch training:   0%|          | 0/705 [00:00<?, ?it/s]"
      ]
     },
     "metadata": {},
     "output_type": "display_data"
    },
    {
     "data": {
      "application/vnd.jupyter.widget-view+json": {
       "model_id": "20056e75a6f34b628617fbbb0a908b24",
       "version_major": 2,
       "version_minor": 0
      },
      "text/plain": [
       "one epoch training:   0%|          | 0/705 [00:00<?, ?it/s]"
      ]
     },
     "metadata": {},
     "output_type": "display_data"
    },
    {
     "data": {
      "application/vnd.jupyter.widget-view+json": {
       "model_id": "8acfb1c86ecd46b38cb563a7dcf71745",
       "version_major": 2,
       "version_minor": 0
      },
      "text/plain": [
       "one epoch training:   0%|          | 0/705 [00:00<?, ?it/s]"
      ]
     },
     "metadata": {},
     "output_type": "display_data"
    },
    {
     "data": {
      "application/vnd.jupyter.widget-view+json": {
       "model_id": "b7214f82964f4c6cb1221ff1fe740ed6",
       "version_major": 2,
       "version_minor": 0
      },
      "text/plain": [
       "one epoch training:   0%|          | 0/705 [00:00<?, ?it/s]"
      ]
     },
     "metadata": {},
     "output_type": "display_data"
    },
    {
     "data": {
      "application/vnd.jupyter.widget-view+json": {
       "model_id": "eadbd9a5d3314b23b9f64821ef0f886e",
       "version_major": 2,
       "version_minor": 0
      },
      "text/plain": [
       "one epoch training:   0%|          | 0/705 [00:00<?, ?it/s]"
      ]
     },
     "metadata": {},
     "output_type": "display_data"
    },
    {
     "data": {
      "application/vnd.jupyter.widget-view+json": {
       "model_id": "1e554fcde48e472c96209f1db866dd3e",
       "version_major": 2,
       "version_minor": 0
      },
      "text/plain": [
       "one epoch training:   0%|          | 0/705 [00:00<?, ?it/s]"
      ]
     },
     "metadata": {},
     "output_type": "display_data"
    },
    {
     "data": {
      "application/vnd.jupyter.widget-view+json": {
       "model_id": "1ad0a7c6d6454ebb8f86a8137f16a0c5",
       "version_major": 2,
       "version_minor": 0
      },
      "text/plain": [
       "one epoch training:   0%|          | 0/705 [00:00<?, ?it/s]"
      ]
     },
     "metadata": {},
     "output_type": "display_data"
    },
    {
     "data": {
      "application/vnd.jupyter.widget-view+json": {
       "model_id": "49e5764aea5e41eb9ecdc0a0d865c337",
       "version_major": 2,
       "version_minor": 0
      },
      "text/plain": [
       "one epoch training:   0%|          | 0/705 [00:00<?, ?it/s]"
      ]
     },
     "metadata": {},
     "output_type": "display_data"
    },
    {
     "data": {
      "application/vnd.jupyter.widget-view+json": {
       "model_id": "e10d61f4cbbc408ea6e25f819c640805",
       "version_major": 2,
       "version_minor": 0
      },
      "text/plain": [
       "one epoch training:   0%|          | 0/705 [00:00<?, ?it/s]"
      ]
     },
     "metadata": {},
     "output_type": "display_data"
    },
    {
     "data": {
      "application/vnd.jupyter.widget-view+json": {
       "model_id": "8443a06e24fc4d579bc02f1f122ecf3d",
       "version_major": 2,
       "version_minor": 0
      },
      "text/plain": [
       "one epoch training:   0%|          | 0/705 [00:00<?, ?it/s]"
      ]
     },
     "metadata": {},
     "output_type": "display_data"
    },
    {
     "data": {
      "application/vnd.jupyter.widget-view+json": {
       "model_id": "e57deec0ae3d40b69add3006fae88f70",
       "version_major": 2,
       "version_minor": 0
      },
      "text/plain": [
       "one epoch training:   0%|          | 0/705 [00:00<?, ?it/s]"
      ]
     },
     "metadata": {},
     "output_type": "display_data"
    },
    {
     "data": {
      "application/vnd.jupyter.widget-view+json": {
       "model_id": "18017d2727f14c53a037f625fd083bc8",
       "version_major": 2,
       "version_minor": 0
      },
      "text/plain": [
       "one epoch training:   0%|          | 0/705 [00:00<?, ?it/s]"
      ]
     },
     "metadata": {},
     "output_type": "display_data"
    },
    {
     "data": {
      "application/vnd.jupyter.widget-view+json": {
       "model_id": "6293cb8aab28419ab56508717c0f2dd2",
       "version_major": 2,
       "version_minor": 0
      },
      "text/plain": [
       "one epoch training:   0%|          | 0/705 [00:00<?, ?it/s]"
      ]
     },
     "metadata": {},
     "output_type": "display_data"
    },
    {
     "data": {
      "application/vnd.jupyter.widget-view+json": {
       "model_id": "38b4dbd0da0f4027922463902987282e",
       "version_major": 2,
       "version_minor": 0
      },
      "text/plain": [
       "one epoch training:   0%|          | 0/705 [00:00<?, ?it/s]"
      ]
     },
     "metadata": {},
     "output_type": "display_data"
    },
    {
     "data": {
      "application/vnd.jupyter.widget-view+json": {
       "model_id": "26cc669b71eb4cf78d2d4b3366b2f318",
       "version_major": 2,
       "version_minor": 0
      },
      "text/plain": [
       "one epoch training:   0%|          | 0/705 [00:00<?, ?it/s]"
      ]
     },
     "metadata": {},
     "output_type": "display_data"
    },
    {
     "data": {
      "application/vnd.jupyter.widget-view+json": {
       "model_id": "1c61515f7664410fa3f03402446cad24",
       "version_major": 2,
       "version_minor": 0
      },
      "text/plain": [
       "one epoch training:   0%|          | 0/705 [00:00<?, ?it/s]"
      ]
     },
     "metadata": {},
     "output_type": "display_data"
    },
    {
     "data": {
      "application/vnd.jupyter.widget-view+json": {
       "model_id": "68d838d7383246aa8ddf46c1c607af47",
       "version_major": 2,
       "version_minor": 0
      },
      "text/plain": [
       "one epoch training:   0%|          | 0/705 [00:00<?, ?it/s]"
      ]
     },
     "metadata": {},
     "output_type": "display_data"
    },
    {
     "data": {
      "application/vnd.jupyter.widget-view+json": {
       "model_id": "505829e3c7f94ad699c2edfe7c1386f6",
       "version_major": 2,
       "version_minor": 0
      },
      "text/plain": [
       "one epoch training:   0%|          | 0/705 [00:00<?, ?it/s]"
      ]
     },
     "metadata": {},
     "output_type": "display_data"
    },
    {
     "data": {
      "application/vnd.jupyter.widget-view+json": {
       "model_id": "8be554fa81634b2786ad9c40af63c054",
       "version_major": 2,
       "version_minor": 0
      },
      "text/plain": [
       "one epoch training:   0%|          | 0/705 [00:00<?, ?it/s]"
      ]
     },
     "metadata": {},
     "output_type": "display_data"
    },
    {
     "data": {
      "application/vnd.jupyter.widget-view+json": {
       "model_id": "16069d7a7a6643ae9dd7f93d69274eab",
       "version_major": 2,
       "version_minor": 0
      },
      "text/plain": [
       "one epoch training:   0%|          | 0/705 [00:00<?, ?it/s]"
      ]
     },
     "metadata": {},
     "output_type": "display_data"
    },
    {
     "data": {
      "application/vnd.jupyter.widget-view+json": {
       "model_id": "dd42c806b0074e87ba7a4e0ef388dd45",
       "version_major": 2,
       "version_minor": 0
      },
      "text/plain": [
       "one epoch training:   0%|          | 0/705 [00:00<?, ?it/s]"
      ]
     },
     "metadata": {},
     "output_type": "display_data"
    },
    {
     "data": {
      "application/vnd.jupyter.widget-view+json": {
       "model_id": "d5c0f649fda9430c82437b04648ce5d5",
       "version_major": 2,
       "version_minor": 0
      },
      "text/plain": [
       "one epoch training:   0%|          | 0/705 [00:00<?, ?it/s]"
      ]
     },
     "metadata": {},
     "output_type": "display_data"
    },
    {
     "data": {
      "application/vnd.jupyter.widget-view+json": {
       "model_id": "43916ff768b647c996949afff6d86b60",
       "version_major": 2,
       "version_minor": 0
      },
      "text/plain": [
       "one epoch training:   0%|          | 0/705 [00:00<?, ?it/s]"
      ]
     },
     "metadata": {},
     "output_type": "display_data"
    },
    {
     "data": {
      "application/vnd.jupyter.widget-view+json": {
       "model_id": "ade19939c97241a9a9ea81e0ffbbe458",
       "version_major": 2,
       "version_minor": 0
      },
      "text/plain": [
       "one epoch training:   0%|          | 0/705 [00:00<?, ?it/s]"
      ]
     },
     "metadata": {},
     "output_type": "display_data"
    },
    {
     "data": {
      "application/vnd.jupyter.widget-view+json": {
       "model_id": "b9455824bc54470faafc308d7a56fb04",
       "version_major": 2,
       "version_minor": 0
      },
      "text/plain": [
       "one epoch training:   0%|          | 0/705 [00:00<?, ?it/s]"
      ]
     },
     "metadata": {},
     "output_type": "display_data"
    },
    {
     "data": {
      "application/vnd.jupyter.widget-view+json": {
       "model_id": "c350710cc9c448498f642340d936316a",
       "version_major": 2,
       "version_minor": 0
      },
      "text/plain": [
       "one epoch training:   0%|          | 0/705 [00:00<?, ?it/s]"
      ]
     },
     "metadata": {},
     "output_type": "display_data"
    },
    {
     "data": {
      "application/vnd.jupyter.widget-view+json": {
       "model_id": "8fde0072f798469798875f9610c90489",
       "version_major": 2,
       "version_minor": 0
      },
      "text/plain": [
       "one epoch training:   0%|          | 0/705 [00:00<?, ?it/s]"
      ]
     },
     "metadata": {},
     "output_type": "display_data"
    },
    {
     "data": {
      "application/vnd.jupyter.widget-view+json": {
       "model_id": "f9f48ae6bfec46178e9c44147247f001",
       "version_major": 2,
       "version_minor": 0
      },
      "text/plain": [
       "one epoch training:   0%|          | 0/705 [00:00<?, ?it/s]"
      ]
     },
     "metadata": {},
     "output_type": "display_data"
    },
    {
     "data": {
      "application/vnd.jupyter.widget-view+json": {
       "model_id": "09177629f32444149581c459f46de8a5",
       "version_major": 2,
       "version_minor": 0
      },
      "text/plain": [
       "one epoch training:   0%|          | 0/705 [00:00<?, ?it/s]"
      ]
     },
     "metadata": {},
     "output_type": "display_data"
    },
    {
     "data": {
      "application/vnd.jupyter.widget-view+json": {
       "model_id": "6fd5f66346d14cbc96a879ce292b093b",
       "version_major": 2,
       "version_minor": 0
      },
      "text/plain": [
       "one epoch training:   0%|          | 0/705 [00:00<?, ?it/s]"
      ]
     },
     "metadata": {},
     "output_type": "display_data"
    },
    {
     "data": {
      "application/vnd.jupyter.widget-view+json": {
       "model_id": "f104d6cde69140cbb4d59d5ee24c37ad",
       "version_major": 2,
       "version_minor": 0
      },
      "text/plain": [
       "one epoch training:   0%|          | 0/705 [00:00<?, ?it/s]"
      ]
     },
     "metadata": {},
     "output_type": "display_data"
    },
    {
     "data": {
      "application/vnd.jupyter.widget-view+json": {
       "model_id": "f483c45ff5194284bc1a5d89caad2692",
       "version_major": 2,
       "version_minor": 0
      },
      "text/plain": [
       "one epoch training:   0%|          | 0/705 [00:00<?, ?it/s]"
      ]
     },
     "metadata": {},
     "output_type": "display_data"
    },
    {
     "data": {
      "application/vnd.jupyter.widget-view+json": {
       "model_id": "7213104cff0942abbb53517ef95ca636",
       "version_major": 2,
       "version_minor": 0
      },
      "text/plain": [
       "one epoch training:   0%|          | 0/705 [00:00<?, ?it/s]"
      ]
     },
     "metadata": {},
     "output_type": "display_data"
    },
    {
     "data": {
      "application/vnd.jupyter.widget-view+json": {
       "model_id": "086798ff98134e38831486a223cc0024",
       "version_major": 2,
       "version_minor": 0
      },
      "text/plain": [
       "one epoch training:   0%|          | 0/705 [00:00<?, ?it/s]"
      ]
     },
     "metadata": {},
     "output_type": "display_data"
    },
    {
     "data": {
      "application/vnd.jupyter.widget-view+json": {
       "model_id": "f8d7defffa4d47288cb7ff0cc75b720e",
       "version_major": 2,
       "version_minor": 0
      },
      "text/plain": [
       "one epoch training:   0%|          | 0/705 [00:00<?, ?it/s]"
      ]
     },
     "metadata": {},
     "output_type": "display_data"
    },
    {
     "data": {
      "application/vnd.jupyter.widget-view+json": {
       "model_id": "118360e6954d4950b66eb45021a82ae5",
       "version_major": 2,
       "version_minor": 0
      },
      "text/plain": [
       "one epoch training:   0%|          | 0/705 [00:00<?, ?it/s]"
      ]
     },
     "metadata": {},
     "output_type": "display_data"
    },
    {
     "data": {
      "application/vnd.jupyter.widget-view+json": {
       "model_id": "b73e17db955847bcac829fa46c2a7c79",
       "version_major": 2,
       "version_minor": 0
      },
      "text/plain": [
       "one epoch training:   0%|          | 0/705 [00:00<?, ?it/s]"
      ]
     },
     "metadata": {},
     "output_type": "display_data"
    },
    {
     "data": {
      "application/vnd.jupyter.widget-view+json": {
       "model_id": "c457cb80b5b648d8b73aeb5a1b811f4d",
       "version_major": 2,
       "version_minor": 0
      },
      "text/plain": [
       "one epoch training:   0%|          | 0/705 [00:00<?, ?it/s]"
      ]
     },
     "metadata": {},
     "output_type": "display_data"
    },
    {
     "data": {
      "application/vnd.jupyter.widget-view+json": {
       "model_id": "bf6dfb834ab4485aa434c59c3c7d8f18",
       "version_major": 2,
       "version_minor": 0
      },
      "text/plain": [
       "one epoch training:   0%|          | 0/705 [00:00<?, ?it/s]"
      ]
     },
     "metadata": {},
     "output_type": "display_data"
    },
    {
     "data": {
      "application/vnd.jupyter.widget-view+json": {
       "model_id": "c9e92f548ef343d9931f309042595ee9",
       "version_major": 2,
       "version_minor": 0
      },
      "text/plain": [
       "one epoch training:   0%|          | 0/705 [00:00<?, ?it/s]"
      ]
     },
     "metadata": {},
     "output_type": "display_data"
    },
    {
     "data": {
      "application/vnd.jupyter.widget-view+json": {
       "model_id": "00876ddace9840de81476b62631f33c1",
       "version_major": 2,
       "version_minor": 0
      },
      "text/plain": [
       "one epoch training:   0%|          | 0/705 [00:00<?, ?it/s]"
      ]
     },
     "metadata": {},
     "output_type": "display_data"
    },
    {
     "data": {
      "application/vnd.jupyter.widget-view+json": {
       "model_id": "c1482fa17e2c45509a004fdc0553791c",
       "version_major": 2,
       "version_minor": 0
      },
      "text/plain": [
       "one epoch training:   0%|          | 0/705 [00:00<?, ?it/s]"
      ]
     },
     "metadata": {},
     "output_type": "display_data"
    },
    {
     "data": {
      "application/vnd.jupyter.widget-view+json": {
       "model_id": "2c0bead30f304ebfa3c00bfa8df866d7",
       "version_major": 2,
       "version_minor": 0
      },
      "text/plain": [
       "one epoch training:   0%|          | 0/705 [00:00<?, ?it/s]"
      ]
     },
     "metadata": {},
     "output_type": "display_data"
    },
    {
     "data": {
      "application/vnd.jupyter.widget-view+json": {
       "model_id": "a6e4c191d85e4263821420e612cb0ccd",
       "version_major": 2,
       "version_minor": 0
      },
      "text/plain": [
       "one epoch training:   0%|          | 0/705 [00:00<?, ?it/s]"
      ]
     },
     "metadata": {},
     "output_type": "display_data"
    },
    {
     "data": {
      "application/vnd.jupyter.widget-view+json": {
       "model_id": "f1fc040022e24b92870f4e7357814239",
       "version_major": 2,
       "version_minor": 0
      },
      "text/plain": [
       "one epoch training:   0%|          | 0/705 [00:00<?, ?it/s]"
      ]
     },
     "metadata": {},
     "output_type": "display_data"
    },
    {
     "data": {
      "application/vnd.jupyter.widget-view+json": {
       "model_id": "06556fb9a39b460e905fddd118b7ef7c",
       "version_major": 2,
       "version_minor": 0
      },
      "text/plain": [
       "one epoch training:   0%|          | 0/705 [00:00<?, ?it/s]"
      ]
     },
     "metadata": {},
     "output_type": "display_data"
    },
    {
     "data": {
      "application/vnd.jupyter.widget-view+json": {
       "model_id": "78bc3c43b0a14eee9da6c184bb18856e",
       "version_major": 2,
       "version_minor": 0
      },
      "text/plain": [
       "one epoch training:   0%|          | 0/705 [00:00<?, ?it/s]"
      ]
     },
     "metadata": {},
     "output_type": "display_data"
    },
    {
     "data": {
      "application/vnd.jupyter.widget-view+json": {
       "model_id": "cee4f65a295344289b61a16f6774d316",
       "version_major": 2,
       "version_minor": 0
      },
      "text/plain": [
       "one epoch training:   0%|          | 0/705 [00:00<?, ?it/s]"
      ]
     },
     "metadata": {},
     "output_type": "display_data"
    },
    {
     "data": {
      "application/vnd.jupyter.widget-view+json": {
       "model_id": "a7e42dba62ad40919961a4caa08da804",
       "version_major": 2,
       "version_minor": 0
      },
      "text/plain": [
       "one epoch training:   0%|          | 0/705 [00:00<?, ?it/s]"
      ]
     },
     "metadata": {},
     "output_type": "display_data"
    },
    {
     "data": {
      "application/vnd.jupyter.widget-view+json": {
       "model_id": "ff6b50189e81495d9cf91e2aa708a7d7",
       "version_major": 2,
       "version_minor": 0
      },
      "text/plain": [
       "one epoch training:   0%|          | 0/705 [00:00<?, ?it/s]"
      ]
     },
     "metadata": {},
     "output_type": "display_data"
    },
    {
     "data": {
      "application/vnd.jupyter.widget-view+json": {
       "model_id": "146599c69e5a477bab9ab3d6fa5a714c",
       "version_major": 2,
       "version_minor": 0
      },
      "text/plain": [
       "one epoch training:   0%|          | 0/705 [00:00<?, ?it/s]"
      ]
     },
     "metadata": {},
     "output_type": "display_data"
    },
    {
     "data": {
      "application/vnd.jupyter.widget-view+json": {
       "model_id": "a13631edea6a418a8b930ae2a16653a9",
       "version_major": 2,
       "version_minor": 0
      },
      "text/plain": [
       "one epoch training:   0%|          | 0/705 [00:00<?, ?it/s]"
      ]
     },
     "metadata": {},
     "output_type": "display_data"
    },
    {
     "data": {
      "application/vnd.jupyter.widget-view+json": {
       "model_id": "54f0270c378c4561952478447c581882",
       "version_major": 2,
       "version_minor": 0
      },
      "text/plain": [
       "one epoch training:   0%|          | 0/705 [00:00<?, ?it/s]"
      ]
     },
     "metadata": {},
     "output_type": "display_data"
    },
    {
     "data": {
      "application/vnd.jupyter.widget-view+json": {
       "model_id": "be1bc243553e41da9c5cfd8a1c56df85",
       "version_major": 2,
       "version_minor": 0
      },
      "text/plain": [
       "one epoch training:   0%|          | 0/705 [00:00<?, ?it/s]"
      ]
     },
     "metadata": {},
     "output_type": "display_data"
    },
    {
     "data": {
      "application/vnd.jupyter.widget-view+json": {
       "model_id": "97abc442b0fb4ba29902ae5c1a00f62e",
       "version_major": 2,
       "version_minor": 0
      },
      "text/plain": [
       "one epoch training:   0%|          | 0/705 [00:00<?, ?it/s]"
      ]
     },
     "metadata": {},
     "output_type": "display_data"
    },
    {
     "data": {
      "application/vnd.jupyter.widget-view+json": {
       "model_id": "52840f1b476548e58d52f005256d2595",
       "version_major": 2,
       "version_minor": 0
      },
      "text/plain": [
       "one epoch training:   0%|          | 0/705 [00:00<?, ?it/s]"
      ]
     },
     "metadata": {},
     "output_type": "display_data"
    },
    {
     "data": {
      "application/vnd.jupyter.widget-view+json": {
       "model_id": "f024bc6028c04e0fb19ec4681570c9f7",
       "version_major": 2,
       "version_minor": 0
      },
      "text/plain": [
       "one epoch training:   0%|          | 0/705 [00:00<?, ?it/s]"
      ]
     },
     "metadata": {},
     "output_type": "display_data"
    },
    {
     "data": {
      "application/vnd.jupyter.widget-view+json": {
       "model_id": "fba9cab6862547b7be5df903b6a264f0",
       "version_major": 2,
       "version_minor": 0
      },
      "text/plain": [
       "one epoch training:   0%|          | 0/705 [00:00<?, ?it/s]"
      ]
     },
     "metadata": {},
     "output_type": "display_data"
    },
    {
     "data": {
      "application/vnd.jupyter.widget-view+json": {
       "model_id": "71c8b55cabf348dfa82c73ec86ca59f0",
       "version_major": 2,
       "version_minor": 0
      },
      "text/plain": [
       "one epoch training:   0%|          | 0/705 [00:00<?, ?it/s]"
      ]
     },
     "metadata": {},
     "output_type": "display_data"
    },
    {
     "data": {
      "application/vnd.jupyter.widget-view+json": {
       "model_id": "fa6a5feef20148cd867691b76bb23c3b",
       "version_major": 2,
       "version_minor": 0
      },
      "text/plain": [
       "one epoch training:   0%|          | 0/705 [00:00<?, ?it/s]"
      ]
     },
     "metadata": {},
     "output_type": "display_data"
    },
    {
     "data": {
      "application/vnd.jupyter.widget-view+json": {
       "model_id": "de095979a2464de9b94907a72374b18c",
       "version_major": 2,
       "version_minor": 0
      },
      "text/plain": [
       "one epoch training:   0%|          | 0/705 [00:00<?, ?it/s]"
      ]
     },
     "metadata": {},
     "output_type": "display_data"
    },
    {
     "data": {
      "application/vnd.jupyter.widget-view+json": {
       "model_id": "ab241a66fbbd4f20bd805a69fa7e3877",
       "version_major": 2,
       "version_minor": 0
      },
      "text/plain": [
       "one epoch training:   0%|          | 0/705 [00:00<?, ?it/s]"
      ]
     },
     "metadata": {},
     "output_type": "display_data"
    },
    {
     "data": {
      "application/vnd.jupyter.widget-view+json": {
       "model_id": "3155eba7c3c24f47a89638d24327109b",
       "version_major": 2,
       "version_minor": 0
      },
      "text/plain": [
       "one epoch training:   0%|          | 0/705 [00:00<?, ?it/s]"
      ]
     },
     "metadata": {},
     "output_type": "display_data"
    },
    {
     "data": {
      "application/vnd.jupyter.widget-view+json": {
       "model_id": "7afaea9bb3be4400846b4a89655c088f",
       "version_major": 2,
       "version_minor": 0
      },
      "text/plain": [
       "one epoch training:   0%|          | 0/705 [00:00<?, ?it/s]"
      ]
     },
     "metadata": {},
     "output_type": "display_data"
    },
    {
     "name": "stdout",
     "output_type": "stream",
     "text": [
      "Finished Training\n"
     ]
    }
   ],
   "source": [
    "classes = []\n",
    "true_classes= []\n",
    "epochs_num = 300\n",
    "\n",
    "for epoch in tqdm_notebook(range(epochs_num), desc='epochs'):  # loop over the dataset multiple times\n",
    "    \n",
    "    efn_callback.on_epoch_begin(epoch) \n",
    "    \n",
    "    running_loss = 0.0\n",
    "    i = 0\n",
    "    for data in tqdm_notebook(train_dataloader, desc='one epoch training'):\n",
    "        # get the inputs; data is a list of [inputs, labels]\n",
    "        inputs, labels = data\n",
    "        true_classes.append(labels)\n",
    "        inputs = inputs.to(device)\n",
    "        labels = labels.to(device)\n",
    "        \n",
    "        # zero the parameter gradients\n",
    "        optimizer.zero_grad()\n",
    "\n",
    "        # forward + backward + optimize\n",
    "        outputs = efn_model(inputs)\n",
    "        classes.append(nn.Softmax(dim=1)(outputs))\n",
    "        outputs = outputs.to(device)\n",
    "        loss = criterion(outputs, labels)\n",
    "        loss.backward()\n",
    "        optimizer.step()\n",
    "\n",
    "        running_loss += loss.item()\n",
    "        i += 1\n",
    "    \n",
    "    efn_callback.on_epoch_end(true_classes, classes,\n",
    "                          [\"Benign\", \"InSitu\", \"Invasive\"],\n",
    "                          running_loss)\n",
    "    \n",
    "    if epoch % 50 == 0:\n",
    "        torch.save(efn_model.state_dict(), \"Saved_EfficientNet/\" + str(epoch))\n",
    "    \n",
    "    running_loss = 0.0\n",
    "    classes = []\n",
    "    true_classes= []\n",
    "\n",
    "print('Finished Training')"
   ]
  },
  {
   "cell_type": "markdown",
   "id": "2f137e24",
   "metadata": {},
   "source": [
    "## CoAtNet"
   ]
  },
  {
   "cell_type": "code",
   "execution_count": 8,
   "id": "5c39ce8b",
   "metadata": {},
   "outputs": [
    {
     "name": "stderr",
     "output_type": "stream",
     "text": [
      "/tmp/ipykernel_13993/1781128162.py:8: UserWarning: nn.init.xavier_uniform is now deprecated in favor of nn.init.xavier_uniform_.\n",
      "  torch.nn.init.xavier_uniform(m.weight)\n"
     ]
    }
   ],
   "source": [
    "from CoAtNet import CoAtNet\n",
    "from torch.nn import functional as F\n",
    "\n",
    "coatnet=CoAtNet(in_ch=3,image_size=224)\n",
    "\n",
    "def init_weights(m):\n",
    "    if isinstance(m, nn.Linear):\n",
    "        torch.nn.init.xavier_uniform(m.weight)\n",
    "        m.bias.data.fill_(0.01)\n",
    "\n",
    "coatnet.apply(init_weights)\n",
    "\n",
    "coatnet = coatnet.to(device)"
   ]
  },
  {
   "cell_type": "code",
   "execution_count": 9,
   "id": "cf01aad3",
   "metadata": {},
   "outputs": [],
   "source": [
    "logdir = \"FinalTraining_logs/CoAtNet/\" + datetime.now().strftime(\"%Y%m%d-%H%M%S\")"
   ]
  },
  {
   "cell_type": "code",
   "execution_count": 10,
   "id": "58fd04dc",
   "metadata": {},
   "outputs": [],
   "source": [
    "writer = SummaryWriter(logdir)\n",
    "# writer.add_graph(coatnet, train_features)"
   ]
  },
  {
   "cell_type": "code",
   "execution_count": 11,
   "id": "6aa34af7",
   "metadata": {},
   "outputs": [],
   "source": [
    "coat_callback = callback()"
   ]
  },
  {
   "cell_type": "code",
   "execution_count": 14,
   "id": "d83aa20d",
   "metadata": {},
   "outputs": [],
   "source": [
    "summed = 14032 + 1358 + 26649 \n",
    "weight = torch.tensor([14032, 1358, 26649]) / summed\n",
    "weight = weight.pow(-1)\n",
    "weight = weight.to(device)\n",
    "criterion = nn.CrossEntropyLoss(weight=weight, reduction='mean')\n",
    "# criterion = nn.CrossEntropyLoss()\n",
    "optimizer = optim.Adam(coatnet.parameters(), lr=1e-5, betas=(0.9, 0.999))"
   ]
  },
  {
   "cell_type": "code",
   "execution_count": 13,
   "id": "208816ec",
   "metadata": {},
   "outputs": [],
   "source": [
    "train_dataloader = DataLoader(train_dataset, batch_size=16, shuffle=True)\n",
    "train_features, train_labels = next(iter(train_dataloader))\n",
    "train_features = train_features.to(device)\n",
    "train_labels = train_labels.to(device)"
   ]
  },
  {
   "cell_type": "code",
   "execution_count": 11,
   "id": "f03c70d6",
   "metadata": {},
   "outputs": [
    {
     "name": "stdout",
     "output_type": "stream",
     "text": [
      "torch.Size([7, 768])\n",
      "torch.Size([7, 3])\n"
     ]
    }
   ],
   "source": [
    "input=torch.randn(7,3,224,224).to(device)\n",
    "out=coatnet(input)\n",
    "print(out.shape)"
   ]
  },
  {
   "cell_type": "code",
   "execution_count": 16,
   "id": "3616db4d",
   "metadata": {},
   "outputs": [
    {
     "data": {
      "application/vnd.jupyter.widget-view+json": {
       "model_id": "e47a8f5e0df8499e86f7f89c55f9356a",
       "version_major": 2,
       "version_minor": 0
      },
      "text/plain": [
       "one epoch training:   0%|          | 0/22532 [00:00<?, ?it/s]"
      ]
     },
     "metadata": {},
     "output_type": "display_data"
    },
    {
     "name": "stderr",
     "output_type": "stream",
     "text": [
      "Clipping input data to the valid range for imshow with RGB data ([0..1] for floats or [0..255] for integers).\n"
     ]
    },
    {
     "name": "stdout",
     "output_type": "stream",
     "text": [
      "torch.Size([224, 224, 3])\n"
     ]
    },
    {
     "data": {
      "image/png": "[encoded data removed]",
      "text/plain": [
       "<Figure size 432x288 with 1 Axes>"
      ]
     },
     "metadata": {
      "needs_background": "light"
     },
     "output_type": "display_data"
    },
    {
     "name": "stdout",
     "output_type": "stream",
     "text": [
      "Label: input\n",
      "tensor([[-0.0016, -0.0034,  0.0180]], device='cuda:0', grad_fn=<AddmmBackward>)\n"
     ]
    }
   ],
   "source": [
    "for data in tqdm_notebook(train_dataloader, desc='one epoch training'):\n",
    "        # get the inputs; data is a list of [inputs, labels]\n",
    "        inputs, labels = data\n",
    "        inputs = inputs.to(device)\n",
    "        labels = labels.to(device)\n",
    "        img = inputs.cpu().squeeze().permute(1, 2, 0).int()\n",
    "        print(img.shape)\n",
    "        label = \"input\"\n",
    "        plt.imshow(img)\n",
    "        plt.show()\n",
    "        print(f\"Label: {label}\")\n",
    "    \n",
    "        # forward + backward + optimize\n",
    "        outputs = coatnet(inputs)\n",
    "        print(outputs)\n",
    "        break"
   ]
  },
  {
   "cell_type": "code",
   "execution_count": 15,
   "id": "ff8ad53c",
   "metadata": {},
   "outputs": [
    {
     "data": {
      "application/vnd.jupyter.widget-view+json": {
       "model_id": "dfd35381a5d347c3b7364242ef877e5e",
       "version_major": 2,
       "version_minor": 0
      },
      "text/plain": [
       "epochs:   0%|          | 0/500 [00:00<?, ?it/s]"
      ]
     },
     "metadata": {},
     "output_type": "display_data"
    },
    {
     "data": {
      "application/vnd.jupyter.widget-view+json": {
       "model_id": "0babff48c8094dbca8b6493c69220476",
       "version_major": 2,
       "version_minor": 0
      },
      "text/plain": [
       "one epoch training:   0%|          | 0/1409 [00:00<?, ?it/s]"
      ]
     },
     "metadata": {},
     "output_type": "display_data"
    },
    {
     "name": "stderr",
     "output_type": "stream",
     "text": [
      "/home/anna/Desktop/workenv/lib/python3.8/site-packages/torch/nn/functional.py:718: UserWarning: Named tensors and all their associated APIs are an experimental feature and subject to change. Please do not use them for anything important until they are released as stable. (Triggered internally at  /pytorch/c10/core/TensorImpl.h:1156.)\n",
      "  return torch.max_pool2d(input, kernel_size, stride, padding, dilation, ceil_mode)\n"
     ]
    },
    {
     "data": {
      "application/vnd.jupyter.widget-view+json": {
       "model_id": "4f6950dbbb504b0cb5b0ac844f1c3c23",
       "version_major": 2,
       "version_minor": 0
      },
      "text/plain": [
       "one epoch training:   0%|          | 0/1409 [00:00<?, ?it/s]"
      ]
     },
     "metadata": {},
     "output_type": "display_data"
    },
    {
     "data": {
      "application/vnd.jupyter.widget-view+json": {
       "model_id": "87441f20295147f39185211f8ae295df",
       "version_major": 2,
       "version_minor": 0
      },
      "text/plain": [
       "one epoch training:   0%|          | 0/1409 [00:00<?, ?it/s]"
      ]
     },
     "metadata": {},
     "output_type": "display_data"
    },
    {
     "data": {
      "application/vnd.jupyter.widget-view+json": {
       "model_id": "c8e210d432a64f27b34104a00109fb04",
       "version_major": 2,
       "version_minor": 0
      },
      "text/plain": [
       "one epoch training:   0%|          | 0/1409 [00:00<?, ?it/s]"
      ]
     },
     "metadata": {},
     "output_type": "display_data"
    },
    {
     "data": {
      "application/vnd.jupyter.widget-view+json": {
       "model_id": "5e246b4d6f3848cbba72507cbd49efd6",
       "version_major": 2,
       "version_minor": 0
      },
      "text/plain": [
       "one epoch training:   0%|          | 0/1409 [00:00<?, ?it/s]"
      ]
     },
     "metadata": {},
     "output_type": "display_data"
    },
    {
     "data": {
      "application/vnd.jupyter.widget-view+json": {
       "model_id": "927d20c38289434e862c5dbe5406b7a9",
       "version_major": 2,
       "version_minor": 0
      },
      "text/plain": [
       "one epoch training:   0%|          | 0/1409 [00:00<?, ?it/s]"
      ]
     },
     "metadata": {},
     "output_type": "display_data"
    },
    {
     "data": {
      "application/vnd.jupyter.widget-view+json": {
       "model_id": "28cf35f99fea4d62a28320bc10a8ae21",
       "version_major": 2,
       "version_minor": 0
      },
      "text/plain": [
       "one epoch training:   0%|          | 0/1409 [00:00<?, ?it/s]"
      ]
     },
     "metadata": {},
     "output_type": "display_data"
    },
    {
     "data": {
      "application/vnd.jupyter.widget-view+json": {
       "model_id": "d4dc50d402a9423ca22576564c37302b",
       "version_major": 2,
       "version_minor": 0
      },
      "text/plain": [
       "one epoch training:   0%|          | 0/1409 [00:00<?, ?it/s]"
      ]
     },
     "metadata": {},
     "output_type": "display_data"
    },
    {
     "data": {
      "application/vnd.jupyter.widget-view+json": {
       "model_id": "2ac9e4e17c2f4595a8d15e657bed7bd7",
       "version_major": 2,
       "version_minor": 0
      },
      "text/plain": [
       "one epoch training:   0%|          | 0/1409 [00:00<?, ?it/s]"
      ]
     },
     "metadata": {},
     "output_type": "display_data"
    },
    {
     "data": {
      "application/vnd.jupyter.widget-view+json": {
       "model_id": "24be4c406b3b4f5a9311f5f13b8156e3",
       "version_major": 2,
       "version_minor": 0
      },
      "text/plain": [
       "one epoch training:   0%|          | 0/1409 [00:00<?, ?it/s]"
      ]
     },
     "metadata": {},
     "output_type": "display_data"
    },
    {
     "data": {
      "application/vnd.jupyter.widget-view+json": {
       "model_id": "34f4a2506426416092cee2e89de4ec18",
       "version_major": 2,
       "version_minor": 0
      },
      "text/plain": [
       "one epoch training:   0%|          | 0/1409 [00:00<?, ?it/s]"
      ]
     },
     "metadata": {},
     "output_type": "display_data"
    },
    {
     "data": {
      "application/vnd.jupyter.widget-view+json": {
       "model_id": "8ab2b06bf2c144cba11cfae990cbcddf",
       "version_major": 2,
       "version_minor": 0
      },
      "text/plain": [
       "one epoch training:   0%|          | 0/1409 [00:00<?, ?it/s]"
      ]
     },
     "metadata": {},
     "output_type": "display_data"
    },
    {
     "data": {
      "application/vnd.jupyter.widget-view+json": {
       "model_id": "fdf02874e85e4137905720a64d7bc163",
       "version_major": 2,
       "version_minor": 0
      },
      "text/plain": [
       "one epoch training:   0%|          | 0/1409 [00:00<?, ?it/s]"
      ]
     },
     "metadata": {},
     "output_type": "display_data"
    },
    {
     "data": {
      "application/vnd.jupyter.widget-view+json": {
       "model_id": "9b8840575f554e018409dffed60f756c",
       "version_major": 2,
       "version_minor": 0
      },
      "text/plain": [
       "one epoch training:   0%|          | 0/1409 [00:00<?, ?it/s]"
      ]
     },
     "metadata": {},
     "output_type": "display_data"
    },
    {
     "data": {
      "application/vnd.jupyter.widget-view+json": {
       "model_id": "8954c171e20f4f60ab02e5b2a2a4e8e5",
       "version_major": 2,
       "version_minor": 0
      },
      "text/plain": [
       "one epoch training:   0%|          | 0/1409 [00:00<?, ?it/s]"
      ]
     },
     "metadata": {},
     "output_type": "display_data"
    },
    {
     "data": {
      "application/vnd.jupyter.widget-view+json": {
       "model_id": "272e04ce6fa14281b38ed0ab896bc56b",
       "version_major": 2,
       "version_minor": 0
      },
      "text/plain": [
       "one epoch training:   0%|          | 0/1409 [00:00<?, ?it/s]"
      ]
     },
     "metadata": {},
     "output_type": "display_data"
    },
    {
     "data": {
      "application/vnd.jupyter.widget-view+json": {
       "model_id": "357055eb8e7543ec8a4638b11c792dd9",
       "version_major": 2,
       "version_minor": 0
      },
      "text/plain": [
       "one epoch training:   0%|          | 0/1409 [00:00<?, ?it/s]"
      ]
     },
     "metadata": {},
     "output_type": "display_data"
    },
    {
     "data": {
      "application/vnd.jupyter.widget-view+json": {
       "model_id": "4c4851c6c4c6471ba7d6490e461a2964",
       "version_major": 2,
       "version_minor": 0
      },
      "text/plain": [
       "one epoch training:   0%|          | 0/1409 [00:00<?, ?it/s]"
      ]
     },
     "metadata": {},
     "output_type": "display_data"
    },
    {
     "data": {
      "application/vnd.jupyter.widget-view+json": {
       "model_id": "79f03fd726754aa693776750bb27810f",
       "version_major": 2,
       "version_minor": 0
      },
      "text/plain": [
       "one epoch training:   0%|          | 0/1409 [00:00<?, ?it/s]"
      ]
     },
     "metadata": {},
     "output_type": "display_data"
    },
    {
     "data": {
      "application/vnd.jupyter.widget-view+json": {
       "model_id": "a25f4d8af6fb46798a40385a627ab5c8",
       "version_major": 2,
       "version_minor": 0
      },
      "text/plain": [
       "one epoch training:   0%|          | 0/1409 [00:00<?, ?it/s]"
      ]
     },
     "metadata": {},
     "output_type": "display_data"
    },
    {
     "data": {
      "application/vnd.jupyter.widget-view+json": {
       "model_id": "98731669dcfc4ddbbdf32f4452b38f27",
       "version_major": 2,
       "version_minor": 0
      },
      "text/plain": [
       "one epoch training:   0%|          | 0/1409 [00:00<?, ?it/s]"
      ]
     },
     "metadata": {},
     "output_type": "display_data"
    },
    {
     "data": {
      "application/vnd.jupyter.widget-view+json": {
       "model_id": "07f51da9c5584df1af4004c11b6592d8",
       "version_major": 2,
       "version_minor": 0
      },
      "text/plain": [
       "one epoch training:   0%|          | 0/1409 [00:00<?, ?it/s]"
      ]
     },
     "metadata": {},
     "output_type": "display_data"
    },
    {
     "data": {
      "application/vnd.jupyter.widget-view+json": {
       "model_id": "01b5228dc0d1417ebead82b81d635bbe",
       "version_major": 2,
       "version_minor": 0
      },
      "text/plain": [
       "one epoch training:   0%|          | 0/1409 [00:00<?, ?it/s]"
      ]
     },
     "metadata": {},
     "output_type": "display_data"
    },
    {
     "data": {
      "application/vnd.jupyter.widget-view+json": {
       "model_id": "3fe440e96ae04ee8859faa8e616c9549",
       "version_major": 2,
       "version_minor": 0
      },
      "text/plain": [
       "one epoch training:   0%|          | 0/1409 [00:00<?, ?it/s]"
      ]
     },
     "metadata": {},
     "output_type": "display_data"
    },
    {
     "data": {
      "application/vnd.jupyter.widget-view+json": {
       "model_id": "e0755b8179314f379d85f6247ba22821",
       "version_major": 2,
       "version_minor": 0
      },
      "text/plain": [
       "one epoch training:   0%|          | 0/1409 [00:00<?, ?it/s]"
      ]
     },
     "metadata": {},
     "output_type": "display_data"
    },
    {
     "data": {
      "application/vnd.jupyter.widget-view+json": {
       "model_id": "1d2fc68d01f84eecb4b4ce58f172fdd5",
       "version_major": 2,
       "version_minor": 0
      },
      "text/plain": [
       "one epoch training:   0%|          | 0/1409 [00:00<?, ?it/s]"
      ]
     },
     "metadata": {},
     "output_type": "display_data"
    },
    {
     "data": {
      "application/vnd.jupyter.widget-view+json": {
       "model_id": "e8e8f41322444f6b88cf0cc3eb995d1c",
       "version_major": 2,
       "version_minor": 0
      },
      "text/plain": [
       "one epoch training:   0%|          | 0/1409 [00:00<?, ?it/s]"
      ]
     },
     "metadata": {},
     "output_type": "display_data"
    },
    {
     "data": {
      "application/vnd.jupyter.widget-view+json": {
       "model_id": "97e36647dc634082a291310611741ebc",
       "version_major": 2,
       "version_minor": 0
      },
      "text/plain": [
       "one epoch training:   0%|          | 0/1409 [00:00<?, ?it/s]"
      ]
     },
     "metadata": {},
     "output_type": "display_data"
    },
    {
     "data": {
      "application/vnd.jupyter.widget-view+json": {
       "model_id": "7beedfcc71034dc8b4642536dc5de0a0",
       "version_major": 2,
       "version_minor": 0
      },
      "text/plain": [
       "one epoch training:   0%|          | 0/1409 [00:00<?, ?it/s]"
      ]
     },
     "metadata": {},
     "output_type": "display_data"
    },
    {
     "data": {
      "application/vnd.jupyter.widget-view+json": {
       "model_id": "58f95f49ddf3490ca92298279354c7ea",
       "version_major": 2,
       "version_minor": 0
      },
      "text/plain": [
       "one epoch training:   0%|          | 0/1409 [00:00<?, ?it/s]"
      ]
     },
     "metadata": {},
     "output_type": "display_data"
    },
    {
     "data": {
      "application/vnd.jupyter.widget-view+json": {
       "model_id": "0be52a07c5984071a183c1487d3eb0d1",
       "version_major": 2,
       "version_minor": 0
      },
      "text/plain": [
       "one epoch training:   0%|          | 0/1409 [00:00<?, ?it/s]"
      ]
     },
     "metadata": {},
     "output_type": "display_data"
    },
    {
     "data": {
      "application/vnd.jupyter.widget-view+json": {
       "model_id": "13402fc44569403e9e0d6573e5549862",
       "version_major": 2,
       "version_minor": 0
      },
      "text/plain": [
       "one epoch training:   0%|          | 0/1409 [00:00<?, ?it/s]"
      ]
     },
     "metadata": {},
     "output_type": "display_data"
    },
    {
     "data": {
      "application/vnd.jupyter.widget-view+json": {
       "model_id": "ed3917c51b1c4a958f747eabf10cd131",
       "version_major": 2,
       "version_minor": 0
      },
      "text/plain": [
       "one epoch training:   0%|          | 0/1409 [00:00<?, ?it/s]"
      ]
     },
     "metadata": {},
     "output_type": "display_data"
    },
    {
     "data": {
      "application/vnd.jupyter.widget-view+json": {
       "model_id": "b993751e5ec84b3089aa35ce10ac328a",
       "version_major": 2,
       "version_minor": 0
      },
      "text/plain": [
       "one epoch training:   0%|          | 0/1409 [00:00<?, ?it/s]"
      ]
     },
     "metadata": {},
     "output_type": "display_data"
    },
    {
     "data": {
      "application/vnd.jupyter.widget-view+json": {
       "model_id": "d09a24ecede94355a38ad5f457901552",
       "version_major": 2,
       "version_minor": 0
      },
      "text/plain": [
       "one epoch training:   0%|          | 0/1409 [00:00<?, ?it/s]"
      ]
     },
     "metadata": {},
     "output_type": "display_data"
    },
    {
     "data": {
      "application/vnd.jupyter.widget-view+json": {
       "model_id": "14fc61106797494d910d65549cb866fc",
       "version_major": 2,
       "version_minor": 0
      },
      "text/plain": [
       "one epoch training:   0%|          | 0/1409 [00:00<?, ?it/s]"
      ]
     },
     "metadata": {},
     "output_type": "display_data"
    },
    {
     "data": {
      "application/vnd.jupyter.widget-view+json": {
       "model_id": "0c2a7482ad2b48049a099e7c8ea9da47",
       "version_major": 2,
       "version_minor": 0
      },
      "text/plain": [
       "one epoch training:   0%|          | 0/1409 [00:00<?, ?it/s]"
      ]
     },
     "metadata": {},
     "output_type": "display_data"
    },
    {
     "data": {
      "application/vnd.jupyter.widget-view+json": {
       "model_id": "b492bd229fff44c6a75752ddfe280a4d",
       "version_major": 2,
       "version_minor": 0
      },
      "text/plain": [
       "one epoch training:   0%|          | 0/1409 [00:00<?, ?it/s]"
      ]
     },
     "metadata": {},
     "output_type": "display_data"
    },
    {
     "data": {
      "application/vnd.jupyter.widget-view+json": {
       "model_id": "0fed20a79df145c7b29c2678b5d5663b",
       "version_major": 2,
       "version_minor": 0
      },
      "text/plain": [
       "one epoch training:   0%|          | 0/1409 [00:00<?, ?it/s]"
      ]
     },
     "metadata": {},
     "output_type": "display_data"
    },
    {
     "data": {
      "application/vnd.jupyter.widget-view+json": {
       "model_id": "b41072b01d294e73acd272afc4c81e39",
       "version_major": 2,
       "version_minor": 0
      },
      "text/plain": [
       "one epoch training:   0%|          | 0/1409 [00:00<?, ?it/s]"
      ]
     },
     "metadata": {},
     "output_type": "display_data"
    },
    {
     "data": {
      "application/vnd.jupyter.widget-view+json": {
       "model_id": "05f3daac0fbc4a8f92a0c00ed392aedf",
       "version_major": 2,
       "version_minor": 0
      },
      "text/plain": [
       "one epoch training:   0%|          | 0/1409 [00:00<?, ?it/s]"
      ]
     },
     "metadata": {},
     "output_type": "display_data"
    },
    {
     "data": {
      "application/vnd.jupyter.widget-view+json": {
       "model_id": "52e1bdd61c6d4584adf8740f0c06675e",
       "version_major": 2,
       "version_minor": 0
      },
      "text/plain": [
       "one epoch training:   0%|          | 0/1409 [00:00<?, ?it/s]"
      ]
     },
     "metadata": {},
     "output_type": "display_data"
    },
    {
     "data": {
      "application/vnd.jupyter.widget-view+json": {
       "model_id": "87cbec94336a4a9293b77113399e301d",
       "version_major": 2,
       "version_minor": 0
      },
      "text/plain": [
       "one epoch training:   0%|          | 0/1409 [00:00<?, ?it/s]"
      ]
     },
     "metadata": {},
     "output_type": "display_data"
    },
    {
     "data": {
      "application/vnd.jupyter.widget-view+json": {
       "model_id": "673ebe7791e745889deff04845bd19aa",
       "version_major": 2,
       "version_minor": 0
      },
      "text/plain": [
       "one epoch training:   0%|          | 0/1409 [00:00<?, ?it/s]"
      ]
     },
     "metadata": {},
     "output_type": "display_data"
    },
    {
     "data": {
      "application/vnd.jupyter.widget-view+json": {
       "model_id": "be3a2c70379747ef9711bd680e9e7234",
       "version_major": 2,
       "version_minor": 0
      },
      "text/plain": [
       "one epoch training:   0%|          | 0/1409 [00:00<?, ?it/s]"
      ]
     },
     "metadata": {},
     "output_type": "display_data"
    },
    {
     "data": {
      "application/vnd.jupyter.widget-view+json": {
       "model_id": "633af0480ffd44e9aec9b46e8a184055",
       "version_major": 2,
       "version_minor": 0
      },
      "text/plain": [
       "one epoch training:   0%|          | 0/1409 [00:00<?, ?it/s]"
      ]
     },
     "metadata": {},
     "output_type": "display_data"
    },
    {
     "data": {
      "application/vnd.jupyter.widget-view+json": {
       "model_id": "fe275d591da64028b98e17295f09aaa7",
       "version_major": 2,
       "version_minor": 0
      },
      "text/plain": [
       "one epoch training:   0%|          | 0/1409 [00:00<?, ?it/s]"
      ]
     },
     "metadata": {},
     "output_type": "display_data"
    },
    {
     "data": {
      "application/vnd.jupyter.widget-view+json": {
       "model_id": "7bc57807397c4a6d8440729a2366e7db",
       "version_major": 2,
       "version_minor": 0
      },
      "text/plain": [
       "one epoch training:   0%|          | 0/1409 [00:00<?, ?it/s]"
      ]
     },
     "metadata": {},
     "output_type": "display_data"
    },
    {
     "data": {
      "application/vnd.jupyter.widget-view+json": {
       "model_id": "91297f9b0998403b93346d3dc77fa270",
       "version_major": 2,
       "version_minor": 0
      },
      "text/plain": [
       "one epoch training:   0%|          | 0/1409 [00:00<?, ?it/s]"
      ]
     },
     "metadata": {},
     "output_type": "display_data"
    },
    {
     "data": {
      "application/vnd.jupyter.widget-view+json": {
       "model_id": "02f0294ebe624d99b02cad10135666ea",
       "version_major": 2,
       "version_minor": 0
      },
      "text/plain": [
       "one epoch training:   0%|          | 0/1409 [00:00<?, ?it/s]"
      ]
     },
     "metadata": {},
     "output_type": "display_data"
    },
    {
     "data": {
      "application/vnd.jupyter.widget-view+json": {
       "model_id": "d7136d68114f49c1895d66e19f132a72",
       "version_major": 2,
       "version_minor": 0
      },
      "text/plain": [
       "one epoch training:   0%|          | 0/1409 [00:00<?, ?it/s]"
      ]
     },
     "metadata": {},
     "output_type": "display_data"
    },
    {
     "data": {
      "application/vnd.jupyter.widget-view+json": {
       "model_id": "fbcecb9f87b04110b382c97d24d55d4a",
       "version_major": 2,
       "version_minor": 0
      },
      "text/plain": [
       "one epoch training:   0%|          | 0/1409 [00:00<?, ?it/s]"
      ]
     },
     "metadata": {},
     "output_type": "display_data"
    },
    {
     "data": {
      "application/vnd.jupyter.widget-view+json": {
       "model_id": "35bb77f0dad14a939005659dd5e221f5",
       "version_major": 2,
       "version_minor": 0
      },
      "text/plain": [
       "one epoch training:   0%|          | 0/1409 [00:00<?, ?it/s]"
      ]
     },
     "metadata": {},
     "output_type": "display_data"
    },
    {
     "data": {
      "application/vnd.jupyter.widget-view+json": {
       "model_id": "d8b053879b4d4b1c90ea89220c22982e",
       "version_major": 2,
       "version_minor": 0
      },
      "text/plain": [
       "one epoch training:   0%|          | 0/1409 [00:00<?, ?it/s]"
      ]
     },
     "metadata": {},
     "output_type": "display_data"
    },
    {
     "data": {
      "application/vnd.jupyter.widget-view+json": {
       "model_id": "50f30f588fca436aa65d62115b13e180",
       "version_major": 2,
       "version_minor": 0
      },
      "text/plain": [
       "one epoch training:   0%|          | 0/1409 [00:00<?, ?it/s]"
      ]
     },
     "metadata": {},
     "output_type": "display_data"
    },
    {
     "data": {
      "application/vnd.jupyter.widget-view+json": {
       "model_id": "238acd3abc3a4068908fb373fc626996",
       "version_major": 2,
       "version_minor": 0
      },
      "text/plain": [
       "one epoch training:   0%|          | 0/1409 [00:00<?, ?it/s]"
      ]
     },
     "metadata": {},
     "output_type": "display_data"
    },
    {
     "data": {
      "application/vnd.jupyter.widget-view+json": {
       "model_id": "f1ae6de5a8664af1b12a8c1e7799c479",
       "version_major": 2,
       "version_minor": 0
      },
      "text/plain": [
       "one epoch training:   0%|          | 0/1409 [00:00<?, ?it/s]"
      ]
     },
     "metadata": {},
     "output_type": "display_data"
    },
    {
     "data": {
      "application/vnd.jupyter.widget-view+json": {
       "model_id": "5c69bbf5c12a4b68a08cd87a306d1892",
       "version_major": 2,
       "version_minor": 0
      },
      "text/plain": [
       "one epoch training:   0%|          | 0/1409 [00:00<?, ?it/s]"
      ]
     },
     "metadata": {},
     "output_type": "display_data"
    },
    {
     "data": {
      "application/vnd.jupyter.widget-view+json": {
       "model_id": "6762f94c756342afad19f5b1ff0d59c4",
       "version_major": 2,
       "version_minor": 0
      },
      "text/plain": [
       "one epoch training:   0%|          | 0/1409 [00:00<?, ?it/s]"
      ]
     },
     "metadata": {},
     "output_type": "display_data"
    },
    {
     "data": {
      "application/vnd.jupyter.widget-view+json": {
       "model_id": "4ca07a07a7c9467b9072bbe7fbec1e6e",
       "version_major": 2,
       "version_minor": 0
      },
      "text/plain": [
       "one epoch training:   0%|          | 0/1409 [00:00<?, ?it/s]"
      ]
     },
     "metadata": {},
     "output_type": "display_data"
    },
    {
     "data": {
      "application/vnd.jupyter.widget-view+json": {
       "model_id": "8c6bbd5620174c8dbedf84c072783a9d",
       "version_major": 2,
       "version_minor": 0
      },
      "text/plain": [
       "one epoch training:   0%|          | 0/1409 [00:00<?, ?it/s]"
      ]
     },
     "metadata": {},
     "output_type": "display_data"
    },
    {
     "data": {
      "application/vnd.jupyter.widget-view+json": {
       "model_id": "6afa32ce494d4d468de2176aa1d56bf2",
       "version_major": 2,
       "version_minor": 0
      },
      "text/plain": [
       "one epoch training:   0%|          | 0/1409 [00:00<?, ?it/s]"
      ]
     },
     "metadata": {},
     "output_type": "display_data"
    },
    {
     "data": {
      "application/vnd.jupyter.widget-view+json": {
       "model_id": "82ac666030974fb7af2a659a8517c90b",
       "version_major": 2,
       "version_minor": 0
      },
      "text/plain": [
       "one epoch training:   0%|          | 0/1409 [00:00<?, ?it/s]"
      ]
     },
     "metadata": {},
     "output_type": "display_data"
    },
    {
     "data": {
      "application/vnd.jupyter.widget-view+json": {
       "model_id": "29dbdafd69664e89888b889e46acccd3",
       "version_major": 2,
       "version_minor": 0
      },
      "text/plain": [
       "one epoch training:   0%|          | 0/1409 [00:00<?, ?it/s]"
      ]
     },
     "metadata": {},
     "output_type": "display_data"
    },
    {
     "data": {
      "application/vnd.jupyter.widget-view+json": {
       "model_id": "a4c04c7a63e94fe29730aaa79b77a935",
       "version_major": 2,
       "version_minor": 0
      },
      "text/plain": [
       "one epoch training:   0%|          | 0/1409 [00:00<?, ?it/s]"
      ]
     },
     "metadata": {},
     "output_type": "display_data"
    },
    {
     "data": {
      "application/vnd.jupyter.widget-view+json": {
       "model_id": "a710fa91f04a40a089a3cc61365927a2",
       "version_major": 2,
       "version_minor": 0
      },
      "text/plain": [
       "one epoch training:   0%|          | 0/1409 [00:00<?, ?it/s]"
      ]
     },
     "metadata": {},
     "output_type": "display_data"
    },
    {
     "data": {
      "application/vnd.jupyter.widget-view+json": {
       "model_id": "00067ce4a996444aba852fcec31e13c0",
       "version_major": 2,
       "version_minor": 0
      },
      "text/plain": [
       "one epoch training:   0%|          | 0/1409 [00:00<?, ?it/s]"
      ]
     },
     "metadata": {},
     "output_type": "display_data"
    },
    {
     "data": {
      "application/vnd.jupyter.widget-view+json": {
       "model_id": "f75d6624afb14cdd90b1d80407f74d04",
       "version_major": 2,
       "version_minor": 0
      },
      "text/plain": [
       "one epoch training:   0%|          | 0/1409 [00:00<?, ?it/s]"
      ]
     },
     "metadata": {},
     "output_type": "display_data"
    },
    {
     "data": {
      "application/vnd.jupyter.widget-view+json": {
       "model_id": "758ac6e5ad5141e7b12de01c1ef1cc70",
       "version_major": 2,
       "version_minor": 0
      },
      "text/plain": [
       "one epoch training:   0%|          | 0/1409 [00:00<?, ?it/s]"
      ]
     },
     "metadata": {},
     "output_type": "display_data"
    },
    {
     "data": {
      "application/vnd.jupyter.widget-view+json": {
       "model_id": "732bcfe113f0408488a2c24fed2bb1f1",
       "version_major": 2,
       "version_minor": 0
      },
      "text/plain": [
       "one epoch training:   0%|          | 0/1409 [00:00<?, ?it/s]"
      ]
     },
     "metadata": {},
     "output_type": "display_data"
    },
    {
     "data": {
      "application/vnd.jupyter.widget-view+json": {
       "model_id": "cbb33938653e4305b2947955e815c514",
       "version_major": 2,
       "version_minor": 0
      },
      "text/plain": [
       "one epoch training:   0%|          | 0/1409 [00:00<?, ?it/s]"
      ]
     },
     "metadata": {},
     "output_type": "display_data"
    },
    {
     "data": {
      "application/vnd.jupyter.widget-view+json": {
       "model_id": "a2c01a37b0c6475f88d071befe2e8e17",
       "version_major": 2,
       "version_minor": 0
      },
      "text/plain": [
       "one epoch training:   0%|          | 0/1409 [00:00<?, ?it/s]"
      ]
     },
     "metadata": {},
     "output_type": "display_data"
    },
    {
     "data": {
      "application/vnd.jupyter.widget-view+json": {
       "model_id": "f788b032d3114feb979abb206af18d7b",
       "version_major": 2,
       "version_minor": 0
      },
      "text/plain": [
       "one epoch training:   0%|          | 0/1409 [00:00<?, ?it/s]"
      ]
     },
     "metadata": {},
     "output_type": "display_data"
    },
    {
     "data": {
      "application/vnd.jupyter.widget-view+json": {
       "model_id": "e2dc661c3cb141fcbd7fd9e17be09b73",
       "version_major": 2,
       "version_minor": 0
      },
      "text/plain": [
       "one epoch training:   0%|          | 0/1409 [00:00<?, ?it/s]"
      ]
     },
     "metadata": {},
     "output_type": "display_data"
    },
    {
     "data": {
      "application/vnd.jupyter.widget-view+json": {
       "model_id": "fa577db980a049b7b6e5767e876cfc11",
       "version_major": 2,
       "version_minor": 0
      },
      "text/plain": [
       "one epoch training:   0%|          | 0/1409 [00:00<?, ?it/s]"
      ]
     },
     "metadata": {},
     "output_type": "display_data"
    },
    {
     "data": {
      "application/vnd.jupyter.widget-view+json": {
       "model_id": "84271ac4704f4189bbfb909645c098e0",
       "version_major": 2,
       "version_minor": 0
      },
      "text/plain": [
       "one epoch training:   0%|          | 0/1409 [00:00<?, ?it/s]"
      ]
     },
     "metadata": {},
     "output_type": "display_data"
    },
    {
     "data": {
      "application/vnd.jupyter.widget-view+json": {
       "model_id": "1017d9398e5e4d8e8d3a915521f215e3",
       "version_major": 2,
       "version_minor": 0
      },
      "text/plain": [
       "one epoch training:   0%|          | 0/1409 [00:00<?, ?it/s]"
      ]
     },
     "metadata": {},
     "output_type": "display_data"
    },
    {
     "data": {
      "application/vnd.jupyter.widget-view+json": {
       "model_id": "2bdbe3cd3ed140c388ccb467b500f22f",
       "version_major": 2,
       "version_minor": 0
      },
      "text/plain": [
       "one epoch training:   0%|          | 0/1409 [00:00<?, ?it/s]"
      ]
     },
     "metadata": {},
     "output_type": "display_data"
    },
    {
     "data": {
      "application/vnd.jupyter.widget-view+json": {
       "model_id": "6382755945134767a9458cda37cf362e",
       "version_major": 2,
       "version_minor": 0
      },
      "text/plain": [
       "one epoch training:   0%|          | 0/1409 [00:00<?, ?it/s]"
      ]
     },
     "metadata": {},
     "output_type": "display_data"
    },
    {
     "data": {
      "application/vnd.jupyter.widget-view+json": {
       "model_id": "63ca70c72fa6421c8180a6abb5842f8e",
       "version_major": 2,
       "version_minor": 0
      },
      "text/plain": [
       "one epoch training:   0%|          | 0/1409 [00:00<?, ?it/s]"
      ]
     },
     "metadata": {},
     "output_type": "display_data"
    },
    {
     "data": {
      "application/vnd.jupyter.widget-view+json": {
       "model_id": "7a0bfcbc71984f8ba9743ff85d035f90",
       "version_major": 2,
       "version_minor": 0
      },
      "text/plain": [
       "one epoch training:   0%|          | 0/1409 [00:00<?, ?it/s]"
      ]
     },
     "metadata": {},
     "output_type": "display_data"
    },
    {
     "data": {
      "application/vnd.jupyter.widget-view+json": {
       "model_id": "c52ab04871c944bba8134d4eb7c4b187",
       "version_major": 2,
       "version_minor": 0
      },
      "text/plain": [
       "one epoch training:   0%|          | 0/1409 [00:00<?, ?it/s]"
      ]
     },
     "metadata": {},
     "output_type": "display_data"
    },
    {
     "data": {
      "application/vnd.jupyter.widget-view+json": {
       "model_id": "ee9e187c92da4507a04be3e0a1f3354e",
       "version_major": 2,
       "version_minor": 0
      },
      "text/plain": [
       "one epoch training:   0%|          | 0/1409 [00:00<?, ?it/s]"
      ]
     },
     "metadata": {},
     "output_type": "display_data"
    },
    {
     "data": {
      "application/vnd.jupyter.widget-view+json": {
       "model_id": "ec82e9f9d0fc41ccb30a1555e76c8efe",
       "version_major": 2,
       "version_minor": 0
      },
      "text/plain": [
       "one epoch training:   0%|          | 0/1409 [00:00<?, ?it/s]"
      ]
     },
     "metadata": {},
     "output_type": "display_data"
    },
    {
     "data": {
      "application/vnd.jupyter.widget-view+json": {
       "model_id": "22192d720ae94a2ab8fcd004530ea8d6",
       "version_major": 2,
       "version_minor": 0
      },
      "text/plain": [
       "one epoch training:   0%|          | 0/1409 [00:00<?, ?it/s]"
      ]
     },
     "metadata": {},
     "output_type": "display_data"
    },
    {
     "data": {
      "application/vnd.jupyter.widget-view+json": {
       "model_id": "02df810c4f5c48238f253e1f4eaeea89",
       "version_major": 2,
       "version_minor": 0
      },
      "text/plain": [
       "one epoch training:   0%|          | 0/1409 [00:00<?, ?it/s]"
      ]
     },
     "metadata": {},
     "output_type": "display_data"
    },
    {
     "data": {
      "application/vnd.jupyter.widget-view+json": {
       "model_id": "983238968e3b49eeb7637eb31232971e",
       "version_major": 2,
       "version_minor": 0
      },
      "text/plain": [
       "one epoch training:   0%|          | 0/1409 [00:00<?, ?it/s]"
      ]
     },
     "metadata": {},
     "output_type": "display_data"
    },
    {
     "data": {
      "application/vnd.jupyter.widget-view+json": {
       "model_id": "c7456fbf79064d53a176391c66c113ba",
       "version_major": 2,
       "version_minor": 0
      },
      "text/plain": [
       "one epoch training:   0%|          | 0/1409 [00:00<?, ?it/s]"
      ]
     },
     "metadata": {},
     "output_type": "display_data"
    },
    {
     "data": {
      "application/vnd.jupyter.widget-view+json": {
       "model_id": "f218a3743d5a453bb0e24a4a4b0ce2b6",
       "version_major": 2,
       "version_minor": 0
      },
      "text/plain": [
       "one epoch training:   0%|          | 0/1409 [00:00<?, ?it/s]"
      ]
     },
     "metadata": {},
     "output_type": "display_data"
    },
    {
     "data": {
      "application/vnd.jupyter.widget-view+json": {
       "model_id": "82162cb1fd89493ebc27997a2337f260",
       "version_major": 2,
       "version_minor": 0
      },
      "text/plain": [
       "one epoch training:   0%|          | 0/1409 [00:00<?, ?it/s]"
      ]
     },
     "metadata": {},
     "output_type": "display_data"
    },
    {
     "data": {
      "application/vnd.jupyter.widget-view+json": {
       "model_id": "7de9dbef8a8c464d877559bb339bb62b",
       "version_major": 2,
       "version_minor": 0
      },
      "text/plain": [
       "one epoch training:   0%|          | 0/1409 [00:00<?, ?it/s]"
      ]
     },
     "metadata": {},
     "output_type": "display_data"
    },
    {
     "data": {
      "application/vnd.jupyter.widget-view+json": {
       "model_id": "303dbf441c2e4e03beb79ce032081356",
       "version_major": 2,
       "version_minor": 0
      },
      "text/plain": [
       "one epoch training:   0%|          | 0/1409 [00:00<?, ?it/s]"
      ]
     },
     "metadata": {},
     "output_type": "display_data"
    },
    {
     "data": {
      "application/vnd.jupyter.widget-view+json": {
       "model_id": "5029732fd2b247b98fd24c563396d45b",
       "version_major": 2,
       "version_minor": 0
      },
      "text/plain": [
       "one epoch training:   0%|          | 0/1409 [00:00<?, ?it/s]"
      ]
     },
     "metadata": {},
     "output_type": "display_data"
    },
    {
     "data": {
      "application/vnd.jupyter.widget-view+json": {
       "model_id": "c7d87b1a844e4357b943a26147184ef8",
       "version_major": 2,
       "version_minor": 0
      },
      "text/plain": [
       "one epoch training:   0%|          | 0/1409 [00:00<?, ?it/s]"
      ]
     },
     "metadata": {},
     "output_type": "display_data"
    },
    {
     "data": {
      "application/vnd.jupyter.widget-view+json": {
       "model_id": "87f90eab99e94d8f91b9330abc92c08b",
       "version_major": 2,
       "version_minor": 0
      },
      "text/plain": [
       "one epoch training:   0%|          | 0/1409 [00:00<?, ?it/s]"
      ]
     },
     "metadata": {},
     "output_type": "display_data"
    },
    {
     "data": {
      "application/vnd.jupyter.widget-view+json": {
       "model_id": "5f9ba3d66a044f718ec5f4ae156777b4",
       "version_major": 2,
       "version_minor": 0
      },
      "text/plain": [
       "one epoch training:   0%|          | 0/1409 [00:00<?, ?it/s]"
      ]
     },
     "metadata": {},
     "output_type": "display_data"
    },
    {
     "data": {
      "application/vnd.jupyter.widget-view+json": {
       "model_id": "e49e72804b3c470cb954143f76180041",
       "version_major": 2,
       "version_minor": 0
      },
      "text/plain": [
       "one epoch training:   0%|          | 0/1409 [00:00<?, ?it/s]"
      ]
     },
     "metadata": {},
     "output_type": "display_data"
    },
    {
     "data": {
      "application/vnd.jupyter.widget-view+json": {
       "model_id": "d5b03c4c70ce4341954f9c5353c963cc",
       "version_major": 2,
       "version_minor": 0
      },
      "text/plain": [
       "one epoch training:   0%|          | 0/1409 [00:00<?, ?it/s]"
      ]
     },
     "metadata": {},
     "output_type": "display_data"
    },
    {
     "data": {
      "application/vnd.jupyter.widget-view+json": {
       "model_id": "bba886db9d3d4d0b96e8325644f9312f",
       "version_major": 2,
       "version_minor": 0
      },
      "text/plain": [
       "one epoch training:   0%|          | 0/1409 [00:00<?, ?it/s]"
      ]
     },
     "metadata": {},
     "output_type": "display_data"
    },
    {
     "data": {
      "application/vnd.jupyter.widget-view+json": {
       "model_id": "c13051de910a4fddaa08ddde81a67553",
       "version_major": 2,
       "version_minor": 0
      },
      "text/plain": [
       "one epoch training:   0%|          | 0/1409 [00:00<?, ?it/s]"
      ]
     },
     "metadata": {},
     "output_type": "display_data"
    },
    {
     "data": {
      "application/vnd.jupyter.widget-view+json": {
       "model_id": "ef59adb3aa4e4815baf121f444da3888",
       "version_major": 2,
       "version_minor": 0
      },
      "text/plain": [
       "one epoch training:   0%|          | 0/1409 [00:00<?, ?it/s]"
      ]
     },
     "metadata": {},
     "output_type": "display_data"
    },
    {
     "data": {
      "application/vnd.jupyter.widget-view+json": {
       "model_id": "8172567d162040f68e3b4d73d9c77548",
       "version_major": 2,
       "version_minor": 0
      },
      "text/plain": [
       "one epoch training:   0%|          | 0/1409 [00:00<?, ?it/s]"
      ]
     },
     "metadata": {},
     "output_type": "display_data"
    },
    {
     "data": {
      "application/vnd.jupyter.widget-view+json": {
       "model_id": "13b308666a224ff38f26cd60bceff34c",
       "version_major": 2,
       "version_minor": 0
      },
      "text/plain": [
       "one epoch training:   0%|          | 0/1409 [00:00<?, ?it/s]"
      ]
     },
     "metadata": {},
     "output_type": "display_data"
    },
    {
     "data": {
      "application/vnd.jupyter.widget-view+json": {
       "model_id": "b44123e38a774e24bacdf1538f9c4804",
       "version_major": 2,
       "version_minor": 0
      },
      "text/plain": [
       "one epoch training:   0%|          | 0/1409 [00:00<?, ?it/s]"
      ]
     },
     "metadata": {},
     "output_type": "display_data"
    },
    {
     "data": {
      "application/vnd.jupyter.widget-view+json": {
       "model_id": "d01af9b99e1c432a920a12eb8429bac9",
       "version_major": 2,
       "version_minor": 0
      },
      "text/plain": [
       "one epoch training:   0%|          | 0/1409 [00:00<?, ?it/s]"
      ]
     },
     "metadata": {},
     "output_type": "display_data"
    },
    {
     "data": {
      "application/vnd.jupyter.widget-view+json": {
       "model_id": "09196521f7204a21bd1e75ae9bda5bd2",
       "version_major": 2,
       "version_minor": 0
      },
      "text/plain": [
       "one epoch training:   0%|          | 0/1409 [00:00<?, ?it/s]"
      ]
     },
     "metadata": {},
     "output_type": "display_data"
    },
    {
     "data": {
      "application/vnd.jupyter.widget-view+json": {
       "model_id": "4c599e583d0d490da06a909436239e95",
       "version_major": 2,
       "version_minor": 0
      },
      "text/plain": [
       "one epoch training:   0%|          | 0/1409 [00:00<?, ?it/s]"
      ]
     },
     "metadata": {},
     "output_type": "display_data"
    },
    {
     "data": {
      "application/vnd.jupyter.widget-view+json": {
       "model_id": "69176082ce494dacbcc28bda2db2fddb",
       "version_major": 2,
       "version_minor": 0
      },
      "text/plain": [
       "one epoch training:   0%|          | 0/1409 [00:00<?, ?it/s]"
      ]
     },
     "metadata": {},
     "output_type": "display_data"
    },
    {
     "data": {
      "application/vnd.jupyter.widget-view+json": {
       "model_id": "0d237a8e186941ac9104d687e6539dfb",
       "version_major": 2,
       "version_minor": 0
      },
      "text/plain": [
       "one epoch training:   0%|          | 0/1409 [00:00<?, ?it/s]"
      ]
     },
     "metadata": {},
     "output_type": "display_data"
    },
    {
     "data": {
      "application/vnd.jupyter.widget-view+json": {
       "model_id": "529def12bf184f10984167407692c279",
       "version_major": 2,
       "version_minor": 0
      },
      "text/plain": [
       "one epoch training:   0%|          | 0/1409 [00:00<?, ?it/s]"
      ]
     },
     "metadata": {},
     "output_type": "display_data"
    },
    {
     "data": {
      "application/vnd.jupyter.widget-view+json": {
       "model_id": "da83a010dae84f22beedfd4780029b02",
       "version_major": 2,
       "version_minor": 0
      },
      "text/plain": [
       "one epoch training:   0%|          | 0/1409 [00:00<?, ?it/s]"
      ]
     },
     "metadata": {},
     "output_type": "display_data"
    },
    {
     "data": {
      "application/vnd.jupyter.widget-view+json": {
       "model_id": "102e1e1473664110bd67891b2c460e75",
       "version_major": 2,
       "version_minor": 0
      },
      "text/plain": [
       "one epoch training:   0%|          | 0/1409 [00:00<?, ?it/s]"
      ]
     },
     "metadata": {},
     "output_type": "display_data"
    },
    {
     "data": {
      "application/vnd.jupyter.widget-view+json": {
       "model_id": "71edf24529954020a2e628c7768af1f2",
       "version_major": 2,
       "version_minor": 0
      },
      "text/plain": [
       "one epoch training:   0%|          | 0/1409 [00:00<?, ?it/s]"
      ]
     },
     "metadata": {},
     "output_type": "display_data"
    },
    {
     "data": {
      "application/vnd.jupyter.widget-view+json": {
       "model_id": "1a454da1c8e04fb4b259db551870b3eb",
       "version_major": 2,
       "version_minor": 0
      },
      "text/plain": [
       "one epoch training:   0%|          | 0/1409 [00:00<?, ?it/s]"
      ]
     },
     "metadata": {},
     "output_type": "display_data"
    },
    {
     "data": {
      "application/vnd.jupyter.widget-view+json": {
       "model_id": "a3a72fe83e524c84b4af34fb25d83357",
       "version_major": 2,
       "version_minor": 0
      },
      "text/plain": [
       "one epoch training:   0%|          | 0/1409 [00:00<?, ?it/s]"
      ]
     },
     "metadata": {},
     "output_type": "display_data"
    },
    {
     "data": {
      "application/vnd.jupyter.widget-view+json": {
       "model_id": "ab9f5cd7177a43acb45bbd4414f7e456",
       "version_major": 2,
       "version_minor": 0
      },
      "text/plain": [
       "one epoch training:   0%|          | 0/1409 [00:00<?, ?it/s]"
      ]
     },
     "metadata": {},
     "output_type": "display_data"
    },
    {
     "data": {
      "application/vnd.jupyter.widget-view+json": {
       "model_id": "7fd5a6bec6904ade8e05e4a3395fd0d2",
       "version_major": 2,
       "version_minor": 0
      },
      "text/plain": [
       "one epoch training:   0%|          | 0/1409 [00:00<?, ?it/s]"
      ]
     },
     "metadata": {},
     "output_type": "display_data"
    },
    {
     "data": {
      "application/vnd.jupyter.widget-view+json": {
       "model_id": "962d2d2f238148eea0f989eded9a6688",
       "version_major": 2,
       "version_minor": 0
      },
      "text/plain": [
       "one epoch training:   0%|          | 0/1409 [00:00<?, ?it/s]"
      ]
     },
     "metadata": {},
     "output_type": "display_data"
    },
    {
     "data": {
      "application/vnd.jupyter.widget-view+json": {
       "model_id": "721a65f2dc34441080ff5210d0ec8cad",
       "version_major": 2,
       "version_minor": 0
      },
      "text/plain": [
       "one epoch training:   0%|          | 0/1409 [00:00<?, ?it/s]"
      ]
     },
     "metadata": {},
     "output_type": "display_data"
    },
    {
     "data": {
      "application/vnd.jupyter.widget-view+json": {
       "model_id": "89a0ed4f5dc1451486cfa4aab119f509",
       "version_major": 2,
       "version_minor": 0
      },
      "text/plain": [
       "one epoch training:   0%|          | 0/1409 [00:00<?, ?it/s]"
      ]
     },
     "metadata": {},
     "output_type": "display_data"
    },
    {
     "data": {
      "application/vnd.jupyter.widget-view+json": {
       "model_id": "09136d6b837e4f4d90ba932e804ceca0",
       "version_major": 2,
       "version_minor": 0
      },
      "text/plain": [
       "one epoch training:   0%|          | 0/1409 [00:00<?, ?it/s]"
      ]
     },
     "metadata": {},
     "output_type": "display_data"
    },
    {
     "data": {
      "application/vnd.jupyter.widget-view+json": {
       "model_id": "44edd1f3ec25472cb70b6ee9399b2951",
       "version_major": 2,
       "version_minor": 0
      },
      "text/plain": [
       "one epoch training:   0%|          | 0/1409 [00:00<?, ?it/s]"
      ]
     },
     "metadata": {},
     "output_type": "display_data"
    },
    {
     "data": {
      "application/vnd.jupyter.widget-view+json": {
       "model_id": "27d331b871b84f3fb526f1ba2bee8bcc",
       "version_major": 2,
       "version_minor": 0
      },
      "text/plain": [
       "one epoch training:   0%|          | 0/1409 [00:00<?, ?it/s]"
      ]
     },
     "metadata": {},
     "output_type": "display_data"
    },
    {
     "data": {
      "application/vnd.jupyter.widget-view+json": {
       "model_id": "4b029dc4928645dba11ea15497bbc5ec",
       "version_major": 2,
       "version_minor": 0
      },
      "text/plain": [
       "one epoch training:   0%|          | 0/1409 [00:00<?, ?it/s]"
      ]
     },
     "metadata": {},
     "output_type": "display_data"
    },
    {
     "data": {
      "application/vnd.jupyter.widget-view+json": {
       "model_id": "65f675b14e0b481591d1c90e69c98b3c",
       "version_major": 2,
       "version_minor": 0
      },
      "text/plain": [
       "one epoch training:   0%|          | 0/1409 [00:00<?, ?it/s]"
      ]
     },
     "metadata": {},
     "output_type": "display_data"
    },
    {
     "data": {
      "application/vnd.jupyter.widget-view+json": {
       "model_id": "1a66fbe8026f4af492130ea7938b18b7",
       "version_major": 2,
       "version_minor": 0
      },
      "text/plain": [
       "one epoch training:   0%|          | 0/1409 [00:00<?, ?it/s]"
      ]
     },
     "metadata": {},
     "output_type": "display_data"
    },
    {
     "data": {
      "application/vnd.jupyter.widget-view+json": {
       "model_id": "62ff8939b1c84f3ea56bd45ff0ba1d6b",
       "version_major": 2,
       "version_minor": 0
      },
      "text/plain": [
       "one epoch training:   0%|          | 0/1409 [00:00<?, ?it/s]"
      ]
     },
     "metadata": {},
     "output_type": "display_data"
    },
    {
     "data": {
      "application/vnd.jupyter.widget-view+json": {
       "model_id": "afd2fd1edca641698c34c3920a3990ce",
       "version_major": 2,
       "version_minor": 0
      },
      "text/plain": [
       "one epoch training:   0%|          | 0/1409 [00:00<?, ?it/s]"
      ]
     },
     "metadata": {},
     "output_type": "display_data"
    },
    {
     "data": {
      "application/vnd.jupyter.widget-view+json": {
       "model_id": "3ef9157710564fec95fcceb2afc846e9",
       "version_major": 2,
       "version_minor": 0
      },
      "text/plain": [
       "one epoch training:   0%|          | 0/1409 [00:00<?, ?it/s]"
      ]
     },
     "metadata": {},
     "output_type": "display_data"
    },
    {
     "data": {
      "application/vnd.jupyter.widget-view+json": {
       "model_id": "9dc9d23a40d14ee1b70dfac6097aa90b",
       "version_major": 2,
       "version_minor": 0
      },
      "text/plain": [
       "one epoch training:   0%|          | 0/1409 [00:00<?, ?it/s]"
      ]
     },
     "metadata": {},
     "output_type": "display_data"
    },
    {
     "data": {
      "application/vnd.jupyter.widget-view+json": {
       "model_id": "60c5145c81aa4f34aa61db784f34884c",
       "version_major": 2,
       "version_minor": 0
      },
      "text/plain": [
       "one epoch training:   0%|          | 0/1409 [00:00<?, ?it/s]"
      ]
     },
     "metadata": {},
     "output_type": "display_data"
    },
    {
     "data": {
      "application/vnd.jupyter.widget-view+json": {
       "model_id": "636fcb836b7743b79ab01d09c1dc0882",
       "version_major": 2,
       "version_minor": 0
      },
      "text/plain": [
       "one epoch training:   0%|          | 0/1409 [00:00<?, ?it/s]"
      ]
     },
     "metadata": {},
     "output_type": "display_data"
    },
    {
     "data": {
      "application/vnd.jupyter.widget-view+json": {
       "model_id": "86463a66ba434096bb00b40214a077a5",
       "version_major": 2,
       "version_minor": 0
      },
      "text/plain": [
       "one epoch training:   0%|          | 0/1409 [00:00<?, ?it/s]"
      ]
     },
     "metadata": {},
     "output_type": "display_data"
    },
    {
     "data": {
      "application/vnd.jupyter.widget-view+json": {
       "model_id": "b5b2bf6dcf6a4ae9848f9f58f3f5311e",
       "version_major": 2,
       "version_minor": 0
      },
      "text/plain": [
       "one epoch training:   0%|          | 0/1409 [00:00<?, ?it/s]"
      ]
     },
     "metadata": {},
     "output_type": "display_data"
    },
    {
     "data": {
      "application/vnd.jupyter.widget-view+json": {
       "model_id": "c8f8a46ba9c54b2699efd731af570384",
       "version_major": 2,
       "version_minor": 0
      },
      "text/plain": [
       "one epoch training:   0%|          | 0/1409 [00:00<?, ?it/s]"
      ]
     },
     "metadata": {},
     "output_type": "display_data"
    },
    {
     "data": {
      "application/vnd.jupyter.widget-view+json": {
       "model_id": "2da9ad323eaa49d8b8aa0a07cbc966d0",
       "version_major": 2,
       "version_minor": 0
      },
      "text/plain": [
       "one epoch training:   0%|          | 0/1409 [00:00<?, ?it/s]"
      ]
     },
     "metadata": {},
     "output_type": "display_data"
    },
    {
     "data": {
      "application/vnd.jupyter.widget-view+json": {
       "model_id": "5989d7cca8e2499b917821add0190a78",
       "version_major": 2,
       "version_minor": 0
      },
      "text/plain": [
       "one epoch training:   0%|          | 0/1409 [00:00<?, ?it/s]"
      ]
     },
     "metadata": {},
     "output_type": "display_data"
    },
    {
     "data": {
      "application/vnd.jupyter.widget-view+json": {
       "model_id": "d82ae23dadac4a74b5884c7dcdb8091d",
       "version_major": 2,
       "version_minor": 0
      },
      "text/plain": [
       "one epoch training:   0%|          | 0/1409 [00:00<?, ?it/s]"
      ]
     },
     "metadata": {},
     "output_type": "display_data"
    },
    {
     "data": {
      "application/vnd.jupyter.widget-view+json": {
       "model_id": "93fd534eed4f45e28219e98648c178a8",
       "version_major": 2,
       "version_minor": 0
      },
      "text/plain": [
       "one epoch training:   0%|          | 0/1409 [00:00<?, ?it/s]"
      ]
     },
     "metadata": {},
     "output_type": "display_data"
    },
    {
     "data": {
      "application/vnd.jupyter.widget-view+json": {
       "model_id": "91a689eefeed426d9c0bf181ba90e273",
       "version_major": 2,
       "version_minor": 0
      },
      "text/plain": [
       "one epoch training:   0%|          | 0/1409 [00:00<?, ?it/s]"
      ]
     },
     "metadata": {},
     "output_type": "display_data"
    },
    {
     "data": {
      "application/vnd.jupyter.widget-view+json": {
       "model_id": "e4a2c285014e4be992fe2d47cd95da56",
       "version_major": 2,
       "version_minor": 0
      },
      "text/plain": [
       "one epoch training:   0%|          | 0/1409 [00:00<?, ?it/s]"
      ]
     },
     "metadata": {},
     "output_type": "display_data"
    },
    {
     "data": {
      "application/vnd.jupyter.widget-view+json": {
       "model_id": "a8bc783b78864531a9064a3e0d4617e3",
       "version_major": 2,
       "version_minor": 0
      },
      "text/plain": [
       "one epoch training:   0%|          | 0/1409 [00:00<?, ?it/s]"
      ]
     },
     "metadata": {},
     "output_type": "display_data"
    },
    {
     "data": {
      "application/vnd.jupyter.widget-view+json": {
       "model_id": "a0d12eb16b2b415bb978e3a6a0df562c",
       "version_major": 2,
       "version_minor": 0
      },
      "text/plain": [
       "one epoch training:   0%|          | 0/1409 [00:00<?, ?it/s]"
      ]
     },
     "metadata": {},
     "output_type": "display_data"
    },
    {
     "data": {
      "application/vnd.jupyter.widget-view+json": {
       "model_id": "573af8f3db4e4219b07fd0206185fe46",
       "version_major": 2,
       "version_minor": 0
      },
      "text/plain": [
       "one epoch training:   0%|          | 0/1409 [00:00<?, ?it/s]"
      ]
     },
     "metadata": {},
     "output_type": "display_data"
    },
    {
     "data": {
      "application/vnd.jupyter.widget-view+json": {
       "model_id": "6fe7d339c0614d30b5ad19024e2d81aa",
       "version_major": 2,
       "version_minor": 0
      },
      "text/plain": [
       "one epoch training:   0%|          | 0/1409 [00:00<?, ?it/s]"
      ]
     },
     "metadata": {},
     "output_type": "display_data"
    },
    {
     "data": {
      "application/vnd.jupyter.widget-view+json": {
       "model_id": "938783bbecc64de3882648735169b371",
       "version_major": 2,
       "version_minor": 0
      },
      "text/plain": [
       "one epoch training:   0%|          | 0/1409 [00:00<?, ?it/s]"
      ]
     },
     "metadata": {},
     "output_type": "display_data"
    },
    {
     "data": {
      "application/vnd.jupyter.widget-view+json": {
       "model_id": "0875b7def4f543f79f23730ec7f5595b",
       "version_major": 2,
       "version_minor": 0
      },
      "text/plain": [
       "one epoch training:   0%|          | 0/1409 [00:00<?, ?it/s]"
      ]
     },
     "metadata": {},
     "output_type": "display_data"
    },
    {
     "data": {
      "application/vnd.jupyter.widget-view+json": {
       "model_id": "3c7ad33c228f49259bc2ef7caba60123",
       "version_major": 2,
       "version_minor": 0
      },
      "text/plain": [
       "one epoch training:   0%|          | 0/1409 [00:00<?, ?it/s]"
      ]
     },
     "metadata": {},
     "output_type": "display_data"
    },
    {
     "data": {
      "application/vnd.jupyter.widget-view+json": {
       "model_id": "9e094618eb7440f9babdf39348926d51",
       "version_major": 2,
       "version_minor": 0
      },
      "text/plain": [
       "one epoch training:   0%|          | 0/1409 [00:00<?, ?it/s]"
      ]
     },
     "metadata": {},
     "output_type": "display_data"
    },
    {
     "data": {
      "application/vnd.jupyter.widget-view+json": {
       "model_id": "966bd836e06c46d59348d844bb344067",
       "version_major": 2,
       "version_minor": 0
      },
      "text/plain": [
       "one epoch training:   0%|          | 0/1409 [00:00<?, ?it/s]"
      ]
     },
     "metadata": {},
     "output_type": "display_data"
    },
    {
     "data": {
      "application/vnd.jupyter.widget-view+json": {
       "model_id": "7a42125860d84edba7bfe54e55f4ed99",
       "version_major": 2,
       "version_minor": 0
      },
      "text/plain": [
       "one epoch training:   0%|          | 0/1409 [00:00<?, ?it/s]"
      ]
     },
     "metadata": {},
     "output_type": "display_data"
    },
    {
     "data": {
      "application/vnd.jupyter.widget-view+json": {
       "model_id": "1c7fe2e6d04d4e0393b5ecb190729073",
       "version_major": 2,
       "version_minor": 0
      },
      "text/plain": [
       "one epoch training:   0%|          | 0/1409 [00:00<?, ?it/s]"
      ]
     },
     "metadata": {},
     "output_type": "display_data"
    },
    {
     "data": {
      "application/vnd.jupyter.widget-view+json": {
       "model_id": "c0b7d9f1643b4ea7b0d196ebe26dfaaf",
       "version_major": 2,
       "version_minor": 0
      },
      "text/plain": [
       "one epoch training:   0%|          | 0/1409 [00:00<?, ?it/s]"
      ]
     },
     "metadata": {},
     "output_type": "display_data"
    },
    {
     "data": {
      "application/vnd.jupyter.widget-view+json": {
       "model_id": "67ffad0e566c4d2b913d94f383e146fd",
       "version_major": 2,
       "version_minor": 0
      },
      "text/plain": [
       "one epoch training:   0%|          | 0/1409 [00:00<?, ?it/s]"
      ]
     },
     "metadata": {},
     "output_type": "display_data"
    },
    {
     "data": {
      "application/vnd.jupyter.widget-view+json": {
       "model_id": "8c8695ef1a1f476fb05fb0401b39cd85",
       "version_major": 2,
       "version_minor": 0
      },
      "text/plain": [
       "one epoch training:   0%|          | 0/1409 [00:00<?, ?it/s]"
      ]
     },
     "metadata": {},
     "output_type": "display_data"
    },
    {
     "data": {
      "application/vnd.jupyter.widget-view+json": {
       "model_id": "e579590cce214af2bfc85932760fed3a",
       "version_major": 2,
       "version_minor": 0
      },
      "text/plain": [
       "one epoch training:   0%|          | 0/1409 [00:00<?, ?it/s]"
      ]
     },
     "metadata": {},
     "output_type": "display_data"
    },
    {
     "data": {
      "application/vnd.jupyter.widget-view+json": {
       "model_id": "261af704f926403390a041100d04fed7",
       "version_major": 2,
       "version_minor": 0
      },
      "text/plain": [
       "one epoch training:   0%|          | 0/1409 [00:00<?, ?it/s]"
      ]
     },
     "metadata": {},
     "output_type": "display_data"
    },
    {
     "data": {
      "application/vnd.jupyter.widget-view+json": {
       "model_id": "cf6e5bb69dbe423db905c648cf377685",
       "version_major": 2,
       "version_minor": 0
      },
      "text/plain": [
       "one epoch training:   0%|          | 0/1409 [00:00<?, ?it/s]"
      ]
     },
     "metadata": {},
     "output_type": "display_data"
    },
    {
     "data": {
      "application/vnd.jupyter.widget-view+json": {
       "model_id": "f790e4c8047144b199bb090d24c82a87",
       "version_major": 2,
       "version_minor": 0
      },
      "text/plain": [
       "one epoch training:   0%|          | 0/1409 [00:00<?, ?it/s]"
      ]
     },
     "metadata": {},
     "output_type": "display_data"
    },
    {
     "data": {
      "application/vnd.jupyter.widget-view+json": {
       "model_id": "2754c7163b164426a16166d68527175f",
       "version_major": 2,
       "version_minor": 0
      },
      "text/plain": [
       "one epoch training:   0%|          | 0/1409 [00:00<?, ?it/s]"
      ]
     },
     "metadata": {},
     "output_type": "display_data"
    },
    {
     "data": {
      "application/vnd.jupyter.widget-view+json": {
       "model_id": "ac1064ffc592404a8b7961ce076325b5",
       "version_major": 2,
       "version_minor": 0
      },
      "text/plain": [
       "one epoch training:   0%|          | 0/1409 [00:00<?, ?it/s]"
      ]
     },
     "metadata": {},
     "output_type": "display_data"
    },
    {
     "data": {
      "application/vnd.jupyter.widget-view+json": {
       "model_id": "94d6b701238f42ab81e4e62fc97c76c7",
       "version_major": 2,
       "version_minor": 0
      },
      "text/plain": [
       "one epoch training:   0%|          | 0/1409 [00:00<?, ?it/s]"
      ]
     },
     "metadata": {},
     "output_type": "display_data"
    },
    {
     "data": {
      "application/vnd.jupyter.widget-view+json": {
       "model_id": "2f09cef012944341b99b4c1e96eeb4c9",
       "version_major": 2,
       "version_minor": 0
      },
      "text/plain": [
       "one epoch training:   0%|          | 0/1409 [00:00<?, ?it/s]"
      ]
     },
     "metadata": {},
     "output_type": "display_data"
    },
    {
     "data": {
      "application/vnd.jupyter.widget-view+json": {
       "model_id": "4b792b424e944b3a9187287910e17a82",
       "version_major": 2,
       "version_minor": 0
      },
      "text/plain": [
       "one epoch training:   0%|          | 0/1409 [00:00<?, ?it/s]"
      ]
     },
     "metadata": {},
     "output_type": "display_data"
    },
    {
     "data": {
      "application/vnd.jupyter.widget-view+json": {
       "model_id": "d44116af5a0e4c0e8f81b29a95d207f3",
       "version_major": 2,
       "version_minor": 0
      },
      "text/plain": [
       "one epoch training:   0%|          | 0/1409 [00:00<?, ?it/s]"
      ]
     },
     "metadata": {},
     "output_type": "display_data"
    },
    {
     "data": {
      "application/vnd.jupyter.widget-view+json": {
       "model_id": "2788ccba845e49039c20d1facb59b673",
       "version_major": 2,
       "version_minor": 0
      },
      "text/plain": [
       "one epoch training:   0%|          | 0/1409 [00:00<?, ?it/s]"
      ]
     },
     "metadata": {},
     "output_type": "display_data"
    },
    {
     "data": {
      "application/vnd.jupyter.widget-view+json": {
       "model_id": "74102a2ef0334531b06dbd2de0b32c4c",
       "version_major": 2,
       "version_minor": 0
      },
      "text/plain": [
       "one epoch training:   0%|          | 0/1409 [00:00<?, ?it/s]"
      ]
     },
     "metadata": {},
     "output_type": "display_data"
    },
    {
     "data": {
      "application/vnd.jupyter.widget-view+json": {
       "model_id": "567a68ce698f473ea0507642ac2d916b",
       "version_major": 2,
       "version_minor": 0
      },
      "text/plain": [
       "one epoch training:   0%|          | 0/1409 [00:00<?, ?it/s]"
      ]
     },
     "metadata": {},
     "output_type": "display_data"
    },
    {
     "data": {
      "application/vnd.jupyter.widget-view+json": {
       "model_id": "284bb2da9d4e47daa6b29990d2c2f6f5",
       "version_major": 2,
       "version_minor": 0
      },
      "text/plain": [
       "one epoch training:   0%|          | 0/1409 [00:00<?, ?it/s]"
      ]
     },
     "metadata": {},
     "output_type": "display_data"
    },
    {
     "data": {
      "application/vnd.jupyter.widget-view+json": {
       "model_id": "ff15082d005b4d04a6597f9d6c4ff9c4",
       "version_major": 2,
       "version_minor": 0
      },
      "text/plain": [
       "one epoch training:   0%|          | 0/1409 [00:00<?, ?it/s]"
      ]
     },
     "metadata": {},
     "output_type": "display_data"
    },
    {
     "data": {
      "application/vnd.jupyter.widget-view+json": {
       "model_id": "19e8eef5fe3c4c018ae344354de9be56",
       "version_major": 2,
       "version_minor": 0
      },
      "text/plain": [
       "one epoch training:   0%|          | 0/1409 [00:00<?, ?it/s]"
      ]
     },
     "metadata": {},
     "output_type": "display_data"
    },
    {
     "data": {
      "application/vnd.jupyter.widget-view+json": {
       "model_id": "9878ac350c2b49bdb1ff1d042f26539b",
       "version_major": 2,
       "version_minor": 0
      },
      "text/plain": [
       "one epoch training:   0%|          | 0/1409 [00:00<?, ?it/s]"
      ]
     },
     "metadata": {},
     "output_type": "display_data"
    },
    {
     "data": {
      "application/vnd.jupyter.widget-view+json": {
       "model_id": "95eb60ae2f7048b48d9a5011e33b4fd7",
       "version_major": 2,
       "version_minor": 0
      },
      "text/plain": [
       "one epoch training:   0%|          | 0/1409 [00:00<?, ?it/s]"
      ]
     },
     "metadata": {},
     "output_type": "display_data"
    },
    {
     "data": {
      "application/vnd.jupyter.widget-view+json": {
       "model_id": "b772a1b6c8af406ea0cdfa95af3e10c6",
       "version_major": 2,
       "version_minor": 0
      },
      "text/plain": [
       "one epoch training:   0%|          | 0/1409 [00:00<?, ?it/s]"
      ]
     },
     "metadata": {},
     "output_type": "display_data"
    },
    {
     "data": {
      "application/vnd.jupyter.widget-view+json": {
       "model_id": "285f8c0c179b4a049798015479a20fe4",
       "version_major": 2,
       "version_minor": 0
      },
      "text/plain": [
       "one epoch training:   0%|          | 0/1409 [00:00<?, ?it/s]"
      ]
     },
     "metadata": {},
     "output_type": "display_data"
    },
    {
     "data": {
      "application/vnd.jupyter.widget-view+json": {
       "model_id": "781829c88897468f8010721649e5403c",
       "version_major": 2,
       "version_minor": 0
      },
      "text/plain": [
       "one epoch training:   0%|          | 0/1409 [00:00<?, ?it/s]"
      ]
     },
     "metadata": {},
     "output_type": "display_data"
    },
    {
     "data": {
      "application/vnd.jupyter.widget-view+json": {
       "model_id": "1a07c9c9a2774f65bdb6b25521a07aca",
       "version_major": 2,
       "version_minor": 0
      },
      "text/plain": [
       "one epoch training:   0%|          | 0/1409 [00:00<?, ?it/s]"
      ]
     },
     "metadata": {},
     "output_type": "display_data"
    },
    {
     "data": {
      "application/vnd.jupyter.widget-view+json": {
       "model_id": "cf6888763e5f4aeb821aea0f2c694b28",
       "version_major": 2,
       "version_minor": 0
      },
      "text/plain": [
       "one epoch training:   0%|          | 0/1409 [00:00<?, ?it/s]"
      ]
     },
     "metadata": {},
     "output_type": "display_data"
    },
    {
     "data": {
      "application/vnd.jupyter.widget-view+json": {
       "model_id": "bff50ba28e11491ba024429d31597f08",
       "version_major": 2,
       "version_minor": 0
      },
      "text/plain": [
       "one epoch training:   0%|          | 0/1409 [00:00<?, ?it/s]"
      ]
     },
     "metadata": {},
     "output_type": "display_data"
    },
    {
     "data": {
      "application/vnd.jupyter.widget-view+json": {
       "model_id": "c53bd3a7a4bd40489760804dd7381115",
       "version_major": 2,
       "version_minor": 0
      },
      "text/plain": [
       "one epoch training:   0%|          | 0/1409 [00:00<?, ?it/s]"
      ]
     },
     "metadata": {},
     "output_type": "display_data"
    },
    {
     "data": {
      "application/vnd.jupyter.widget-view+json": {
       "model_id": "d5e88742d5714775857de38148e2c7f3",
       "version_major": 2,
       "version_minor": 0
      },
      "text/plain": [
       "one epoch training:   0%|          | 0/1409 [00:00<?, ?it/s]"
      ]
     },
     "metadata": {},
     "output_type": "display_data"
    },
    {
     "data": {
      "application/vnd.jupyter.widget-view+json": {
       "model_id": "c9fc6cf4ebb640529567ec3856c79a9f",
       "version_major": 2,
       "version_minor": 0
      },
      "text/plain": [
       "one epoch training:   0%|          | 0/1409 [00:00<?, ?it/s]"
      ]
     },
     "metadata": {},
     "output_type": "display_data"
    },
    {
     "data": {
      "application/vnd.jupyter.widget-view+json": {
       "model_id": "640c2122e29a410c87d951992ea77e4c",
       "version_major": 2,
       "version_minor": 0
      },
      "text/plain": [
       "one epoch training:   0%|          | 0/1409 [00:00<?, ?it/s]"
      ]
     },
     "metadata": {},
     "output_type": "display_data"
    },
    {
     "data": {
      "application/vnd.jupyter.widget-view+json": {
       "model_id": "13a116dd30b241d5bada29f2fad17889",
       "version_major": 2,
       "version_minor": 0
      },
      "text/plain": [
       "one epoch training:   0%|          | 0/1409 [00:00<?, ?it/s]"
      ]
     },
     "metadata": {},
     "output_type": "display_data"
    },
    {
     "data": {
      "application/vnd.jupyter.widget-view+json": {
       "model_id": "fd778dbb14fa492ea157b8b8dab6db78",
       "version_major": 2,
       "version_minor": 0
      },
      "text/plain": [
       "one epoch training:   0%|          | 0/1409 [00:00<?, ?it/s]"
      ]
     },
     "metadata": {},
     "output_type": "display_data"
    },
    {
     "data": {
      "application/vnd.jupyter.widget-view+json": {
       "model_id": "4acacf2a10224c0d82d115726ad90ca7",
       "version_major": 2,
       "version_minor": 0
      },
      "text/plain": [
       "one epoch training:   0%|          | 0/1409 [00:00<?, ?it/s]"
      ]
     },
     "metadata": {},
     "output_type": "display_data"
    },
    {
     "data": {
      "application/vnd.jupyter.widget-view+json": {
       "model_id": "9801918724bf450aac2a06ab2d3f09a2",
       "version_major": 2,
       "version_minor": 0
      },
      "text/plain": [
       "one epoch training:   0%|          | 0/1409 [00:00<?, ?it/s]"
      ]
     },
     "metadata": {},
     "output_type": "display_data"
    },
    {
     "data": {
      "application/vnd.jupyter.widget-view+json": {
       "model_id": "e8f6fecc25f14be381b4d49912fad3e0",
       "version_major": 2,
       "version_minor": 0
      },
      "text/plain": [
       "one epoch training:   0%|          | 0/1409 [00:00<?, ?it/s]"
      ]
     },
     "metadata": {},
     "output_type": "display_data"
    },
    {
     "data": {
      "application/vnd.jupyter.widget-view+json": {
       "model_id": "66aab18d31d04a47807ad40328b69f5a",
       "version_major": 2,
       "version_minor": 0
      },
      "text/plain": [
       "one epoch training:   0%|          | 0/1409 [00:00<?, ?it/s]"
      ]
     },
     "metadata": {},
     "output_type": "display_data"
    },
    {
     "data": {
      "application/vnd.jupyter.widget-view+json": {
       "model_id": "c22276105e6546458c1ce3a054392856",
       "version_major": 2,
       "version_minor": 0
      },
      "text/plain": [
       "one epoch training:   0%|          | 0/1409 [00:00<?, ?it/s]"
      ]
     },
     "metadata": {},
     "output_type": "display_data"
    },
    {
     "data": {
      "application/vnd.jupyter.widget-view+json": {
       "model_id": "0070b367f33d4ed8a33b6d3af2336bb8",
       "version_major": 2,
       "version_minor": 0
      },
      "text/plain": [
       "one epoch training:   0%|          | 0/1409 [00:00<?, ?it/s]"
      ]
     },
     "metadata": {},
     "output_type": "display_data"
    },
    {
     "data": {
      "application/vnd.jupyter.widget-view+json": {
       "model_id": "d396f14233fc43deb16d4eaba07db92c",
       "version_major": 2,
       "version_minor": 0
      },
      "text/plain": [
       "one epoch training:   0%|          | 0/1409 [00:00<?, ?it/s]"
      ]
     },
     "metadata": {},
     "output_type": "display_data"
    },
    {
     "data": {
      "application/vnd.jupyter.widget-view+json": {
       "model_id": "371a48d51228486991db795cdd522bd6",
       "version_major": 2,
       "version_minor": 0
      },
      "text/plain": [
       "one epoch training:   0%|          | 0/1409 [00:00<?, ?it/s]"
      ]
     },
     "metadata": {},
     "output_type": "display_data"
    },
    {
     "data": {
      "application/vnd.jupyter.widget-view+json": {
       "model_id": "aa14507133db4ba882a9e0bc1f5daaea",
       "version_major": 2,
       "version_minor": 0
      },
      "text/plain": [
       "one epoch training:   0%|          | 0/1409 [00:00<?, ?it/s]"
      ]
     },
     "metadata": {},
     "output_type": "display_data"
    },
    {
     "data": {
      "application/vnd.jupyter.widget-view+json": {
       "model_id": "d44f31f4348c44a281c3c27fc19e69f9",
       "version_major": 2,
       "version_minor": 0
      },
      "text/plain": [
       "one epoch training:   0%|          | 0/1409 [00:00<?, ?it/s]"
      ]
     },
     "metadata": {},
     "output_type": "display_data"
    },
    {
     "data": {
      "application/vnd.jupyter.widget-view+json": {
       "model_id": "79e51018c46647f0997bf0c81c5ebffc",
       "version_major": 2,
       "version_minor": 0
      },
      "text/plain": [
       "one epoch training:   0%|          | 0/1409 [00:00<?, ?it/s]"
      ]
     },
     "metadata": {},
     "output_type": "display_data"
    },
    {
     "data": {
      "application/vnd.jupyter.widget-view+json": {
       "model_id": "1464e8bac9f14ba7aac54064fa07c23a",
       "version_major": 2,
       "version_minor": 0
      },
      "text/plain": [
       "one epoch training:   0%|          | 0/1409 [00:00<?, ?it/s]"
      ]
     },
     "metadata": {},
     "output_type": "display_data"
    },
    {
     "data": {
      "application/vnd.jupyter.widget-view+json": {
       "model_id": "ccb40033eb2446fab432ea66bf53f278",
       "version_major": 2,
       "version_minor": 0
      },
      "text/plain": [
       "one epoch training:   0%|          | 0/1409 [00:00<?, ?it/s]"
      ]
     },
     "metadata": {},
     "output_type": "display_data"
    },
    {
     "data": {
      "application/vnd.jupyter.widget-view+json": {
       "model_id": "7731bc34a14646f09655b3ca4963a82a",
       "version_major": 2,
       "version_minor": 0
      },
      "text/plain": [
       "one epoch training:   0%|          | 0/1409 [00:00<?, ?it/s]"
      ]
     },
     "metadata": {},
     "output_type": "display_data"
    },
    {
     "data": {
      "application/vnd.jupyter.widget-view+json": {
       "model_id": "d046ce536a034604a3f1e02d7df67a43",
       "version_major": 2,
       "version_minor": 0
      },
      "text/plain": [
       "one epoch training:   0%|          | 0/1409 [00:00<?, ?it/s]"
      ]
     },
     "metadata": {},
     "output_type": "display_data"
    },
    {
     "data": {
      "application/vnd.jupyter.widget-view+json": {
       "model_id": "b6eb8f13032b4d188f17b7449920e281",
       "version_major": 2,
       "version_minor": 0
      },
      "text/plain": [
       "one epoch training:   0%|          | 0/1409 [00:00<?, ?it/s]"
      ]
     },
     "metadata": {},
     "output_type": "display_data"
    },
    {
     "data": {
      "application/vnd.jupyter.widget-view+json": {
       "model_id": "1dbffeb4a3f44795b71301eaf18e24c9",
       "version_major": 2,
       "version_minor": 0
      },
      "text/plain": [
       "one epoch training:   0%|          | 0/1409 [00:00<?, ?it/s]"
      ]
     },
     "metadata": {},
     "output_type": "display_data"
    },
    {
     "data": {
      "application/vnd.jupyter.widget-view+json": {
       "model_id": "d3b5c4655ba8418f81166669fcb10f06",
       "version_major": 2,
       "version_minor": 0
      },
      "text/plain": [
       "one epoch training:   0%|          | 0/1409 [00:00<?, ?it/s]"
      ]
     },
     "metadata": {},
     "output_type": "display_data"
    },
    {
     "data": {
      "application/vnd.jupyter.widget-view+json": {
       "model_id": "34dddc723f6f43b9b8e1bade660f3c3a",
       "version_major": 2,
       "version_minor": 0
      },
      "text/plain": [
       "one epoch training:   0%|          | 0/1409 [00:00<?, ?it/s]"
      ]
     },
     "metadata": {},
     "output_type": "display_data"
    },
    {
     "data": {
      "application/vnd.jupyter.widget-view+json": {
       "model_id": "2bebd1694d634b759f1cde716c2a2686",
       "version_major": 2,
       "version_minor": 0
      },
      "text/plain": [
       "one epoch training:   0%|          | 0/1409 [00:00<?, ?it/s]"
      ]
     },
     "metadata": {},
     "output_type": "display_data"
    },
    {
     "data": {
      "application/vnd.jupyter.widget-view+json": {
       "model_id": "366c363a748943c4acaf5ac8c5f4ecd1",
       "version_major": 2,
       "version_minor": 0
      },
      "text/plain": [
       "one epoch training:   0%|          | 0/1409 [00:00<?, ?it/s]"
      ]
     },
     "metadata": {},
     "output_type": "display_data"
    },
    {
     "data": {
      "application/vnd.jupyter.widget-view+json": {
       "model_id": "68f306368b994d32a8267de470c9f294",
       "version_major": 2,
       "version_minor": 0
      },
      "text/plain": [
       "one epoch training:   0%|          | 0/1409 [00:00<?, ?it/s]"
      ]
     },
     "metadata": {},
     "output_type": "display_data"
    },
    {
     "data": {
      "application/vnd.jupyter.widget-view+json": {
       "model_id": "1468a5ed3a224107817063e4c3ffd02b",
       "version_major": 2,
       "version_minor": 0
      },
      "text/plain": [
       "one epoch training:   0%|          | 0/1409 [00:00<?, ?it/s]"
      ]
     },
     "metadata": {},
     "output_type": "display_data"
    },
    {
     "data": {
      "application/vnd.jupyter.widget-view+json": {
       "model_id": "f6a16b10b1214c8dae4cab3e01cf6075",
       "version_major": 2,
       "version_minor": 0
      },
      "text/plain": [
       "one epoch training:   0%|          | 0/1409 [00:00<?, ?it/s]"
      ]
     },
     "metadata": {},
     "output_type": "display_data"
    },
    {
     "data": {
      "application/vnd.jupyter.widget-view+json": {
       "model_id": "0e43219bb75f4106905c5c9ff0ccbd57",
       "version_major": 2,
       "version_minor": 0
      },
      "text/plain": [
       "one epoch training:   0%|          | 0/1409 [00:00<?, ?it/s]"
      ]
     },
     "metadata": {},
     "output_type": "display_data"
    },
    {
     "data": {
      "application/vnd.jupyter.widget-view+json": {
       "model_id": "447aed0eb13747efb8cc422f89d14e0a",
       "version_major": 2,
       "version_minor": 0
      },
      "text/plain": [
       "one epoch training:   0%|          | 0/1409 [00:00<?, ?it/s]"
      ]
     },
     "metadata": {},
     "output_type": "display_data"
    },
    {
     "data": {
      "application/vnd.jupyter.widget-view+json": {
       "model_id": "506f1b1775cd47aa86e2480792f37819",
       "version_major": 2,
       "version_minor": 0
      },
      "text/plain": [
       "one epoch training:   0%|          | 0/1409 [00:00<?, ?it/s]"
      ]
     },
     "metadata": {},
     "output_type": "display_data"
    },
    {
     "data": {
      "application/vnd.jupyter.widget-view+json": {
       "model_id": "25843d3bc8434d9ba28d7aa4651e465c",
       "version_major": 2,
       "version_minor": 0
      },
      "text/plain": [
       "one epoch training:   0%|          | 0/1409 [00:00<?, ?it/s]"
      ]
     },
     "metadata": {},
     "output_type": "display_data"
    },
    {
     "data": {
      "application/vnd.jupyter.widget-view+json": {
       "model_id": "dbf13f2ae19a4ec2a531a025f68fed3e",
       "version_major": 2,
       "version_minor": 0
      },
      "text/plain": [
       "one epoch training:   0%|          | 0/1409 [00:00<?, ?it/s]"
      ]
     },
     "metadata": {},
     "output_type": "display_data"
    },
    {
     "data": {
      "application/vnd.jupyter.widget-view+json": {
       "model_id": "8fa8801e53cd46a2843c563976e8a204",
       "version_major": 2,
       "version_minor": 0
      },
      "text/plain": [
       "one epoch training:   0%|          | 0/1409 [00:00<?, ?it/s]"
      ]
     },
     "metadata": {},
     "output_type": "display_data"
    },
    {
     "data": {
      "application/vnd.jupyter.widget-view+json": {
       "model_id": "bbd5e24b008d4371856cc8c03a134b57",
       "version_major": 2,
       "version_minor": 0
      },
      "text/plain": [
       "one epoch training:   0%|          | 0/1409 [00:00<?, ?it/s]"
      ]
     },
     "metadata": {},
     "output_type": "display_data"
    },
    {
     "data": {
      "application/vnd.jupyter.widget-view+json": {
       "model_id": "580476bbd3ce4f44b7460ea03bb03a4f",
       "version_major": 2,
       "version_minor": 0
      },
      "text/plain": [
       "one epoch training:   0%|          | 0/1409 [00:00<?, ?it/s]"
      ]
     },
     "metadata": {},
     "output_type": "display_data"
    },
    {
     "data": {
      "application/vnd.jupyter.widget-view+json": {
       "model_id": "f4f4ac59506c495aace557b284d18668",
       "version_major": 2,
       "version_minor": 0
      },
      "text/plain": [
       "one epoch training:   0%|          | 0/1409 [00:00<?, ?it/s]"
      ]
     },
     "metadata": {},
     "output_type": "display_data"
    },
    {
     "data": {
      "application/vnd.jupyter.widget-view+json": {
       "model_id": "887b298dcda8472d95c05eaac2fc60bd",
       "version_major": 2,
       "version_minor": 0
      },
      "text/plain": [
       "one epoch training:   0%|          | 0/1409 [00:00<?, ?it/s]"
      ]
     },
     "metadata": {},
     "output_type": "display_data"
    },
    {
     "data": {
      "application/vnd.jupyter.widget-view+json": {
       "model_id": "bbcf48f3052246309ad6229c8e2ae4c7",
       "version_major": 2,
       "version_minor": 0
      },
      "text/plain": [
       "one epoch training:   0%|          | 0/1409 [00:00<?, ?it/s]"
      ]
     },
     "metadata": {},
     "output_type": "display_data"
    },
    {
     "data": {
      "application/vnd.jupyter.widget-view+json": {
       "model_id": "110c0023610e4f15b07adb13309a5a37",
       "version_major": 2,
       "version_minor": 0
      },
      "text/plain": [
       "one epoch training:   0%|          | 0/1409 [00:00<?, ?it/s]"
      ]
     },
     "metadata": {},
     "output_type": "display_data"
    },
    {
     "data": {
      "application/vnd.jupyter.widget-view+json": {
       "model_id": "d8ee5fcdf5f04d9b96a12ad40dca2050",
       "version_major": 2,
       "version_minor": 0
      },
      "text/plain": [
       "one epoch training:   0%|          | 0/1409 [00:00<?, ?it/s]"
      ]
     },
     "metadata": {},
     "output_type": "display_data"
    },
    {
     "data": {
      "application/vnd.jupyter.widget-view+json": {
       "model_id": "bb45ca230a6840a9aa86cfa64496127b",
       "version_major": 2,
       "version_minor": 0
      },
      "text/plain": [
       "one epoch training:   0%|          | 0/1409 [00:00<?, ?it/s]"
      ]
     },
     "metadata": {},
     "output_type": "display_data"
    },
    {
     "data": {
      "application/vnd.jupyter.widget-view+json": {
       "model_id": "938db378b2634bcc98b1536be3c8ee17",
       "version_major": 2,
       "version_minor": 0
      },
      "text/plain": [
       "one epoch training:   0%|          | 0/1409 [00:00<?, ?it/s]"
      ]
     },
     "metadata": {},
     "output_type": "display_data"
    },
    {
     "data": {
      "application/vnd.jupyter.widget-view+json": {
       "model_id": "e642d786cbe34db0ba5dd063ac1c4ea3",
       "version_major": 2,
       "version_minor": 0
      },
      "text/plain": [
       "one epoch training:   0%|          | 0/1409 [00:00<?, ?it/s]"
      ]
     },
     "metadata": {},
     "output_type": "display_data"
    },
    {
     "data": {
      "application/vnd.jupyter.widget-view+json": {
       "model_id": "a1d6244a54fe48769078afef8da1176e",
       "version_major": 2,
       "version_minor": 0
      },
      "text/plain": [
       "one epoch training:   0%|          | 0/1409 [00:00<?, ?it/s]"
      ]
     },
     "metadata": {},
     "output_type": "display_data"
    },
    {
     "data": {
      "application/vnd.jupyter.widget-view+json": {
       "model_id": "d0e470920aca48b38274e97a3016adec",
       "version_major": 2,
       "version_minor": 0
      },
      "text/plain": [
       "one epoch training:   0%|          | 0/1409 [00:00<?, ?it/s]"
      ]
     },
     "metadata": {},
     "output_type": "display_data"
    },
    {
     "data": {
      "application/vnd.jupyter.widget-view+json": {
       "model_id": "b2683e939e394a88bb59ee9a3a5fd280",
       "version_major": 2,
       "version_minor": 0
      },
      "text/plain": [
       "one epoch training:   0%|          | 0/1409 [00:00<?, ?it/s]"
      ]
     },
     "metadata": {},
     "output_type": "display_data"
    },
    {
     "data": {
      "application/vnd.jupyter.widget-view+json": {
       "model_id": "498889b425f248e7a86eca0494d23b25",
       "version_major": 2,
       "version_minor": 0
      },
      "text/plain": [
       "one epoch training:   0%|          | 0/1409 [00:00<?, ?it/s]"
      ]
     },
     "metadata": {},
     "output_type": "display_data"
    },
    {
     "data": {
      "application/vnd.jupyter.widget-view+json": {
       "model_id": "d52cd9d1bd0741d78ed3f1a923cb5479",
       "version_major": 2,
       "version_minor": 0
      },
      "text/plain": [
       "one epoch training:   0%|          | 0/1409 [00:00<?, ?it/s]"
      ]
     },
     "metadata": {},
     "output_type": "display_data"
    },
    {
     "data": {
      "application/vnd.jupyter.widget-view+json": {
       "model_id": "d098ee34d55b4997bba4f24328347dc8",
       "version_major": 2,
       "version_minor": 0
      },
      "text/plain": [
       "one epoch training:   0%|          | 0/1409 [00:00<?, ?it/s]"
      ]
     },
     "metadata": {},
     "output_type": "display_data"
    },
    {
     "data": {
      "application/vnd.jupyter.widget-view+json": {
       "model_id": "24354463df404a53ba0f1529419aaae0",
       "version_major": 2,
       "version_minor": 0
      },
      "text/plain": [
       "one epoch training:   0%|          | 0/1409 [00:00<?, ?it/s]"
      ]
     },
     "metadata": {},
     "output_type": "display_data"
    },
    {
     "data": {
      "application/vnd.jupyter.widget-view+json": {
       "model_id": "3c76bd9655074c7dba8b69f840a281de",
       "version_major": 2,
       "version_minor": 0
      },
      "text/plain": [
       "one epoch training:   0%|          | 0/1409 [00:00<?, ?it/s]"
      ]
     },
     "metadata": {},
     "output_type": "display_data"
    },
    {
     "data": {
      "application/vnd.jupyter.widget-view+json": {
       "model_id": "689ae75beb6b471486ee0f1a8354af8b",
       "version_major": 2,
       "version_minor": 0
      },
      "text/plain": [
       "one epoch training:   0%|          | 0/1409 [00:00<?, ?it/s]"
      ]
     },
     "metadata": {},
     "output_type": "display_data"
    },
    {
     "data": {
      "application/vnd.jupyter.widget-view+json": {
       "model_id": "c4861136e5824a84837384c47ec4c566",
       "version_major": 2,
       "version_minor": 0
      },
      "text/plain": [
       "one epoch training:   0%|          | 0/1409 [00:00<?, ?it/s]"
      ]
     },
     "metadata": {},
     "output_type": "display_data"
    },
    {
     "data": {
      "application/vnd.jupyter.widget-view+json": {
       "model_id": "d3af7de116324dfa876b9ea168c1ed45",
       "version_major": 2,
       "version_minor": 0
      },
      "text/plain": [
       "one epoch training:   0%|          | 0/1409 [00:00<?, ?it/s]"
      ]
     },
     "metadata": {},
     "output_type": "display_data"
    },
    {
     "data": {
      "application/vnd.jupyter.widget-view+json": {
       "model_id": "16fa7e7a258c41978d6e2d030a8a2ff7",
       "version_major": 2,
       "version_minor": 0
      },
      "text/plain": [
       "one epoch training:   0%|          | 0/1409 [00:00<?, ?it/s]"
      ]
     },
     "metadata": {},
     "output_type": "display_data"
    },
    {
     "data": {
      "application/vnd.jupyter.widget-view+json": {
       "model_id": "7a6a61be9a094cc2a9c31869f23d8ba0",
       "version_major": 2,
       "version_minor": 0
      },
      "text/plain": [
       "one epoch training:   0%|          | 0/1409 [00:00<?, ?it/s]"
      ]
     },
     "metadata": {},
     "output_type": "display_data"
    },
    {
     "data": {
      "application/vnd.jupyter.widget-view+json": {
       "model_id": "89bdc91f51f34408bd9a183556ac8e46",
       "version_major": 2,
       "version_minor": 0
      },
      "text/plain": [
       "one epoch training:   0%|          | 0/1409 [00:00<?, ?it/s]"
      ]
     },
     "metadata": {},
     "output_type": "display_data"
    },
    {
     "ename": "KeyboardInterrupt",
     "evalue": "",
     "output_type": "error",
     "traceback": [
      "\u001b[0;31m---------------------------------------------------------------------------\u001b[0m",
      "\u001b[0;31mKeyboardInterrupt\u001b[0m                         Traceback (most recent call last)",
      "\u001b[0;32m/tmp/ipykernel_13993/2709044996.py\u001b[0m in \u001b[0;36m<module>\u001b[0;34m\u001b[0m\n\u001b[1;32m     28\u001b[0m         \u001b[0moptimizer\u001b[0m\u001b[0;34m.\u001b[0m\u001b[0mstep\u001b[0m\u001b[0;34m(\u001b[0m\u001b[0;34m)\u001b[0m\u001b[0;34m\u001b[0m\u001b[0;34m\u001b[0m\u001b[0m\n\u001b[1;32m     29\u001b[0m \u001b[0;34m\u001b[0m\u001b[0m\n\u001b[0;32m---> 30\u001b[0;31m         \u001b[0mrunning_loss\u001b[0m \u001b[0;34m+=\u001b[0m \u001b[0mloss\u001b[0m\u001b[0;34m.\u001b[0m\u001b[0mitem\u001b[0m\u001b[0;34m(\u001b[0m\u001b[0;34m)\u001b[0m\u001b[0;34m\u001b[0m\u001b[0;34m\u001b[0m\u001b[0m\n\u001b[0m\u001b[1;32m     31\u001b[0m         \u001b[0mi\u001b[0m \u001b[0;34m+=\u001b[0m \u001b[0;36m1\u001b[0m\u001b[0;34m\u001b[0m\u001b[0;34m\u001b[0m\u001b[0m\n\u001b[1;32m     32\u001b[0m \u001b[0;34m\u001b[0m\u001b[0m\n",
      "\u001b[0;31mKeyboardInterrupt\u001b[0m: "
     ]
    }
   ],
   "source": [
    "classes = []\n",
    "true_classes= []\n",
    "epochs_num = 500\n",
    "\n",
    "for epoch in tqdm_notebook(range(epochs_num), desc='epochs'):  # loop over the dataset multiple times\n",
    "    \n",
    "    coat_callback.on_epoch_begin(epoch) \n",
    "    \n",
    "    running_loss = 0.0\n",
    "    i = 0\n",
    "    for data in tqdm_notebook(train_dataloader, desc='one epoch training'):\n",
    "        # get the inputs; data is a list of [inputs, labels]\n",
    "        inputs, labels = data\n",
    "        true_classes.append(labels)\n",
    "        inputs = inputs.to(device)\n",
    "        labels = labels.to(device)\n",
    "        \n",
    "        # zero the parameter gradients\n",
    "        optimizer.zero_grad()\n",
    "\n",
    "        # forward + backward + optimize\n",
    "        outputs = coatnet(inputs)\n",
    "        classes.append(nn.Softmax(dim=1)(outputs))\n",
    "        outputs = outputs.to(device)\n",
    "#         print(outputs.shape(), labels.shape())\n",
    "        loss = criterion(outputs, labels)\n",
    "        loss.backward()\n",
    "        optimizer.step()\n",
    "\n",
    "        running_loss += loss.item()\n",
    "        i += 1\n",
    "    \n",
    "    coat_callback.on_epoch_end(true_classes, classes,\n",
    "                          [\"Benign\", \"InSitu\", \"Invasive\"],\n",
    "                          running_loss)\n",
    "    \n",
    "    if epoch % 50 == 0:\n",
    "        torch.save(coatnet.state_dict(), \"Saved_CoAtNet/\" + str(epoch))\n",
    "    \n",
    "    running_loss = 0.0\n",
    "    classes = []\n",
    "    true_classes= []\n",
    "\n",
    "print('Finished Training')"
   ]
  },
  {
   "cell_type": "code",
   "execution_count": 1,
   "id": "4b0f0c70",
   "metadata": {},
   "outputs": [
    {
     "ename": "NameError",
     "evalue": "name 'torch' is not defined",
     "output_type": "error",
     "traceback": [
      "\u001b[0;31m---------------------------------------------------------------------------\u001b[0m",
      "\u001b[0;31mNameError\u001b[0m                                 Traceback (most recent call last)",
      "\u001b[0;32m/tmp/ipykernel_24789/947081439.py\u001b[0m in \u001b[0;36m<module>\u001b[0;34m\u001b[0m\n\u001b[0;32m----> 1\u001b[0;31m \u001b[0mtorch\u001b[0m\u001b[0;34m.\u001b[0m\u001b[0mcuda\u001b[0m\u001b[0;34m.\u001b[0m\u001b[0mempty_cache\u001b[0m\u001b[0;34m(\u001b[0m\u001b[0;34m)\u001b[0m\u001b[0;34m\u001b[0m\u001b[0;34m\u001b[0m\u001b[0m\n\u001b[0m",
      "\u001b[0;31mNameError\u001b[0m: name 'torch' is not defined"
     ]
    }
   ],
   "source": [
    "torch.cuda.empty_cache()"
   ]
  },
  {
   "cell_type": "code",
   "execution_count": null,
   "id": "86228577",
   "metadata": {},
   "outputs": [],
   "source": []
  }
 ],
 "metadata": {
  "kernelspec": {
   "display_name": "Python 3 (ipykernel)",
   "language": "python",
   "name": "python3"
  },
  "language_info": {
   "codemirror_mode": {
    "name": "ipython",
    "version": 3
   },
   "file_extension": ".py",
   "mimetype": "text/x-python",
   "name": "python",
   "nbconvert_exporter": "python",
   "pygments_lexer": "ipython3",
   "version": "3.8.10"
  }
 },
 "nbformat": 4,
 "nbformat_minor": 5
}
