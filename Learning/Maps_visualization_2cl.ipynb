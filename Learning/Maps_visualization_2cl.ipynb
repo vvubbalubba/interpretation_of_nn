{
 "cells": [
  {
   "cell_type": "code",
   "execution_count": 1,
   "id": "c0c4b2a7",
   "metadata": {},
   "outputs": [],
   "source": [
    "import torch\n",
    "from torch.utils.data import Dataset\n",
    "from torchvision.transforms import ToTensor\n",
    "import matplotlib.pyplot as plt\n",
    "import os\n",
    "import pandas as pd\n",
    "from torchvision.io import read_image\n",
    "from torch.utils.data import DataLoader\n",
    "import csv\n",
    "import random\n",
    "import numpy as np\n",
    "import cv2\n",
    "import mimetypes\n",
    "import fnmatch\n",
    "import seaborn as sns\n",
    "from collections import Counter, defaultdict\n",
    "import torchvision\n",
    "from torchvision import transforms\n",
    "from torch import nn\n",
    "import torch.optim as optim\n",
    "import time\n",
    "from progress.bar import IncrementalBar\n",
    "from tqdm.notebook import tqdm_notebook\n",
    "from sklearn.metrics import confusion_matrix\n",
    "from torch.utils.tensorboard import SummaryWriter\n",
    "from sklearn.metrics import accuracy_score\n",
    "from sklearn.metrics import recall_score\n",
    "from sklearn.metrics import precision_score\n",
    "from sklearn.metrics import roc_auc_score\n",
    "import io\n",
    "from pytorch_lightning.callbacks import Callback\n",
    "from datetime import datetime, date, time\n",
    "from PIL import Image\n",
    "import itertools \n",
    "from sklearn.model_selection import train_test_split\n",
    "import torchvision.models as models\n",
    "\n",
    "from Sources.callbacks_2classes import plot_confusion_matrix\n",
    "from torch.nn import functional as F\n",
    "from Sources.callbacks_2classes import get_true_classes\n",
    "from Sources.callbacks_2classes import get_predicted_classes\n",
    "from Sources.callbacks_2classes import get_classes_probs\n",
    "from Sources.callbacks_2classes import callback\n",
    "from Sources.callbacks_2classes import plot_to_image\n",
    "from Sources.data_tools import ImageDataset_2cl\n",
    "from Sources.ViT.models.modeling import VisionTransformer, CONFIGS\n",
    "\n",
    "from Sources.vit_rollout import VITAttentionRollout\n",
    "from Sources.pytorch_grad_cam_master.pytorch_grad_cam import GradCAM\n",
    "from Sources.pytorch_grad_cam_master.pytorch_grad_cam.utils.image import show_cam_on_image\n",
    "from tqdm.notebook import tqdm_notebook\n",
    "\n",
    "from fpdf import FPDF"
   ]
  },
  {
   "cell_type": "code",
   "execution_count": 2,
   "id": "26cd8ca8",
   "metadata": {},
   "outputs": [
    {
     "name": "stdout",
     "output_type": "stream",
     "text": [
      "Using cuda device\n"
     ]
    }
   ],
   "source": [
    "device = 'cuda' if torch.cuda.is_available() else 'cpu'\n",
    "print('Using {} device'.format(device))\n",
    "\n",
    "labels_map = {\n",
    "    0: \"Benign\",\n",
    "    1: \"Malignant\",\n",
    "}\n",
    "\n",
    "transform_for_maps = transforms.Compose([\n",
    "    transforms.Resize(256),\n",
    "    transforms.CenterCrop(224),\n",
    "])\n",
    "\n",
    "transform = transforms.Compose([\n",
    "    transforms.CenterCrop(224),\n",
    "    transforms.Normalize(mean=[0.485, 0.456, 0.406], std=[0.229, 0.224, 0.225]),\n",
    "])\n",
    "\n",
    "val_dataset = ImageDataset_2cl('../Data/burnasyan_Br.csv', 'val_paths.txt', transform = transform_for_maps)\n",
    "val_dataloader = DataLoader(val_dataset, batch_size=1, shuffle=False)"
   ]
  },
  {
   "cell_type": "code",
   "execution_count": 3,
   "id": "469a5e7c",
   "metadata": {},
   "outputs": [],
   "source": [
    "# VIT\n",
    "config = CONFIGS[\"ViT-B_16\"]\n",
    "vit = VisionTransformer(config, num_classes=1000, zero_head=False, img_size=224, vis=True)\n",
    "vit.head = nn.Linear(768, 2)\n",
    "vit.load_state_dict(torch.load(\"../Logits/SavedNN/Saved_ViT_2cl/\" + str(140)))\n",
    "vit.to(device)\n",
    "vit.eval()\n",
    "\n",
    "# RESNET\n",
    "resnet = models.resnet50(pretrained=False)\n",
    "resnet.fc = nn.Linear(2048, 2)\n",
    "resnet.load_state_dict(torch.load(\"../Logits/SavedNN/Saved_ResNet50_2cl/\" + str(30)))\n",
    "resnet.to(device)\n",
    "resnet.eval()\n",
    "None"
   ]
  },
  {
   "cell_type": "code",
   "execution_count": 4,
   "id": "b780e3ce",
   "metadata": {},
   "outputs": [],
   "source": [
    "# ORIGINAL\n",
    "def get_original_image(input_tensor):\n",
    "    return input_tensor[0].squeeze().permute(1, 2, 0).int()\n",
    "\n",
    "# RESNET\n",
    "def get_resnet_gradcam_map(input_tensor, cam, pred_label):\n",
    "    \n",
    "    target_category = pred_label\n",
    "    # You can also pass aug_smooth=True and eigen_smooth=True, to apply smoothing.\n",
    "    grayscale_cam = cam(input_tensor=input_tensor, target_category=target_category)\n",
    "    # In this example grayscale_cam has only one image in the batch:\n",
    "    grayscale_cam = grayscale_cam[0, :]\n",
    "    image = input_tensor.cpu().detach() / 255\n",
    "    image = image.squeeze().permute(1, 2, 0).numpy()\n",
    "    visualization = show_cam_on_image(image, grayscale_cam, use_rgb=True)\n",
    "    \n",
    "    return visualization\n",
    "\n",
    "# VIT\n",
    "def reshape_transform(tensor, height=14, width=14):\n",
    "    result = tensor[:, :-1, :].reshape(tensor.size(0),\n",
    "                                      height, width, tensor.size(2))\n",
    "\n",
    "    # Bring the channels to the first dimension,\n",
    "    # like in CNNs.\n",
    "    result = result.transpose(2, 3).transpose(1, 2)\n",
    "    return result\n",
    "\n",
    "def get_vit_gradcam_map(input_tensor, cam, pred_label):\n",
    "\n",
    "    target_category = pred_label\n",
    "    \n",
    "    # You can also pass aug_smooth=True and eigen_smooth=True, to apply smoothing.\n",
    "    grayscale_cam = cam(input_tensor=input_tensor, target_category=target_category)\n",
    "    \n",
    "    # In this example grayscale_cam has only one image in the batch:\n",
    "    grayscale_cam = grayscale_cam[0, :]\n",
    "    \n",
    "    image = input_tensor.cpu().detach() / 255\n",
    "    image = image.squeeze().permute(1, 2, 0).numpy()\n",
    "    visualization = show_cam_on_image(image, grayscale_cam, use_rgb=True)\n",
    "    \n",
    "    return visualization\n",
    "    \n",
    "def get_vit_rollout_map(input_tensor, rollout, pred_label):\n",
    "\n",
    "    mask = rollout(input_tensor)\n",
    "    mask = mask / np.max(mask)\n",
    "    \n",
    "    image = input_tensor.cpu().detach() / 255\n",
    "    image = image.squeeze().permute(1, 2, 0).numpy()\n",
    "    mask = cv2.resize(mask, (224, 224))[..., np.newaxis]\n",
    "    result = show_cam_on_image(image, mask, use_rgb=True)\n",
    "    \n",
    "    return result\n",
    "\n",
    "def ViTRollout_last_layer(input_tensor, rollout, pred_label):\n",
    "    logits, att_mat = vit(input_tensor)\n",
    "    att_mat = torch.stack(att_mat).squeeze(1)\n",
    "    # Average the attention weights across all heads.\n",
    "    att_mat = torch.mean(att_mat, dim=1)\n",
    "    # To account for residual connections, we add an identity matrix to the\n",
    "    # attention matrix and re-normalize the weights.\n",
    "    residual_att = torch.eye(att_mat.size(1)).to(device)\n",
    "    aug_att_mat = att_mat + residual_att\n",
    "    aug_att_mat = aug_att_mat / aug_att_mat.sum(dim=-1).unsqueeze(-1)\n",
    "    # Recursively multiply the weight matrices\n",
    "    joint_attentions = torch.zeros(aug_att_mat.size()).to(device)\n",
    "    joint_attentions[0] = aug_att_mat[0]\n",
    "\n",
    "    for n in range(1, aug_att_mat.size(0)):\n",
    "        joint_attentions[n] = torch.matmul(aug_att_mat[n], joint_attentions[n-1])\n",
    "    \n",
    "    # Attention from the output token to the input space.\n",
    "    v = joint_attentions[-1]\n",
    "    grid_size = int(np.sqrt(aug_att_mat.size(-1)))\n",
    "    mask = v[0, 1:].reshape(grid_size, grid_size).cpu().detach().numpy()\n",
    "    \n",
    "    mask = mask / np.max(mask)\n",
    "    \n",
    "    image = input_tensor.cpu().detach() / 255\n",
    "    image = image.squeeze().permute(1, 2, 0).numpy()\n",
    "    mask = cv2.resize(mask, (224, 224))[..., np.newaxis]\n",
    "    result = show_cam_on_image(image, mask, use_rgb=False)\n",
    "    \n",
    "    return result\n",
    "    \n",
    "\n",
    "methods_dict = {\n",
    "    \"original\": get_original_image,\n",
    "    \"resnet_gradcam\": get_resnet_gradcam_map,\n",
    "    \"resnet_gradcam_aggr\": get_resnet_gradcam_map,\n",
    "    \"vit_gradcam\": get_vit_gradcam_map,\n",
    "    \"vit_gradcam_aggr\": get_vit_gradcam_map,\n",
    "    \"vit_rollout\": get_vit_rollout_map,\n",
    "    \"vit_rollout_last_layer\": ViTRollout_last_layer,\n",
    "}"
   ]
  },
  {
   "cell_type": "code",
   "execution_count": 5,
   "id": "6526abae",
   "metadata": {},
   "outputs": [],
   "source": [
    "# CAM objects\n",
    "# ResNet CAM\n",
    "target_layers = [resnet.layer4[-1]]\n",
    "resnet_cam = GradCAM(resnet, target_layers)\n",
    "\n",
    "# ResNet CAM Aggregated\n",
    "target_layers = [resnet.layer4[-1], resnet.layer3[-1], \n",
    "                 resnet.layer2[-1], resnet.layer1[-1]]\n",
    "resnet_cam_aggr = GradCAM(resnet, target_layers)\n",
    "\n",
    "# ViT CAM\n",
    "target_layers = [vit.transformer.encoder.layer[-1]]\n",
    "vit_cam = GradCAM(vit, target_layers, reshape_transform=reshape_transform)\n",
    "\n",
    "# ViT CAM Aggregated\n",
    "target_layers = [vit.transformer.encoder.layer[-1],\n",
    "                 vit.transformer.encoder.layer[-2],\n",
    "                 vit.transformer.encoder.layer[-3],\n",
    "                 vit.transformer.encoder.layer[-4]]\n",
    "vit_cam_aggr = GradCAM(vit, target_layers, reshape_transform=reshape_transform)\n",
    "                       \n",
    "# Rollout object\n",
    "rollout = VITAttentionRollout(vit, discard_ratio=0.9, \n",
    "                              head_fusion='max')"
   ]
  },
  {
   "cell_type": "code",
   "execution_count": 6,
   "id": "d3da0c2a",
   "metadata": {},
   "outputs": [],
   "source": [
    "methods = [\n",
    "           \"original\", \n",
    "           \"resnet_gradcam\", \n",
    "           \"resnet_gradcam_aggr\", \n",
    "           \"vit_gradcam\",\n",
    "           \"vit_gradcam_aggr\", \n",
    "           \"vit_rollout\"\n",
    "          ]\n",
    "\n",
    "# NUM = 1\n",
    "\n",
    "# maps_visualization(methods, NUM)"
   ]
  },
  {
   "cell_type": "markdown",
   "id": "092aac34",
   "metadata": {},
   "source": [
    "## File generation"
   ]
  },
  {
   "cell_type": "code",
   "execution_count": 7,
   "id": "0c66a88b",
   "metadata": {},
   "outputs": [],
   "source": [
    "# functions\n",
    "def get_plot_and_labels(data, methods):\n",
    "    # get the inputs; data is a list of [inputs, labels]\n",
    "    inputs, labels = data\n",
    "    inputs_for_networks = transform(inputs).to(device)\n",
    "    inputs = inputs.to(device)\n",
    "    \n",
    "    label = labels[0].item()\n",
    "    real_label = labels_map[label]\n",
    "    \n",
    "    with torch.no_grad():\n",
    "        resnet_probs = resnet(inputs_for_networks)\n",
    "        resnet_probs = nn.Softmax(dim=1)(resnet_probs)\n",
    "        vit_probs = vit(inputs_for_networks)[0]\n",
    "        vit_probs = nn.Softmax(dim=1)(vit_probs)\n",
    "    resnet_label = np.argmax(resnet_probs.cpu().detach().numpy(), axis = 1).item()\n",
    "    vit_label = np.argmax(vit_probs.cpu().detach().numpy(), axis = 1)[0].item()\n",
    "    \n",
    "    if k_dict[labels_map[int(vit_label)]][labels_map[int(resnet_label)]] >= 100:\n",
    "        return np.int32(0), 0, labels_map[int(resnet_label)], labels_map[int(vit_label)]\n",
    "    \n",
    "    for method_i, method in enumerate(methods):\n",
    "        if method == \"original\":\n",
    "            visualization = methods_dict[method](inputs.cpu())\n",
    "        else:\n",
    "            if method == \"resnet_gradcam\": \n",
    "                visualization = methods_dict[method](inputs, \n",
    "                                                     resnet_cam, \n",
    "                                                     resnet_label)\n",
    "            elif method == \"resnet_gradcam_aggr\":\n",
    "                visualization = methods_dict[method](inputs, \n",
    "                                                     resnet_cam_aggr, \n",
    "                                                     resnet_label)\n",
    "            elif method == \"vit_gradcam\":\n",
    "                visualization = methods_dict[method](inputs, \n",
    "                                                     vit_cam,\n",
    "                                                     vit_label)\n",
    "            elif method == \"vit_gradcam_aggr\":\n",
    "                visualization = methods_dict[method](inputs, \n",
    "                                                     vit_cam_aggr,\n",
    "                                                     vit_label)\n",
    "            elif method == \"vit_rollout\":\n",
    "                visualization = methods_dict[method](inputs, \n",
    "                                                     rollout,\n",
    "                                                     vit_label)\n",
    "            else:\n",
    "                visualization = methods_dict[method](inputs, \n",
    "                                                     rollout,\n",
    "                                                     vit_label)\n",
    "                \n",
    "        ax[method_i // 3 % 2][method_i % 3].get_xaxis().set_visible(False)\n",
    "        ax[method_i // 3 % 2][method_i % 3].get_yaxis().set_visible(False)\n",
    "        ax[method_i // 3 % 2][method_i % 3].set_title(method)\n",
    "        ax[method_i // 3 % 2][method_i % 3].imshow(visualization)\n",
    "        \n",
    "#         ax[method_i].get_xaxis().set_visible(False)\n",
    "#         ax[method_i].get_yaxis().set_visible(False)\n",
    "#         ax[method_i].set_title(method)\n",
    "#         ax[method_i].imshow(visualization)\n",
    "        \n",
    "    del inputs_for_networks\n",
    "    \n",
    "    resnet_label = labels_map[int(resnet_label)]\n",
    "    vit_label = labels_map[int(vit_label)]\n",
    "    \n",
    "    plt.subplots_adjust(wspace=0.05, hspace=0.05)\n",
    "#     plt.subplots_adjust(wspace=0, hspace=0)\n",
    "    \n",
    "#     buf = io.BytesIO()\n",
    "    plt.savefig(\"test.jpg\", bbox_inches='tight', pad_inches=0)\n",
    "    plt.cla()\n",
    "    img_to_save = Image.open(\"test.jpg\")\n",
    "#     buf.seek(0)\n",
    "    img_to_save = img_to_save.convert(\"RGB\")\n",
    "    \n",
    "    del inputs\n",
    "    torch.cuda.empty_cache()\n",
    "    \n",
    "    return img_to_save, real_label, resnet_label, vit_label\n",
    "\n",
    "def save_maps_to_folders(img_to_save, \n",
    "                                 real_label, vit_label, resnet_label, \n",
    "                                 k_dict):\n",
    "    # choose the folder\n",
    "    if vit_label == \"Benign\":\n",
    "        if resnet_label == \"Benign\":\n",
    "            folder = \"Maps_2cl/ViT_Benign_ResNet_Benign\"\n",
    "        else:\n",
    "            folder = \"Maps_2cl/ViT_Benign_ResNet_Malignant\"\n",
    "    else:\n",
    "        if resnet_label == \"Benign\":\n",
    "            folder = \"Maps_2cl/ViT_Malignant_ResNet_Benign\"\n",
    "        else:\n",
    "            folder = \"Maps_2cl/ViT_Malignant_ResNet_Malignant\"\n",
    "    \n",
    "#     folder = \"Test_maps\"\n",
    "    \n",
    "    # save img to folder\n",
    "    if k_dict[vit_label][resnet_label] >= 100:\n",
    "        return 1\n",
    "    \n",
    "    # resnet or vit\n",
    "    img_path = os.path.join(folder,\n",
    "                            np.str(k_dict[vit_label][resnet_label]) + '.jpg')\n",
    "    cv2.imwrite(img_path, cv2.cvtColor(np.array(img_to_save), cv2.COLOR_RGB2BGR))\n",
    "            \n",
    "    k_dict[vit_label][resnet_label] += 1\n",
    "    \n",
    "    return 0\n",
    "        \n",
    "def save_images_to_pdf(num, folder, pdf_name):\n",
    "    \n",
    "    # num - number of images in one folder\n",
    "    # real_labels - array\n",
    "    \n",
    "    pdf = FPDF('L', 'mm', 'A4')\n",
    "    pdf.set_font('Arial', 'B', 12)\n",
    "    \n",
    "    for i in range(num):\n",
    "        img_path = os.path.join(folder, np.str(i) + '.jpg')\n",
    "        pdf.add_page()\n",
    "#         pdf.cell(300, 10, 'Real label: ' + real_labels[i], ln = 1)\n",
    "        pdf.image(img_path, w = 240) # save to pdf\n",
    "#         pdf.set_y(pdf.y + 40)\n",
    "    \n",
    "    pdf.output(pdf_name, \"F\")\n",
    "    pdf.close()"
   ]
  },
  {
   "cell_type": "code",
   "execution_count": 8,
   "id": "36101e5c",
   "metadata": {
    "scrolled": false
   },
   "outputs": [
    {
     "data": {
      "application/vnd.jupyter.widget-view+json": {
       "model_id": "e6d5fd983d3142d6adc691d1c33a5ccb",
       "version_major": 2,
       "version_minor": 0
      },
      "text/plain": [
       "gettnig val maps:   0%|          | 0/10510 [00:00<?, ?it/s]"
      ]
     },
     "metadata": {},
     "output_type": "display_data"
    }
   ],
   "source": [
    "k_dict = {\n",
    "    \"Benign\": {\n",
    "        \"Benign\": 0,\n",
    "        \"Malignant\": 0,\n",
    "    },\n",
    "    \"Malignant\": {\n",
    "        \"Benign\": 0,\n",
    "        \"Malignant\": 0,\n",
    "    },\n",
    "}\n",
    "\n",
    "real_labels = {\n",
    "    \"Benign\": {\n",
    "        \"Benign\": [],\n",
    "        \"Malignant\": [],\n",
    "    },\n",
    "    \"Malignant\": {\n",
    "        \"Benign\": [],\n",
    "        \"Malignant\": [],\n",
    "    },\n",
    "}\n",
    "\n",
    "plt.rcParams['font.size'] = '20'\n",
    "fig, ax = plt.subplots(2, 3, figsize=(24, 16))\n",
    "# fig, ax = plt.subplots(1, 6, figsize=(56, 8))\n",
    "fig.tight_layout()\n",
    "\n",
    "for data in tqdm_notebook(val_dataloader, desc='gettnig val maps'):\n",
    "        \n",
    "    img_to_save, real_label, resnet_label, vit_label = get_plot_and_labels(data, methods)\n",
    "        \n",
    "#     if type(img_to_save) != np.int32:\n",
    "#         real_labels[vit_label][resnet_label].append(real_label)\n",
    "    \n",
    "    flag = save_maps_to_folders(img_to_save, \n",
    "                                 real_label, vit_label, resnet_label, \n",
    "                                 k_dict)\n",
    "    \n",
    "    if sum(k_dict[\"Benign\"].values()) + sum(k_dict[\"Malignant\"].values()) >= 400:\n",
    "        break\n",
    "            \n",
    "plt.close(fig)"
   ]
  },
  {
   "cell_type": "code",
   "execution_count": 8,
   "id": "fa361d46",
   "metadata": {},
   "outputs": [],
   "source": [
    "num = 100\n",
    "\n",
    "folders = [\"Maps_2cl/ViT_Benign_ResNet_Benign\",\n",
    "           \"Maps_2cl/ViT_Benign_ResNet_Malignant\",\n",
    "           \"Maps_2cl/ViT_Malignant_ResNet_Benign\",\n",
    "           \"Maps_2cl/ViT_Malignant_ResNet_Malignant\"]\n",
    "pdf_names = [\"ViT_Benign_ResNet_Benign.pdf\",\n",
    "             \"ViT_Benign_ResNet_Malignant.pdf\",\n",
    "             \"ViT_Malignant_ResNet_Benign.pdf\",\n",
    "             \"ViT_Malignant_ResNet_Malignant.pdf\"]\n",
    "\n",
    "save_images_to_pdf(num,\n",
    "                   folders[0], pdf_names[0])\n",
    "save_images_to_pdf(num,\n",
    "                   folders[1], pdf_names[1])\n",
    "save_images_to_pdf(num,\n",
    "                   folders[2], pdf_names[2])\n",
    "save_images_to_pdf(num,\n",
    "                   folders[3], pdf_names[3])"
   ]
  },
  {
   "cell_type": "code",
   "execution_count": 11,
   "id": "033337eb",
   "metadata": {},
   "outputs": [],
   "source": [
    "# concat images\n",
    "num = 20\n",
    "\n",
    "def concat_images(num, folder):\n",
    "    for i in range(num):\n",
    "        resnet_img = os.path.join(folder, 'resnet' + np.str(i) + '.jpg')\n",
    "        vit_img = os.path.join(folder, 'vit' + np.str(i) + '.jpg')\n",
    "        img = Image.new('RGB', (224, 224*6))\n",
    "        img1 = Image.open(resnet_img)\n",
    "        img2 = Image.open(vit_img)\n",
    "        img.paste(img1, (0,0))\n",
    "        img.paste(img2, (0,224))\n",
    "        img_path = os.path.join(folder, np.str(i) + '.jpg')\n",
    "        cv2.imwrite(img_path, cv2.cvtColor(img, cv2.COLOR_RGB2BGR))\n"
   ]
  },
  {
   "cell_type": "code",
   "execution_count": 25,
   "id": "620ff9d7",
   "metadata": {},
   "outputs": [],
   "source": [
    "def write_plots_to_pdf(methods): \n",
    "    k_dict = {\n",
    "        \"Benign\": {\n",
    "            \"Benign\": 0,\n",
    "            \"Malignant\": 0,\n",
    "        },\n",
    "        \"Malignant\": {\n",
    "            \"Benign\": 0,\n",
    "            \"Malignant\": 0,\n",
    "        },\n",
    "    }\n",
    "    \n",
    "    pdf_bb = FPDF('L', 'mm', 'A4')\n",
    "    pdf_bm = FPDF('L', 'mm', 'A4')\n",
    "    pdf_mb = FPDF('L', 'mm', 'A4')\n",
    "    pdf_mm = FPDF('L', 'mm', 'A4')\n",
    "    \n",
    "    for data in tqdm_notebook(val_dataloader, desc='gettnig val maps'):\n",
    "        \n",
    "        img_to_save, real_label, resnet_label, vit_label = get_plot_and_labels(data, methods)\n",
    "        \n",
    "        flag = save_maps_to_folders_and_pdf(img_to_save, \n",
    "                                 real_label, vit_label, resnet_label, \n",
    "                                 k_dict, pdf_bb, pdf_bm, pdf_mb, pdf_mm)\n",
    "            \n",
    "    pdf_bb.output(\"ViT_Benign_ResNet_Benign.pdf\", \"F\")\n",
    "    pdf_bm.output(\"ViT_Benign_ResNet_Malignant.pdf\", \"F\")\n",
    "    pdf_mb.output(\"ViT_Malignant_ResNet_Benign.pdf\", \"F\")\n",
    "    pdf_mm.output(\"ViT_Malignant_ResNet_Malignant.pdf\", \"F\")"
   ]
  },
  {
   "cell_type": "code",
   "execution_count": null,
   "id": "2ec8eede",
   "metadata": {},
   "outputs": [
    {
     "data": {
      "application/vnd.jupyter.widget-view+json": {
       "model_id": "f9e789e887c14a6f93b5c6cbaa8b066e",
       "version_major": 2,
       "version_minor": 0
      },
      "text/plain": [
       "gettnig val maps:   0%|          | 0/10510 [00:00<?, ?it/s]"
      ]
     },
     "metadata": {},
     "output_type": "display_data"
    }
   ],
   "source": [
    "write_plots_to_pdf(methods)"
   ]
  },
  {
   "cell_type": "markdown",
   "id": "049c9b6b",
   "metadata": {},
   "source": [
    "### Without function"
   ]
  },
  {
   "cell_type": "code",
   "execution_count": 7,
   "id": "2704afef",
   "metadata": {},
   "outputs": [
    {
     "name": "stdout",
     "output_type": "stream",
     "text": [
      "0\n"
     ]
    }
   ],
   "source": [
    "k_dict = {\n",
    "        \"Benign\": {\n",
    "            \"Benign\": 0,\n",
    "            \"Malignant\": 0,\n",
    "        },\n",
    "        \"Malignant\": {\n",
    "            \"Benign\": 0,\n",
    "            \"Malignant\": 0,\n",
    "        },\n",
    "    }\n",
    "\n",
    "print(k_dict[\"Benign\"][\"Benign\"])"
   ]
  },
  {
   "cell_type": "code",
   "execution_count": 47,
   "id": "32f6f797",
   "metadata": {},
   "outputs": [
    {
     "data": {
      "text/plain": [
       "''"
      ]
     },
     "execution_count": 47,
     "metadata": {},
     "output_type": "execute_result"
    }
   ],
   "source": [
    "str = \"Hello, gistology!\"\n",
    "pdf.add_page()\n",
    "pdf.set_font('Arial', 'B', 16)\n",
    "pdf.cell(40, 10, str)\n",
    "pdf.output('test.pdf', 'F')"
   ]
  },
  {
   "cell_type": "code",
   "execution_count": 48,
   "id": "5403810b",
   "metadata": {},
   "outputs": [],
   "source": [
    "plt.show()"
   ]
  },
  {
   "cell_type": "code",
   "execution_count": 16,
   "id": "45ba3c11",
   "metadata": {},
   "outputs": [],
   "source": [
    "def maps(methods, NUM):\n",
    "\n",
    "    for data in tqdm_notebook(val_dataloader, desc='gettnig val maps'):\n",
    "        # get the inputs; data is a list of [inputs, labels]\n",
    "        inputs, labels = data\n",
    "    \n",
    "        # save img name + label\n",
    "        label = labels[0].item()\n",
    "        print(\"real_label: \", labels_map[label])\n",
    "    \n",
    "        fig, ax = plt.subplots(1, len(methods), figsize=(16, 16))\n",
    "\n",
    "        for method_i, method in enumerate(methods):\n",
    "            if method == \"original\":\n",
    "                visualization = methods_dict[method](inputs)\n",
    "            else:\n",
    "                visualization, pred_label = methods_dict[method](inputs)\n",
    "                print(method, \"pred label: \", labels_map[int(pred_label)])\n",
    "            ax[method_i].get_xaxis().set_visible(False)\n",
    "            ax[method_i].get_yaxis().set_visible(False)\n",
    "            ax[method_i].set_title(method)\n",
    "            ax[method_i].imshow(visualization)\n",
    "            \n",
    "        plt.subplots_adjust(wspace=0, hspace=0)\n",
    "        \n",
    "        buf = io.BytesIO()\n",
    "        plt.savefig(buf, format='jpg', bbox_inches='tight', pad_inches=0)\n",
    "        plt.close(fig)\n",
    "        buf.seek(0)\n",
    "        img_to_save = Image.open(buf)\n",
    "        img_to_save = img_to_save.convert(\"RGB\")\n",
    "        \n",
    "        return(img_to_save)"
   ]
  },
  {
   "cell_type": "code",
   "execution_count": 17,
   "id": "8b93c3bb",
   "metadata": {},
   "outputs": [
    {
     "data": {
      "application/vnd.jupyter.widget-view+json": {
       "model_id": "9fd14a0478654361aef71ffa60c4d345",
       "version_major": 2,
       "version_minor": 0
      },
      "text/plain": [
       "gettnig val maps:   0%|          | 0/10510 [00:00<?, ?it/s]"
      ]
     },
     "metadata": {},
     "output_type": "display_data"
    },
    {
     "name": "stdout",
     "output_type": "stream",
     "text": [
      "real_label:  Benign\n",
      "resnet_gradcam pred label:  Malignant\n",
      "resnet_gradcam_aggr pred label:  Malignant\n",
      "vit_gradcam pred label:  Malignant\n",
      "vit_gradcam_aggr pred label:  Malignant\n",
      "vit_rollout pred label:  Malignant\n"
     ]
    }
   ],
   "source": [
    "fig_img = maps(methods, 1)"
   ]
  },
  {
   "cell_type": "code",
   "execution_count": 18,
   "id": "2839f823",
   "metadata": {},
   "outputs": [
    {
     "data": {
      "image/png": "[encoded data removed]",
      "text/plain": [
       "<Figure size 432x288 with 1 Axes>"
      ]
     },
     "metadata": {
      "needs_background": "light"
     },
     "output_type": "display_data"
    }
   ],
   "source": [
    "plt.imshow(fig_img)\n",
    "plt.show()"
   ]
  },
  {
   "cell_type": "code",
   "execution_count": 19,
   "id": "8baee7aa",
   "metadata": {},
   "outputs": [
    {
     "name": "stdout",
     "output_type": "stream",
     "text": [
      "(896, 168)\n"
     ]
    }
   ],
   "source": [
    "print(fig_img.size)"
   ]
  },
  {
   "cell_type": "code",
   "execution_count": 20,
   "id": "216b1c2a",
   "metadata": {},
   "outputs": [
    {
     "data": {
      "text/plain": [
       "True"
      ]
     },
     "execution_count": 20,
     "metadata": {},
     "output_type": "execute_result"
    }
   ],
   "source": [
    "\n",
    "cv2.imwrite(\"Maps_2cl/ViT_Malignant_ResNet_Malignant/0.jpg\", \n",
    "            cv2.cvtColor(np.array(fig_img), cv2.COLOR_RGB2BGR))"
   ]
  },
  {
   "cell_type": "code",
   "execution_count": 179,
   "id": "5eaa0db0",
   "metadata": {},
   "outputs": [
    {
     "data": {
      "text/plain": [
       "''"
      ]
     },
     "execution_count": 179,
     "metadata": {},
     "output_type": "execute_result"
    }
   ],
   "source": [
    "pdf = FPDF('L', 'mm', 'A4')\n",
    "pdf.add_page()\n",
    "# pdf.set_font('Arial', '', 13)\n",
    "# pdf.cell(40, 10, \"real_label\", ln = 1)\n",
    "# pdf.cell(40, 10, \"real_label\", ln = 1)\n",
    "# pdf.cell(40, 10, \"real_label\", ln = 1)\n",
    "pdf.image(\"onePic.jpg\", w = 280)\n",
    "# pdf.image(\"onePic2.jpg\", x = 5, y = 100, w = 280)\n",
    "pdf.output('test.pdf', 'F')"
   ]
  },
  {
   "cell_type": "code",
   "execution_count": null,
   "id": "6da12fa7",
   "metadata": {},
   "outputs": [],
   "source": []
  },
  {
   "cell_type": "code",
   "execution_count": 5,
   "id": "182bcab6",
   "metadata": {},
   "outputs": [],
   "source": [
    "def maps_visualization(methods, NUM):\n",
    "    \n",
    "    k = 0\n",
    "    \n",
    "    for data in tqdm_notebook(val_dataloader, desc='gettnig val maps'):\n",
    "        # get the inputs; data is a list of [inputs, labels]\n",
    "        inputs, labels = data\n",
    "    \n",
    "        # save img name + label\n",
    "        label = labels[0].item()\n",
    "        print(\"real_label: \", labels_map[label])\n",
    "    \n",
    "        fig, ax = plt.subplots(1, len(methods), figsize=(16, 16))\n",
    "\n",
    "        for method_i, method in enumerate(methods):\n",
    "            if method == \"original\":\n",
    "                visualization = methods_dict[method](inputs)\n",
    "            else:\n",
    "                visualization, pred_label = methods_dict[method](inputs)\n",
    "                print(method, \"pred label: \", labels_map[int(pred_label)])\n",
    "            ax[method_i].get_xaxis().set_visible(False)\n",
    "            ax[method_i].get_yaxis().set_visible(False)\n",
    "            ax[method_i].set_title(method)\n",
    "            ax[method_i].imshow(visualization.cpu())\n",
    "            \n",
    "        plt.subplots_adjust(wspace=0, hspace=0)\n",
    "        plt.show()\n",
    "            \n",
    "        k += 1\n",
    "            \n",
    "        if k == NUM:\n",
    "            break"
   ]
  }
 ],
 "metadata": {
  "kernelspec": {
   "display_name": "Python 3 (ipykernel)",
   "language": "python",
   "name": "python3"
  },
  "language_info": {
   "codemirror_mode": {
    "name": "ipython",
    "version": 3
   },
   "file_extension": ".py",
   "mimetype": "text/x-python",
   "name": "python",
   "nbconvert_exporter": "python",
   "pygments_lexer": "ipython3",
   "version": "3.8.10"
  }
 },
 "nbformat": 4,
 "nbformat_minor": 5
}
