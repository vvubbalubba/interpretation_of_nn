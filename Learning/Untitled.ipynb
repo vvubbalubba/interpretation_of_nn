{
 "cells": [
  {
   "cell_type": "code",
   "execution_count": 10,
   "id": "4f76b035",
   "metadata": {},
   "outputs": [],
   "source": [
    "import torch\n",
    "from torchvision import transforms\n",
    "import numpy as np"
   ]
  },
  {
   "cell_type": "code",
   "execution_count": 2,
   "id": "89041d19",
   "metadata": {},
   "outputs": [
    {
     "data": {
      "text/plain": [
       "tensor([[[1., 1., 1.],\n",
       "         [1., 1., 1.],\n",
       "         [1., 1., 1.]],\n",
       "\n",
       "        [[1., 1., 1.],\n",
       "         [1., 1., 1.],\n",
       "         [1., 1., 1.]]])"
      ]
     },
     "execution_count": 2,
     "metadata": {},
     "output_type": "execute_result"
    }
   ],
   "source": [
    "a = torch.ones((2, 3, 3))\n",
    "a"
   ]
  },
  {
   "cell_type": "code",
   "execution_count": 3,
   "id": "307a4a15",
   "metadata": {},
   "outputs": [
    {
     "data": {
      "text/plain": [
       "tensor([[[0., 0., 0.],\n",
       "         [0., 0., 0.],\n",
       "         [0., 0., 0.]],\n",
       "\n",
       "        [[0., 0., 0.],\n",
       "         [0., 0., 0.],\n",
       "         [0., 0., 0.]],\n",
       "\n",
       "        [[0., 0., 0.],\n",
       "         [0., 0., 0.],\n",
       "         [0., 0., 0.]]])"
      ]
     },
     "execution_count": 3,
     "metadata": {},
     "output_type": "execute_result"
    }
   ],
   "source": [
    "b = torch.zeros((3, 3, 3))\n",
    "b"
   ]
  },
  {
   "cell_type": "code",
   "execution_count": 4,
   "id": "ca774d0c",
   "metadata": {},
   "outputs": [
    {
     "data": {
      "text/plain": [
       "torch.Size([3, 3, 3])"
      ]
     },
     "execution_count": 4,
     "metadata": {},
     "output_type": "execute_result"
    }
   ],
   "source": [
    "b.shape"
   ]
  },
  {
   "cell_type": "code",
   "execution_count": 5,
   "id": "a6c0bc26",
   "metadata": {},
   "outputs": [
    {
     "data": {
      "text/plain": [
       "torch.Size([2, 3, 3])"
      ]
     },
     "execution_count": 5,
     "metadata": {},
     "output_type": "execute_result"
    }
   ],
   "source": [
    "a.shape"
   ]
  },
  {
   "cell_type": "code",
   "execution_count": 6,
   "id": "1d9403fe",
   "metadata": {},
   "outputs": [],
   "source": [
    "b[2] += a[1]"
   ]
  },
  {
   "cell_type": "code",
   "execution_count": 7,
   "id": "de8310b9",
   "metadata": {},
   "outputs": [
    {
     "data": {
      "text/plain": [
       "tensor([[[0., 0., 0.],\n",
       "         [0., 0., 0.],\n",
       "         [0., 0., 0.]],\n",
       "\n",
       "        [[0., 0., 0.],\n",
       "         [0., 0., 0.],\n",
       "         [0., 0., 0.]],\n",
       "\n",
       "        [[1., 1., 1.],\n",
       "         [1., 1., 1.],\n",
       "         [1., 1., 1.]]])"
      ]
     },
     "execution_count": 7,
     "metadata": {},
     "output_type": "execute_result"
    }
   ],
   "source": [
    "b"
   ]
  },
  {
   "cell_type": "code",
   "execution_count": 57,
   "id": "cd752fd3",
   "metadata": {},
   "outputs": [],
   "source": [
    "hm = torch.tensor([[1, 0, 0.5], [0, 1, 0], [0.5, 0.5, 0.5]])\n",
    "hm = torch.flip(torch.flip(hm, [0, 1]), [1])\n",
    "x, y = pylab.meshgrid(\n",
    "    pylab.linspace(0, 2, 4),\n",
    "    pylab.linspace(0, 2, 4))"
   ]
  },
  {
   "cell_type": "code",
   "execution_count": 64,
   "id": "cc81aba3",
   "metadata": {},
   "outputs": [
    {
     "data": {
      "text/plain": [
       "3"
      ]
     },
     "execution_count": 64,
     "metadata": {},
     "output_type": "execute_result"
    }
   ],
   "source": [
    "hm.shape[0]"
   ]
  },
  {
   "cell_type": "code",
   "execution_count": 58,
   "id": "df3e59d2",
   "metadata": {},
   "outputs": [
    {
     "data": {
      "text/plain": [
       "array([[0.        , 0.66666667, 1.33333333, 2.        ],\n",
       "       [0.        , 0.66666667, 1.33333333, 2.        ],\n",
       "       [0.        , 0.66666667, 1.33333333, 2.        ],\n",
       "       [0.        , 0.66666667, 1.33333333, 2.        ]])"
      ]
     },
     "execution_count": 58,
     "metadata": {},
     "output_type": "execute_result"
    }
   ],
   "source": [
    "x"
   ]
  },
  {
   "cell_type": "code",
   "execution_count": 59,
   "id": "dd43d126",
   "metadata": {},
   "outputs": [
    {
     "data": {
      "image/png": "[encoded data removed]",
      "text/plain": [
       "<Figure size 432x288 with 2 Axes>"
      ]
     },
     "metadata": {
      "needs_background": "light"
     },
     "output_type": "display_data"
    }
   ],
   "source": [
    "import pylab\n",
    "\n",
    "pylab.pcolor(x, y, hm)\n",
    "pylab.colorbar()\n",
    "pylab.show() "
   ]
  },
  {
   "cell_type": "code",
   "execution_count": 20,
   "id": "0c66e562",
   "metadata": {},
   "outputs": [
    {
     "name": "stderr",
     "output_type": "stream",
     "text": [
      "/tmp/ipykernel_42360/10095160.py:28: MatplotlibDeprecationWarning: shading='flat' when X and Y have the same dimensions as C is deprecated since 3.3.  Either specify the corners of the quadrilaterals with X and Y, or pass shading='auto', 'nearest' or 'gouraud', or set rcParams['pcolor.shading'].  This will become an error two minor releases later.\n",
      "  pylab.pcolor(xx,yy,zz)\n"
     ]
    },
    {
     "data": {
      "image/png": "[encoded data removed]",
      "text/plain": [
       "<Figure size 432x288 with 2 Axes>"
      ]
     },
     "metadata": {
      "needs_background": "light"
     },
     "output_type": "display_data"
    }
   ],
   "source": [
    "# the function to be plotted\n",
    "def func(x,y):    \n",
    "    # gives vertical color bars if x is horizontal axis\n",
    "    return x**2\n",
    "\n",
    "import pylab\n",
    "\n",
    "# define the grid over which the function should be plotted (xx and yy are matrices)\n",
    "xx, yy = pylab.meshgrid(\n",
    "    pylab.linspace(-3,3, 101),\n",
    "    pylab.linspace(-3,3, 111))\n",
    "\n",
    "# indexing of xx and yy (with the default value for the\n",
    "# 'indexing' parameter of meshgrid(..) ) is as follows:\n",
    "#\n",
    "#   first index  (row index)    is y coordinate index\n",
    "#   second index (column index) is x coordinate index\n",
    "#\n",
    "# as required by pcolor(..)\n",
    "\n",
    "# fill a matrix with the function values\n",
    "zz = pylab.zeros(xx.shape)\n",
    "for i in range(xx.shape[0]):\n",
    "    for j in range(xx.shape[1]):\n",
    "        zz[i,j] = func(xx[i,j], yy[i,j])\n",
    "\n",
    "# plot the calculated function values\n",
    "pylab.pcolor(xx,yy,zz)\n",
    "\n",
    "# and a color bar to show the correspondence between function value and color\n",
    "pylab.colorbar()\n",
    "\n",
    "pylab.show() "
   ]
  },
  {
   "cell_type": "code",
   "execution_count": 28,
   "id": "ff2000de",
   "metadata": {},
   "outputs": [
    {
     "data": {
      "text/plain": [
       "(111, 101)"
      ]
     },
     "execution_count": 28,
     "metadata": {},
     "output_type": "execute_result"
    }
   ],
   "source": [
    "np.array(xx).shape"
   ]
  },
  {
   "cell_type": "code",
   "execution_count": 16,
   "id": "4bf9020c",
   "metadata": {},
   "outputs": [
    {
     "data": {
      "text/plain": [
       "array([[-3.        , -3.        , -3.        , ..., -3.        ,\n",
       "        -3.        , -3.        ],\n",
       "       [-2.94545455, -2.94545455, -2.94545455, ..., -2.94545455,\n",
       "        -2.94545455, -2.94545455],\n",
       "       [-2.89090909, -2.89090909, -2.89090909, ..., -2.89090909,\n",
       "        -2.89090909, -2.89090909],\n",
       "       ...,\n",
       "       [ 2.89090909,  2.89090909,  2.89090909, ...,  2.89090909,\n",
       "         2.89090909,  2.89090909],\n",
       "       [ 2.94545455,  2.94545455,  2.94545455, ...,  2.94545455,\n",
       "         2.94545455,  2.94545455],\n",
       "       [ 3.        ,  3.        ,  3.        , ...,  3.        ,\n",
       "         3.        ,  3.        ]])"
      ]
     },
     "execution_count": 16,
     "metadata": {},
     "output_type": "execute_result"
    }
   ],
   "source": [
    "yy"
   ]
  },
  {
   "cell_type": "code",
   "execution_count": 17,
   "id": "3fa2a7d8",
   "metadata": {},
   "outputs": [
    {
     "data": {
      "text/plain": [
       "array([[-3.  , -2.94, -2.88, ...,  2.88,  2.94,  3.  ],\n",
       "       [-3.  , -2.94, -2.88, ...,  2.88,  2.94,  3.  ],\n",
       "       [-3.  , -2.94, -2.88, ...,  2.88,  2.94,  3.  ],\n",
       "       ...,\n",
       "       [-3.  , -2.94, -2.88, ...,  2.88,  2.94,  3.  ],\n",
       "       [-3.  , -2.94, -2.88, ...,  2.88,  2.94,  3.  ],\n",
       "       [-3.  , -2.94, -2.88, ...,  2.88,  2.94,  3.  ]])"
      ]
     },
     "execution_count": 17,
     "metadata": {},
     "output_type": "execute_result"
    }
   ],
   "source": [
    "zz"
   ]
  },
  {
   "cell_type": "code",
   "execution_count": null,
   "id": "6d0642a8",
   "metadata": {},
   "outputs": [],
   "source": []
  }
 ],
 "metadata": {
  "kernelspec": {
   "display_name": "Python 3 (ipykernel)",
   "language": "python",
   "name": "python3"
  },
  "language_info": {
   "codemirror_mode": {
    "name": "ipython",
    "version": 3
   },
   "file_extension": ".py",
   "mimetype": "text/x-python",
   "name": "python",
   "nbconvert_exporter": "python",
   "pygments_lexer": "ipython3",
   "version": "3.8.10"
  }
 },
 "nbformat": 4,
 "nbformat_minor": 5
}
