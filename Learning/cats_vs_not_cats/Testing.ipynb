{
 "cells": [
  {
   "cell_type": "code",
   "execution_count": 1,
   "id": "61378423",
   "metadata": {},
   "outputs": [],
   "source": [
    "import torch\n",
    "from torch.utils.data import Dataset\n",
    "from torchvision.transforms import ToTensor\n",
    "import matplotlib.pyplot as plt\n",
    "import os\n",
    "import pandas as pd\n",
    "from torchvision.io import read_image\n",
    "from torch.utils.data import DataLoader\n",
    "import csv\n",
    "import random\n",
    "import numpy as np\n",
    "import cv2\n",
    "import mimetypes\n",
    "import fnmatch\n",
    "import seaborn as sns\n",
    "from collections import Counter, defaultdict\n",
    "import torchvision\n",
    "from torchvision import transforms\n",
    "from torch import nn\n",
    "import torch.nn.functional as F\n",
    "import torch.optim as optim\n",
    "import time\n",
    "from progress.bar import IncrementalBar\n",
    "from tqdm.notebook import tqdm_notebook\n",
    "from sklearn.metrics import confusion_matrix\n",
    "from torch.utils.tensorboard import SummaryWriter\n",
    "from sklearn.metrics import accuracy_score\n",
    "from sklearn.metrics import recall_score\n",
    "from sklearn.metrics import precision_score\n",
    "from sklearn.metrics import roc_auc_score\n",
    "import io\n",
    "from pytorch_lightning.callbacks import Callback\n",
    "from datetime import datetime, date, time\n",
    "from PIL import Image\n",
    "import itertools \n",
    "from sklearn.model_selection import train_test_split\n",
    "import torchvision.models as models\n",
    "from ViT.models.modeling import VisionTransformer, CONFIGS\n",
    "from urllib.request import urlretrieve\n",
    "\n",
    "import sys\n",
    "\n",
    "sys.path.insert(0, '/home/anna/Desktop/Diploma/Learning/Sources/')\n",
    "\n",
    "\n",
    "from callbacks_2classes_x10 import plot_confusion_matrix\n",
    "from torch.nn import functional as F\n",
    "from callbacks_2classes_x10 import get_true_classes\n",
    "from callbacks_2classes_x10 import get_predicted_classes\n",
    "from callbacks_2classes_x10 import get_classes_probs\n",
    "from callbacks_2classes_x10 import callback\n",
    "from data_tools import CatsDataset"
   ]
  },
  {
   "cell_type": "code",
   "execution_count": 2,
   "id": "30219730",
   "metadata": {},
   "outputs": [
    {
     "name": "stdout",
     "output_type": "stream",
     "text": [
      "Using cuda device\n"
     ]
    }
   ],
   "source": [
    "device = 'cuda' if torch.cuda.is_available() else 'cpu'\n",
    "print('Using {} device'.format(device))\n",
    "\n",
    "labels_map_2cl = {\n",
    "    \"NotCat\": 0,\n",
    "    \"Cat\": 1,\n",
    "}\n",
    "\n",
    "transform = transforms.Compose([\n",
    "    transforms.ToTensor(), \n",
    "    transforms.Resize(224),\n",
    "    transforms.CenterCrop(224),\n",
    "    transforms.Normalize(mean=[0.485, 0.456, 0.406], std=[0.229, 0.224, 0.225]),\n",
    "])\n",
    "\n",
    "test_dataset = CatsDataset('test_paths.txt', transform = transform)\n",
    "test_dataloader = DataLoader(test_dataset, batch_size=16, shuffle=True)"
   ]
  },
  {
   "cell_type": "code",
   "execution_count": 3,
   "id": "d55074eb",
   "metadata": {},
   "outputs": [],
   "source": [
    "# VIT\n",
    "config = CONFIGS[\"ViT-B_16\"]\n",
    "vit = VisionTransformer(config, num_classes=1000, zero_head=False, img_size=224, vis=True)\n",
    "vit.head = nn.Linear(768, 1)\n",
    "vit.load_state_dict(torch.load(\"../../Logits/SavedNN/Saved_ViT_B_16_cats/\" + str(6)))\n",
    "vit.to(device)\n",
    "vit.eval()\n",
    "\n",
    "# RESNET\n",
    "resnet = models.resnet18(pretrained=False)\n",
    "resnet.fc = nn.Linear(512, 1)\n",
    "resnet.load_state_dict(torch.load(\"../../Logits/SavedNN/Saved_ResNet18_cats/\" + str(11)))\n",
    "resnet.to(device)\n",
    "resnet.eval()\n",
    "None"
   ]
  },
  {
   "cell_type": "code",
   "execution_count": 25,
   "id": "61a91c09",
   "metadata": {},
   "outputs": [
    {
     "data": {
      "application/vnd.jupyter.widget-view+json": {
       "model_id": "9288808f251a4aa692dc8086d8a2d5af",
       "version_major": 2,
       "version_minor": 0
      },
      "text/plain": [
       "testing:   0%|          | 0/146 [00:00<?, ?it/s]"
      ]
     },
     "metadata": {},
     "output_type": "display_data"
    }
   ],
   "source": [
    "vit_classes = []\n",
    "resnet_classes = []\n",
    "true_classes = []\n",
    "    \n",
    "for data in tqdm_notebook(test_dataloader, desc='testing'):\n",
    "    inputs, labels = data\n",
    "    true_classes.append(labels.cpu().detach().numpy().astype(int))\n",
    "    inputs = inputs.to(device)\n",
    "    labels = labels.to(device)\n",
    "    \n",
    "    with torch.no_grad():\n",
    "        vit_probs = vit(inputs)[0]\n",
    "        resnet_probs = resnet(inputs)\n",
    "        if vit_probs.shape > torch.Size([1]):\n",
    "            vit_probs = vit_probs.squeeze()\n",
    "        if vit_probs.shape < torch.Size([1]):\n",
    "            vit_probs = vit_probs.unsqueeze(0)\n",
    "        if resnet_probs.shape > torch.Size([1]):\n",
    "            resnet_probs = resnet_probs.squeeze()\n",
    "        if resnet_probs.shape < torch.Size([1]):\n",
    "            resnet_probs = resnet_probs.unsqueeze(0)\n",
    "            \n",
    "    resnet_probs = torch.sigmoid(resnet_probs)\n",
    "    resnet_probs = resnet_probs.cpu().detach().numpy().astype(np.float)\n",
    "    \n",
    "    vit_probs = torch.sigmoid(vit_probs)\n",
    "    vit_probs = vit_probs.cpu().detach().numpy().astype(np.float)\n",
    "        \n",
    "    vit_classes.append(vit_probs)\n",
    "    resnet_classes.append(resnet_probs)"
   ]
  },
  {
   "cell_type": "code",
   "execution_count": 26,
   "id": "275def34",
   "metadata": {},
   "outputs": [],
   "source": [
    "vit_probs = get_classes_probs(vit_classes)\n",
    "resnet_probs = get_classes_probs(resnet_classes)"
   ]
  },
  {
   "cell_type": "code",
   "execution_count": 32,
   "id": "e74bf91a",
   "metadata": {},
   "outputs": [],
   "source": [
    "vit_preds = get_predicted_classes(vit_classes)\n",
    "resnet_preds = get_predicted_classes(resnet_classes)"
   ]
  },
  {
   "cell_type": "code",
   "execution_count": 29,
   "id": "d36d9dab",
   "metadata": {},
   "outputs": [],
   "source": [
    "true_classes = get_true_classes(true_classes)"
   ]
  },
  {
   "cell_type": "code",
   "execution_count": 33,
   "id": "f9aa0473",
   "metadata": {},
   "outputs": [],
   "source": [
    "def plot_consistency_matrix(cm, class_names):\n",
    "\n",
    "    figure = plt.figure(figsize=(8, 8))\n",
    "    plt.imshow(cm, interpolation='nearest', cmap=plt.cm.Blues)\n",
    "    plt.title(\"Consistency matrix\")\n",
    "    plt.colorbar()\n",
    "    tick_marks = np.arange(len(class_names))\n",
    "    plt.xticks(tick_marks, class_names)\n",
    "    plt.yticks(tick_marks, class_names)\n",
    "    \n",
    "    # Use white text if squares are dark; otherwise black.\n",
    "    threshold = cm.max() / 3 * 2.\n",
    "    \n",
    "    for i, j in itertools.product(range(cm.shape[0]), range(cm.shape[1])):\n",
    "        color = \"white\" if cm[i, j] > threshold else \"black\"\n",
    "        plt.text(j, i, cm[i, j], horizontalalignment=\"center\", color=color)\n",
    "        \n",
    "    plt.tight_layout()\n",
    "    plt.ylabel('ViT') # true\n",
    "    plt.xlabel('ResNet') # predicted\n",
    "    return figure"
   ]
  },
  {
   "cell_type": "code",
   "execution_count": 34,
   "id": "9a08b1d2",
   "metadata": {},
   "outputs": [
    {
     "data": {
      "image/png": "[encoded data removed]",
      "text/plain": [
       "<Figure size 576x576 with 2 Axes>"
      ]
     },
     "metadata": {
      "needs_background": "light"
     },
     "output_type": "display_data"
    }
   ],
   "source": [
    "cm = plot_consistency_matrix(confusion_matrix(vit_preds, resnet_preds),\n",
    "                             [\"NotCat\", \"Cat\"])"
   ]
  },
  {
   "cell_type": "markdown",
   "id": "95960634",
   "metadata": {},
   "source": [
    "## Metrics"
   ]
  },
  {
   "cell_type": "code",
   "execution_count": 35,
   "id": "e509a4b2",
   "metadata": {},
   "outputs": [
    {
     "name": "stdout",
     "output_type": "stream",
     "text": [
      "ViT accuracy:  0.9235395189003437\n",
      "ViT rocauc:  0.9790076406613357\n",
      "ResNet accuracy:  0.9235395189003437\n",
      "ResNet rocauc:  0.993166252399058\n"
     ]
    }
   ],
   "source": [
    "from sklearn.metrics import accuracy_score\n",
    "from sklearn.metrics import recall_score\n",
    "from sklearn.metrics import precision_score\n",
    "from sklearn.metrics import roc_auc_score\n",
    "\n",
    "print(\"ViT accuracy: \", accuracy_score(true_classes, vit_preds))\n",
    "print(\"ViT rocauc: \", roc_auc_score(true_classes, vit_probs))\n",
    "\n",
    "print(\"ResNet accuracy: \", accuracy_score(true_classes, vit_preds))\n",
    "print(\"ResNet rocauc: \", roc_auc_score(true_classes, resnet_probs))"
   ]
  },
  {
   "cell_type": "code",
   "execution_count": null,
   "id": "c8896ac5",
   "metadata": {},
   "outputs": [],
   "source": []
  }
 ],
 "metadata": {
  "kernelspec": {
   "display_name": "Python 3 (ipykernel)",
   "language": "python",
   "name": "python3"
  },
  "language_info": {
   "codemirror_mode": {
    "name": "ipython",
    "version": 3
   },
   "file_extension": ".py",
   "mimetype": "text/x-python",
   "name": "python",
   "nbconvert_exporter": "python",
   "pygments_lexer": "ipython3",
   "version": "3.8.10"
  }
 },
 "nbformat": 4,
 "nbformat_minor": 5
}
