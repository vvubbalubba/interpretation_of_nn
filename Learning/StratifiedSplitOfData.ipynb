{
 "cells": [
  {
   "cell_type": "markdown",
   "id": "9ba15e6d",
   "metadata": {},
   "source": [
    "## Code to make paths to data"
   ]
  },
  {
   "cell_type": "markdown",
   "id": "a569af04",
   "metadata": {},
   "source": [
    "### Stratified train-val-test split"
   ]
  },
  {
   "cell_type": "code",
   "execution_count": 1,
   "id": "359ad03c",
   "metadata": {},
   "outputs": [],
   "source": [
    "import numpy as np\n",
    "import pandas as pd\n",
    "from sklearn.model_selection import train_test_split\n",
    "from collections import Counter, defaultdict\n",
    "import matplotlib.pyplot as plt\n",
    "import seaborn as sns"
   ]
  },
  {
   "cell_type": "code",
   "execution_count": 2,
   "id": "3281b29a",
   "metadata": {},
   "outputs": [],
   "source": [
    "labels_map = {\n",
    "    \"Benign\": 0,\n",
    "    \"InSitu\": 1,\n",
    "    \"Invasive\": 2,\n",
    "}"
   ]
  },
  {
   "cell_type": "code",
   "execution_count": 6,
   "id": "0b0787ef",
   "metadata": {},
   "outputs": [
    {
     "name": "stdout",
     "output_type": "stream",
     "text": [
      "Train size:  25223\n",
      "Val size:  10510\n",
      "Test size:  6306\n"
     ]
    }
   ],
   "source": [
    "with open('paths.txt', 'r') as file:\n",
    "    img_paths = file.read().split('\\n')\n",
    "    \n",
    "img_paths = np.array(img_paths)\n",
    "y = []\n",
    "img_labels = pd.read_csv('../Data/burnasyan_Br.csv')\n",
    "for item in img_paths:\n",
    "    img_folder = int(item.split(\"/\")[3])\n",
    "    label_name = img_labels.iloc[img_folder - 1][4]\n",
    "    label = labels_map[label_name]\n",
    "    y.append(label)\n",
    "train_test_paths, val_paths, y_train_test, y_val = train_test_split(img_paths, y, test_size=0.25,\n",
    "                                                     random_state=42, stratify=y)\n",
    "\n",
    "train_paths, test_paths, y_train, y_test = train_test_split(train_test_paths, y_train_test,\n",
    "                                                          test_size=0.2,random_state=42,\n",
    "                                                          stratify=y_train_test)\n",
    "print(\"Train size: \", train_paths.shape[0])\n",
    "print(\"Val size: \", val_paths.shape[0])\n",
    "print(\"Test size: \", test_paths.shape[0])\n",
    "\n",
    "with open('train_paths.txt', 'w') as file:\n",
    "    for i in range(train_paths.shape[0] - 1):\n",
    "        file.write(train_paths[i] + '\\n')  \n",
    "    file.write(train_paths[train_paths.shape[0] - 1])\n",
    "    \n",
    "with open('val_paths.txt', 'w') as file:\n",
    "    for i in range(val_paths.shape[0] - 1):\n",
    "        file.write(val_paths[i] + '\\n')  \n",
    "    file.write(val_paths[val_paths.shape[0] - 1])\n",
    "    \n",
    "with open('test_paths.txt', 'w') as file:\n",
    "    for i in range(test_paths.shape[0] - 1):\n",
    "        file.write(test_paths[i] + '\\n')  \n",
    "    file.write(test_paths[test_paths.shape[0] - 1])"
   ]
  },
  {
   "cell_type": "markdown",
   "id": "a93eb1d7",
   "metadata": {},
   "source": [
    "### Checking the destributions of splitted data"
   ]
  },
  {
   "cell_type": "code",
   "execution_count": 18,
   "id": "a81cb16b",
   "metadata": {},
   "outputs": [],
   "source": [
    "train_counts = defaultdict(int)\n",
    "for l in y_train:\n",
    "    train_counts[l] += 1 / train_paths.shape[0]\n",
    "\n",
    "train_counts_df = pd.DataFrame.from_dict(train_counts, orient='index')\n",
    "train_counts_df.columns = ['train_count']\n",
    "train_counts_df.sort_values('train_count', ascending=False, inplace=True)\n",
    "\n",
    "val_counts = defaultdict(int)\n",
    "for l in y_val:\n",
    "    val_counts[l] += 1 / val_paths.shape[0]\n",
    "\n",
    "val_counts_df = pd.DataFrame.from_dict(val_counts, orient='index')\n",
    "val_counts_df.columns = ['val_count']\n",
    "val_counts_df.sort_values('val_count', ascending=False, inplace=True)\n",
    "\n",
    "test_counts = defaultdict(int)\n",
    "for l in y_test:\n",
    "    test_counts[l] += 1 / test_paths.shape[0]\n",
    "\n",
    "test_counts_df = pd.DataFrame.from_dict(test_counts, orient='index')\n",
    "test_counts_df.columns = ['test_count']\n",
    "test_counts_df.sort_values('test_count', ascending=False, inplace=True)"
   ]
  },
  {
   "cell_type": "code",
   "execution_count": 21,
   "id": "569b31aa",
   "metadata": {},
   "outputs": [
    {
     "data": {
      "text/html": [
       "<div>\n",
       "<style scoped>\n",
       "    .dataframe tbody tr th:only-of-type {\n",
       "        vertical-align: middle;\n",
       "    }\n",
       "\n",
       "    .dataframe tbody tr th {\n",
       "        vertical-align: top;\n",
       "    }\n",
       "\n",
       "    .dataframe thead th {\n",
       "        text-align: right;\n",
       "    }\n",
       "</style>\n",
       "<table border=\"1\" class=\"dataframe\">\n",
       "  <thead>\n",
       "    <tr style=\"text-align: right;\">\n",
       "      <th></th>\n",
       "      <th>train_count</th>\n",
       "      <th>val_count</th>\n",
       "      <th>test_count</th>\n",
       "    </tr>\n",
       "  </thead>\n",
       "  <tbody>\n",
       "    <tr>\n",
       "      <th>2</th>\n",
       "      <td>0.633898</td>\n",
       "      <td>0.634008</td>\n",
       "      <td>0.633893</td>\n",
       "    </tr>\n",
       "    <tr>\n",
       "      <th>0</th>\n",
       "      <td>0.333792</td>\n",
       "      <td>0.333688</td>\n",
       "      <td>0.333814</td>\n",
       "    </tr>\n",
       "    <tr>\n",
       "      <th>1</th>\n",
       "      <td>0.032310</td>\n",
       "      <td>0.032304</td>\n",
       "      <td>0.032293</td>\n",
       "    </tr>\n",
       "  </tbody>\n",
       "</table>\n",
       "</div>"
      ],
      "text/plain": [
       "   train_count  val_count  test_count\n",
       "2     0.633898   0.634008    0.633893\n",
       "0     0.333792   0.333688    0.333814\n",
       "1     0.032310   0.032304    0.032293"
      ]
     },
     "execution_count": 21,
     "metadata": {},
     "output_type": "execute_result"
    }
   ],
   "source": [
    "counts_df = pd.concat([train_counts_df,val_counts_df,test_counts_df], axis=1)\n",
    "counts_df.head()"
   ]
  },
  {
   "cell_type": "code",
   "execution_count": 28,
   "id": "d1ebe3ce",
   "metadata": {},
   "outputs": [
    {
     "name": "stdout",
     "output_type": "stream",
     "text": [
      "[[0.63389846 0.63400781 0.63389317]\n",
      " [0.33379194 0.33368832 0.33381388]\n",
      " [0.0323096  0.03230387 0.03229294]]\n"
     ]
    }
   ],
   "source": [
    "print(data)"
   ]
  },
  {
   "cell_type": "code",
   "execution_count": 32,
   "id": "754a5cc9",
   "metadata": {},
   "outputs": [
    {
     "data": {
      "image/png": "[encoded data removed]",
      "text/plain": [
       "<Figure size 432x288 with 1 Axes>"
      ]
     },
     "metadata": {
      "needs_background": "light"
     },
     "output_type": "display_data"
    }
   ],
   "source": [
    "data = counts_df.to_numpy()\n",
    "X = np.arange(3)\n",
    "fig = plt.figure()\n",
    "ax = fig.add_axes([0,0,1,1])\n",
    "ax.bar(X + 0.00, data[0], color = 'b', width = 0.25)\n",
    "ax.bar(X + 0.25, data[1], color = 'g', width = 0.25)\n",
    "ax.bar(X + 0.50, data[2], color = 'r', width = 0.25)\n",
    "None"
   ]
  },
  {
   "cell_type": "code",
   "execution_count": null,
   "id": "9970ad53",
   "metadata": {},
   "outputs": [],
   "source": []
  }
 ],
 "metadata": {
  "kernelspec": {
   "display_name": "Python 3 (ipykernel)",
   "language": "python",
   "name": "python3"
  },
  "language_info": {
   "codemirror_mode": {
    "name": "ipython",
    "version": 3
   },
   "file_extension": ".py",
   "mimetype": "text/x-python",
   "name": "python",
   "nbconvert_exporter": "python",
   "pygments_lexer": "ipython3",
   "version": "3.8.10"
  }
 },
 "nbformat": 4,
 "nbformat_minor": 5
}
