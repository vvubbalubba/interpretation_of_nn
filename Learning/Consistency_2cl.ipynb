{
 "cells": [
  {
   "cell_type": "code",
   "execution_count": 1,
   "id": "929d8009",
   "metadata": {},
   "outputs": [],
   "source": [
    "import torch\n",
    "from torch.utils.data import Dataset\n",
    "from torchvision.transforms import ToTensor\n",
    "import matplotlib.pyplot as plt\n",
    "import os\n",
    "import pandas as pd\n",
    "from torchvision.io import read_image\n",
    "from torch.utils.data import DataLoader\n",
    "import csv\n",
    "import random\n",
    "import numpy as np\n",
    "import cv2\n",
    "import mimetypes\n",
    "import fnmatch\n",
    "import seaborn as sns\n",
    "from collections import Counter, defaultdict\n",
    "import torchvision\n",
    "from torchvision import transforms\n",
    "from torch import nn\n",
    "import torch.optim as optim\n",
    "import time\n",
    "from progress.bar import IncrementalBar\n",
    "from tqdm.notebook import tqdm_notebook\n",
    "from sklearn.metrics import confusion_matrix\n",
    "from torch.utils.tensorboard import SummaryWriter\n",
    "from sklearn.metrics import accuracy_score\n",
    "from sklearn.metrics import recall_score\n",
    "from sklearn.metrics import precision_score\n",
    "from sklearn.metrics import roc_auc_score\n",
    "import io\n",
    "from pytorch_lightning.callbacks import Callback\n",
    "from datetime import datetime, date, time\n",
    "from PIL import Image\n",
    "import itertools \n",
    "from sklearn.model_selection import train_test_split\n",
    "import torchvision.models as models\n",
    "\n",
    "from Sources.callbacks_2classes import plot_confusion_matrix\n",
    "from torch.nn import functional as F\n",
    "from Sources.callbacks_2classes import get_true_classes\n",
    "from Sources.callbacks_2classes import get_predicted_classes\n",
    "from Sources.callbacks_2classes import get_classes_probs\n",
    "from Sources.callbacks_2classes import callback\n",
    "from Sources.data_tools import ImageDataset_2cl\n",
    "from Sources.ViT.models.modeling import VisionTransformer, CONFIGS"
   ]
  },
  {
   "cell_type": "code",
   "execution_count": 2,
   "id": "fc61d8d4",
   "metadata": {},
   "outputs": [
    {
     "name": "stdout",
     "output_type": "stream",
     "text": [
      "Using cuda device\n"
     ]
    }
   ],
   "source": [
    "device = 'cuda' if torch.cuda.is_available() else 'cpu'\n",
    "print('Using {} device'.format(device))\n",
    "\n",
    "labels_map_2cl = {\n",
    "    \"Benign\": 0,\n",
    "    \"Malignant\": 1,\n",
    "}\n",
    "\n",
    "transform = transforms.Compose([\n",
    "    transforms.Resize(256),\n",
    "    transforms.CenterCrop(224),\n",
    "    transforms.Normalize(mean=[0.485, 0.456, 0.406], std=[0.229, 0.224, 0.225]),\n",
    "])\n",
    "\n",
    "val_dataset = ImageDataset_2cl('../Data/burnasyan_Br.csv', 'val_paths.txt', transform = transform)\n",
    "val_dataloader = DataLoader(val_dataset, batch_size=16, shuffle=True)"
   ]
  },
  {
   "cell_type": "code",
   "execution_count": 3,
   "id": "1d8748d8",
   "metadata": {},
   "outputs": [],
   "source": [
    "# VIT\n",
    "config = CONFIGS[\"ViT-B_16\"]\n",
    "vit = VisionTransformer(config, num_classes=1000, zero_head=False, img_size=224, vis=True)\n",
    "vit.head = nn.Linear(768, 2)\n",
    "vit.load_state_dict(torch.load(\"../Logits/SavedNN/Saved_ViT_2cl/\" + str(140)))\n",
    "vit.eval()\n",
    "vit.to(device)\n",
    "\n",
    "# RESNET\n",
    "resnet = models.resnet50(pretrained=False)\n",
    "resnet.fc = nn.Linear(2048, 2)\n",
    "resnet.load_state_dict(torch.load(\"../Logits/SavedNN/Saved_ResNet50_2cl/\" + str(30)))\n",
    "resnet.eval()\n",
    "resnet.to(device)\n",
    "None"
   ]
  },
  {
   "cell_type": "code",
   "execution_count": 5,
   "id": "519f4fcd",
   "metadata": {},
   "outputs": [
    {
     "data": {
      "application/vnd.jupyter.widget-view+json": {
       "model_id": "2e79cc3578fc493c8ddd0f0c12aecf18",
       "version_major": 2,
       "version_minor": 0
      },
      "text/plain": [
       "computing consistency on validation:   0%|          | 0/657 [00:00<?, ?it/s]"
      ]
     },
     "metadata": {},
     "output_type": "display_data"
    }
   ],
   "source": [
    "vit_classes = []\n",
    "resnet_classes = []\n",
    "\n",
    "for data in tqdm_notebook(val_dataloader, desc='computing consistency on validation'):\n",
    "        # get the inputs; data is a list of [inputs, labels]\n",
    "        inputs, labels = data\n",
    "        inputs = inputs.to(device)\n",
    "        labels = labels.to(device)\n",
    "    \n",
    "        # forward \n",
    "        with torch.no_grad():\n",
    "            vit_outputs = vit(inputs)[0]\n",
    "            resnet_outputs = resnet(inputs)\n",
    "        \n",
    "        vit_classes.append(nn.Softmax(dim=1)(vit_outputs))\n",
    "        resnet_classes.append(nn.Softmax(dim=1)(resnet_outputs))"
   ]
  },
  {
   "cell_type": "code",
   "execution_count": 6,
   "id": "d87d11d2",
   "metadata": {},
   "outputs": [],
   "source": [
    "vit_preds = get_predicted_classes(vit_classes)\n",
    "resnet_preds = get_predicted_classes(resnet_classes)"
   ]
  },
  {
   "cell_type": "code",
   "execution_count": 7,
   "id": "18afe5c2",
   "metadata": {},
   "outputs": [],
   "source": [
    "def plot_consistency_matrix(cm, class_names):\n",
    "\n",
    "    figure = plt.figure(figsize=(8, 8))\n",
    "    plt.imshow(cm, interpolation='nearest', cmap=plt.cm.Blues)\n",
    "    plt.title(\"Consistency matrix\")\n",
    "    plt.colorbar()\n",
    "    tick_marks = np.arange(len(class_names))\n",
    "    plt.xticks(tick_marks, class_names)\n",
    "    plt.yticks(tick_marks, class_names)\n",
    "    \n",
    "    # Use white text if squares are dark; otherwise black.\n",
    "    threshold = cm.max() / 3 * 2.\n",
    "    \n",
    "    for i, j in itertools.product(range(cm.shape[0]), range(cm.shape[1])):\n",
    "        color = \"white\" if cm[i, j] > threshold else \"black\"\n",
    "        plt.text(j, i, cm[i, j], horizontalalignment=\"center\", color=color)\n",
    "        \n",
    "    plt.tight_layout()\n",
    "    plt.ylabel('ViT') # true\n",
    "    plt.xlabel('ResNet') # predicted\n",
    "    return figure\n",
    "\n"
   ]
  },
  {
   "cell_type": "code",
   "execution_count": 8,
   "id": "6b23fef7",
   "metadata": {},
   "outputs": [
    {
     "data": {
      "image/png": "[encoded data removed]",
      "text/plain": [
       "<Figure size 576x576 with 2 Axes>"
      ]
     },
     "metadata": {
      "needs_background": "light"
     },
     "output_type": "display_data"
    }
   ],
   "source": [
    "cm = plot_consistency_matrix(confusion_matrix(vit_preds, resnet_preds),\n",
    "                             [\"Benign\", \"Malignant\"])"
   ]
  },
  {
   "cell_type": "markdown",
   "id": "f0b916cb",
   "metadata": {},
   "source": [
    "## TODO: \n",
    "### 4 files - ViT_Benign_ResNet_Benign; ViT_Benign_ResNet_Malignant; ViT_Malignant_ResNet_Benign; ViT_Malignant_ResNet_Malignant;"
   ]
  },
  {
   "cell_type": "code",
   "execution_count": null,
   "id": "7b7d1277",
   "metadata": {},
   "outputs": [],
   "source": []
  }
 ],
 "metadata": {
  "kernelspec": {
   "display_name": "Python 3 (ipykernel)",
   "language": "python",
   "name": "python3"
  },
  "language_info": {
   "codemirror_mode": {
    "name": "ipython",
    "version": 3
   },
   "file_extension": ".py",
   "mimetype": "text/x-python",
   "name": "python",
   "nbconvert_exporter": "python",
   "pygments_lexer": "ipython3",
   "version": "3.8.10"
  }
 },
 "nbformat": 4,
 "nbformat_minor": 5
}
